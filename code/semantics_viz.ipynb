{
 "cells": [
  {
   "cell_type": "code",
   "execution_count": 62,
   "id": "5ebad7cb",
   "metadata": {},
   "outputs": [],
   "source": [
    "import numpy as np\n",
    "import json\n",
    "from collections import defaultdict, Counter\n",
    "from scipy import spatial, stats\n",
    "import matplotlib.pyplot as plt\n",
    "from sklearn.manifold import TSNE\n",
    "import pandas as pd\n",
    "import seaborn as sns"
   ]
  },
  {
   "cell_type": "code",
   "execution_count": 5,
   "id": "5a60eb99",
   "metadata": {},
   "outputs": [],
   "source": [
    "ROOT = '/data0/lucy/manosphere/'\n",
    "DATA = ROOT + 'data/'\n",
    "GLOVE = DATA + 'glove/'\n",
    "LOGS = ROOT + 'logs/'\n",
    "AGG_EMBED_PATH = LOGS + 'semantics_mano/agg_embed/'"
   ]
  },
  {
   "cell_type": "markdown",
   "id": "dd58196c",
   "metadata": {},
   "source": [
    "## Inspecting individual words"
   ]
  },
  {
   "cell_type": "code",
   "execution_count": 6,
   "id": "8ab5a99f",
   "metadata": {},
   "outputs": [],
   "source": [
    "with open(LOGS + 'semantics_mano/results/scores.json', 'r') as infile: \n",
    "    scores = json.load(infile) \n",
    "\n",
    "vocab_order = []\n",
    "with open(LOGS + 'semantics_mano/results/vocab_order.txt', 'r') as infile:\n",
    "    vocab_order = infile.readlines()\n",
    "\n",
    "with open(LOGS + 'coref_results/mano_gender_labels.json', 'r') as infile: \n",
    "    gender_labels = json.load(infile)"
   ]
  },
  {
   "cell_type": "code",
   "execution_count": 7,
   "id": "712bab50",
   "metadata": {},
   "outputs": [],
   "source": [
    "word_poles = defaultdict(Counter) # {word : {pole : score}}\n",
    "for pole in scores: \n",
    "    s = scores[pole]\n",
    "    for i, term in enumerate(vocab_order): \n",
    "        term = term.strip()\n",
    "        word_poles[term][pole] = s[i]"
   ]
  },
  {
   "cell_type": "code",
   "execution_count": 38,
   "id": "6150aca6",
   "metadata": {},
   "outputs": [
    {
     "name": "stdout",
     "output_type": "stream",
     "text": [
      "[('covered.a.01', 0.25558773434051607), ('clothed.a.01', 0.20460857317052156), ('affected.a.01', 0.19743399192574534), ('busy.a.01', 0.19340250274625598), ('heavy.a.01', 0.1636908153666239), ('mature.a.01', 0.16354657637493), ('androgynous.a.02', 0.15458037457221652), ('delicate.a.01', 0.15350429755099337), ('experienced.a.01', 0.14051773941321305), ('limited.a.01', 0.14049881094011013)]\n",
      "[('thick.a.01', -0.15037315269704593), ('right.a.04', -0.1534961767732639), ('upland.a.01', -0.15577203865108905), ('capitalistic.a.01', -0.16656310684758813), ('reasonable.a.01', -0.17066723676667722), ('enthusiastic.a.01', -0.17872971894421674), ('optimistic.a.01', -0.182795450552113), ('fat.a.01', -0.2067701379119683), ('moral.a.01', -0.2303085749221428), ('assertive.a.01', -0.26428843033663973)]\n"
     ]
    }
   ],
   "source": [
    "print(word_poles['alpha'].most_common()[:10])\n",
    "print(word_poles['alpha'].most_common()[-10:])"
   ]
  },
  {
   "cell_type": "code",
   "execution_count": 9,
   "id": "bc54873e",
   "metadata": {},
   "outputs": [
    {
     "name": "stdout",
     "output_type": "stream",
     "text": [
      "[('clothed.a.01', 0.2302962468802881), ('busy.a.01', 0.22930095475453216), ('covered.a.01', 0.219025675618927), ('heavy.a.01', 0.20749793146852147), ('experienced.a.01', 0.20338786825387173), ('affected.a.01', 0.18867313060161872), ('active.a.03', 0.17924688026636332), ('visible.a.01', 0.17472462286340498), ('heavy.a.04', 0.16004797618931815), ('stressed.a.02', 0.15305906321978352)]\n",
      "[('harmless.a.01', -0.1537984253997058), ('auspicious.a.01', -0.15603754767041586), ('quiet.a.02', -0.15667051373894447), ('capitalistic.a.01', -0.15725929069852884), ('defiant.a.01', -0.16001385997621265), ('assertive.a.01', -0.16640615169659442), ('pleasing.a.01', -0.17419947414924292), ('reasonable.a.01', -0.19200510196082082), ('moral.a.01', -0.19343655301123647), ('optimistic.a.01', -0.20350268094208734)]\n"
     ]
    }
   ],
   "source": [
    "print(word_poles['beta'].most_common()[:10])\n",
    "print(word_poles['beta'].most_common()[-10:])"
   ]
  },
  {
   "cell_type": "code",
   "execution_count": 10,
   "id": "8010c8ef",
   "metadata": {},
   "outputs": [
    {
     "name": "stdout",
     "output_type": "stream",
     "text": [
      "[('visible.a.01', 0.22309017709915227), ('tough.a.01', 0.213360012645474), ('settled.a.02', 0.19296624720667427), ('used.a.01', 0.1857999460473453), ('inclined.a.02', 0.1457751942450308), ('genuine.a.01', 0.144264839289096), ('heavy.a.04', 0.13563279490208444), ('mature.a.01', 0.12739001348117515), ('mindful.a.01', 0.12420469830860567), ('definite.a.01', 0.12353489816582765)]\n",
      "[('enchanted.a.01', -0.1297488955033736), ('smooth.a.01', -0.13000566120988905), ('serviceable.a.01', -0.1453235611522138), ('east.a.01', -0.15217072046089813), ('assertive.a.01', -0.1561224887165856), ('optimistic.a.01', -0.1587276536999621), ('foreign.a.02', -0.16007725646172424), ('blond.a.01', -0.16609265606499185), ('enthusiastic.a.01', -0.17101999786777775), ('vertical.a.01', -0.1960913578840736)]\n"
     ]
    }
   ],
   "source": [
    "print(word_poles['escort'].most_common()[:10])\n",
    "print(word_poles['escort'].most_common()[-10:])"
   ]
  },
  {
   "cell_type": "code",
   "execution_count": 11,
   "id": "aa948386",
   "metadata": {},
   "outputs": [
    {
     "name": "stdout",
     "output_type": "stream",
     "text": [
      "[('stressed.a.02', 0.1642349879986019), ('communicative.a.02', 0.1548538037300795), ('shod.a.01', 0.1543340554310427), ('inclined.a.02', 0.147667724371479), ('used.a.01', 0.11680373567631179), ('nascent.a.01', 0.11622444489836678), ('practical.a.01', 0.11315294289782041), ('clothed.a.01', 0.11043103649144768), ('androgynous.a.02', 0.1101759594250323), ('worthy.a.01', 0.10829729959320025)]\n",
      "[('prejudiced.a.02', -0.11483809209471618), ('refined.a.01', -0.11657568793466172), ('rural.a.01', -0.12230937551930993), ('sincere.a.01', -0.1348905506471321), ('enthusiastic.a.01', -0.14627547671047186), ('pleasing.a.01', -0.1476187306605714), ('vertical.a.01', -0.1505769589603431), ('indulgent.a.01', -0.17271745348962464), ('womanly.a.01', -0.2510947708161832), ('blond.a.01', -0.26228053180066013)]\n"
     ]
    }
   ],
   "source": [
    "print(word_poles['wife'].most_common()[:10])\n",
    "print(word_poles['wife'].most_common()[-10:])"
   ]
  },
  {
   "cell_type": "code",
   "execution_count": 12,
   "id": "b2c58765",
   "metadata": {},
   "outputs": [
    {
     "name": "stdout",
     "output_type": "stream",
     "text": [
      "[('tough.a.01', 0.17081688060138467), ('heavy.a.04', 0.16985555976159045), ('shod.a.01', 0.16921350151419515), ('formal.a.01', 0.16257934295405002), ('rational.a.01', 0.1539584724003656), ('clearheaded.a.01', 0.15095418273110356), ('practical.a.01', 0.14949227852479552), ('used.a.01', 0.13713366262867435), ('functional.a.01', 0.13655726047751593), ('live.a.01', 0.13282821636469758)]\n",
      "[('publicized.a.01', -0.16861678299034474), ('indulgent.a.01', -0.1689884056297398), ('fashionable.a.01', -0.17495802324450085), ('assertive.a.01', -0.1790488263955755), ('blond.a.01', -0.18400036903294198), ('honorable.a.02', -0.19386016991548416), ('capitalistic.a.01', -0.20089025110473818), ('enchanted.a.01', -0.2038839316617339), ('optimistic.a.01', -0.219878418645344), ('enthusiastic.a.01', -0.2702015404193948)]\n"
     ]
    }
   ],
   "source": [
    "print(word_poles['celebrities'].most_common()[:10])\n",
    "print(word_poles['celebrities'].most_common()[-10:])"
   ]
  },
  {
   "cell_type": "code",
   "execution_count": 13,
   "id": "bf230a09",
   "metadata": {},
   "outputs": [
    {
     "name": "stdout",
     "output_type": "stream",
     "text": [
      "[('tough.a.01', 0.1805231952555273), ('present.a.01', 0.16453077107531805), ('modern.a.01', 0.1598416223346724), ('tough.a.03', 0.1524890905554785), ('used.a.01', 0.1516182763602973), ('surface.a.01', 0.1467284602966408), ('androgynous.a.02', 0.14105737420570597), ('shod.a.01', 0.13003690030581358), ('empirical.a.01', 0.12563998245363733), ('settled.a.02', 0.11645714677201925)]\n",
      "[('refined.a.01', -0.15650710977105559), ('moral.a.01', -0.1566110449753308), ('glorious.a.01', -0.15852079714472445), ('assertive.a.01', -0.17072084941067336), ('rhetorical.a.02', -0.1747360461794557), ('honorable.a.02', -0.17498177536861484), ('auspicious.a.01', -0.1800081524016834), ('gracious.a.01', -0.190434756294191), ('pleasing.a.01', -0.19060802410015823), ('noble.a.02', -0.43068912052829506)]\n"
     ]
    }
   ],
   "source": [
    "print(word_poles['princes'].most_common()[:10])\n",
    "print(word_poles['princes'].most_common()[-10:])"
   ]
  },
  {
   "cell_type": "code",
   "execution_count": 14,
   "id": "d0d910f7",
   "metadata": {},
   "outputs": [
    {
     "name": "stdout",
     "output_type": "stream",
     "text": [
      "[('fragrant.a.01', 0.23376121381115872), ('clean.a.01', 0.23125052308491592), ('superior.a.01', 0.22022119417854905), ('educated.a.01', 0.21966800373108855), ('mindful.a.01', 0.2182822500174266), ('busy.a.01', 0.21826220544904631), ('settled.a.02', 0.21495180240785697), ('modest.a.01', 0.21196934804280826), ('careful.a.01', 0.20642503539056628), ('humorous.a.01', 0.20533699336294906)]\n",
      "[('nonproprietary.a.01', -0.12804204739587602), ('wet.a.01', -0.13109088872897956), ('proud.a.01', -0.14986895208471712), ('moral.a.01', -0.1507341828212458), ('simple.a.01', -0.15215763433495405), ('conscious.a.02', -0.15456060351936168), ('prejudiced.a.02', -0.1595962284843616), ('selfish.a.01', -0.2134563069472661), ('ordinary.a.01', -0.23051900162149913), ('fat.a.01', -0.23554981095825875)]\n"
     ]
    }
   ],
   "source": [
    "print(word_poles['normies'].most_common()[:10])\n",
    "print(word_poles['normies'].most_common()[-10:])"
   ]
  },
  {
   "cell_type": "code",
   "execution_count": 15,
   "id": "8392095f",
   "metadata": {},
   "outputs": [
    {
     "name": "stdout",
     "output_type": "stream",
     "text": [
      "[('clean.a.01', 0.2604844388082124), ('serious.a.01', 0.2527842823082931), ('definite.a.01', 0.24164403889662878), ('conventional.a.04', 0.23772145187427085), ('abstemious.a.01', 0.22977715695462214), ('careful.a.01', 0.216644847990057), ('gracious.a.01', 0.21475233326039692), ('cautious.a.01', 0.21308335759125957), ('tasteful.a.01', 0.2048277942128987), ('busy.a.01', 0.20080071600078564)]\n",
      "[('cheerful.a.01', -0.13711930530631397), ('flexible.a.02', -0.13992376426055217), ('quiet.a.01', -0.14082034815067648), ('flexible.a.01', -0.1432322652076855), ('nonproprietary.a.01', -0.1515342433042608), ('changeable.a.02', -0.15319182252356459), ('indulgent.a.01', -0.16091865765036034), ('simple.a.01', -0.17922892126620177), ('proud.a.01', -0.216327865672561), ('fat.a.01', -0.281288708181036)]\n"
     ]
    }
   ],
   "source": [
    "print(word_poles['simps'].most_common()[:10])\n",
    "print(word_poles['simps'].most_common()[-10:])"
   ]
  },
  {
   "cell_type": "code",
   "execution_count": 16,
   "id": "ab70ee11",
   "metadata": {},
   "outputs": [
    {
     "name": "stdout",
     "output_type": "stream",
     "text": [
      "[('used.a.01', 0.2738366691962819), ('clothed.a.01', 0.23937097872188579), ('settled.a.02', 0.2291109180309099), ('genuine.a.01', 0.20774164855996033), ('reputable.a.01', 0.2034176074242275), ('free.a.01', 0.20046270103216252), ('safe.a.01', 0.19728634455816058), ('superior.a.01', 0.18511084056671884), ('visible.a.01', 0.18354977985627313), ('careful.a.01', 0.1824616231531639)]\n",
      "[('assertive.a.01', -0.1599361735706449), ('capitalistic.a.01', -0.16414326236623333), ('tired.a.01', -0.17383875787119737), ('optimistic.a.01', -0.17687235032425183), ('commercial.a.01', -0.18044915161152808), ('corrupt.a.01', -0.18965010845156033), ('womanly.a.01', -0.19693576109523947), ('blond.a.01', -0.1993103340935537), ('indulgent.a.01', -0.21088796861255577), ('prejudiced.a.02', -0.26173099058036536)]\n"
     ]
    }
   ],
   "source": [
    "print(word_poles['prostitute'].most_common()[:10])\n",
    "print(word_poles['prostitute'].most_common()[-10:])"
   ]
  },
  {
   "cell_type": "code",
   "execution_count": 17,
   "id": "f4a1c4c5",
   "metadata": {},
   "outputs": [
    {
     "name": "stdout",
     "output_type": "stream",
     "text": [
      "[('soured.a.01', 0.2993762680324553), ('old.a.01', 0.24585196920696173), ('large.a.01', 0.23454624090201942), ('demanding.a.01', 0.20686306185232417), ('busy.a.01', 0.197643275722586), ('distant.a.02', 0.189853979436521), ('used.a.01', 0.18674327001249796), ('tough.a.03', 0.1843033060276611), ('much.a.01', 0.1842825865919937), ('cursed.a.01', 0.17506098967106104)]\n",
      "[('reasonable.a.01', -0.20029725604609822), ('sympathetic.a.04', -0.20576029865844586), ('exculpatory.a.01', -0.2085969624311667), ('refined.a.01', -0.22853918654971514), ('beautiful.a.01', -0.23545727870178343), ('sincere.a.01', -0.2519843280077457), ('optimistic.a.01', -0.2563437773193954), ('pleasing.a.01', -0.2725066810670002), ('kind.a.01', -0.2763736927813124), ('lovable.a.01', -0.3158886668571521)]\n"
     ]
    }
   ],
   "source": [
    "print(word_poles['sweet girl'].most_common()[:10])\n",
    "print(word_poles['sweet girl'].most_common()[-10:])"
   ]
  },
  {
   "cell_type": "code",
   "execution_count": 39,
   "id": "6c0dd677",
   "metadata": {},
   "outputs": [
    {
     "name": "stdout",
     "output_type": "stream",
     "text": [
      "[('definite.a.01', 0.1942506848860781), ('clean.a.01', 0.1673035189706998), ('improved.a.01', 0.16144572589832623), ('motivated.a.01', 0.152628178859815), ('conventional.a.04', 0.14834912226141417), ('assisted.a.01', 0.14402170982564783), ('gracious.a.01', 0.14375817406252167), ('exempt.a.01', 0.1386175631587233), ('meaningful.a.01', 0.1376077435672449), ('stable.a.01', 0.13545902803716559)]\n",
      "[('strange.a.01', -0.10258656068959875), ('flexible.a.02', -0.10486797902865443), ('satisfactory.a.01', -0.11070000339932176), ('thinkable.a.01', -0.11700241756682321), ('credulous.a.01', -0.12267252067925646), ('fat.a.01', -0.12638101965574716), ('nonproprietary.a.01', -0.12937259858528127), ('old.a.02', -0.13903732562136084), ('same.a.01', -0.15038574864936355), ('distant.a.01', -0.20976531914767527)]\n"
     ]
    }
   ],
   "source": [
    "print(word_poles['thot'].most_common()[:10])\n",
    "print(word_poles['thot'].most_common()[-10:])"
   ]
  },
  {
   "cell_type": "code",
   "execution_count": 41,
   "id": "088414c6",
   "metadata": {},
   "outputs": [
    {
     "name": "stdout",
     "output_type": "stream",
     "text": [
      "[('stressed.a.02', 0.2689686041765973), ('androgynous.a.02', 0.26615011162215274), ('used.a.01', 0.17418508989923898), ('shod.a.01', 0.17415410665801528), ('heavy.a.04', 0.15623034942651035), ('clothed.a.01', 0.14830480731774676), ('worthy.a.01', 0.14272245389365118), ('resolute.a.01', 0.13329823016528006), ('sacred.a.01', 0.13287332282955855), ('protected.a.01', 0.12342149919623766)]\n",
      "[('selfish.a.01', -0.12718445486502283), ('capitalistic.a.01', -0.12951324600671643), ('hot.a.03', -0.1325397538418296), ('graceful.a.01', -0.1355055651284687), ('pleasing.a.01', -0.13815785044580048), ('indulgent.a.01', -0.17790987421169782), ('shapely.a.01', -0.18686821149604158), ('prejudiced.a.02', -0.2406379872123752), ('blond.a.01', -0.32147493747143213), ('womanly.a.01', -0.5140653893774207)]\n"
     ]
    }
   ],
   "source": [
    "print(word_poles['women'].most_common()[:10])\n",
    "print(word_poles['women'].most_common()[-10:])"
   ]
  },
  {
   "cell_type": "markdown",
   "id": "a56edd5e",
   "metadata": {},
   "source": [
    "# Variance within gender"
   ]
  },
  {
   "cell_type": "code",
   "execution_count": 18,
   "id": "ee347392",
   "metadata": {},
   "outputs": [],
   "source": [
    "fem_variance = Counter() # {pole: variance of fem terms}\n",
    "fem_extremes = defaultdict(tuple) # {pole: (top N terms, bottom N terms)}\n",
    "masc_variance = Counter() \n",
    "masc_extremes = defaultdict(tuple)\n",
    "fem_scores = defaultdict(list) # {pole: scores in order of x_words}\n",
    "masc_scores = defaultdict(list) # {pole: scores in order of y_words}\n",
    "N = 10\n",
    "for pole in scores: \n",
    "    s = scores[pole]\n",
    "    x = [] # fem scores\n",
    "    x_words = []\n",
    "    y = [] # masc scores\n",
    "    y_words = []\n",
    "    for i, term in enumerate(vocab_order): \n",
    "        term = term.strip()\n",
    "        if term in gender_labels: \n",
    "            if gender_labels[term] > 0.75: \n",
    "                x.append(s[i])\n",
    "                x_words.append(term)\n",
    "            elif gender_labels[term] < 0.25: \n",
    "                y.append(s[i])\n",
    "                y_words.append(term)\n",
    "    fem_variance[pole] = np.var(x)\n",
    "    indices = np.argpartition(x, -N)[-N:]\n",
    "    topN = [x_words[idx].strip() for idx in indices]\n",
    "    indices = np.argpartition(x, N)[:N]\n",
    "    bottomN = [x_words[idx].strip() for idx in indices]\n",
    "    fem_extremes[pole] = (topN, bottomN, min(x), max(x))\n",
    "    fem_scores[pole] = x\n",
    "    \n",
    "    masc_variance[pole] = np.var(y)\n",
    "    indices = np.argpartition(y, -N)[-N:]\n",
    "    topN = [y_words[idx].strip() for idx in indices]\n",
    "    indices = np.argpartition(y, N)[:N]\n",
    "    bottomN = [y_words[idx].strip() for idx in indices]\n",
    "    masc_extremes[pole] = (topN, bottomN, min(y), max(y))\n",
    "    masc_scores[pole] = y"
   ]
  },
  {
   "cell_type": "code",
   "execution_count": 19,
   "id": "faf4af2b",
   "metadata": {},
   "outputs": [
    {
     "name": "stdout",
     "output_type": "stream",
     "text": [
      "('womanly.a.01', 0.0207367739111438)\n",
      "TOP: ['debbie downer', 'creepy stalker', 'harlot', 'fuckbuddy', 'harlots', 'tomboys', 'downer', 'hambeast', 'hambeasts', 'tomboy']\n",
      "BOTTOM: ['female', 'feminine woman', 'female gender', 'feminine women', 'female feminist', 'women', 'feminist women', 'masculine women', 'women women', 'females']\n",
      "-0.5856429849438389 0.36751912466938597\n",
      "\n",
      "('androgynous.a.02', 0.01048472108047411)\n",
      "TOP: ['1 female', 'black females', 'female', 'white females', 'female gender', 'female one', 'two females', 'females', 'more females', 'female humans']\n",
      "BOTTOM: ['nympho', 'noodlewhores', 'noodlewhore', 'supermodel', 'supermodels', 'manipulative bitch', 'stepmom', 'harlots', 'harlot', 'tomboy']\n",
      "-0.19918680740902128 0.4108695695846027\n",
      "\n",
      "('lovable.a.01', 0.010376138902053338)\n",
      "TOP: ['female supremacist', 'degenerate whores', 'protester', 'stupid cunts', 'woman hater', 'accusers', 'woman haters', 'false accusers', 'women haters', 'cunts']\n",
      "BOTTOM: ['cute one', 'cute friend', 'sweet girl', 'beautiful wife', 'cute girl', 'beautiful girl', 'beautiful girls', 'little princess', 'sweetie', 'baby girl']\n",
      "-0.3158886668571521 0.4004010633757613\n",
      "\n",
      "('reputable.a.01', 0.008525157638178259)\n",
      "TOP: ['dumb slut', 'club sluts', 'slutty girls', 'slutty girl', 'cheating slut', 'slutty women', 'slut', 'sluts', 'dumb sluts', 'dirty slut']\n",
      "BOTTOM: ['great mother', 'good mothers', 'great dancer', 'great women', 'good wives', 'great wife', 'great woman', 'qualified women', 'wonderful woman', 'good mom']\n",
      "-0.14964813563467744 0.4022180094944489\n",
      "\n",
      "('wholesome.a.01', 0.00843521055871161)\n",
      "TOP: ['fucking slut', 'stupid cunts', 'biggest sluts', 'degenerate whores', 'manipulative bitch', 'stupid slut', 'dirty slut', 'dumb slut', 'dumb sluts', 'evil bitch']\n",
      "BOTTOM: ['homemaker', 'homemakers', 'healthy woman', 'healthy women', 'fertile women', 'quality woman', 'companion', 'quality women', 'intelligent woman', 'happy wife']\n",
      "-0.24472081446745786 0.3657217434203625\n",
      "\n",
      "('clean.a.01', 0.007831925252821238)\n",
      "TOP: ['ugly cunt', 'fattie', 'bar sluts', 'hambeast', 'sloot', 'fuckbuddy', 'sissy', 'hambeasts', 'club sluts', 'harlots']\n",
      "BOTTOM: ['loyal woman', 'healthy woman', 'female president', 'perfect woman', 'loyal wife', 'healthy women', 'perfect wife', 'woman president', 'loving wife', 'housekeeper']\n",
      "-0.12854343965843157 0.3400276884051787\n",
      "\n",
      "('conventional.a.04', 0.007581305991350485)\n",
      "TOP: ['crazy girl', 'sloot', 'chics', 'cutie', 'chic', 'debbie downer', 'fuckbuddy', 'sissy', 'tinder girl', 'tinderella']\n",
      "BOTTOM: ['average female', 'most women', 'average women', 'average woman', 'female counterparts', 'female peers', 'most feminists', 'heterosexual women', 'typical women', 'mainstream feminists']\n",
      "-0.19416805965222145 0.3009912181359369\n",
      "\n",
      "('beautiful.a.01', 0.007578161991001737)\n",
      "TOP: ['false accuser', 'women haters', 'oppressed women', 'accusers', 'female rapist', 'female rapists', 'female abusers', 'fat pig', 'evil bitch', 'degenerate whores']\n",
      "BOTTOM: ['great girl', 'amazing girl', 'great girlfriend', 'beautiful wife', 'gorgeous girl', 'beautiful girl', 'gorgeous girls', 'great wife', 'great girls', 'sweet girl']\n",
      "-0.27379093296445667 0.28227535855584\n",
      "\n",
      "('proud.a.01', 0.00705904923835677)\n",
      "TOP: ['poor women', 'female victims', 'teens', '17 women', 'female prisoners', 'women victims', 'fewer women', 'zero women', 'few women', 'most females']\n",
      "BOTTOM: ['harlot', 'prude', 'manipulative women', 'manipulative bitch', 'harlots', 'tomboy', 'prudes', 'dominatrix', 'degenerate whores', 'cunts']\n",
      "-0.4072820215301625 0.10987524037137289\n",
      "\n",
      "('straight.a.06', 0.006934881650156797)\n",
      "TOP: ['crack whore', 'lying cunt', 'sluts', 'wife beaters', 'dumb sluts', 'cheating slut', 'degenerate whores', 'manipulative bitch', 'manipulative women', 'dirty slut']\n",
      "BOTTOM: ['heterosexual women', 'straight women', 'straight woman', 'muse', 'true feminist', 'sane women', 'real feminist', 'straight girls', 'normal woman', 'most chicks']\n",
      "-0.14100894371059372 0.35636713845941614\n",
      "\n",
      "('competent.a.01', 0.006926532481046312)\n",
      "TOP: ['stupid slut', 'total slut', 'dumb sluts', 'sluts', 'unattractive girl', 'unattractive girls', 'unattractive woman', 'unattractive women', 'degenerate whores', 'harlots']\n",
      "BOTTOM: ['good pussy', 'female judge', 'female lawyer', 'human females', 'female therapist', 'human female', 'female doctor', 'female judges', 'female president', 'better girls']\n",
      "-0.16084060889425078 0.363279329191092\n",
      "\n",
      "('old.a.01', 0.006892988340014167)\n",
      "TOP: ['baby girl', 'teenage girl', 'teenage daughter', 'teen', 'young daughter', 'little girls', 'little girl', 'toddlers', 'toddler', 'young teen']\n",
      "BOTTOM: ['old lady', 'last ex', 'cleaning lady', 'old ex', 'old hag', 'red queen', 'ex gf', 'old hags', 'old ladies', 'fatty']\n",
      "-0.1389097417885981 0.5568596093610515\n",
      "\n",
      "('cautious.a.01', 0.00685249614484301)\n",
      "TOP: ['promiscuous women', 'manipulative bitch', 'promiscuous woman', 'harlot', 'harlots', 'unattractive woman', 'manipulative women', 'unattractive girl', 'unattractive girls', 'unattractive women']\n",
      "BOTTOM: ['becky', 'stacy', 'nurses', 'nurse', 'stacey', 'librarian', 'female prisoners', 'female judge', 'escorts', 'cougars']\n",
      "-0.1283407570569997 0.41038705219589544\n",
      "\n",
      "('prejudiced.a.02', 0.0066778274436363454)\n",
      "TOP: ['midwife', 'receptionists', 'matriarch', 'babysitters', 'surrogates', 'chaperone', 'paralegal', 'babysitter', 'surrogate mother', 'surrogate']\n",
      "BOTTOM: ['female rapists', 'gay women', 'women haters', 'abusive women', 'female abusers', 'raped women', 'abused women', 'sex offenders', 'violent women', 'woman haters']\n",
      "-0.40283961695139414 0.11772141205539903\n",
      "\n",
      "('intellectual.a.02', 0.006601855575763878)\n",
      "TOP: ['noodle whores', 'succubus', 'hambeasts', 'concubine', 'harlot', 'promiscuous woman', 'noodlewhores', 'noodlewhore', 'degenerate whores', 'harlots']\n",
      "BOTTOM: ['intelligent woman', 'interesting women', 'good pussy', 'great dancer', 'interesting girl', 'great women', 'interesting girls', 'celebrities', 'nice woman', 'entertainer']\n",
      "-0.1300063433405586 0.3730808596098844\n",
      "\n",
      "('humane.a.02', 0.00653619830347797)\n",
      "TOP: ['manipulative women', 'ugly bitch', 'bad bitch', 'cheating whores', 'dirty slut', 'manipulative bitch', 'evil bitch', 'degenerate whores', 'horrible women', 'dirty whore']\n",
      "BOTTOM: ['western feminists', 'early feminists', 'liberal feminists', 'moderate feminists', 'academic feminists', 'radical feminists', 'gender feminists', 'radical feminist', 'mainstream feminists', 'modern feminists']\n",
      "-0.257414534963713 0.27536789460270455\n",
      "\n",
      "('reasonable.a.01', 0.006493671729336511)\n",
      "TOP: ['unattractive woman', 'false accuser', 'wife beaters', 'accuser', 'accusers', 'degenerate whores', 'harlots', 'female abusers', 'total slut', 'false accusers']\n",
      "BOTTOM: ['intelligent woman', 'smart girl', 'smart woman', 'intelligent women', 'smart women', 'sane women', 'healthy woman', 'smart girls', 'healthy women', 'fatty']\n",
      "-0.30286646960230007 0.2512111376483978\n",
      "\n",
      "('nice.a.01', 0.006443932426143307)\n",
      "TOP: ['dumb sluts', 'horrible women', 'fucking sluts', 'fucking slut', 'ugly cunt', 'biggest sluts', 'stupid cunts', 'dirty whore', 'degenerate whores', 'dirty slut']\n",
      "BOTTOM: ['hostess', 'happy wife', 'nana', 'companions', 'nice woman', 'nice lady', 'nice girl', 'companion', 'unicorn', 'receptionist']\n",
      "-0.12770267392954726 0.36142299562780256\n",
      "\n",
      "('intended.a.01', 0.006362993461432345)\n",
      "TOP: ['promiscuous women', 'stepdaughter', 'promiscuous woman', 'degenerate whores', 'harlot', 'unattractive girls', 'unattractive women', 'unattractive woman', 'harlots', 'unattractive girl']\n",
      "BOTTOM: ['female judges', 'female comedians', 'female therapist', 'muse', 'female judge', 'stacey', 'female politicians', 'female managers', 'religious girls', 'dancers']\n",
      "-0.2068017765253252 0.3581257122996963\n",
      "\n",
      "('good.a.03', 0.006334989818543344)\n",
      "TOP: ['evil women', 'ugly bitch', 'lying cunt', 'degenerate whores', 'evil bitch', 'psycho bitch', 'ugly cunt', 'evil woman', 'stupid cunts', 'dirty whore']\n",
      "BOTTOM: ['good mom', 'lifeguard', 'homemakers', 'homemaker', 'great mother', 'good mother', 'good mothers', 'loving wife', 'home mom', 'good girl']\n",
      "-0.14094122068187284 0.36238062217576894\n",
      "\n"
     ]
    }
   ],
   "source": [
    "for tup in fem_variance.most_common(20): \n",
    "    print(tup)\n",
    "    pole = tup[0]\n",
    "    topN, bottomN, mi, ma = fem_extremes[pole]\n",
    "    print(\"TOP:\", topN)\n",
    "    print(\"BOTTOM:\", bottomN)\n",
    "    print(mi, ma)\n",
    "    print()"
   ]
  },
  {
   "cell_type": "code",
   "execution_count": 20,
   "id": "0a1f7dcf",
   "metadata": {},
   "outputs": [
    {
     "name": "stdout",
     "output_type": "stream",
     "text": [
      "('androgynous.a.02', 0.012188110400550777)\n",
      "TOP: ['male members', 'male character', 'dominant male', 'white males', 'male players', 'one male', 'dominant males', 'masculine male', 'male', 'males']\n",
      "BOTTOM: ['fucking hypocrites', 'hypocrite', 'fucking hypocrite', 'tenmagnet', 'manipulator', 'hypocrites', 'chiropractor', 'manipulators', 'charlatan', 'endocrinologist']\n",
      "-0.2604874475023576 0.44170802824635863\n",
      "\n",
      "('womanly.a.01', 0.01105276724502953)\n",
      "TOP: ['introvert', 'introverted guy', 'faggots', 'little faggot', 'nutter', 'faggot', 'buffoon', 'goober', 'wimp', 'wanker']\n",
      "BOTTOM: ['male gender', 'feminist man', 'feminine men', 'feminist leaders', 'male feminist', 'feminist men', 'male feminists', 'masculine male', 'male nurses', 'masculine men']\n",
      "-0.5029534793157493 0.29910455279596726\n",
      "\n",
      "('reputable.a.01', 0.009900774126213017)\n",
      "TOP: ['chump', 'snitch', 'serial rapist', 'schmuck', 'misogynist', 'misogynists', 'mugger', 'muggers', 'wimp', 'wimps']\n",
      "BOTTOM: ['great leader', 'successful people', 'good actor', 'mentors', 'great people', 'great men', 'great man', 'good leader', 'good captain', 'great person']\n",
      "-0.22716405597214687 0.3987890193065139\n",
      "\n",
      "('lovable.a.01', 0.009518692849910448)\n",
      "TOP: ['adversaries', 'zealot', 'asshats', 'misogynist', 'zealots', 'haters', 'hater', 'perpetrator', 'traitors', 'misogynists']\n",
      "BOTTOM: ['sweet guy', 'little bro', 'pretty boy', 'little angel', 'beautiful man', 'prince charming', 'pretty boys', 'little kids', 'baby boy', 'little guy']\n",
      "-0.2916932595371912 0.3965976053049023\n",
      "\n",
      "('wholesome.a.01', 0.00925771584422821)\n",
      "TOP: ['schmuck', 'sick fucks', 'misogynists', 'hypocrite', 'misogynist', 'buffoon', 'fucking hypocrites', 'fucking hypocrite', 'zealot', 'zealots']\n",
      "BOTTOM: ['healthy male', 'healthy man', 'farmer', 'financial advisor', 'farmers', 'healthy men', 'intact men', 'economists', 'personal trainers', 'successful person']\n",
      "-0.24359662484688357 0.3695135063377389\n",
      "\n",
      "('intellectual.a.02', 0.00856525720854899)\n",
      "TOP: ['fucking hypocrites', 'circumcised men', 'serf', 'misogynist', 'misogynists', 'hypocrite', 'hypocrites', 'fucking hypocrite', 'uncircumcised men', 'circumcised man']\n",
      "BOTTOM: ['good leader', 'consultants', 'good actor', 'good player', 'good captain', 'mathematicians', 'good doctor', 'intelligent guy', 'best players', 'programmers']\n",
      "-0.19463256021254127 0.3470383529052146\n",
      "\n",
      "('straight.a.06', 0.008359399909709119)\n",
      "TOP: ['wimp', 'gangsters', 'mugger', 'bullies', 'snitch', 'schmuck', 'adversaries', 'crooks', 'goons', 'muggers']\n",
      "BOTTOM: ['intact men', 'straight males', 'typical afc', 'true alpha', 'straight male', 'true mgtow', 'male nurses', 'complete afc', 'yes men', 'true chad']\n",
      "-0.1379163891211252 0.46113729026326256\n",
      "\n",
      "('cautious.a.01', 0.008325457101418179)\n",
      "TOP: ['douche bag', 'wimp', 'unattractive man', 'unattractive guys', 'unattractive guy', 'unattractive men', 'cuckolds', 'unattractive people', 'cuckold', 'unattractive person']\n",
      "BOTTOM: ['prisoner', 'prisoners', 'foreman', 'trainers', 'warden', 'policemen', 'inmates', 'historians', 'monarchs', 'handler']\n",
      "-0.18050248197000057 0.424798628009575\n",
      "\n",
      "('clean.a.01', 0.008263384575543091)\n",
      "TOP: ['misogynists', 'fags', 'wimp', 'fag', 'schmuck', 'little faggot', 'faggots', 'badboy', 'faggot', 'fucking faggot']\n",
      "BOTTOM: ['loving father', 'male leadership', 'intact men', 'martyrs', 'presidents', 'complete afc', 'natural alpha', 'strong leader', 'same person', 'true alpha']\n",
      "-0.13608913524900607 0.384021668527844\n",
      "\n",
      "('faithful.a.01', 0.008171472597128821)\n",
      "TOP: ['circumcised men', 'cuckolds', 'circumcised man', 'uncircumcised men', 'misogynist', 'misogynists', 'undesirable men', 'hypocrite', 'cuckold', 'hypocrites']\n",
      "BOTTOM: ['strong leader', 'true chad', 'good captain', 'good leader', 'kind sir', 'true alpha', 'advisors', 'strong person', 'strong people', 'comrades']\n",
      "-0.21864266938934956 0.3974211391720257\n",
      "\n",
      "('old.a.01', 0.00816922294783811)\n",
      "TOP: ['kid', 'baby boy', 'teenage boy', 'little boy', 'little boys', 'little kid', 'youngster', 'young boy', 'little kids', 'young kid']\n",
      "BOTTOM: ['black knight', 'old sage', 'bald man', 'old boss', 'bald guy', 'turks', 'white knights', 'turk', 'texan', 'white chad']\n",
      "-0.19514360263042813 0.5113171177238965\n",
      "\n",
      "('beautiful.a.01', 0.008147372994117505)\n",
      "TOP: ['zealots', 'mass murderers', 'mass murderer', 'sadists', 'satanist', 'satanists', 'murderers', 'serial rapists', 'serial rapist', 'perpetrator']\n",
      "BOTTOM: ['amazing guy', 'quality guy', 'great guy', 'beautiful man', 'great guys', 'amazing man', 'sweet guy', 'wonderful man', 'good guy', 'best guys']\n",
      "-0.25951401286184117 0.3044481796560223\n",
      "\n",
      "('prejudiced.a.02', 0.008065454137783574)\n",
      "TOP: ['beginner', 'manipulator', 'layman', 'public defender', 'specialists', 'chauffeur', 'attorney general', 'consultant', 'intelligent person', 'saviour']\n",
      "BOTTOM: ['homosexual men', 'gay males', 'gay guys', 'gay guy', 'gay dude', 'gay men', 'trans men', 'gay people', 'abused men', 'abusive men']\n",
      "-0.3888753071461612 0.1488056237548509\n",
      "\n",
      "('competent.a.01', 0.00802452003844264)\n",
      "TOP: ['autist', 'unattractive person', 'unattractive man', 'misogynist', 'misogynists', 'hypocrites', 'hypocrite', 'unattractive people', 'wimp', 'undesirable men']\n",
      "BOTTOM: ['mage', 'specialist', 'good doctor', 'afc friends', 'healthy male', 'good alpha', 'natural alpha', 'specialists', 'male therapist', 'dh']\n",
      "-0.1812152759362137 0.3591657500057476\n",
      "\n",
      "('subordinate.a.02', 0.007963409418881249)\n",
      "TOP: ['cuckold', 'unattractive people', 'unattractive males', 'unattractive man', 'unattractive male', 'undesirable men', 'unattractive guys', 'unattractive person', 'unattractive guy', 'unattractive men']\n",
      "BOTTOM: ['advisor', 'vp', 'consultant', 'client', 'mage', 'advisors', 'sigma', 'monarchs', 'dh', 'consultants']\n",
      "-0.24274051226116372 0.4334710019002802\n",
      "\n",
      "('educated.a.01', 0.007917420864930342)\n",
      "TOP: ['unattractive guy', 'unattractive person', 'unattractive man', 'uncircumcised men', 'unattractive guys', 'unattractive men', 'unattractive males', 'unattractive male', 'unattractive people', 'undesirable men']\n",
      "BOTTOM: ['scholars', 'feedback guys', 'smart man', 'mentor', 'smart kid', 'educated man', 'scholar', 'smart guy', 'avid reader', 'good player']\n",
      "-0.2083950841235108 0.4556076849561242\n",
      "\n",
      "('reasonable.a.01', 0.007884962386084276)\n",
      "TOP: ['hypocrite', 'snitch', 'fucking hypocrites', 'adversaries', 'traitors', 'felons', 'hypocrites', 'perpetrator', 'imposter', 'undesirable men']\n",
      "BOTTOM: ['smart person', 'intelligent guy', 'healthy man', 'intelligent person', 'intelligent man', 'rational male', 'smart man', 'thinking man', 'intelligent people', 'confident person']\n",
      "-0.35489330639386335 0.34694763892431246\n",
      "\n",
      "('serious.a.01', 0.00768356866548704)\n",
      "TOP: ['cocksucker', 'cuckolds', 'goober', 'dweeb', 'faggots', 'cuckold', 'wimp', 'little faggot', 'faggot', 'dweebs']\n",
      "BOTTOM: ['stronger man', 'honest man', 'mature man', 'true men', 'true man', 'strong man', 'good man', 'strong person', 'healthy man', 'christian men']\n",
      "-0.2723124957920057 0.3215419628036681\n",
      "\n",
      "('gracious.a.01', 0.007652131437258652)\n",
      "TOP: ['nutjob', 'misogynists', 'faggots', 'misogynist', 'wimp', 'dweeb', 'complete retard', 'cuckold', 'retard', 'cuckolds']\n",
      "BOTTOM: ['prophets', 'prophet', 'princes', 'monarchs', 'sultan', 'monarch', 'architects', 'priests', 'pianist', 'beautiful man']\n",
      "-0.21592479029625367 0.3102260830147038\n",
      "\n",
      "('conventional.a.04', 0.007618682937190801)\n",
      "TOP: ['nigga', 'dipshits', 'pickup artists', 'dipshit', 'nutjob', 'homie', 'dj', 'djs', 'badboy', 'goober']\n",
      "BOTTOM: ['male counterparts', 'most men', 'male peers', 'average male', 'most males', 'average men', 'average males', 'male gender', 'only males', 'average person']\n",
      "-0.2340365933959002 0.30603466160892\n",
      "\n"
     ]
    }
   ],
   "source": [
    "for tup in masc_variance.most_common(20): \n",
    "    print(tup)\n",
    "    pole = tup[0]\n",
    "    topN, bottomN, mi, ma = masc_extremes[pole]\n",
    "    print(\"TOP:\", topN)\n",
    "    print(\"BOTTOM:\", bottomN)\n",
    "    print(mi, ma)\n",
    "    print()"
   ]
  },
  {
   "cell_type": "markdown",
   "id": "8194188b",
   "metadata": {},
   "source": [
    "## Axes similarities for each clusters' highly gendered terms"
   ]
  },
  {
   "cell_type": "code",
   "execution_count": 22,
   "id": "5ff871b7",
   "metadata": {},
   "outputs": [
    {
     "name": "stdout",
     "output_type": "stream",
     "text": [
      "[('she', 1760546), ('women', 1314942), ('people', 1092284), ('he', 861007), ('man', 829419), ('guys', 819044), ('girl', 789403), ('girls', 735912), ('men', 719274), ('guy', 684915), ('woman', 630001), ('someone', 545557), ('friends', 406592), ('anyone', 373798), ('friend', 338119), ('person', 332783), ('female', 295285), ('everyone', 287904), ('male', 248241), ('others', 217140)]\n"
     ]
    }
   ],
   "source": [
    "with open(LOGS + 'gram_counts/combined_catyear_word_count.json', 'r') as infile: \n",
    "    catyear_word_count = json.load(infile)\n",
    "total_vocab_count = Counter() # {term : count in mano reddit + forum}\n",
    "for catyear in catyear_word_count: \n",
    "    for term in catyear_word_count[catyear]: \n",
    "        total_vocab_count[term] += catyear_word_count[catyear][term]\n",
    "print(total_vocab_count.most_common(20))"
   ]
  },
  {
   "cell_type": "code",
   "execution_count": 23,
   "id": "530bc3af",
   "metadata": {},
   "outputs": [],
   "source": [
    "with open(LOGS + 'time_series/cluster_members_6.json', 'r') as infile: \n",
    "    clust_words = json.load(infile)\n",
    "clust_words_rev = {}\n",
    "for clust in clust_words: \n",
    "    cluster_words = clust_words[clust]\n",
    "    for w in cluster_words: \n",
    "        clust_words_rev[w] = clust"
   ]
  },
  {
   "cell_type": "code",
   "execution_count": 29,
   "id": "9e684741",
   "metadata": {},
   "outputs": [],
   "source": [
    "cluster_gender_sum = defaultdict(Counter) # {gender + clust_num : {pole : sum of word scores} }\n",
    "cluster_gender_total = defaultdict(Counter) # {gender + clust_num : {pole : word count} }\n",
    "pole_sum = defaultdict(Counter) # {gender : {pole : sum of word scores} }\n",
    "pole_count = defaultdict(Counter) # {gender : {pole : word count} }\n",
    "for pole in scores: \n",
    "    s = scores[pole]\n",
    "    for i, term in enumerate(vocab_order): \n",
    "        term = term.strip()\n",
    "        clust_num = clust_words_rev[term]\n",
    "        if term in gender_labels: \n",
    "            if gender_labels[term] > 0.75: \n",
    "                cluster_gender_sum[str(clust_num) + '_fem'][pole] += s[i]*total_vocab_count[term]\n",
    "                cluster_gender_total[str(clust_num) + '_fem'][pole] += total_vocab_count[term]\n",
    "                pole_sum['fem'][pole] += s[i]*total_vocab_count[term]\n",
    "                pole_count['fem'][pole] += total_vocab_count[term]\n",
    "            elif gender_labels[term] < 0.25: \n",
    "                cluster_gender_sum[str(clust_num) + '_masc'][pole] += s[i]*total_vocab_count[term]\n",
    "                cluster_gender_total[str(clust_num) + '_masc'][pole] += total_vocab_count[term]\n",
    "                pole_sum['masc'][pole] += s[i]*total_vocab_count[term]\n",
    "                pole_count['masc'][pole] += total_vocab_count[term]\n",
    "            else: \n",
    "                cluster_gender_sum[str(clust_num) + '_other'][pole] += s[i]*total_vocab_count[term]\n",
    "                cluster_gender_total[str(clust_num) + '_other'][pole] += total_vocab_count[term]\n",
    "                pole_sum['other'][pole] += s[i]*total_vocab_count[term]\n",
    "                pole_count['other'][pole] += total_vocab_count[term]"
   ]
  },
  {
   "cell_type": "code",
   "execution_count": 30,
   "id": "8ce304f4",
   "metadata": {},
   "outputs": [],
   "source": [
    "cluster_gender_avg = defaultdict(Counter) \n",
    "for key in cluster_gender_sum: \n",
    "    for pole in cluster_gender_sum[key]: \n",
    "        if key.endswith('fem'): \n",
    "            pole_avg = pole_sum['fem'][pole] / pole_count['fem'][pole]\n",
    "        elif key.endswith('masc'): \n",
    "            pole_avg = pole_sum['masc'][pole] / pole_count['masc'][pole]\n",
    "        else: \n",
    "            continue\n",
    "        cluster_gender_avg[key][pole] = cluster_gender_sum[key][pole] / cluster_gender_total[key][pole] - pole_avg"
   ]
  },
  {
   "cell_type": "code",
   "execution_count": 32,
   "id": "50177f1c",
   "metadata": {},
   "outputs": [
    {
     "name": "stdout",
     "output_type": "stream",
     "text": [
      "4_fem\n",
      "[('inclined.a.01', 0.04459573565821398), ('prejudiced.a.02', 0.03713141165917774), ('indulgent.a.01', 0.0354813595789933), ('mobile.a.02', 0.03459343243948438), ('selfish.a.01', 0.03234095407198535), ('trustful.a.01', 0.03137506990775096), ('integrated.a.03', 0.030301170980960808), ('fallible.a.01', 0.030145502237779814), ('physical.a.01', 0.029980500369450224), ('worldly.a.01', 0.027994427351348373)]\n",
      "[('cautious.a.01', -0.032740800509103773), ('stable.a.01', -0.033518829629303956), ('employed.a.01', -0.03420936086981716), ('finished.a.01', -0.035076466999820956), ('androgynous.a.02', -0.03950542177227791), ('settled.a.02', -0.04030867319800274), ('skilled.a.01', -0.041152187275028104), ('concerned.a.01', -0.041624956854472595), ('articulate.a.01', -0.042553841328825164), ('educated.a.01', -0.04340031989911078)]\n",
      "\n",
      "4_masc\n",
      "[('common.a.01', 0.024186440105667808), ('bright.a.01', 0.022514191757610734), ('womanly.a.01', 0.01884714430527166), ('delicate.a.01', 0.01760280183098603), ('decisive.a.03', 0.01710052537371301), ('natural.a.02', 0.016503316917494407), ('demonstrative.a.01', 0.016059410783688756), ('formal.a.01', 0.0160582459767028), ('lawful.a.01', 0.015523326660157724), ('quiet.a.01', 0.015519375314075122)]\n",
      "[('fortunate.a.01', -0.019885241575920337), ('intellectual.a.02', -0.020413623934941817), ('additive.a.02', -0.020867483807874124), ('serious.a.01', -0.020872753349277393), ('stressed.a.02', -0.021565206360777384), ('rich.a.01', -0.021625257057487617), ('sympathetic.a.04', -0.024709623733624814), ('liked.a.01', -0.024811823678267522), ('educated.a.01', -0.025008927856172203), ('affected.a.01', -0.025123749540224696)]\n",
      "\n",
      "3_fem\n",
      "[('womanly.a.01', 0.08848947846187097), ('old.a.01', 0.06671946496307717), ('conventional.a.04', 0.05410580221125111), ('large.a.01', 0.04240053622626411), ('experienced.a.01', 0.04191579573805754), ('heavy.a.04', 0.040598608260991736), ('clean.a.01', 0.040519942832250674), ('rural.a.01', 0.038990116878020877), ('articulate.a.01', 0.03873122562817068), ('practical.a.01', 0.03742357774175836)]\n",
      "[('lively.a.01', -0.038491729964319626), ('loved.a.01', -0.039167437104262626), ('moderate.a.01', -0.03935637202700393), ('major.a.01', -0.03951791491557393), ('emotional.a.02', -0.03974731615056984), ('lovable.a.01', -0.04354951930390134), ('beautiful.a.01', -0.04515916168390058), ('attractive.a.01', -0.04656146899170927), ('optimistic.a.01', -0.047134784697164075), ('spirited.a.01', -0.05368229218866927)]\n",
      "\n",
      "3_masc\n",
      "[('heavy.a.04', 0.037295757785957076), ('conventional.a.04', 0.036995651692705425), ('credible.a.01', 0.03567090172011694), ('punctual.a.01', 0.03351492656150623), ('refined.a.01', 0.030422295447992118), ('dominant.a.01', 0.029370173824111834), ('abstemious.a.01', 0.028867282604458457), ('ashamed.a.01', 0.02731254297144171), ('unilateral.a.01', 0.02698892584781424), ('concerned.a.01', 0.025403751578896384)]\n",
      "[('clean.a.06', -0.035181196556874975), ('spirited.a.01', -0.03729994225166813), ('grateful.a.01', -0.03785805818797409), ('homemade.a.01', -0.03811374775614548), ('satisfactory.a.01', -0.0382165132897371), ('lively.a.01', -0.03858341650116795), ('attractive.a.01', -0.039078123115575916), ('healthy.a.01', -0.03975967285892098), ('shod.a.01', -0.04595508071572545), ('beautiful.a.01', -0.04604443473494912)]\n",
      "\n",
      "5_fem\n",
      "[('capitalistic.a.01', 0.11167636172749039), ('lovable.a.01', 0.11040718323980561), ('emotional.a.02', 0.10944070788813633), ('prospective.a.01', 0.09549726194307243), ('beautiful.a.01', 0.09497061817329461), ('dependent.a.01', 0.09234848341788002), ('violent.a.01', 0.0888908440498484), ('physical.a.01', 0.08693761057773326), ('nice.a.01', 0.08693063955118707), ('indulgent.a.01', 0.0797886486437385)]\n",
      "[('social.a.02', -0.07917553082454978), ('positive.a.01', -0.08122587005541594), ('tasteful.a.01', -0.08201605024276869), ('prejudiced.a.02', -0.08359554344532305), ('unilateral.a.01', -0.0841795861072387), ('controversial.a.01', -0.08662013536132493), ('common.a.02', -0.08778032842606204), ('active.a.03', -0.11857184587740416), ('humane.a.02', -0.145971295928296), ('national.a.02', -0.15609447957735634)]\n",
      "\n",
      "5_masc\n",
      "[('beautiful.a.01', 0.09706305544760456), ('rich.a.01', 0.08859011921527267), ('liked.a.01', 0.082384396231417), ('lovable.a.01', 0.0804859680295932), ('healthy.a.01', 0.07655478640663577), ('good.a.01', 0.07260079191598409), ('secure.a.02', 0.0691853892585619), ('fortunate.a.01', 0.06894487629933951), ('sympathetic.a.04', 0.06627051960561177), ('fit.a.01', 0.06402869038037298)]\n",
      "[('selfish.a.01', -0.04153343357155878), ('lawful.a.01', -0.04238952917494969), ('androgynous.a.02', -0.042431297206643834), ('credible.a.01', -0.043950567033319676), ('abstemious.a.01', -0.047866483537403165), ('distant.a.02', -0.0492664183234029), ('delicate.a.01', -0.052476125791142685), ('conventional.a.04', -0.0558948226554914), ('hostile.a.01', -0.058629527294862954), ('heavy.a.04', -0.06072775959235018)]\n",
      "\n",
      "1_fem\n",
      "[('androgynous.a.02', 0.07031447850172319), ('stressed.a.02', 0.05705461273689552), ('shod.a.01', 0.05585741996453551), ('lively.a.01', 0.04406816440695601), ('attractive.a.01', 0.04054359443846363), ('worthy.a.01', 0.03330788408715908), ('skilled.a.01', 0.03296533381492984), ('covered.a.01', 0.032274922286288345), ('high.a.04', 0.032058705917092416), ('loved.a.01', 0.03193926959447682)]\n",
      "[('persuasive.a.01', -0.03359019754916369), ('serious.a.01', -0.034040719972406465), ('shapely.a.01', -0.035689858509547936), ('indulgent.a.01', -0.0389103706313029), ('punctual.a.01', -0.040010523542163015), ('plain.a.02', -0.040775515358996414), ('blond.a.01', -0.0438363540704684), ('overt.a.01', -0.047041982333070616), ('conventional.a.04', -0.06024424022730005), ('womanly.a.01', -0.13630012628420224)]\n",
      "\n",
      "1_masc\n",
      "[('homemade.a.01', 0.03852517303729239), ('androgynous.a.02', 0.03694193903835409), ('resolute.a.01', 0.03583054806762555), ('private.a.01', 0.03274092426246521), ('heavenly.a.03', 0.03041137730889483), ('shod.a.01', 0.028872332703617914), ('lively.a.01', 0.028698433155437793), ('violent.a.01', 0.0285814595718636), ('stressed.a.02', 0.028006338252291457), ('cacophonous.a.01', 0.02760971899320342)]\n",
      "[('productive.a.01', -0.03098125682022114), ('shapely.a.01', -0.0310948756254056), ('clean.a.01', -0.031398337087389976), ('union.a.02', -0.03157021073928978), ('wholesome.a.01', -0.03188263462713561), ('punctual.a.01', -0.03436573967179303), ('effortful.a.01', -0.03899538102474351), ('civilized.a.01', -0.04991611767893664), ('conventional.a.04', -0.058632468384593794), ('womanly.a.01', -0.07782225825431238)]\n",
      "\n",
      "2_fem\n",
      "[('lovable.a.01', 0.07449269965896914), ('beautiful.a.01', 0.0704530389512782), ('educated.a.01', 0.0694067182913204), ('settled.a.02', 0.06930129882025088), ('good.a.03', 0.06601771427569764), ('busy.a.01', 0.0649066018040552), ('womanly.a.01', 0.06111155047889441), ('lively.a.01', 0.05884687147342315), ('fit.a.01', 0.05873154224221352), ('appealing.a.01', 0.05865190287259575)]\n",
      "[('offensive.a.02', -0.03429079616144555), ('old.a.01', -0.034865639946337706), ('changeable.a.02', -0.03529108252388899), ('prejudiced.a.02', -0.03726061495267552), ('strange.a.01', -0.03766068777104069), ('tough.a.03', -0.03799516712111198), ('fat.a.01', -0.040193605823891684), ('old.a.02', -0.04268599788855949), ('dependent.a.01', -0.04275936923933276), ('selfish.a.01', -0.04340667428001141)]\n",
      "\n",
      "2_masc\n",
      "[('educated.a.01', 0.07826559828017335), ('liked.a.01', 0.07541024853395986), ('sympathetic.a.04', 0.07278953567120192), ('beautiful.a.01', 0.07149369720828777), ('secure.a.02', 0.0699476692788144), ('reputable.a.01', 0.06958647549143929), ('rational.a.01', 0.0686225733816505), ('competent.a.01', 0.06861180704132054), ('grateful.a.01', 0.0670875345332783), ('controlled.a.01', 0.06653444625495829)]\n",
      "[('lawful.a.01', -0.03966657304159224), ('delicate.a.01', -0.040616674726895535), ('simple.a.01', -0.0411857043371191), ('strange.a.01', -0.04160974237356366), ('old.a.02', -0.04173887478969089), ('changeable.a.02', -0.0422935608715242), ('high.a.04', -0.0443732868192935), ('inclined.a.02', -0.044529337163259956), ('heavy.a.04', -0.05372164879131913), ('androgynous.a.02', -0.06913527742288123)]\n",
      "\n",
      "0_fem\n",
      "[('womanly.a.01', 0.2776438768217485), ('blond.a.01', 0.2114953368785863), ('shapely.a.01', 0.18776883204085254), ('conventional.a.04', 0.1283545518225631), ('definite.a.01', 0.1257914223410032), ('beautiful.a.01', 0.1199971338142575), ('enclosed.a.01', 0.11972125807397231), ('clean.a.01', 0.1137442723730536), ('gracious.a.01', 0.11266495186174727), ('intellectual.a.02', 0.11064530977928966)]\n",
      "[('visible.a.01', -0.09727561583785461), ('tough.a.01', -0.09999082087036026), ('old.a.01', -0.10215186889017673), ('thinkable.a.01', -0.10408449317078577), ('nonproprietary.a.01', -0.10469803167796651), ('conscious.a.02', -0.11262139219636887), ('old.a.02', -0.11614221384397452), ('quiet.a.01', -0.11662585927432755), ('same.a.01', -0.11770270667925221), ('androgynous.a.02', -0.16233704182807618)]\n",
      "\n",
      "0_masc\n",
      "[('definite.a.01', 0.11489443709692414), ('serious.a.01', 0.10014974965236416), ('intellectual.a.02', 0.09422754029262999), ('enclosed.a.01', 0.09334388904188448), ('gracious.a.01', 0.08948922085798433), ('mobile.a.02', 0.0890890986223712), ('union.a.02', 0.08858078044062825), ('direct.a.03', 0.08839578170741352), ('metallic.a.01', 0.08794347670171548), ('educated.a.01', 0.08290753050764332)]\n",
      "[('old.a.02', -0.06397501277412529), ('nonproprietary.a.01', -0.06531046926977709), ('old.a.01', -0.06542260976194163), ('decisive.a.03', -0.06867366808723882), ('present.a.01', -0.06944174937777925), ('same.a.01', -0.07863878772891567), ('delicate.a.01', -0.08479448802582772), ('high.a.04', -0.08603401039766678), ('natural.a.02', -0.10429390807397175), ('androgynous.a.02', -0.12680247268565586)]\n",
      "\n"
     ]
    }
   ],
   "source": [
    "cluster_order = [4, 3, 5, 1, 2, 0]\n",
    "common_shift_poles = Counter()\n",
    "for clust_num in cluster_order: \n",
    "    for gender in ['fem', 'masc']:\n",
    "        key = str(clust_num) + '_' + gender\n",
    "        print(key)\n",
    "        top = cluster_gender_avg[key].most_common()[:10]\n",
    "        bottom = cluster_gender_avg[key].most_common()[-10:]\n",
    "        for tup in top: \n",
    "            common_shift_poles[tup[0]] += 1\n",
    "        for tup in bottom: \n",
    "            common_shift_poles[tup[0]] += 1\n",
    "        print(top)\n",
    "        print(bottom)\n",
    "        print()"
   ]
  },
  {
   "cell_type": "code",
   "execution_count": 36,
   "id": "2622b504",
   "metadata": {},
   "outputs": [
    {
     "data": {
      "text/plain": [
       "[('androgynous.a.02', 7),\n",
       " ('beautiful.a.01', 7),\n",
       " ('womanly.a.01', 6),\n",
       " ('conventional.a.04', 6),\n",
       " ('educated.a.01', 5),\n",
       " ('lively.a.01', 5),\n",
       " ('delicate.a.01', 4),\n",
       " ('old.a.01', 4),\n",
       " ('heavy.a.04', 4),\n",
       " ('lovable.a.01', 4),\n",
       " ('old.a.02', 4),\n",
       " ('prejudiced.a.02', 3),\n",
       " ('indulgent.a.01', 3),\n",
       " ('selfish.a.01', 3),\n",
       " ('lawful.a.01', 3),\n",
       " ('intellectual.a.02', 3),\n",
       " ('serious.a.01', 3),\n",
       " ('stressed.a.02', 3),\n",
       " ('sympathetic.a.04', 3),\n",
       " ('liked.a.01', 3),\n",
       " ('clean.a.01', 3),\n",
       " ('attractive.a.01', 3),\n",
       " ('punctual.a.01', 3),\n",
       " ('shod.a.01', 3),\n",
       " ('high.a.04', 3),\n",
       " ('shapely.a.01', 3),\n",
       " ('mobile.a.02', 2),\n",
       " ('physical.a.01', 2),\n",
       " ('settled.a.02', 2),\n",
       " ('skilled.a.01', 2)]"
      ]
     },
     "execution_count": 36,
     "metadata": {},
     "output_type": "execute_result"
    }
   ],
   "source": [
    "common_shift_poles.most_common(30)"
   ]
  },
  {
   "cell_type": "markdown",
   "id": "65e15c2e",
   "metadata": {},
   "source": [
    "## Pole-specific analysis\n",
    "\n",
    "Grouping and focusing on six poles. We choose poles using a combination of social theory (what has prior qualitative research deemed significant?) and the poles that quantitatively demonstrate large shifts across temporal clusters, as well as variance across highly gendered portions of the vocab. "
   ]
  },
  {
   "cell_type": "code",
   "execution_count": 72,
   "id": "c15f59b6",
   "metadata": {},
   "outputs": [
    {
     "name": "stdout",
     "output_type": "stream",
     "text": [
      "[('women_2018', 369866), ('she_2018', 301291), ('she_2017', 240165), ('she_2019', 199792), ('people_2017', 197630), ('men_2017', 193478), ('women_2013', 193394), ('man_2018', 188619), ('guys_2018', 170581), ('he_2018', 162905), ('she_2012', 156226), ('man_2019', 154279), ('people_2019', 152824), ('women_2016', 138224), ('woman_2018', 134743), ('people_2018', 125745), ('people_2016', 119724), ('guy_2018', 119340), ('she_2016', 117969), ('people_2015', 117024)]\n"
     ]
    }
   ],
   "source": [
    "with open(LOGS + 'gram_counts/combined_catyear_word_count.json', 'r') as infile: \n",
    "    catyear_word_count = json.load(infile)\n",
    "year_vocab_count = Counter() # {term_year : count in mano reddit + forum}\n",
    "year_total = Counter() # {year: count}\n",
    "for catyear in catyear_word_count: \n",
    "    year = catyear.split('_')[-1]\n",
    "    for term in catyear_word_count[catyear]: \n",
    "        year_vocab_count[term + '_' + str(year)] += catyear_word_count[catyear][term]\n",
    "        year_total[year] += catyear_word_count[catyear][term]\n",
    "print(year_vocab_count.most_common(20))"
   ]
  },
  {
   "cell_type": "code",
   "execution_count": 46,
   "id": "cc1b3062",
   "metadata": {},
   "outputs": [],
   "source": [
    "# to group together\n",
    "attractive_poles = ['beautiful.a.01', 'lovable.a.01', 'attractive.a.01']\n",
    "intelligence_poles = ['educated.a.01', 'intellectual.a.02']\n",
    "age_poles = ['old.a.02', 'old.a.01']\n",
    "# to analyze each separately\n",
    "other_poles = ['prejudiced.a.02', 'heavy.a.04', 'clean.a.01'] \n",
    "poles_of_interest = intelligence_poles + attractive_poles + age_poles + other_poles"
   ]
  },
  {
   "cell_type": "code",
   "execution_count": 44,
   "id": "7dbdf6e9",
   "metadata": {},
   "outputs": [],
   "source": [
    "with open(LOGS + 'wikipedia/substitutes/bert-base-prob/word_rep_key.json', 'r') as infile: \n",
    "    word_rep_key = json.load(infile) # words that make up each pole"
   ]
  },
  {
   "cell_type": "code",
   "execution_count": 51,
   "id": "35b8236e",
   "metadata": {},
   "outputs": [
    {
     "name": "stdout",
     "output_type": "stream",
     "text": [
      "educated.a.01_right {'unlearned', 'untutored', 'unschooled', 'uneducated', 'undereducated', 'unstudied', 'unlettered', 'illiterate'}\n",
      "\n",
      "educated.a.01_left {'semiliterate', 'well-read', 'learned', 'educated', 'lettered', 'well-educated', 'knowing', 'knowledgeable', 'self-educated', 'literate'}\n",
      "\n",
      "clean.a.01_left {'clean', 'unstained', 'unused', 'spick', 'cleanly', 'pristine', 'unspotted', 'spic', 'scrubbed', 'immaculate', 'fresh', 'spotless', 'unsullied', 'washed'}\n",
      "\n",
      "beautiful.a.01_left {'ravishing', 'sightly', 'stunning', 'pretty', 'beautiful', 'handsome', 'good-looking', 'resplendent', 'lovely', 'picturesque', 'bonnie', 'comely', 'gorgeous', 'fair', 'glorious', 'splendid', 'scenic', 'exquisite'}\n",
      "\n",
      "old.a.01_right {'girlish', 'junior', 'four-year-old', 'tender', 'childlike', 'preteen', 'infantile', 'vernal', 'youthful', 'five-year-old', 'newborn', 'three-year-old', 'young', 'adolescent', 'teenaged', 'early', 'little', 'teenage', 'teen', 'immature', 'one-year-old', 'two-year-old', 'small', 'boyish'}\n",
      "\n",
      "old.a.02_right {'refreshing', 'sunrise', 'brand-new', 'hot', 'untested', 'radical', 'newborn', 'virgin', 'rising', 'young', 'newfound', 'red-hot', 'novel', 'unused', 'new', 'fresh', 'untried', 'revolutionary', 'recent'}\n",
      "\n",
      "heavy.a.04_left {'onerous', 'perturbing', 'leaden', 'troubling', 'distressing', 'heavy', 'oppressive', 'weighty', 'taxing', 'worrying', 'weighted', 'worrisome', 'burdensome', 'disturbing'}\n",
      "\n",
      "beautiful.a.01_right {'hideous', 'monstrous', 'disfigured', 'repulsive', 'ugly', 'unsightly', 'grotesque'}\n",
      "\n",
      "old.a.01_left {'white-haired', 'aged', 'hoar', 'middle-aged', 'grey', 'octogenarian', 'darkened', 'old', 'ancient', 'aging', 'older', 'venerable', 'overage', 'senior', 'hoary', 'grizzly', 'gaga', 'centenarian', 'nonagenarian', 'elderly', 'senile', 'senescent', 'ageing', 'grey-headed', 'gray'}\n",
      "\n",
      "old.a.02_left {'yellow', 'hoary', 'patched', 'antique', 'old', 'longtime', 'immemorial', 'sunset', 'antiquated', 'rusty', 'age-old', 'yellowed', 'auld', 'archaic', 'antediluvian', 'long-ago', 'secondhand', 'hand-me-down'}\n",
      "\n",
      "heavy.a.04_right {'fooling', 'light', 'casual'}\n",
      "\n",
      "clean.a.01_right {'dirty', 'filthy', 'unclean', 'squalid', 'scummy', 'mucky', 'sooty', 'grubby', 'raunchy', 'smutty', 'soiled', 'nasty', 'foul', 'grimy', 'fouled', 'dingy', 'sordid', 'buggy', 'lousy', 'greasy', 'muddy', 'oily'}\n",
      "\n",
      "attractive.a.01_right {'unprepossessing', 'homely', 'unattractive'}\n",
      "\n",
      "attractive.a.01_left {'photogenic', 'fascinating', 'mesmerizing', 'personable', 'charismatic', 'showy', 'mesmeric', 'winsome', 'winning', 'enthralling', 'hypnotic', 'entrancing', 'glossy', 'engaging', 'cunning', 'attractive', 'irresistible', 'spellbinding', 'fetching', 'taking', 'piquant', 'cute', 'dinky', 'captivating', 'enchanting', 'bewitching'}\n",
      "\n"
     ]
    }
   ],
   "source": [
    "for key in word_rep_key: \n",
    "    parts = key.split('_')\n",
    "    pole = parts[0]\n",
    "    side = parts[1]\n",
    "    adjs = set()\n",
    "    if pole in poles_of_interest: \n",
    "        idx_list = word_rep_key[key]\n",
    "        for item in idx_list: \n",
    "            adjs.add(item[1])\n",
    "        print(key, adjs)\n",
    "        print()"
   ]
  },
  {
   "cell_type": "code",
   "execution_count": 56,
   "id": "1d67d8db",
   "metadata": {},
   "outputs": [],
   "source": [
    "df = pd.read_csv(LOGS + 'semantics_mano/results/specific_scores.csv', index_col=0)"
   ]
  },
  {
   "cell_type": "code",
   "execution_count": 57,
   "id": "91014cb4",
   "metadata": {},
   "outputs": [
    {
     "data": {
      "text/html": [
       "<div>\n",
       "<style scoped>\n",
       "    .dataframe tbody tr th:only-of-type {\n",
       "        vertical-align: middle;\n",
       "    }\n",
       "\n",
       "    .dataframe tbody tr th {\n",
       "        vertical-align: top;\n",
       "    }\n",
       "\n",
       "    .dataframe thead th {\n",
       "        text-align: right;\n",
       "    }\n",
       "</style>\n",
       "<table border=\"1\" class=\"dataframe\">\n",
       "  <thead>\n",
       "    <tr style=\"text-align: right;\">\n",
       "      <th></th>\n",
       "      <th>word</th>\n",
       "      <th>year</th>\n",
       "      <th>cosine similarity</th>\n",
       "      <th>axis</th>\n",
       "    </tr>\n",
       "  </thead>\n",
       "  <tbody>\n",
       "    <tr>\n",
       "      <th>0</th>\n",
       "      <td>0 friends</td>\n",
       "      <td>2011</td>\n",
       "      <td>-0.131684</td>\n",
       "      <td>attractive.a.01</td>\n",
       "    </tr>\n",
       "    <tr>\n",
       "      <th>1</th>\n",
       "      <td>0 friends</td>\n",
       "      <td>2012</td>\n",
       "      <td>-0.094343</td>\n",
       "      <td>attractive.a.01</td>\n",
       "    </tr>\n",
       "    <tr>\n",
       "      <th>2</th>\n",
       "      <td>0 friends</td>\n",
       "      <td>2013</td>\n",
       "      <td>-0.120177</td>\n",
       "      <td>attractive.a.01</td>\n",
       "    </tr>\n",
       "    <tr>\n",
       "      <th>3</th>\n",
       "      <td>0 friends</td>\n",
       "      <td>2014</td>\n",
       "      <td>-0.121840</td>\n",
       "      <td>attractive.a.01</td>\n",
       "    </tr>\n",
       "    <tr>\n",
       "      <th>4</th>\n",
       "      <td>0 friends</td>\n",
       "      <td>2015</td>\n",
       "      <td>-0.125060</td>\n",
       "      <td>attractive.a.01</td>\n",
       "    </tr>\n",
       "    <tr>\n",
       "      <th>...</th>\n",
       "      <td>...</td>\n",
       "      <td>...</td>\n",
       "      <td>...</td>\n",
       "      <td>...</td>\n",
       "    </tr>\n",
       "    <tr>\n",
       "      <th>692925</th>\n",
       "      <td>zombies</td>\n",
       "      <td>2015</td>\n",
       "      <td>-0.218082</td>\n",
       "      <td>prejudiced.a.02</td>\n",
       "    </tr>\n",
       "    <tr>\n",
       "      <th>692926</th>\n",
       "      <td>zombies</td>\n",
       "      <td>2016</td>\n",
       "      <td>-0.211253</td>\n",
       "      <td>prejudiced.a.02</td>\n",
       "    </tr>\n",
       "    <tr>\n",
       "      <th>692927</th>\n",
       "      <td>zombies</td>\n",
       "      <td>2017</td>\n",
       "      <td>-0.157223</td>\n",
       "      <td>prejudiced.a.02</td>\n",
       "    </tr>\n",
       "    <tr>\n",
       "      <th>692928</th>\n",
       "      <td>zombies</td>\n",
       "      <td>2018</td>\n",
       "      <td>-0.091992</td>\n",
       "      <td>prejudiced.a.02</td>\n",
       "    </tr>\n",
       "    <tr>\n",
       "      <th>692929</th>\n",
       "      <td>zombies</td>\n",
       "      <td>2019</td>\n",
       "      <td>-0.050869</td>\n",
       "      <td>prejudiced.a.02</td>\n",
       "    </tr>\n",
       "  </tbody>\n",
       "</table>\n",
       "<p>692930 rows × 4 columns</p>\n",
       "</div>"
      ],
      "text/plain": [
       "             word  year  cosine similarity             axis\n",
       "0       0 friends  2011          -0.131684  attractive.a.01\n",
       "1       0 friends  2012          -0.094343  attractive.a.01\n",
       "2       0 friends  2013          -0.120177  attractive.a.01\n",
       "3       0 friends  2014          -0.121840  attractive.a.01\n",
       "4       0 friends  2015          -0.125060  attractive.a.01\n",
       "...           ...   ...                ...              ...\n",
       "692925    zombies  2015          -0.218082  prejudiced.a.02\n",
       "692926    zombies  2016          -0.211253  prejudiced.a.02\n",
       "692927    zombies  2017          -0.157223  prejudiced.a.02\n",
       "692928    zombies  2018          -0.091992  prejudiced.a.02\n",
       "692929    zombies  2019          -0.050869  prejudiced.a.02\n",
       "\n",
       "[692930 rows x 4 columns]"
      ]
     },
     "execution_count": 57,
     "metadata": {},
     "output_type": "execute_result"
    }
   ],
   "source": [
    "df"
   ]
  },
  {
   "cell_type": "code",
   "execution_count": 92,
   "id": "0ed21958",
   "metadata": {},
   "outputs": [
    {
     "data": {
      "text/plain": [
       "Counter({'2017': 4542508,\n",
       "         '2015': 3357518,\n",
       "         '2014': 2756047,\n",
       "         '2016': 3119766,\n",
       "         '2013': 2255214,\n",
       "         '2019': 3893416,\n",
       "         '2012': 1921556,\n",
       "         '2018': 6703033,\n",
       "         '2010': 1175103,\n",
       "         '2011': 1424266,\n",
       "         '2009': 958820,\n",
       "         'None': 8354,\n",
       "         '2008': 913910,\n",
       "         '2007': 650128,\n",
       "         '2006': 592316,\n",
       "         '2005': 18364,\n",
       "         '1970': 11})"
      ]
     },
     "execution_count": 92,
     "metadata": {},
     "output_type": "execute_result"
    }
   ],
   "source": [
    "year_total"
   ]
  },
  {
   "cell_type": "code",
   "execution_count": 113,
   "id": "0a7b5bed",
   "metadata": {},
   "outputs": [
    {
     "data": {
      "text/html": [
       "<div>\n",
       "<style scoped>\n",
       "    .dataframe tbody tr th:only-of-type {\n",
       "        vertical-align: middle;\n",
       "    }\n",
       "\n",
       "    .dataframe tbody tr th {\n",
       "        vertical-align: top;\n",
       "    }\n",
       "\n",
       "    .dataframe thead th {\n",
       "        text-align: right;\n",
       "    }\n",
       "</style>\n",
       "<table border=\"1\" class=\"dataframe\">\n",
       "  <thead>\n",
       "    <tr style=\"text-align: right;\">\n",
       "      <th></th>\n",
       "      <th>word</th>\n",
       "      <th>year</th>\n",
       "      <th>cosine_similarity</th>\n",
       "      <th>axis</th>\n",
       "      <th>word_year</th>\n",
       "      <th>weight</th>\n",
       "      <th>cosine_and_weight</th>\n",
       "      <th>year_total</th>\n",
       "    </tr>\n",
       "  </thead>\n",
       "  <tbody>\n",
       "    <tr>\n",
       "      <th>0</th>\n",
       "      <td>0 friends</td>\n",
       "      <td>2011</td>\n",
       "      <td>-0.131684</td>\n",
       "      <td>attractive.a.01</td>\n",
       "      <td>0 friends_2011</td>\n",
       "      <td>11</td>\n",
       "      <td>(-0.1316839568967145, 11, 1424266)</td>\n",
       "      <td>1424266</td>\n",
       "    </tr>\n",
       "    <tr>\n",
       "      <th>1</th>\n",
       "      <td>0 friends</td>\n",
       "      <td>2012</td>\n",
       "      <td>-0.094343</td>\n",
       "      <td>attractive.a.01</td>\n",
       "      <td>0 friends_2012</td>\n",
       "      <td>22</td>\n",
       "      <td>(-0.0943429922726944, 22, 1921556)</td>\n",
       "      <td>1921556</td>\n",
       "    </tr>\n",
       "    <tr>\n",
       "      <th>2</th>\n",
       "      <td>0 friends</td>\n",
       "      <td>2013</td>\n",
       "      <td>-0.120177</td>\n",
       "      <td>attractive.a.01</td>\n",
       "      <td>0 friends_2013</td>\n",
       "      <td>20</td>\n",
       "      <td>(-0.1201773517688611, 20, 2255214)</td>\n",
       "      <td>2255214</td>\n",
       "    </tr>\n",
       "    <tr>\n",
       "      <th>3</th>\n",
       "      <td>0 friends</td>\n",
       "      <td>2014</td>\n",
       "      <td>-0.121840</td>\n",
       "      <td>attractive.a.01</td>\n",
       "      <td>0 friends_2014</td>\n",
       "      <td>48</td>\n",
       "      <td>(-0.1218398565938156, 48, 2756047)</td>\n",
       "      <td>2756047</td>\n",
       "    </tr>\n",
       "    <tr>\n",
       "      <th>4</th>\n",
       "      <td>0 friends</td>\n",
       "      <td>2015</td>\n",
       "      <td>-0.125060</td>\n",
       "      <td>attractive.a.01</td>\n",
       "      <td>0 friends_2015</td>\n",
       "      <td>81</td>\n",
       "      <td>(-0.1250603156319957, 81, 3357518)</td>\n",
       "      <td>3357518</td>\n",
       "    </tr>\n",
       "    <tr>\n",
       "      <th>...</th>\n",
       "      <td>...</td>\n",
       "      <td>...</td>\n",
       "      <td>...</td>\n",
       "      <td>...</td>\n",
       "      <td>...</td>\n",
       "      <td>...</td>\n",
       "      <td>...</td>\n",
       "      <td>...</td>\n",
       "    </tr>\n",
       "    <tr>\n",
       "      <th>692925</th>\n",
       "      <td>zombies</td>\n",
       "      <td>2015</td>\n",
       "      <td>-0.218082</td>\n",
       "      <td>prejudiced.a.02</td>\n",
       "      <td>zombies_2015</td>\n",
       "      <td>411</td>\n",
       "      <td>(-0.2180822800076584, 411, 3357518)</td>\n",
       "      <td>3357518</td>\n",
       "    </tr>\n",
       "    <tr>\n",
       "      <th>692926</th>\n",
       "      <td>zombies</td>\n",
       "      <td>2016</td>\n",
       "      <td>-0.211253</td>\n",
       "      <td>prejudiced.a.02</td>\n",
       "      <td>zombies_2016</td>\n",
       "      <td>462</td>\n",
       "      <td>(-0.2112529911772137, 462, 3119766)</td>\n",
       "      <td>3119766</td>\n",
       "    </tr>\n",
       "    <tr>\n",
       "      <th>692927</th>\n",
       "      <td>zombies</td>\n",
       "      <td>2017</td>\n",
       "      <td>-0.157223</td>\n",
       "      <td>prejudiced.a.02</td>\n",
       "      <td>zombies_2017</td>\n",
       "      <td>561</td>\n",
       "      <td>(-0.157222732501829, 561, 4542508)</td>\n",
       "      <td>4542508</td>\n",
       "    </tr>\n",
       "    <tr>\n",
       "      <th>692928</th>\n",
       "      <td>zombies</td>\n",
       "      <td>2018</td>\n",
       "      <td>-0.091992</td>\n",
       "      <td>prejudiced.a.02</td>\n",
       "      <td>zombies_2018</td>\n",
       "      <td>649</td>\n",
       "      <td>(-0.0919918759485654, 649, 6703033)</td>\n",
       "      <td>6703033</td>\n",
       "    </tr>\n",
       "    <tr>\n",
       "      <th>692929</th>\n",
       "      <td>zombies</td>\n",
       "      <td>2019</td>\n",
       "      <td>-0.050869</td>\n",
       "      <td>prejudiced.a.02</td>\n",
       "      <td>zombies_2019</td>\n",
       "      <td>362</td>\n",
       "      <td>(-0.0508686898240095, 362, 3893416)</td>\n",
       "      <td>3893416</td>\n",
       "    </tr>\n",
       "  </tbody>\n",
       "</table>\n",
       "<p>692930 rows × 8 columns</p>\n",
       "</div>"
      ],
      "text/plain": [
       "             word  year  cosine_similarity             axis       word_year  \\\n",
       "0       0 friends  2011          -0.131684  attractive.a.01  0 friends_2011   \n",
       "1       0 friends  2012          -0.094343  attractive.a.01  0 friends_2012   \n",
       "2       0 friends  2013          -0.120177  attractive.a.01  0 friends_2013   \n",
       "3       0 friends  2014          -0.121840  attractive.a.01  0 friends_2014   \n",
       "4       0 friends  2015          -0.125060  attractive.a.01  0 friends_2015   \n",
       "...           ...   ...                ...              ...             ...   \n",
       "692925    zombies  2015          -0.218082  prejudiced.a.02    zombies_2015   \n",
       "692926    zombies  2016          -0.211253  prejudiced.a.02    zombies_2016   \n",
       "692927    zombies  2017          -0.157223  prejudiced.a.02    zombies_2017   \n",
       "692928    zombies  2018          -0.091992  prejudiced.a.02    zombies_2018   \n",
       "692929    zombies  2019          -0.050869  prejudiced.a.02    zombies_2019   \n",
       "\n",
       "        weight                    cosine_and_weight  year_total  \n",
       "0           11   (-0.1316839568967145, 11, 1424266)     1424266  \n",
       "1           22   (-0.0943429922726944, 22, 1921556)     1921556  \n",
       "2           20   (-0.1201773517688611, 20, 2255214)     2255214  \n",
       "3           48   (-0.1218398565938156, 48, 2756047)     2756047  \n",
       "4           81   (-0.1250603156319957, 81, 3357518)     3357518  \n",
       "...        ...                                  ...         ...  \n",
       "692925     411  (-0.2180822800076584, 411, 3357518)     3357518  \n",
       "692926     462  (-0.2112529911772137, 462, 3119766)     3119766  \n",
       "692927     561   (-0.157222732501829, 561, 4542508)     4542508  \n",
       "692928     649  (-0.0919918759485654, 649, 6703033)     6703033  \n",
       "692929     362  (-0.0508686898240095, 362, 3893416)     3893416  \n",
       "\n",
       "[692930 rows x 8 columns]"
      ]
     },
     "execution_count": 113,
     "metadata": {},
     "output_type": "execute_result"
    }
   ],
   "source": [
    "def weighted_mean(x):\n",
    "    return x[0]\n",
    "df.columns = [c.replace(' ', '_') for c in df.columns]\n",
    "df['word_year'] = df['word'] + '_' + df['year'].map(str)\n",
    "df['weight'] = df['word_year'].apply(lambda x: year_vocab_count[x])\n",
    "df['year_total'] = df['year'].apply(lambda x: year_total[str(x)])\n",
    "df[\"cosine_and_weight\"] = list(zip(df.cosine_similarity, df.weight, df.year_total))\n",
    "df"
   ]
  },
  {
   "cell_type": "code",
   "execution_count": 88,
   "id": "101b5e8f",
   "metadata": {},
   "outputs": [],
   "source": [
    "attractive_df = df[df['axis'].isin(attractive_poles)]\n",
    "intelligence_df = df[df['axis'].isin(intelligence_poles)]\n",
    "age_df = df[df['axis'].isin(age_poles)]\n",
    "pole_title_map = {\n",
    "    'prejudiced.a.02': 'discriminatory', \n",
    "    'heavy.a.04': 'distressful',\n",
    "    'clean.a.01': 'clean',\n",
    "}\n",
    "other_df = []\n",
    "for pole in other_poles: \n",
    "    this_df = df[df['axis'] == pole]\n",
    "    other_df.append((this_df, pole))"
   ]
  },
  {
   "cell_type": "code",
   "execution_count": 114,
   "id": "0420c1fb",
   "metadata": {},
   "outputs": [
    {
     "ename": "TypeError",
     "evalue": "Invalid object type at position 0",
     "output_type": "error",
     "traceback": [
      "\u001b[0;31m---------------------------------------------------------------------------\u001b[0m",
      "\u001b[0;31mTypeError\u001b[0m                                 Traceback (most recent call last)",
      "\u001b[0;32m~/anaconda2/envs/textbook/lib/python3.7/site-packages/pandas/_libs/lib.pyx\u001b[0m in \u001b[0;36mpandas._libs.lib.maybe_convert_numeric\u001b[0;34m()\u001b[0m\n",
      "\u001b[0;31mTypeError\u001b[0m: Invalid object type",
      "\nDuring handling of the above exception, another exception occurred:\n",
      "\u001b[0;31mTypeError\u001b[0m                                 Traceback (most recent call last)",
      "\u001b[0;32m/tmp/ipykernel_31477/3735152536.py\u001b[0m in \u001b[0;36m<module>\u001b[0;34m\u001b[0m\n\u001b[0;32m----> 1\u001b[0;31m \u001b[0mg\u001b[0m \u001b[0;34m=\u001b[0m \u001b[0msns\u001b[0m\u001b[0;34m.\u001b[0m\u001b[0mlineplot\u001b[0m\u001b[0;34m(\u001b[0m\u001b[0mdata\u001b[0m\u001b[0;34m=\u001b[0m\u001b[0mattractive_df\u001b[0m\u001b[0;34m,\u001b[0m \u001b[0mx\u001b[0m\u001b[0;34m=\u001b[0m\u001b[0;34m\"year\"\u001b[0m\u001b[0;34m,\u001b[0m \u001b[0my\u001b[0m\u001b[0;34m=\u001b[0m\u001b[0;34m\"cosine_and_weight\"\u001b[0m\u001b[0;34m,\u001b[0m \u001b[0mhue\u001b[0m\u001b[0;34m=\u001b[0m\u001b[0;34m'axis'\u001b[0m\u001b[0;34m,\u001b[0m \u001b[0mci\u001b[0m\u001b[0;34m=\u001b[0m\u001b[0;32mNone\u001b[0m\u001b[0;34m,\u001b[0m \u001b[0mestimator\u001b[0m\u001b[0;34m=\u001b[0m\u001b[0mweighted_mean\u001b[0m\u001b[0;34m)\u001b[0m\u001b[0;34m\u001b[0m\u001b[0;34m\u001b[0m\u001b[0m\n\u001b[0m\u001b[1;32m      2\u001b[0m \u001b[0mg\u001b[0m\u001b[0;34m.\u001b[0m\u001b[0mset_axis_labels\u001b[0m\u001b[0;34m(\u001b[0m\u001b[0;34m\"year\"\u001b[0m\u001b[0;34m,\u001b[0m \u001b[0;34m\"cosine similarity\"\u001b[0m\u001b[0;34m)\u001b[0m\u001b[0;34m\u001b[0m\u001b[0;34m\u001b[0m\u001b[0m\n\u001b[1;32m      3\u001b[0m \u001b[0mplt\u001b[0m\u001b[0;34m.\u001b[0m\u001b[0mshow\u001b[0m\u001b[0;34m(\u001b[0m\u001b[0;34m)\u001b[0m\u001b[0;34m\u001b[0m\u001b[0;34m\u001b[0m\u001b[0m\n",
      "\u001b[0;32m~/anaconda2/envs/textbook/lib/python3.7/site-packages/seaborn/_decorators.py\u001b[0m in \u001b[0;36minner_f\u001b[0;34m(*args, **kwargs)\u001b[0m\n\u001b[1;32m     44\u001b[0m             )\n\u001b[1;32m     45\u001b[0m         \u001b[0mkwargs\u001b[0m\u001b[0;34m.\u001b[0m\u001b[0mupdate\u001b[0m\u001b[0;34m(\u001b[0m\u001b[0;34m{\u001b[0m\u001b[0mk\u001b[0m\u001b[0;34m:\u001b[0m \u001b[0marg\u001b[0m \u001b[0;32mfor\u001b[0m \u001b[0mk\u001b[0m\u001b[0;34m,\u001b[0m \u001b[0marg\u001b[0m \u001b[0;32min\u001b[0m \u001b[0mzip\u001b[0m\u001b[0;34m(\u001b[0m\u001b[0msig\u001b[0m\u001b[0;34m.\u001b[0m\u001b[0mparameters\u001b[0m\u001b[0;34m,\u001b[0m \u001b[0margs\u001b[0m\u001b[0;34m)\u001b[0m\u001b[0;34m}\u001b[0m\u001b[0;34m)\u001b[0m\u001b[0;34m\u001b[0m\u001b[0;34m\u001b[0m\u001b[0m\n\u001b[0;32m---> 46\u001b[0;31m         \u001b[0;32mreturn\u001b[0m \u001b[0mf\u001b[0m\u001b[0;34m(\u001b[0m\u001b[0;34m**\u001b[0m\u001b[0mkwargs\u001b[0m\u001b[0;34m)\u001b[0m\u001b[0;34m\u001b[0m\u001b[0;34m\u001b[0m\u001b[0m\n\u001b[0m\u001b[1;32m     47\u001b[0m     \u001b[0;32mreturn\u001b[0m \u001b[0minner_f\u001b[0m\u001b[0;34m\u001b[0m\u001b[0;34m\u001b[0m\u001b[0m\n\u001b[1;32m     48\u001b[0m \u001b[0;34m\u001b[0m\u001b[0m\n",
      "\u001b[0;32m~/anaconda2/envs/textbook/lib/python3.7/site-packages/seaborn/relational.py\u001b[0m in \u001b[0;36mlineplot\u001b[0;34m(x, y, hue, size, style, data, palette, hue_order, hue_norm, sizes, size_order, size_norm, dashes, markers, style_order, units, estimator, ci, n_boot, seed, sort, err_style, err_kws, legend, ax, **kwargs)\u001b[0m\n\u001b[1;32m    708\u001b[0m     \u001b[0mp\u001b[0m\u001b[0;34m.\u001b[0m\u001b[0m_attach\u001b[0m\u001b[0;34m(\u001b[0m\u001b[0max\u001b[0m\u001b[0;34m)\u001b[0m\u001b[0;34m\u001b[0m\u001b[0;34m\u001b[0m\u001b[0m\n\u001b[1;32m    709\u001b[0m \u001b[0;34m\u001b[0m\u001b[0m\n\u001b[0;32m--> 710\u001b[0;31m     \u001b[0mp\u001b[0m\u001b[0;34m.\u001b[0m\u001b[0mplot\u001b[0m\u001b[0;34m(\u001b[0m\u001b[0max\u001b[0m\u001b[0;34m,\u001b[0m \u001b[0mkwargs\u001b[0m\u001b[0;34m)\u001b[0m\u001b[0;34m\u001b[0m\u001b[0;34m\u001b[0m\u001b[0m\n\u001b[0m\u001b[1;32m    711\u001b[0m     \u001b[0;32mreturn\u001b[0m \u001b[0max\u001b[0m\u001b[0;34m\u001b[0m\u001b[0;34m\u001b[0m\u001b[0m\n\u001b[1;32m    712\u001b[0m \u001b[0;34m\u001b[0m\u001b[0m\n",
      "\u001b[0;32m~/anaconda2/envs/textbook/lib/python3.7/site-packages/seaborn/relational.py\u001b[0m in \u001b[0;36mplot\u001b[0;34m(self, ax, kws)\u001b[0m\n\u001b[1;32m    469\u001b[0m         \u001b[0;31m# Loop over the semantic subsets and add to the plot\u001b[0m\u001b[0;34m\u001b[0m\u001b[0;34m\u001b[0m\u001b[0;34m\u001b[0m\u001b[0m\n\u001b[1;32m    470\u001b[0m         \u001b[0mgrouping_vars\u001b[0m \u001b[0;34m=\u001b[0m \u001b[0;34m\"hue\"\u001b[0m\u001b[0;34m,\u001b[0m \u001b[0;34m\"size\"\u001b[0m\u001b[0;34m,\u001b[0m \u001b[0;34m\"style\"\u001b[0m\u001b[0;34m\u001b[0m\u001b[0;34m\u001b[0m\u001b[0m\n\u001b[0;32m--> 471\u001b[0;31m         \u001b[0;32mfor\u001b[0m \u001b[0msub_vars\u001b[0m\u001b[0;34m,\u001b[0m \u001b[0msub_data\u001b[0m \u001b[0;32min\u001b[0m \u001b[0mself\u001b[0m\u001b[0;34m.\u001b[0m\u001b[0miter_data\u001b[0m\u001b[0;34m(\u001b[0m\u001b[0mgrouping_vars\u001b[0m\u001b[0;34m,\u001b[0m \u001b[0mfrom_comp_data\u001b[0m\u001b[0;34m=\u001b[0m\u001b[0;32mTrue\u001b[0m\u001b[0;34m)\u001b[0m\u001b[0;34m:\u001b[0m\u001b[0;34m\u001b[0m\u001b[0;34m\u001b[0m\u001b[0m\n\u001b[0m\u001b[1;32m    472\u001b[0m \u001b[0;34m\u001b[0m\u001b[0m\n\u001b[1;32m    473\u001b[0m             \u001b[0;32mif\u001b[0m \u001b[0mself\u001b[0m\u001b[0;34m.\u001b[0m\u001b[0msort\u001b[0m\u001b[0;34m:\u001b[0m\u001b[0;34m\u001b[0m\u001b[0;34m\u001b[0m\u001b[0m\n",
      "\u001b[0;32m~/anaconda2/envs/textbook/lib/python3.7/site-packages/seaborn/_core.py\u001b[0m in \u001b[0;36miter_data\u001b[0;34m(self, grouping_vars, reverse, from_comp_data)\u001b[0m\n\u001b[1;32m    981\u001b[0m \u001b[0;34m\u001b[0m\u001b[0m\n\u001b[1;32m    982\u001b[0m         \u001b[0;32mif\u001b[0m \u001b[0mfrom_comp_data\u001b[0m\u001b[0;34m:\u001b[0m\u001b[0;34m\u001b[0m\u001b[0;34m\u001b[0m\u001b[0m\n\u001b[0;32m--> 983\u001b[0;31m             \u001b[0mdata\u001b[0m \u001b[0;34m=\u001b[0m \u001b[0mself\u001b[0m\u001b[0;34m.\u001b[0m\u001b[0mcomp_data\u001b[0m\u001b[0;34m\u001b[0m\u001b[0;34m\u001b[0m\u001b[0m\n\u001b[0m\u001b[1;32m    984\u001b[0m         \u001b[0;32melse\u001b[0m\u001b[0;34m:\u001b[0m\u001b[0;34m\u001b[0m\u001b[0;34m\u001b[0m\u001b[0m\n\u001b[1;32m    985\u001b[0m             \u001b[0mdata\u001b[0m \u001b[0;34m=\u001b[0m \u001b[0mself\u001b[0m\u001b[0;34m.\u001b[0m\u001b[0mplot_data\u001b[0m\u001b[0;34m\u001b[0m\u001b[0;34m\u001b[0m\u001b[0m\n",
      "\u001b[0;32m~/anaconda2/envs/textbook/lib/python3.7/site-packages/seaborn/_core.py\u001b[0m in \u001b[0;36mcomp_data\u001b[0;34m(self)\u001b[0m\n\u001b[1;32m   1055\u001b[0m                     \u001b[0morig\u001b[0m \u001b[0;34m=\u001b[0m \u001b[0mself\u001b[0m\u001b[0;34m.\u001b[0m\u001b[0mplot_data\u001b[0m\u001b[0;34m[\u001b[0m\u001b[0mvar\u001b[0m\u001b[0;34m]\u001b[0m\u001b[0;34m.\u001b[0m\u001b[0mdropna\u001b[0m\u001b[0;34m(\u001b[0m\u001b[0;34m)\u001b[0m\u001b[0;34m\u001b[0m\u001b[0;34m\u001b[0m\u001b[0m\n\u001b[1;32m   1056\u001b[0m                 \u001b[0mcomp_col\u001b[0m \u001b[0;34m=\u001b[0m \u001b[0mpd\u001b[0m\u001b[0;34m.\u001b[0m\u001b[0mSeries\u001b[0m\u001b[0;34m(\u001b[0m\u001b[0mindex\u001b[0m\u001b[0;34m=\u001b[0m\u001b[0morig\u001b[0m\u001b[0;34m.\u001b[0m\u001b[0mindex\u001b[0m\u001b[0;34m,\u001b[0m \u001b[0mdtype\u001b[0m\u001b[0;34m=\u001b[0m\u001b[0mfloat\u001b[0m\u001b[0;34m,\u001b[0m \u001b[0mname\u001b[0m\u001b[0;34m=\u001b[0m\u001b[0mvar\u001b[0m\u001b[0;34m)\u001b[0m\u001b[0;34m\u001b[0m\u001b[0;34m\u001b[0m\u001b[0m\n\u001b[0;32m-> 1057\u001b[0;31m                 \u001b[0mcomp_col\u001b[0m\u001b[0;34m.\u001b[0m\u001b[0mloc\u001b[0m\u001b[0;34m[\u001b[0m\u001b[0morig\u001b[0m\u001b[0;34m.\u001b[0m\u001b[0mindex\u001b[0m\u001b[0;34m]\u001b[0m \u001b[0;34m=\u001b[0m \u001b[0mpd\u001b[0m\u001b[0;34m.\u001b[0m\u001b[0mto_numeric\u001b[0m\u001b[0;34m(\u001b[0m\u001b[0maxis\u001b[0m\u001b[0;34m.\u001b[0m\u001b[0mconvert_units\u001b[0m\u001b[0;34m(\u001b[0m\u001b[0morig\u001b[0m\u001b[0;34m)\u001b[0m\u001b[0;34m)\u001b[0m\u001b[0;34m\u001b[0m\u001b[0;34m\u001b[0m\u001b[0m\n\u001b[0m\u001b[1;32m   1058\u001b[0m \u001b[0;34m\u001b[0m\u001b[0m\n\u001b[1;32m   1059\u001b[0m                 \u001b[0;32mif\u001b[0m \u001b[0maxis\u001b[0m\u001b[0;34m.\u001b[0m\u001b[0mget_scale\u001b[0m\u001b[0;34m(\u001b[0m\u001b[0;34m)\u001b[0m \u001b[0;34m==\u001b[0m \u001b[0;34m\"log\"\u001b[0m\u001b[0;34m:\u001b[0m\u001b[0;34m\u001b[0m\u001b[0;34m\u001b[0m\u001b[0m\n",
      "\u001b[0;32m~/anaconda2/envs/textbook/lib/python3.7/site-packages/pandas/core/tools/numeric.py\u001b[0m in \u001b[0;36mto_numeric\u001b[0;34m(arg, errors, downcast)\u001b[0m\n\u001b[1;32m    182\u001b[0m         \u001b[0;32mtry\u001b[0m\u001b[0;34m:\u001b[0m\u001b[0;34m\u001b[0m\u001b[0;34m\u001b[0m\u001b[0m\n\u001b[1;32m    183\u001b[0m             values, _ = lib.maybe_convert_numeric(\n\u001b[0;32m--> 184\u001b[0;31m                 \u001b[0mvalues\u001b[0m\u001b[0;34m,\u001b[0m \u001b[0mset\u001b[0m\u001b[0;34m(\u001b[0m\u001b[0;34m)\u001b[0m\u001b[0;34m,\u001b[0m \u001b[0mcoerce_numeric\u001b[0m\u001b[0;34m=\u001b[0m\u001b[0mcoerce_numeric\u001b[0m\u001b[0;34m\u001b[0m\u001b[0;34m\u001b[0m\u001b[0m\n\u001b[0m\u001b[1;32m    185\u001b[0m             )\n\u001b[1;32m    186\u001b[0m         \u001b[0;32mexcept\u001b[0m \u001b[0;34m(\u001b[0m\u001b[0mValueError\u001b[0m\u001b[0;34m,\u001b[0m \u001b[0mTypeError\u001b[0m\u001b[0;34m)\u001b[0m\u001b[0;34m:\u001b[0m\u001b[0;34m\u001b[0m\u001b[0;34m\u001b[0m\u001b[0m\n",
      "\u001b[0;32m~/anaconda2/envs/textbook/lib/python3.7/site-packages/pandas/_libs/lib.pyx\u001b[0m in \u001b[0;36mpandas._libs.lib.maybe_convert_numeric\u001b[0;34m()\u001b[0m\n",
      "\u001b[0;31mTypeError\u001b[0m: Invalid object type at position 0"
     ]
    },
    {
     "data": {
      "image/png": "[encoded data removed]",
      "text/plain": [
       "<Figure size 432x288 with 1 Axes>"
      ]
     },
     "metadata": {
      "needs_background": "light"
     },
     "output_type": "display_data"
    }
   ],
   "source": [
    "g = sns.lineplot(data=attractive_df, x=\"year\", y=\"cosine_and_weight\", hue='axis', ci=None, estimator=weighted_mean)\n",
    "g.set_axis_labels(\"year\", \"cosine similarity\")\n",
    "plt.show()"
   ]
  },
  {
   "cell_type": "code",
   "execution_count": 66,
   "id": "ad4308ca",
   "metadata": {},
   "outputs": [
    {
     "data": {
      "image/png": "[encoded data removed]",
      "text/plain": [
       "<Figure size 432x288 with 1 Axes>"
      ]
     },
     "metadata": {
      "needs_background": "light"
     },
     "output_type": "display_data"
    }
   ],
   "source": [
    "sns.lineplot(data=intelligence_df, x=\"year\", y=\"cosine similarity\", hue='axis', ci=None)\n",
    "plt.show()"
   ]
  },
  {
   "cell_type": "code",
   "execution_count": 67,
   "id": "281ac988",
   "metadata": {},
   "outputs": [
    {
     "data": {
      "image/png": "[encoded data removed]",
      "text/plain": [
       "<Figure size 432x288 with 1 Axes>"
      ]
     },
     "metadata": {
      "needs_background": "light"
     },
     "output_type": "display_data"
    }
   ],
   "source": [
    "sns.lineplot(data=age_df, x=\"year\", y=\"cosine similarity\", hue='axis', ci=None)\n",
    "plt.show()"
   ]
  },
  {
   "cell_type": "code",
   "execution_count": 70,
   "id": "f11bb538",
   "metadata": {},
   "outputs": [
    {
     "data": {
      "image/png": "[encoded data removed]",
      "text/plain": [
       "<Figure size 432x288 with 1 Axes>"
      ]
     },
     "metadata": {
      "needs_background": "light"
     },
     "output_type": "display_data"
    },
    {
     "data": {
      "image/png": "[encoded data removed]",
      "text/plain": [
       "<Figure size 432x288 with 1 Axes>"
      ]
     },
     "metadata": {
      "needs_background": "light"
     },
     "output_type": "display_data"
    },
    {
     "data": {
      "image/png": "[encoded data removed]",
      "text/plain": [
       "<Figure size 432x288 with 1 Axes>"
      ]
     },
     "metadata": {
      "needs_background": "light"
     },
     "output_type": "display_data"
    }
   ],
   "source": [
    "for tup in other_df: \n",
    "    this_df = tup[0]\n",
    "    sns.lineplot(data=this_df, x=\"year\", y=\"cosine similarity\", hue='axis', ci=None)\n",
    "    plt.show()"
   ]
  },
  {
   "cell_type": "code",
   "execution_count": null,
   "id": "2aaa20e2",
   "metadata": {},
   "outputs": [],
   "source": []
  }
 ],
 "metadata": {
  "kernelspec": {
   "display_name": "Python 3 (ipykernel)",
   "language": "python",
   "name": "python3"
  },
  "language_info": {
   "codemirror_mode": {
    "name": "ipython",
    "version": 3
   },
   "file_extension": ".py",
   "mimetype": "text/x-python",
   "name": "python",
   "nbconvert_exporter": "python",
   "pygments_lexer": "ipython3",
   "version": "3.7.12"
  }
 },
 "nbformat": 4,
 "nbformat_minor": 5
}
