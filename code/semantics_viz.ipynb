{
 "cells": [
  {
   "cell_type": "code",
   "execution_count": 352,
   "id": "5ebad7cb",
   "metadata": {},
   "outputs": [],
   "source": [
    "import numpy as np\n",
    "import json\n",
    "from collections import defaultdict, Counter\n",
    "from scipy import spatial, stats\n",
    "import matplotlib.pyplot as plt\n",
    "from sklearn.manifold import TSNE\n",
    "import pandas as pd\n",
    "import seaborn as sns\n",
    "import math"
   ]
  },
  {
   "cell_type": "code",
   "execution_count": 353,
   "id": "5a60eb99",
   "metadata": {},
   "outputs": [],
   "source": [
    "ROOT = '/mnt/data0/lucy/manosphere/'\n",
    "DATA = ROOT + 'data/'\n",
    "GLOVE = DATA + 'glove/'\n",
    "LOGS = ROOT + 'logs/'\n",
    "AGG_EMBED_PATH = LOGS + 'semantics_mano/agg_embed/'"
   ]
  },
  {
   "cell_type": "markdown",
   "id": "dd58196c",
   "metadata": {},
   "source": [
    "## Inspecting individual words\n",
    "\n",
    "Note that the axes in the wrong direction, e.g. all positive values mean the word leans more towards the opposite of the synset name, while move negative means it is more related to the synset name. This is why \"soured\" shows up as a prominent positive axis for \"sweet girl\", etc. "
   ]
  },
  {
   "cell_type": "code",
   "execution_count": 354,
   "id": "8ab5a99f",
   "metadata": {},
   "outputs": [],
   "source": [
    "with open(LOGS + 'semantics_mano/results/scores.json', 'r') as infile: \n",
    "    scores = json.load(infile) \n",
    "\n",
    "vocab_order = []\n",
    "with open(LOGS + 'semantics_mano/results/vocab_order.txt', 'r') as infile:\n",
    "    vocab_order = infile.readlines()\n",
    "\n",
    "with open(LOGS + 'coref_results/mano_gender_labels.json', 'r') as infile: \n",
    "    gender_labels = json.load(infile)"
   ]
  },
  {
   "cell_type": "code",
   "execution_count": 355,
   "id": "712bab50",
   "metadata": {},
   "outputs": [],
   "source": [
    "word_poles = defaultdict(Counter) # {word : {pole : score}}\n",
    "for pole in scores: \n",
    "    s = scores[pole]\n",
    "    for i, term in enumerate(vocab_order): \n",
    "        term = term.strip()\n",
    "        word_poles[term][pole] = s[i]"
   ]
  },
  {
   "cell_type": "code",
   "execution_count": 9,
   "id": "6150aca6",
   "metadata": {},
   "outputs": [
    {
     "name": "stdout",
     "output_type": "stream",
     "text": [
      "[('covered.a.01', 0.25558773434051607), ('clothed.a.01', 0.20460857317052156), ('affected.a.01', 0.19743399192574534), ('busy.a.01', 0.19340250274625598), ('heavy.a.01', 0.1636908153666239), ('mature.a.01', 0.16354657637493), ('androgynous.a.02', 0.15458037457221652), ('delicate.a.01', 0.15350429755099337), ('experienced.a.01', 0.14051773941321305), ('limited.a.01', 0.14049881094011013)]\n",
      "[('thick.a.01', -0.15037315269704593), ('right.a.04', -0.1534961767732639), ('upland.a.01', -0.15577203865108905), ('capitalistic.a.01', -0.16656310684758813), ('reasonable.a.01', -0.17066723676667722), ('enthusiastic.a.01', -0.17872971894421674), ('optimistic.a.01', -0.182795450552113), ('fat.a.01', -0.2067701379119683), ('moral.a.01', -0.2303085749221428), ('assertive.a.01', -0.26428843033663973)]\n"
     ]
    }
   ],
   "source": [
    "print(word_poles['alpha'].most_common()[:10])\n",
    "print(word_poles['alpha'].most_common()[-10:])"
   ]
  },
  {
   "cell_type": "code",
   "execution_count": 10,
   "id": "bc54873e",
   "metadata": {},
   "outputs": [
    {
     "name": "stdout",
     "output_type": "stream",
     "text": [
      "[('clothed.a.01', 0.2302962468802881), ('busy.a.01', 0.22930095475453216), ('covered.a.01', 0.219025675618927), ('heavy.a.01', 0.20749793146852147), ('experienced.a.01', 0.20338786825387173), ('affected.a.01', 0.18867313060161872), ('active.a.03', 0.17924688026636332), ('visible.a.01', 0.17472462286340498), ('heavy.a.04', 0.16004797618931815), ('stressed.a.02', 0.15305906321978352)]\n",
      "[('harmless.a.01', -0.1537984253997058), ('auspicious.a.01', -0.15603754767041586), ('quiet.a.02', -0.15667051373894447), ('capitalistic.a.01', -0.15725929069852884), ('defiant.a.01', -0.16001385997621265), ('assertive.a.01', -0.16640615169659442), ('pleasing.a.01', -0.17419947414924292), ('reasonable.a.01', -0.19200510196082082), ('moral.a.01', -0.19343655301123647), ('optimistic.a.01', -0.20350268094208734)]\n"
     ]
    }
   ],
   "source": [
    "print(word_poles['beta'].most_common()[:10])\n",
    "print(word_poles['beta'].most_common()[-10:])"
   ]
  },
  {
   "cell_type": "code",
   "execution_count": 11,
   "id": "8010c8ef",
   "metadata": {},
   "outputs": [
    {
     "name": "stdout",
     "output_type": "stream",
     "text": [
      "[('visible.a.01', 0.22309017709915227), ('tough.a.01', 0.213360012645474), ('settled.a.02', 0.19296624720667427), ('used.a.01', 0.1857999460473453), ('inclined.a.02', 0.1457751942450308), ('genuine.a.01', 0.144264839289096), ('heavy.a.04', 0.13563279490208444), ('mature.a.01', 0.12739001348117515), ('mindful.a.01', 0.12420469830860567), ('definite.a.01', 0.12353489816582765)]\n",
      "[('enchanted.a.01', -0.1297488955033736), ('smooth.a.01', -0.13000566120988905), ('serviceable.a.01', -0.1453235611522138), ('east.a.01', -0.15217072046089813), ('assertive.a.01', -0.1561224887165856), ('optimistic.a.01', -0.1587276536999621), ('foreign.a.02', -0.16007725646172424), ('blond.a.01', -0.16609265606499185), ('enthusiastic.a.01', -0.17101999786777775), ('vertical.a.01', -0.1960913578840736)]\n"
     ]
    }
   ],
   "source": [
    "print(word_poles['escort'].most_common()[:10])\n",
    "print(word_poles['escort'].most_common()[-10:])"
   ]
  },
  {
   "cell_type": "code",
   "execution_count": 12,
   "id": "aa948386",
   "metadata": {},
   "outputs": [
    {
     "name": "stdout",
     "output_type": "stream",
     "text": [
      "[('stressed.a.02', 0.1642349879986019), ('communicative.a.02', 0.1548538037300795), ('shod.a.01', 0.1543340554310427), ('inclined.a.02', 0.147667724371479), ('used.a.01', 0.11680373567631179), ('nascent.a.01', 0.11622444489836678), ('practical.a.01', 0.11315294289782041), ('clothed.a.01', 0.11043103649144768), ('androgynous.a.02', 0.1101759594250323), ('worthy.a.01', 0.10829729959320025)]\n",
      "[('prejudiced.a.02', -0.11483809209471618), ('refined.a.01', -0.11657568793466172), ('rural.a.01', -0.12230937551930993), ('sincere.a.01', -0.1348905506471321), ('enthusiastic.a.01', -0.14627547671047186), ('pleasing.a.01', -0.1476187306605714), ('vertical.a.01', -0.1505769589603431), ('indulgent.a.01', -0.17271745348962464), ('womanly.a.01', -0.2510947708161832), ('blond.a.01', -0.26228053180066013)]\n"
     ]
    }
   ],
   "source": [
    "print(word_poles['wife'].most_common()[:10])\n",
    "print(word_poles['wife'].most_common()[-10:])"
   ]
  },
  {
   "cell_type": "code",
   "execution_count": 13,
   "id": "b2c58765",
   "metadata": {},
   "outputs": [
    {
     "name": "stdout",
     "output_type": "stream",
     "text": [
      "[('tough.a.01', 0.17081688060138467), ('heavy.a.04', 0.16985555976159045), ('shod.a.01', 0.16921350151419515), ('formal.a.01', 0.16257934295405002), ('rational.a.01', 0.1539584724003656), ('clearheaded.a.01', 0.15095418273110356), ('practical.a.01', 0.14949227852479552), ('used.a.01', 0.13713366262867435), ('functional.a.01', 0.13655726047751593), ('live.a.01', 0.13282821636469758)]\n",
      "[('publicized.a.01', -0.16861678299034474), ('indulgent.a.01', -0.1689884056297398), ('fashionable.a.01', -0.17495802324450085), ('assertive.a.01', -0.1790488263955755), ('blond.a.01', -0.18400036903294198), ('honorable.a.02', -0.19386016991548416), ('capitalistic.a.01', -0.20089025110473818), ('enchanted.a.01', -0.2038839316617339), ('optimistic.a.01', -0.219878418645344), ('enthusiastic.a.01', -0.2702015404193948)]\n"
     ]
    }
   ],
   "source": [
    "print(word_poles['celebrities'].most_common()[:10])\n",
    "print(word_poles['celebrities'].most_common()[-10:])"
   ]
  },
  {
   "cell_type": "code",
   "execution_count": 14,
   "id": "bf230a09",
   "metadata": {},
   "outputs": [
    {
     "name": "stdout",
     "output_type": "stream",
     "text": [
      "[('tough.a.01', 0.1805231952555273), ('present.a.01', 0.16453077107531805), ('modern.a.01', 0.1598416223346724), ('tough.a.03', 0.1524890905554785), ('used.a.01', 0.1516182763602973), ('surface.a.01', 0.1467284602966408), ('androgynous.a.02', 0.14105737420570597), ('shod.a.01', 0.13003690030581358), ('empirical.a.01', 0.12563998245363733), ('settled.a.02', 0.11645714677201925)]\n",
      "[('refined.a.01', -0.15650710977105559), ('moral.a.01', -0.1566110449753308), ('glorious.a.01', -0.15852079714472445), ('assertive.a.01', -0.17072084941067336), ('rhetorical.a.02', -0.1747360461794557), ('honorable.a.02', -0.17498177536861484), ('auspicious.a.01', -0.1800081524016834), ('gracious.a.01', -0.190434756294191), ('pleasing.a.01', -0.19060802410015823), ('noble.a.02', -0.43068912052829506)]\n"
     ]
    }
   ],
   "source": [
    "print(word_poles['princes'].most_common()[:10])\n",
    "print(word_poles['princes'].most_common()[-10:])"
   ]
  },
  {
   "cell_type": "code",
   "execution_count": 15,
   "id": "d0d910f7",
   "metadata": {},
   "outputs": [
    {
     "name": "stdout",
     "output_type": "stream",
     "text": [
      "[('fragrant.a.01', 0.23376121381115872), ('clean.a.01', 0.23125052308491592), ('superior.a.01', 0.22022119417854905), ('educated.a.01', 0.21966800373108855), ('mindful.a.01', 0.2182822500174266), ('busy.a.01', 0.21826220544904631), ('settled.a.02', 0.21495180240785697), ('modest.a.01', 0.21196934804280826), ('careful.a.01', 0.20642503539056628), ('humorous.a.01', 0.20533699336294906)]\n",
      "[('nonproprietary.a.01', -0.12804204739587602), ('wet.a.01', -0.13109088872897956), ('proud.a.01', -0.14986895208471712), ('moral.a.01', -0.1507341828212458), ('simple.a.01', -0.15215763433495405), ('conscious.a.02', -0.15456060351936168), ('prejudiced.a.02', -0.1595962284843616), ('selfish.a.01', -0.2134563069472661), ('ordinary.a.01', -0.23051900162149913), ('fat.a.01', -0.23554981095825875)]\n"
     ]
    }
   ],
   "source": [
    "print(word_poles['normies'].most_common()[:10])\n",
    "print(word_poles['normies'].most_common()[-10:])"
   ]
  },
  {
   "cell_type": "code",
   "execution_count": 16,
   "id": "8392095f",
   "metadata": {},
   "outputs": [
    {
     "name": "stdout",
     "output_type": "stream",
     "text": [
      "[('clean.a.01', 0.2604844388082124), ('serious.a.01', 0.2527842823082931), ('definite.a.01', 0.24164403889662878), ('conventional.a.04', 0.23772145187427085), ('abstemious.a.01', 0.22977715695462214), ('careful.a.01', 0.216644847990057), ('gracious.a.01', 0.21475233326039692), ('cautious.a.01', 0.21308335759125957), ('tasteful.a.01', 0.2048277942128987), ('busy.a.01', 0.20080071600078564)]\n",
      "[('cheerful.a.01', -0.13711930530631397), ('flexible.a.02', -0.13992376426055217), ('quiet.a.01', -0.14082034815067648), ('flexible.a.01', -0.1432322652076855), ('nonproprietary.a.01', -0.1515342433042608), ('changeable.a.02', -0.15319182252356459), ('indulgent.a.01', -0.16091865765036034), ('simple.a.01', -0.17922892126620177), ('proud.a.01', -0.216327865672561), ('fat.a.01', -0.281288708181036)]\n"
     ]
    }
   ],
   "source": [
    "print(word_poles['simps'].most_common()[:10])\n",
    "print(word_poles['simps'].most_common()[-10:])"
   ]
  },
  {
   "cell_type": "code",
   "execution_count": 17,
   "id": "ab70ee11",
   "metadata": {},
   "outputs": [
    {
     "name": "stdout",
     "output_type": "stream",
     "text": [
      "[('used.a.01', 0.2738366691962819), ('clothed.a.01', 0.23937097872188579), ('settled.a.02', 0.2291109180309099), ('genuine.a.01', 0.20774164855996033), ('reputable.a.01', 0.2034176074242275), ('free.a.01', 0.20046270103216252), ('safe.a.01', 0.19728634455816058), ('superior.a.01', 0.18511084056671884), ('visible.a.01', 0.18354977985627313), ('careful.a.01', 0.1824616231531639)]\n",
      "[('assertive.a.01', -0.1599361735706449), ('capitalistic.a.01', -0.16414326236623333), ('tired.a.01', -0.17383875787119737), ('optimistic.a.01', -0.17687235032425183), ('commercial.a.01', -0.18044915161152808), ('corrupt.a.01', -0.18965010845156033), ('womanly.a.01', -0.19693576109523947), ('blond.a.01', -0.1993103340935537), ('indulgent.a.01', -0.21088796861255577), ('prejudiced.a.02', -0.26173099058036536)]\n"
     ]
    }
   ],
   "source": [
    "print(word_poles['prostitute'].most_common()[:10])\n",
    "print(word_poles['prostitute'].most_common()[-10:])"
   ]
  },
  {
   "cell_type": "code",
   "execution_count": 18,
   "id": "f4a1c4c5",
   "metadata": {},
   "outputs": [
    {
     "name": "stdout",
     "output_type": "stream",
     "text": [
      "[('soured.a.01', 0.2993762680324553), ('old.a.01', 0.24585196920696173), ('large.a.01', 0.23454624090201942), ('demanding.a.01', 0.20686306185232417), ('busy.a.01', 0.197643275722586), ('distant.a.02', 0.189853979436521), ('used.a.01', 0.18674327001249796), ('tough.a.03', 0.1843033060276611), ('much.a.01', 0.1842825865919937), ('cursed.a.01', 0.17506098967106104)]\n",
      "[('reasonable.a.01', -0.20029725604609822), ('sympathetic.a.04', -0.20576029865844586), ('exculpatory.a.01', -0.2085969624311667), ('refined.a.01', -0.22853918654971514), ('beautiful.a.01', -0.23545727870178343), ('sincere.a.01', -0.2519843280077457), ('optimistic.a.01', -0.2563437773193954), ('pleasing.a.01', -0.2725066810670002), ('kind.a.01', -0.2763736927813124), ('lovable.a.01', -0.3158886668571521)]\n"
     ]
    }
   ],
   "source": [
    "print(word_poles['sweet girl'].most_common()[:10])\n",
    "print(word_poles['sweet girl'].most_common()[-10:])"
   ]
  },
  {
   "cell_type": "code",
   "execution_count": 19,
   "id": "6c0dd677",
   "metadata": {},
   "outputs": [
    {
     "name": "stdout",
     "output_type": "stream",
     "text": [
      "[('definite.a.01', 0.1942506848860781), ('clean.a.01', 0.1673035189706998), ('improved.a.01', 0.16144572589832623), ('motivated.a.01', 0.152628178859815), ('conventional.a.04', 0.14834912226141417), ('assisted.a.01', 0.14402170982564783), ('gracious.a.01', 0.14375817406252167), ('exempt.a.01', 0.1386175631587233), ('meaningful.a.01', 0.1376077435672449), ('stable.a.01', 0.13545902803716559)]\n",
      "[('strange.a.01', -0.10258656068959875), ('flexible.a.02', -0.10486797902865443), ('satisfactory.a.01', -0.11070000339932176), ('thinkable.a.01', -0.11700241756682321), ('credulous.a.01', -0.12267252067925646), ('fat.a.01', -0.12638101965574716), ('nonproprietary.a.01', -0.12937259858528127), ('old.a.02', -0.13903732562136084), ('same.a.01', -0.15038574864936355), ('distant.a.01', -0.20976531914767527)]\n"
     ]
    }
   ],
   "source": [
    "print(word_poles['thot'].most_common()[:10])\n",
    "print(word_poles['thot'].most_common()[-10:])"
   ]
  },
  {
   "cell_type": "code",
   "execution_count": 20,
   "id": "088414c6",
   "metadata": {},
   "outputs": [
    {
     "name": "stdout",
     "output_type": "stream",
     "text": [
      "[('stressed.a.02', 0.2689686041765973), ('androgynous.a.02', 0.26615011162215274), ('used.a.01', 0.17418508989923898), ('shod.a.01', 0.17415410665801528), ('heavy.a.04', 0.15623034942651035), ('clothed.a.01', 0.14830480731774676), ('worthy.a.01', 0.14272245389365118), ('resolute.a.01', 0.13329823016528006), ('sacred.a.01', 0.13287332282955855), ('protected.a.01', 0.12342149919623766)]\n",
      "[('selfish.a.01', -0.12718445486502283), ('capitalistic.a.01', -0.12951324600671643), ('hot.a.03', -0.1325397538418296), ('graceful.a.01', -0.1355055651284687), ('pleasing.a.01', -0.13815785044580048), ('indulgent.a.01', -0.17790987421169782), ('shapely.a.01', -0.18686821149604158), ('prejudiced.a.02', -0.2406379872123752), ('blond.a.01', -0.32147493747143213), ('womanly.a.01', -0.5140653893774207)]\n"
     ]
    }
   ],
   "source": [
    "print(word_poles['women'].most_common()[:10])\n",
    "print(word_poles['women'].most_common()[-10:])"
   ]
  },
  {
   "cell_type": "markdown",
   "id": "a56edd5e",
   "metadata": {},
   "source": [
    "# Variance within gender"
   ]
  },
  {
   "cell_type": "code",
   "execution_count": 371,
   "id": "ee347392",
   "metadata": {},
   "outputs": [],
   "source": [
    "fem_variance = Counter() # {pole: variance of fem terms}\n",
    "fem_extremes = defaultdict(tuple) # {pole: (top N terms, bottom N terms)}\n",
    "masc_variance = Counter() \n",
    "masc_extremes = defaultdict(tuple)\n",
    "fem_scores = defaultdict(list) # {pole: scores in order of x_words}\n",
    "masc_scores = defaultdict(list) # {pole: scores in order of y_words}\n",
    "N = 3\n",
    "for pole in scores: \n",
    "    s = scores[pole]\n",
    "    x = [] # fem scores\n",
    "    x_words = []\n",
    "    y = [] # masc scores\n",
    "    y_words = []\n",
    "    for i, term in enumerate(vocab_order): \n",
    "        term = term.strip()\n",
    "        if term in gender_labels: \n",
    "            if gender_labels[term] > 0.75: \n",
    "                x.append(s[i])\n",
    "                x_words.append(term)\n",
    "            elif gender_labels[term] < 0.25: \n",
    "                y.append(s[i])\n",
    "                y_words.append(term)\n",
    "    fem_variance[pole] = np.var(x)\n",
    "    indices = np.argpartition(x, -N)[-N:]\n",
    "    topN = [x_words[idx].strip() for idx in indices]\n",
    "    indices = np.argpartition(x, N)[:N]\n",
    "    bottomN = [x_words[idx].strip() for idx in indices]\n",
    "    fem_extremes[pole] = (topN, bottomN, min(x), max(x))\n",
    "    fem_scores[pole] = x\n",
    "    \n",
    "    masc_variance[pole] = np.var(y)\n",
    "    indices = np.argpartition(y, -N)[-N:]\n",
    "    topN = [y_words[idx].strip() for idx in indices]\n",
    "    indices = np.argpartition(y, N)[:N]\n",
    "    bottomN = [y_words[idx].strip() for idx in indices]\n",
    "    masc_extremes[pole] = (topN, bottomN, min(y), max(y))\n",
    "    masc_scores[pole] = y"
   ]
  },
  {
   "cell_type": "code",
   "execution_count": 419,
   "id": "faf4af2b",
   "metadata": {},
   "outputs": [
    {
     "name": "stdout",
     "output_type": "stream",
     "text": [
      "('womanly.a.01', 0.0207367739111438)\n",
      "TOP: ['hambeast', 'tomboys', 'tomboy']\n",
      "BOTTOM: ['female gender', 'feminine women', 'feminine woman']\n",
      "-0.5856429849438389 0.36751912466938597\n",
      "\n",
      "('androgynous.a.02', 0.01048472108047411)\n",
      "TOP: ['white females', 'female', 'females']\n",
      "BOTTOM: ['manipulative bitch', 'nympho', 'noodlewhore']\n",
      "-0.19918680740902128 0.4108695695846027\n",
      "\n",
      "('lovable.a.01', 0.010376138902053338)\n",
      "TOP: ['woman haters', 'women haters', 'degenerate whores']\n",
      "BOTTOM: ['little princess', 'sweet girl', 'beautiful girl']\n",
      "-0.3158886668571521 0.4004010633757613\n",
      "\n",
      "('reputable.a.01', 0.008525157638178259)\n",
      "TOP: ['slut', 'dirty slut', 'sluts']\n",
      "BOTTOM: ['great wife', 'great woman', 'great women']\n",
      "-0.14964813563467744 0.4022180094944489\n",
      "\n",
      "('wholesome.a.01', 0.00843521055871161)\n",
      "TOP: ['evil bitch', 'dirty slut', 'degenerate whores']\n",
      "BOTTOM: ['healthy woman', 'healthy women', 'homemakers']\n",
      "-0.24472081446745786 0.3657217434203625\n",
      "\n",
      "('clean.a.01', 0.007831925252821238)\n",
      "TOP: ['club sluts', 'hambeasts', 'harlots']\n",
      "BOTTOM: ['perfect woman', 'loyal wife', 'healthy woman']\n",
      "-0.12854343965843157 0.3400276884051787\n",
      "\n",
      "('conventional.a.04', 0.007581305991350485)\n",
      "TOP: ['debbie downer', 'sissy', 'fuckbuddy']\n",
      "BOTTOM: ['most women', 'average female', 'female counterparts']\n",
      "-0.19416805965222145 0.3009912181359369\n",
      "\n",
      "('beautiful.a.01', 0.007578161991001737)\n",
      "TOP: ['fat pig', 'female rapist', 'degenerate whores']\n",
      "BOTTOM: ['beautiful wife', 'great girl', 'gorgeous girl']\n",
      "-0.27379093296445667 0.28227535855584\n",
      "\n",
      "('proud.a.01', 0.00705904923835677)\n",
      "TOP: ['zero women', 'few women', 'most females']\n",
      "BOTTOM: ['manipulative bitch', 'harlots', 'harlot']\n",
      "-0.4072820215301625 0.10987524037137289\n",
      "\n",
      "('straight.a.06', 0.006934881650156797)\n",
      "TOP: ['manipulative women', 'degenerate whores', 'manipulative bitch']\n",
      "BOTTOM: ['straight woman', 'muse', 'straight women']\n",
      "-0.14100894371059372 0.35636713845941614\n",
      "\n",
      "('competent.a.01', 0.006926532481046312)\n",
      "TOP: ['harlots', 'degenerate whores', 'unattractive woman']\n",
      "BOTTOM: ['good pussy', 'female judge', 'female lawyer']\n",
      "-0.16084060889425078 0.363279329191092\n",
      "\n",
      "('old.a.01', 0.006892988340014167)\n",
      "TOP: ['young teen', 'toddlers', 'toddler']\n",
      "BOTTOM: ['old ex', 'old hag', 'old hags']\n",
      "-0.1389097417885981 0.5568596093610515\n",
      "\n",
      "('cautious.a.01', 0.00685249614484301)\n",
      "TOP: ['unattractive girl', 'manipulative women', 'harlots']\n",
      "BOTTOM: ['nurses', 'stacy', 'becky']\n",
      "-0.1283407570569997 0.41038705219589544\n",
      "\n",
      "('prejudiced.a.02', 0.0066778274436363454)\n",
      "TOP: ['paralegal', 'chaperone', 'surrogate']\n",
      "BOTTOM: ['women haters', 'female abusers', 'abusive women']\n",
      "-0.40283961695139414 0.11772141205539903\n",
      "\n",
      "('intellectual.a.02', 0.006601855575763878)\n",
      "TOP: ['noodlewhore', 'harlots', 'degenerate whores']\n",
      "BOTTOM: ['intelligent woman', 'interesting women', 'good pussy']\n",
      "-0.1300063433405586 0.3730808596098844\n",
      "\n",
      "('humane.a.02', 0.00653619830347797)\n",
      "TOP: ['dirty whore', 'horrible women', 'degenerate whores']\n",
      "BOTTOM: ['liberal feminists', 'western feminists', 'early feminists']\n",
      "-0.257414534963713 0.27536789460270455\n",
      "\n",
      "('reasonable.a.01', 0.006493671729336511)\n",
      "TOP: ['female abusers', 'accusers', 'degenerate whores']\n",
      "BOTTOM: ['intelligent woman', 'smart girl', 'smart woman']\n",
      "-0.30286646960230007 0.2512111376483978\n",
      "\n",
      "('nice.a.01', 0.006443932426143307)\n",
      "TOP: ['dirty whore', 'degenerate whores', 'dirty slut']\n",
      "BOTTOM: ['nana', 'companions', 'companion']\n",
      "-0.12770267392954726 0.36142299562780256\n",
      "\n",
      "('intended.a.01', 0.006362993461432345)\n",
      "TOP: ['harlots', 'unattractive woman', 'unattractive girl']\n",
      "BOTTOM: ['muse', 'female judges', 'female judge']\n",
      "-0.2068017765253252 0.3581257122996963\n",
      "\n",
      "('good.a.03', 0.006334989818543344)\n",
      "TOP: ['psycho bitch', 'ugly cunt', 'evil bitch']\n",
      "BOTTOM: ['good mom', 'lifeguard', 'homemakers']\n",
      "-0.14094122068187284 0.36238062217576894\n",
      "\n"
     ]
    }
   ],
   "source": [
    "for tup in fem_variance.most_common(20): \n",
    "    print(tup)\n",
    "    pole = tup[0]\n",
    "    topN, bottomN, mi, ma = fem_extremes[pole]\n",
    "    print(\"TOP:\", topN)\n",
    "    print(\"BOTTOM:\", bottomN)\n",
    "    print(mi, ma)\n",
    "    print()"
   ]
  },
  {
   "cell_type": "code",
   "execution_count": 420,
   "id": "0a1f7dcf",
   "metadata": {},
   "outputs": [
    {
     "name": "stdout",
     "output_type": "stream",
     "text": [
      "('androgynous.a.02', 0.012188110400550777)\n",
      "TOP: ['dominant males', 'male', 'males']\n",
      "BOTTOM: ['manipulator', 'hypocrites', 'hypocrite']\n",
      "-0.2604874475023576 0.44170802824635863\n",
      "\n",
      "('womanly.a.01', 0.01105276724502953)\n",
      "TOP: ['wimp', 'wanker', 'goober']\n",
      "BOTTOM: ['feminine men', 'male gender', 'male feminist']\n",
      "-0.5029534793157493 0.29910455279596726\n",
      "\n",
      "('reputable.a.01', 0.009900774126213017)\n",
      "TOP: ['misogynists', 'misogynist', 'wimp']\n",
      "BOTTOM: ['great men', 'great people', 'great leader']\n",
      "-0.22716405597214687 0.3987890193065139\n",
      "\n",
      "('lovable.a.01', 0.009518692849910448)\n",
      "TOP: ['hater', 'traitors', 'haters']\n",
      "BOTTOM: ['little angel', 'sweet guy', 'beautiful man']\n",
      "-0.2916932595371912 0.3965976053049023\n",
      "\n",
      "('wholesome.a.01', 0.00925771584422821)\n",
      "TOP: ['fucking hypocrite', 'buffoon', 'fucking hypocrites']\n",
      "BOTTOM: ['healthy male', 'healthy man', 'healthy men']\n",
      "-0.24359662484688357 0.3695135063377389\n",
      "\n",
      "('intellectual.a.02', 0.00856525720854899)\n",
      "TOP: ['circumcised man', 'hypocrite', 'uncircumcised men']\n",
      "BOTTOM: ['mathematicians', 'good leader', 'good captain']\n",
      "-0.19463256021254127 0.3470383529052146\n",
      "\n",
      "('straight.a.06', 0.008359399909709119)\n",
      "TOP: ['muggers', 'goons', 'crooks']\n",
      "BOTTOM: ['straight male', 'intact men', 'straight males']\n",
      "-0.1379163891211252 0.46113729026326256\n",
      "\n",
      "('cautious.a.01', 0.008325457101418179)\n",
      "TOP: ['cuckolds', 'cuckold', 'unattractive man']\n",
      "BOTTOM: ['prisoner', 'prisoners', 'foreman']\n",
      "-0.18050248197000057 0.424798628009575\n",
      "\n",
      "('clean.a.01', 0.008263384575543091)\n",
      "TOP: ['faggots', 'faggot', 'badboy']\n",
      "BOTTOM: ['intact men', 'true alpha', 'natural alpha']\n",
      "-0.13608913524900607 0.384021668527844\n",
      "\n",
      "('faithful.a.01', 0.008171472597128821)\n",
      "TOP: ['hypocrite', 'misogynists', 'misogynist']\n",
      "BOTTOM: ['strong person', 'strong leader', 'advisors']\n",
      "-0.21864266938934956 0.3974211391720257\n",
      "\n",
      "('old.a.01', 0.00816922294783811)\n",
      "TOP: ['young boy', 'little boy', 'youngster']\n",
      "BOTTOM: ['old boss', 'black knight', 'bald man']\n",
      "-0.19514360263042813 0.5113171177238965\n",
      "\n",
      "('beautiful.a.01', 0.008147372994117505)\n",
      "TOP: ['mass murderers', 'satanist', 'satanists']\n",
      "BOTTOM: ['great guy', 'amazing guy', 'beautiful man']\n",
      "-0.25951401286184117 0.3044481796560223\n",
      "\n",
      "('prejudiced.a.02', 0.008065454137783574)\n",
      "TOP: ['intelligent person', 'attorney general', 'saviour']\n",
      "BOTTOM: ['gay males', 'gay guys', 'gay people']\n",
      "-0.3888753071461612 0.1488056237548509\n",
      "\n",
      "('competent.a.01', 0.00802452003844264)\n",
      "TOP: ['undesirable men', 'misogynists', 'misogynist']\n",
      "BOTTOM: ['specialist', 'mage', 'good alpha']\n",
      "-0.1812152759362137 0.3591657500057476\n",
      "\n",
      "('subordinate.a.02', 0.007963409418881249)\n",
      "TOP: ['unattractive guy', 'unattractive man', 'undesirable men']\n",
      "BOTTOM: ['vp', 'mage', 'client']\n",
      "-0.24274051226116372 0.4334710019002802\n",
      "\n",
      "('educated.a.01', 0.007917420864930342)\n",
      "TOP: ['unattractive male', 'unattractive people', 'undesirable men']\n",
      "BOTTOM: ['educated man', 'avid reader', 'scholar']\n",
      "-0.2083950841235108 0.4556076849561242\n",
      "\n",
      "('reasonable.a.01', 0.007884962386084276)\n",
      "TOP: ['adversaries', 'perpetrator', 'undesirable men']\n",
      "BOTTOM: ['intelligent guy', 'intelligent person', 'intelligent man']\n",
      "-0.35489330639386335 0.34694763892431246\n",
      "\n",
      "('serious.a.01', 0.00768356866548704)\n",
      "TOP: ['dweebs', 'faggot', 'little faggot']\n",
      "BOTTOM: ['true man', 'honest man', 'strong person']\n",
      "-0.2723124957920057 0.3215419628036681\n",
      "\n",
      "('gracious.a.01', 0.007652131437258652)\n",
      "TOP: ['cuckolds', 'retard', 'cuckold']\n",
      "BOTTOM: ['monarchs', 'princes', 'sultan']\n",
      "-0.21592479029625367 0.3102260830147038\n",
      "\n",
      "('conventional.a.04', 0.007618682937190801)\n",
      "TOP: ['badboy', 'djs', 'dj']\n",
      "BOTTOM: ['male peers', 'male counterparts', 'average male']\n",
      "-0.2340365933959002 0.30603466160892\n",
      "\n"
     ]
    }
   ],
   "source": [
    "for tup in masc_variance.most_common(20): \n",
    "    print(tup)\n",
    "    pole = tup[0]\n",
    "    topN, bottomN, mi, ma = masc_extremes[pole]\n",
    "    print(\"TOP:\", topN)\n",
    "    print(\"BOTTOM:\", bottomN)\n",
    "    print(mi, ma)\n",
    "    print()"
   ]
  },
  {
   "cell_type": "markdown",
   "id": "8194188b",
   "metadata": {},
   "source": [
    "## Axes similarities for each clusters' highly gendered terms"
   ]
  },
  {
   "cell_type": "code",
   "execution_count": 403,
   "id": "5ff871b7",
   "metadata": {},
   "outputs": [
    {
     "name": "stdout",
     "output_type": "stream",
     "text": [
      "[('she', 1760546), ('he', 861007), ('women', 801795), ('man', 604788), ('people', 555328), ('girl', 490864), ('woman', 482506), ('someone', 458890), ('guys', 361499), ('guy', 344341), ('men', 336551), ('girls', 326322), ('anyone', 324551), ('friends', 243747), ('everyone', 238800), ('friend', 228233), ('others', 203092), ('female', 178923), ('person', 174827), ('you guys', 167224)]\n"
     ]
    }
   ],
   "source": [
    "with open(LOGS + 'gram_counts/combined_catyear_word_count.json', 'r') as infile: \n",
    "    catyear_word_count = json.load(infile)\n",
    "total_vocab_count = Counter() # {term : count in mano reddit + forum}\n",
    "for catyear in catyear_word_count: \n",
    "    for term in catyear_word_count[catyear]: \n",
    "        total_vocab_count[term] += catyear_word_count[catyear][term]\n",
    "# remove bigram counts from unigrams \n",
    "for term in total_vocab_count: \n",
    "    if ' ' in term: \n",
    "        toks = term.split(' ')\n",
    "        if toks[0] in total_vocab_count: \n",
    "            total_vocab_count[toks[0]] = total_vocab_count[toks[0]] - total_vocab_count[term]\n",
    "        if toks[1] in total_vocab_count: \n",
    "            total_vocab_count[toks[1]] = total_vocab_count[toks[1]] - total_vocab_count[term]\n",
    "print(total_vocab_count.most_common(20))"
   ]
  },
  {
   "cell_type": "code",
   "execution_count": 404,
   "id": "530bc3af",
   "metadata": {},
   "outputs": [],
   "source": [
    "with open(LOGS + 'time_series/cluster_members_6.json', 'r') as infile: \n",
    "    clust_words = json.load(infile)\n",
    "clust_words_rev = {}\n",
    "for clust in clust_words: \n",
    "    cluster_words = clust_words[clust]\n",
    "    for w in cluster_words: \n",
    "        clust_words_rev[w] = clust"
   ]
  },
  {
   "cell_type": "code",
   "execution_count": 405,
   "id": "2aaa20e2",
   "metadata": {},
   "outputs": [],
   "source": [
    "fem_axes = ['beautiful.a.01', 'lovable.a.01', 'clean.a.01']\n",
    "masc_axes = ['beautiful.a.01', 'lovable.a.01', 'intellectual.a.02']"
   ]
  },
  {
   "cell_type": "markdown",
   "id": "7de34d25",
   "metadata": {},
   "source": [
    "### New visualization plan\n",
    "\n",
    "scatter plot for each axis, x-axis is overall frequency of word, y-axis is score, hue is the cluster number"
   ]
  },
  {
   "cell_type": "code",
   "execution_count": 406,
   "id": "cd5c5d94",
   "metadata": {},
   "outputs": [],
   "source": [
    "d = {\n",
    "    'pole': [], \n",
    "    'gender': [],\n",
    "    'clust_num': [], \n",
    "    'word': [], \n",
    "    'score': [],\n",
    "    'frequency': [],\n",
    "}\n",
    "for clust_num in cluster_order: \n",
    "    for gender in ['fem', 'masc']:\n",
    "        key = str(clust_num) + '_' + gender\n",
    "        if gender == 'fem': \n",
    "            this_axes = fem_axes\n",
    "        if gender == 'masc': \n",
    "            this_axes = masc_axes\n",
    "        for pole in this_axes:  \n",
    "            s = scores[pole]\n",
    "            for i, term in enumerate(vocab_order): \n",
    "                term = term.strip()\n",
    "                if str(clust_words_rev[term]) != str(clust_num): continue\n",
    "                if term not in gender_labels: continue\n",
    "                if gender == 'fem' and gender_labels[term] > 0.75: \n",
    "                    d['pole'].append(pole)\n",
    "                    d['gender'].append(gender)\n",
    "                    d['clust_num'].append(clust_num)\n",
    "                    d['word'].append(term)\n",
    "                    d['score'].append(s[i])\n",
    "                    d['frequency'].append(total_vocab_count[term])\n",
    "                if gender == 'masc' and gender_labels[term] < 0.25: \n",
    "                    d['pole'].append(pole)\n",
    "                    d['gender'].append(gender)\n",
    "                    d['clust_num'].append(clust_num)\n",
    "                    d['word'].append(term)\n",
    "                    d['score'].append(s[i])\n",
    "                    d['frequency'].append(total_vocab_count[term])"
   ]
  },
  {
   "cell_type": "code",
   "execution_count": 407,
   "id": "ed439fe8",
   "metadata": {},
   "outputs": [
    {
     "data": {
      "text/html": [
       "<div>\n",
       "<style scoped>\n",
       "    .dataframe tbody tr th:only-of-type {\n",
       "        vertical-align: middle;\n",
       "    }\n",
       "\n",
       "    .dataframe tbody tr th {\n",
       "        vertical-align: top;\n",
       "    }\n",
       "\n",
       "    .dataframe thead th {\n",
       "        text-align: right;\n",
       "    }\n",
       "</style>\n",
       "<table border=\"1\" class=\"dataframe\">\n",
       "  <thead>\n",
       "    <tr style=\"text-align: right;\">\n",
       "      <th></th>\n",
       "      <th>pole</th>\n",
       "      <th>gender</th>\n",
       "      <th>clust_num</th>\n",
       "      <th>word</th>\n",
       "      <th>score</th>\n",
       "      <th>frequency</th>\n",
       "      <th>log_freq</th>\n",
       "      <th>clust_letter</th>\n",
       "    </tr>\n",
       "  </thead>\n",
       "  <tbody>\n",
       "    <tr>\n",
       "      <td>0</td>\n",
       "      <td>beautiful.a.01</td>\n",
       "      <td>fem</td>\n",
       "      <td>4</td>\n",
       "      <td>1 female</td>\n",
       "      <td>0.036255</td>\n",
       "      <td>700</td>\n",
       "      <td>2.845098</td>\n",
       "      <td>A</td>\n",
       "    </tr>\n",
       "    <tr>\n",
       "      <td>1</td>\n",
       "      <td>beautiful.a.01</td>\n",
       "      <td>fem</td>\n",
       "      <td>4</td>\n",
       "      <td>10 women</td>\n",
       "      <td>-0.002096</td>\n",
       "      <td>2914</td>\n",
       "      <td>3.464490</td>\n",
       "      <td>A</td>\n",
       "    </tr>\n",
       "    <tr>\n",
       "      <td>2</td>\n",
       "      <td>beautiful.a.01</td>\n",
       "      <td>fem</td>\n",
       "      <td>4</td>\n",
       "      <td>100 girls</td>\n",
       "      <td>-0.062551</td>\n",
       "      <td>1723</td>\n",
       "      <td>3.236285</td>\n",
       "      <td>A</td>\n",
       "    </tr>\n",
       "    <tr>\n",
       "      <td>3</td>\n",
       "      <td>beautiful.a.01</td>\n",
       "      <td>fem</td>\n",
       "      <td>4</td>\n",
       "      <td>15 women</td>\n",
       "      <td>0.029945</td>\n",
       "      <td>426</td>\n",
       "      <td>2.629410</td>\n",
       "      <td>A</td>\n",
       "    </tr>\n",
       "    <tr>\n",
       "      <td>4</td>\n",
       "      <td>beautiful.a.01</td>\n",
       "      <td>fem</td>\n",
       "      <td>4</td>\n",
       "      <td>2 women</td>\n",
       "      <td>0.016124</td>\n",
       "      <td>2053</td>\n",
       "      <td>3.312389</td>\n",
       "      <td>A</td>\n",
       "    </tr>\n",
       "    <tr>\n",
       "      <td>...</td>\n",
       "      <td>...</td>\n",
       "      <td>...</td>\n",
       "      <td>...</td>\n",
       "      <td>...</td>\n",
       "      <td>...</td>\n",
       "      <td>...</td>\n",
       "      <td>...</td>\n",
       "      <td>...</td>\n",
       "    </tr>\n",
       "    <tr>\n",
       "      <td>10756</td>\n",
       "      <td>intellectual.a.02</td>\n",
       "      <td>masc</td>\n",
       "      <td>0</td>\n",
       "      <td>virgin men</td>\n",
       "      <td>0.063220</td>\n",
       "      <td>892</td>\n",
       "      <td>2.950365</td>\n",
       "      <td>F</td>\n",
       "    </tr>\n",
       "    <tr>\n",
       "      <td>10757</td>\n",
       "      <td>intellectual.a.02</td>\n",
       "      <td>masc</td>\n",
       "      <td>0</td>\n",
       "      <td>white chad</td>\n",
       "      <td>-0.040579</td>\n",
       "      <td>2223</td>\n",
       "      <td>3.346939</td>\n",
       "      <td>F</td>\n",
       "    </tr>\n",
       "    <tr>\n",
       "      <td>10758</td>\n",
       "      <td>intellectual.a.02</td>\n",
       "      <td>masc</td>\n",
       "      <td>0</td>\n",
       "      <td>white chads</td>\n",
       "      <td>0.038740</td>\n",
       "      <td>878</td>\n",
       "      <td>2.943495</td>\n",
       "      <td>F</td>\n",
       "    </tr>\n",
       "    <tr>\n",
       "      <td>10759</td>\n",
       "      <td>intellectual.a.02</td>\n",
       "      <td>masc</td>\n",
       "      <td>0</td>\n",
       "      <td>white incel</td>\n",
       "      <td>0.137710</td>\n",
       "      <td>580</td>\n",
       "      <td>2.763428</td>\n",
       "      <td>F</td>\n",
       "    </tr>\n",
       "    <tr>\n",
       "      <td>10760</td>\n",
       "      <td>intellectual.a.02</td>\n",
       "      <td>masc</td>\n",
       "      <td>0</td>\n",
       "      <td>white incels</td>\n",
       "      <td>0.157354</td>\n",
       "      <td>1256</td>\n",
       "      <td>3.098990</td>\n",
       "      <td>F</td>\n",
       "    </tr>\n",
       "  </tbody>\n",
       "</table>\n",
       "<p>10761 rows × 8 columns</p>\n",
       "</div>"
      ],
      "text/plain": [
       "                    pole gender  clust_num          word     score  frequency  \\\n",
       "0         beautiful.a.01    fem          4      1 female  0.036255        700   \n",
       "1         beautiful.a.01    fem          4      10 women -0.002096       2914   \n",
       "2         beautiful.a.01    fem          4     100 girls -0.062551       1723   \n",
       "3         beautiful.a.01    fem          4      15 women  0.029945        426   \n",
       "4         beautiful.a.01    fem          4       2 women  0.016124       2053   \n",
       "...                  ...    ...        ...           ...       ...        ...   \n",
       "10756  intellectual.a.02   masc          0    virgin men  0.063220        892   \n",
       "10757  intellectual.a.02   masc          0    white chad -0.040579       2223   \n",
       "10758  intellectual.a.02   masc          0   white chads  0.038740        878   \n",
       "10759  intellectual.a.02   masc          0   white incel  0.137710        580   \n",
       "10760  intellectual.a.02   masc          0  white incels  0.157354       1256   \n",
       "\n",
       "       log_freq clust_letter  \n",
       "0      2.845098            A  \n",
       "1      3.464490            A  \n",
       "2      3.236285            A  \n",
       "3      2.629410            A  \n",
       "4      3.312389            A  \n",
       "...         ...          ...  \n",
       "10756  2.950365            F  \n",
       "10757  3.346939            F  \n",
       "10758  2.943495            F  \n",
       "10759  2.763428            F  \n",
       "10760  3.098990            F  \n",
       "\n",
       "[10761 rows x 8 columns]"
      ]
     },
     "execution_count": 407,
     "metadata": {},
     "output_type": "execute_result"
    }
   ],
   "source": [
    "cluster_score_df = pd.DataFrame.from_dict(d)\n",
    "cluster_score_df['log_freq'] = cluster_score_df['frequency'].apply(lambda x: math.log10(x))\n",
    "clust_num_letter_map = {4 : 'A', 3 : 'B', 5 : 'C', 1 : 'D', 2 : 'E', 0 : 'F'}\n",
    "cluster_score_df['clust_letter'] = cluster_score_df['clust_num'].apply(lambda x: clust_num_letter_map[x])\n",
    "cluster_score_df"
   ]
  },
  {
   "cell_type": "code",
   "execution_count": 408,
   "id": "be05d890",
   "metadata": {},
   "outputs": [
    {
     "data": {
      "text/html": [
       "<div>\n",
       "<style scoped>\n",
       "    .dataframe tbody tr th:only-of-type {\n",
       "        vertical-align: middle;\n",
       "    }\n",
       "\n",
       "    .dataframe tbody tr th {\n",
       "        vertical-align: top;\n",
       "    }\n",
       "\n",
       "    .dataframe thead th {\n",
       "        text-align: right;\n",
       "    }\n",
       "</style>\n",
       "<table border=\"1\" class=\"dataframe\">\n",
       "  <thead>\n",
       "    <tr style=\"text-align: right;\">\n",
       "      <th></th>\n",
       "      <th>pole</th>\n",
       "      <th>gender</th>\n",
       "      <th>clust_num</th>\n",
       "      <th>word</th>\n",
       "      <th>score</th>\n",
       "      <th>frequency</th>\n",
       "      <th>log_freq</th>\n",
       "      <th>clust_letter</th>\n",
       "    </tr>\n",
       "  </thead>\n",
       "  <tbody>\n",
       "    <tr>\n",
       "      <td>5829</td>\n",
       "      <td>beautiful.a.01</td>\n",
       "      <td>fem</td>\n",
       "      <td>1</td>\n",
       "      <td>women</td>\n",
       "      <td>-0.036429</td>\n",
       "      <td>801795</td>\n",
       "      <td>5.904063</td>\n",
       "      <td>D</td>\n",
       "    </tr>\n",
       "    <tr>\n",
       "      <td>6174</td>\n",
       "      <td>lovable.a.01</td>\n",
       "      <td>fem</td>\n",
       "      <td>1</td>\n",
       "      <td>women</td>\n",
       "      <td>-0.065459</td>\n",
       "      <td>801795</td>\n",
       "      <td>5.904063</td>\n",
       "      <td>D</td>\n",
       "    </tr>\n",
       "    <tr>\n",
       "      <td>6519</td>\n",
       "      <td>clean.a.01</td>\n",
       "      <td>fem</td>\n",
       "      <td>1</td>\n",
       "      <td>women</td>\n",
       "      <td>-0.002982</td>\n",
       "      <td>801795</td>\n",
       "      <td>5.904063</td>\n",
       "      <td>D</td>\n",
       "    </tr>\n",
       "  </tbody>\n",
       "</table>\n",
       "</div>"
      ],
      "text/plain": [
       "                pole gender  clust_num   word     score  frequency  log_freq  \\\n",
       "5829  beautiful.a.01    fem          1  women -0.036429     801795  5.904063   \n",
       "6174    lovable.a.01    fem          1  women -0.065459     801795  5.904063   \n",
       "6519      clean.a.01    fem          1  women -0.002982     801795  5.904063   \n",
       "\n",
       "     clust_letter  \n",
       "5829            D  \n",
       "6174            D  \n",
       "6519            D  "
      ]
     },
     "execution_count": 408,
     "metadata": {},
     "output_type": "execute_result"
    }
   ],
   "source": [
    "cluster_score_df[cluster_score_df['word'] == 'women']"
   ]
  },
  {
   "cell_type": "code",
   "execution_count": 409,
   "id": "36752187",
   "metadata": {},
   "outputs": [
    {
     "data": {
      "text/html": [
       "<div>\n",
       "<style scoped>\n",
       "    .dataframe tbody tr th:only-of-type {\n",
       "        vertical-align: middle;\n",
       "    }\n",
       "\n",
       "    .dataframe tbody tr th {\n",
       "        vertical-align: top;\n",
       "    }\n",
       "\n",
       "    .dataframe thead th {\n",
       "        text-align: right;\n",
       "    }\n",
       "</style>\n",
       "<table border=\"1\" class=\"dataframe\">\n",
       "  <thead>\n",
       "    <tr style=\"text-align: right;\">\n",
       "      <th></th>\n",
       "      <th>pole</th>\n",
       "      <th>gender</th>\n",
       "      <th>clust_num</th>\n",
       "      <th>word</th>\n",
       "      <th>score</th>\n",
       "      <th>frequency</th>\n",
       "      <th>log_freq</th>\n",
       "      <th>clust_letter</th>\n",
       "    </tr>\n",
       "  </thead>\n",
       "  <tbody>\n",
       "    <tr>\n",
       "      <td>2691</td>\n",
       "      <td>beautiful.a.01</td>\n",
       "      <td>fem</td>\n",
       "      <td>3</td>\n",
       "      <td>girls</td>\n",
       "      <td>-0.095671</td>\n",
       "      <td>326322</td>\n",
       "      <td>5.513646</td>\n",
       "      <td>B</td>\n",
       "    </tr>\n",
       "    <tr>\n",
       "      <td>3010</td>\n",
       "      <td>lovable.a.01</td>\n",
       "      <td>fem</td>\n",
       "      <td>3</td>\n",
       "      <td>girls</td>\n",
       "      <td>-0.130053</td>\n",
       "      <td>326322</td>\n",
       "      <td>5.513646</td>\n",
       "      <td>B</td>\n",
       "    </tr>\n",
       "    <tr>\n",
       "      <td>3329</td>\n",
       "      <td>clean.a.01</td>\n",
       "      <td>fem</td>\n",
       "      <td>3</td>\n",
       "      <td>girls</td>\n",
       "      <td>0.061343</td>\n",
       "      <td>326322</td>\n",
       "      <td>5.513646</td>\n",
       "      <td>B</td>\n",
       "    </tr>\n",
       "  </tbody>\n",
       "</table>\n",
       "</div>"
      ],
      "text/plain": [
       "                pole gender  clust_num   word     score  frequency  log_freq  \\\n",
       "2691  beautiful.a.01    fem          3  girls -0.095671     326322  5.513646   \n",
       "3010    lovable.a.01    fem          3  girls -0.130053     326322  5.513646   \n",
       "3329      clean.a.01    fem          3  girls  0.061343     326322  5.513646   \n",
       "\n",
       "     clust_letter  \n",
       "2691            B  \n",
       "3010            B  \n",
       "3329            B  "
      ]
     },
     "execution_count": 409,
     "metadata": {},
     "output_type": "execute_result"
    }
   ],
   "source": [
    "cluster_score_df[cluster_score_df['word'] == 'girls']"
   ]
  },
  {
   "cell_type": "code",
   "execution_count": 410,
   "id": "5d0cea79",
   "metadata": {},
   "outputs": [
    {
     "data": {
      "image/png": "[encoded data removed]",
      "text/plain": [
       "<Figure size 432x288 with 1 Axes>"
      ]
     },
     "metadata": {
      "needs_background": "light"
     },
     "output_type": "display_data"
    }
   ],
   "source": [
    "frequencies = [math.log10(i) for i in total_vocab_count.values()]\n",
    "first_cutoff = np.percentile(frequencies, 1/4*100)\n",
    "second_cutoff = np.percentile(frequencies, 2/4*100)\n",
    "third_cutoff = np.percentile(frequencies, 3/4*100)\n",
    "plt.hist(frequencies)\n",
    "plt.axvline(first_cutoff)\n",
    "plt.axvline(second_cutoff)\n",
    "plt.axvline(third_cutoff)\n",
    "plt.show()"
   ]
  },
  {
   "cell_type": "code",
   "execution_count": 411,
   "id": "f3fa06a2",
   "metadata": {},
   "outputs": [
    {
     "data": {
      "text/html": [
       "<div>\n",
       "<style scoped>\n",
       "    .dataframe tbody tr th:only-of-type {\n",
       "        vertical-align: middle;\n",
       "    }\n",
       "\n",
       "    .dataframe tbody tr th {\n",
       "        vertical-align: top;\n",
       "    }\n",
       "\n",
       "    .dataframe thead th {\n",
       "        text-align: right;\n",
       "    }\n",
       "</style>\n",
       "<table border=\"1\" class=\"dataframe\">\n",
       "  <thead>\n",
       "    <tr style=\"text-align: right;\">\n",
       "      <th></th>\n",
       "      <th>pole</th>\n",
       "      <th>gender</th>\n",
       "      <th>clust_num</th>\n",
       "      <th>word</th>\n",
       "      <th>score</th>\n",
       "      <th>frequency</th>\n",
       "      <th>log_freq</th>\n",
       "      <th>clust_letter</th>\n",
       "      <th>freq_bucket</th>\n",
       "    </tr>\n",
       "  </thead>\n",
       "  <tbody>\n",
       "    <tr>\n",
       "      <td>0</td>\n",
       "      <td>beautiful.a.01</td>\n",
       "      <td>fem</td>\n",
       "      <td>4</td>\n",
       "      <td>1 female</td>\n",
       "      <td>0.036255</td>\n",
       "      <td>700</td>\n",
       "      <td>2.845098</td>\n",
       "      <td>A</td>\n",
       "      <td>bottom 75%</td>\n",
       "    </tr>\n",
       "    <tr>\n",
       "      <td>1</td>\n",
       "      <td>beautiful.a.01</td>\n",
       "      <td>fem</td>\n",
       "      <td>4</td>\n",
       "      <td>10 women</td>\n",
       "      <td>-0.002096</td>\n",
       "      <td>2914</td>\n",
       "      <td>3.464490</td>\n",
       "      <td>A</td>\n",
       "      <td>top 25%</td>\n",
       "    </tr>\n",
       "    <tr>\n",
       "      <td>2</td>\n",
       "      <td>beautiful.a.01</td>\n",
       "      <td>fem</td>\n",
       "      <td>4</td>\n",
       "      <td>100 girls</td>\n",
       "      <td>-0.062551</td>\n",
       "      <td>1723</td>\n",
       "      <td>3.236285</td>\n",
       "      <td>A</td>\n",
       "      <td>bottom 75%</td>\n",
       "    </tr>\n",
       "    <tr>\n",
       "      <td>3</td>\n",
       "      <td>beautiful.a.01</td>\n",
       "      <td>fem</td>\n",
       "      <td>4</td>\n",
       "      <td>15 women</td>\n",
       "      <td>0.029945</td>\n",
       "      <td>426</td>\n",
       "      <td>2.629410</td>\n",
       "      <td>A</td>\n",
       "      <td>bottom 75%</td>\n",
       "    </tr>\n",
       "    <tr>\n",
       "      <td>4</td>\n",
       "      <td>beautiful.a.01</td>\n",
       "      <td>fem</td>\n",
       "      <td>4</td>\n",
       "      <td>2 women</td>\n",
       "      <td>0.016124</td>\n",
       "      <td>2053</td>\n",
       "      <td>3.312389</td>\n",
       "      <td>A</td>\n",
       "      <td>top 25%</td>\n",
       "    </tr>\n",
       "    <tr>\n",
       "      <td>...</td>\n",
       "      <td>...</td>\n",
       "      <td>...</td>\n",
       "      <td>...</td>\n",
       "      <td>...</td>\n",
       "      <td>...</td>\n",
       "      <td>...</td>\n",
       "      <td>...</td>\n",
       "      <td>...</td>\n",
       "      <td>...</td>\n",
       "    </tr>\n",
       "    <tr>\n",
       "      <td>10756</td>\n",
       "      <td>intellectual.a.02</td>\n",
       "      <td>masc</td>\n",
       "      <td>0</td>\n",
       "      <td>virgin men</td>\n",
       "      <td>0.063220</td>\n",
       "      <td>892</td>\n",
       "      <td>2.950365</td>\n",
       "      <td>F</td>\n",
       "      <td>bottom 75%</td>\n",
       "    </tr>\n",
       "    <tr>\n",
       "      <td>10757</td>\n",
       "      <td>intellectual.a.02</td>\n",
       "      <td>masc</td>\n",
       "      <td>0</td>\n",
       "      <td>white chad</td>\n",
       "      <td>-0.040579</td>\n",
       "      <td>2223</td>\n",
       "      <td>3.346939</td>\n",
       "      <td>F</td>\n",
       "      <td>top 25%</td>\n",
       "    </tr>\n",
       "    <tr>\n",
       "      <td>10758</td>\n",
       "      <td>intellectual.a.02</td>\n",
       "      <td>masc</td>\n",
       "      <td>0</td>\n",
       "      <td>white chads</td>\n",
       "      <td>0.038740</td>\n",
       "      <td>878</td>\n",
       "      <td>2.943495</td>\n",
       "      <td>F</td>\n",
       "      <td>bottom 75%</td>\n",
       "    </tr>\n",
       "    <tr>\n",
       "      <td>10759</td>\n",
       "      <td>intellectual.a.02</td>\n",
       "      <td>masc</td>\n",
       "      <td>0</td>\n",
       "      <td>white incel</td>\n",
       "      <td>0.137710</td>\n",
       "      <td>580</td>\n",
       "      <td>2.763428</td>\n",
       "      <td>F</td>\n",
       "      <td>bottom 75%</td>\n",
       "    </tr>\n",
       "    <tr>\n",
       "      <td>10760</td>\n",
       "      <td>intellectual.a.02</td>\n",
       "      <td>masc</td>\n",
       "      <td>0</td>\n",
       "      <td>white incels</td>\n",
       "      <td>0.157354</td>\n",
       "      <td>1256</td>\n",
       "      <td>3.098990</td>\n",
       "      <td>F</td>\n",
       "      <td>bottom 75%</td>\n",
       "    </tr>\n",
       "  </tbody>\n",
       "</table>\n",
       "<p>10761 rows × 9 columns</p>\n",
       "</div>"
      ],
      "text/plain": [
       "                    pole gender  clust_num          word     score  frequency  \\\n",
       "0         beautiful.a.01    fem          4      1 female  0.036255        700   \n",
       "1         beautiful.a.01    fem          4      10 women -0.002096       2914   \n",
       "2         beautiful.a.01    fem          4     100 girls -0.062551       1723   \n",
       "3         beautiful.a.01    fem          4      15 women  0.029945        426   \n",
       "4         beautiful.a.01    fem          4       2 women  0.016124       2053   \n",
       "...                  ...    ...        ...           ...       ...        ...   \n",
       "10756  intellectual.a.02   masc          0    virgin men  0.063220        892   \n",
       "10757  intellectual.a.02   masc          0    white chad -0.040579       2223   \n",
       "10758  intellectual.a.02   masc          0   white chads  0.038740        878   \n",
       "10759  intellectual.a.02   masc          0   white incel  0.137710        580   \n",
       "10760  intellectual.a.02   masc          0  white incels  0.157354       1256   \n",
       "\n",
       "       log_freq clust_letter freq_bucket  \n",
       "0      2.845098            A  bottom 75%  \n",
       "1      3.464490            A     top 25%  \n",
       "2      3.236285            A  bottom 75%  \n",
       "3      2.629410            A  bottom 75%  \n",
       "4      3.312389            A     top 25%  \n",
       "...         ...          ...         ...  \n",
       "10756  2.950365            F  bottom 75%  \n",
       "10757  3.346939            F     top 25%  \n",
       "10758  2.943495            F  bottom 75%  \n",
       "10759  2.763428            F  bottom 75%  \n",
       "10760  3.098990            F  bottom 75%  \n",
       "\n",
       "[10761 rows x 9 columns]"
      ]
     },
     "execution_count": 411,
     "metadata": {},
     "output_type": "execute_result"
    }
   ],
   "source": [
    "def get_freq_bucket(x): \n",
    "    if x <= third_cutoff:\n",
    "        return 'bottom 75%'\n",
    "    else: \n",
    "        return 'top 25%'\n",
    "cluster_score_df['freq_bucket'] = cluster_score_df['log_freq'].apply(get_freq_bucket)\n",
    "cluster_score_df"
   ]
  },
  {
   "cell_type": "code",
   "execution_count": 412,
   "id": "049d470e",
   "metadata": {},
   "outputs": [],
   "source": [
    "fem_cluster_score_df = cluster_score_df[cluster_score_df['gender'] == 'fem']\n",
    "masc_cluster_score_df = cluster_score_df[cluster_score_df['gender'] == 'masc']"
   ]
  },
  {
   "cell_type": "code",
   "execution_count": 416,
   "id": "0edaa547",
   "metadata": {},
   "outputs": [],
   "source": [
    "def reindex_df(df, weight_col):\n",
    "    \"\"\"expand the dataframe to prepare for resampling\n",
    "    result is 1 row per count per sample\"\"\"\n",
    "    df = df.reindex(df.index.repeat(df[weight_col]))\n",
    "    df.reset_index(drop=True, inplace=True)\n",
    "    return(df)\n",
    "cluster_order_str = [str(x) for x in cluster_order]\n",
    "pole_titles = {'beautiful.a.01' : 'beautiful $\\longleftrightarrow$ ugly',\n",
    "               'lovable.a.01' : 'loveable $\\longleftrightarrow$ detestable', \n",
    "               'prejudiced.a.02': 'prejudiced $\\longleftrightarrow$ unprejudiced', \n",
    "               'old.a.01': 'old $\\longleftrightarrow$ young', \n",
    "               'clean.a.01': 'clean $\\longleftrightarrow$ dirty', \n",
    "               'educated.a.01': 'knowledgeable $\\longleftrightarrow$ ignorant',\n",
    "               'liked.a.01': 'likeable $\\longleftrightarrow$ unlikable', \n",
    "               'heavy.a.04': 'distressful $\\longleftrightarrow$ casual, light', \n",
    "               'delicate.a.01': 'delicate $\\longleftrightarrow$ tough',\n",
    "               'intellectual.a.02': 'intellectual $\\longleftrightarrow$ mindless',\n",
    "              }"
   ]
  },
  {
   "cell_type": "code",
   "execution_count": 417,
   "id": "89c5f634",
   "metadata": {},
   "outputs": [
    {
     "data": {
      "image/png": "[encoded data removed]",
      "text/plain": [
       "<Figure size 432x288 with 1 Axes>"
      ]
     },
     "metadata": {
      "needs_background": "light"
     },
     "output_type": "display_data"
    },
    {
     "data": {
      "image/png": "[encoded data removed]",
      "text/plain": [
       "<Figure size 432x288 with 1 Axes>"
      ]
     },
     "metadata": {
      "needs_background": "light"
     },
     "output_type": "display_data"
    },
    {
     "data": {
      "image/png": "[encoded data removed]",
      "text/plain": [
       "<Figure size 432x288 with 1 Axes>"
      ]
     },
     "metadata": {
      "needs_background": "light"
     },
     "output_type": "display_data"
    }
   ],
   "source": [
    "for pole in fem_axes: \n",
    "    this_df = fem_cluster_score_df[fem_cluster_score_df['pole'] == pole]\n",
    "    sns.pointplot(x=\"score\", y=\"clust_letter\", hue='freq_bucket', palette=\"Paired\",\n",
    "                  data=this_df, orient=\"h\", dodge=.2, join=False)\n",
    "    plt.axvline(0, linestyle='--')\n",
    "    plt.title(pole_titles[pole], fontsize=15)\n",
    "    plt.show()"
   ]
  },
  {
   "cell_type": "code",
   "execution_count": 418,
   "id": "d6943198",
   "metadata": {},
   "outputs": [
    {
     "data": {
      "image/png": "[encoded data removed]",
      "text/plain": [
       "<Figure size 432x288 with 1 Axes>"
      ]
     },
     "metadata": {
      "needs_background": "light"
     },
     "output_type": "display_data"
    },
    {
     "data": {
      "image/png": "[encoded data removed]",
      "text/plain": [
       "<Figure size 432x288 with 1 Axes>"
      ]
     },
     "metadata": {
      "needs_background": "light"
     },
     "output_type": "display_data"
    },
    {
     "data": {
      "image/png": "[encoded data removed]",
      "text/plain": [
       "<Figure size 432x288 with 1 Axes>"
      ]
     },
     "metadata": {
      "needs_background": "light"
     },
     "output_type": "display_data"
    }
   ],
   "source": [
    "for pole in masc_axes: \n",
    "    this_df = masc_cluster_score_df[masc_cluster_score_df['pole'] == pole]\n",
    "    sns.pointplot(x=\"score\", y=\"clust_letter\", hue='freq_bucket', palette=\"Paired\",\n",
    "                  data=this_df, orient=\"h\", dodge=.2, join=False)\n",
    "    plt.axvline(0, linestyle='--')\n",
    "    plt.title(pole_titles[pole], fontsize=15)\n",
    "    plt.show()"
   ]
  },
  {
   "cell_type": "code",
   "execution_count": null,
   "id": "d3b8db18",
   "metadata": {},
   "outputs": [],
   "source": []
  }
 ],
 "metadata": {
  "kernelspec": {
   "display_name": "Python 3 (ipykernel)",
   "language": "python",
   "name": "python3"
  },
  "language_info": {
   "codemirror_mode": {
    "name": "ipython",
    "version": 3
   },
   "file_extension": ".py",
   "mimetype": "text/x-python",
   "name": "python",
   "nbconvert_exporter": "python",
   "pygments_lexer": "ipython3",
   "version": "3.7.11"
  }
 },
 "nbformat": 4,
 "nbformat_minor": 5
}
