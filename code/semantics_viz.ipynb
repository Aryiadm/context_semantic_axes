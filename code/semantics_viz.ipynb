{
 "cells": [
  {
   "cell_type": "code",
   "execution_count": 186,
   "id": "5ebad7cb",
   "metadata": {},
   "outputs": [],
   "source": [
    "import numpy as np\n",
    "import json\n",
    "from collections import defaultdict, Counter\n",
    "from scipy import spatial, stats\n",
    "import matplotlib.pyplot as plt\n",
    "from sklearn.manifold import TSNE\n",
    "import pandas as pd\n",
    "import seaborn as sns\n",
    "import math"
   ]
  },
  {
   "cell_type": "code",
   "execution_count": 6,
   "id": "5a60eb99",
   "metadata": {},
   "outputs": [],
   "source": [
    "ROOT = '/mnt/data0/lucy/manosphere/'\n",
    "DATA = ROOT + 'data/'\n",
    "GLOVE = DATA + 'glove/'\n",
    "LOGS = ROOT + 'logs/'\n",
    "AGG_EMBED_PATH = LOGS + 'semantics_mano/agg_embed/'"
   ]
  },
  {
   "cell_type": "markdown",
   "id": "dd58196c",
   "metadata": {},
   "source": [
    "## Inspecting individual words\n",
    "\n",
    "Note that the axes in the wrong direction, e.g. all positive values mean the word leans more towards the opposite of the synset name, while move negative means it is more related to the synset name. This is why \"soured\" shows up as a prominent positive axis for \"sweet girl\", etc. "
   ]
  },
  {
   "cell_type": "code",
   "execution_count": 7,
   "id": "8ab5a99f",
   "metadata": {},
   "outputs": [],
   "source": [
    "with open(LOGS + 'semantics_mano/results/scores.json', 'r') as infile: \n",
    "    scores = json.load(infile) \n",
    "\n",
    "vocab_order = []\n",
    "with open(LOGS + 'semantics_mano/results/vocab_order.txt', 'r') as infile:\n",
    "    vocab_order = infile.readlines()\n",
    "\n",
    "with open(LOGS + 'coref_results/mano_gender_labels.json', 'r') as infile: \n",
    "    gender_labels = json.load(infile)"
   ]
  },
  {
   "cell_type": "code",
   "execution_count": 8,
   "id": "712bab50",
   "metadata": {},
   "outputs": [],
   "source": [
    "word_poles = defaultdict(Counter) # {word : {pole : score}}\n",
    "for pole in scores: \n",
    "    s = scores[pole]\n",
    "    for i, term in enumerate(vocab_order): \n",
    "        term = term.strip()\n",
    "        word_poles[term][pole] = s[i]"
   ]
  },
  {
   "cell_type": "code",
   "execution_count": 9,
   "id": "6150aca6",
   "metadata": {},
   "outputs": [
    {
     "name": "stdout",
     "output_type": "stream",
     "text": [
      "[('covered.a.01', 0.25558773434051607), ('clothed.a.01', 0.20460857317052156), ('affected.a.01', 0.19743399192574534), ('busy.a.01', 0.19340250274625598), ('heavy.a.01', 0.1636908153666239), ('mature.a.01', 0.16354657637493), ('androgynous.a.02', 0.15458037457221652), ('delicate.a.01', 0.15350429755099337), ('experienced.a.01', 0.14051773941321305), ('limited.a.01', 0.14049881094011013)]\n",
      "[('thick.a.01', -0.15037315269704593), ('right.a.04', -0.1534961767732639), ('upland.a.01', -0.15577203865108905), ('capitalistic.a.01', -0.16656310684758813), ('reasonable.a.01', -0.17066723676667722), ('enthusiastic.a.01', -0.17872971894421674), ('optimistic.a.01', -0.182795450552113), ('fat.a.01', -0.2067701379119683), ('moral.a.01', -0.2303085749221428), ('assertive.a.01', -0.26428843033663973)]\n"
     ]
    }
   ],
   "source": [
    "print(word_poles['alpha'].most_common()[:10])\n",
    "print(word_poles['alpha'].most_common()[-10:])"
   ]
  },
  {
   "cell_type": "code",
   "execution_count": 10,
   "id": "bc54873e",
   "metadata": {},
   "outputs": [
    {
     "name": "stdout",
     "output_type": "stream",
     "text": [
      "[('clothed.a.01', 0.2302962468802881), ('busy.a.01', 0.22930095475453216), ('covered.a.01', 0.219025675618927), ('heavy.a.01', 0.20749793146852147), ('experienced.a.01', 0.20338786825387173), ('affected.a.01', 0.18867313060161872), ('active.a.03', 0.17924688026636332), ('visible.a.01', 0.17472462286340498), ('heavy.a.04', 0.16004797618931815), ('stressed.a.02', 0.15305906321978352)]\n",
      "[('harmless.a.01', -0.1537984253997058), ('auspicious.a.01', -0.15603754767041586), ('quiet.a.02', -0.15667051373894447), ('capitalistic.a.01', -0.15725929069852884), ('defiant.a.01', -0.16001385997621265), ('assertive.a.01', -0.16640615169659442), ('pleasing.a.01', -0.17419947414924292), ('reasonable.a.01', -0.19200510196082082), ('moral.a.01', -0.19343655301123647), ('optimistic.a.01', -0.20350268094208734)]\n"
     ]
    }
   ],
   "source": [
    "print(word_poles['beta'].most_common()[:10])\n",
    "print(word_poles['beta'].most_common()[-10:])"
   ]
  },
  {
   "cell_type": "code",
   "execution_count": 11,
   "id": "8010c8ef",
   "metadata": {},
   "outputs": [
    {
     "name": "stdout",
     "output_type": "stream",
     "text": [
      "[('visible.a.01', 0.22309017709915227), ('tough.a.01', 0.213360012645474), ('settled.a.02', 0.19296624720667427), ('used.a.01', 0.1857999460473453), ('inclined.a.02', 0.1457751942450308), ('genuine.a.01', 0.144264839289096), ('heavy.a.04', 0.13563279490208444), ('mature.a.01', 0.12739001348117515), ('mindful.a.01', 0.12420469830860567), ('definite.a.01', 0.12353489816582765)]\n",
      "[('enchanted.a.01', -0.1297488955033736), ('smooth.a.01', -0.13000566120988905), ('serviceable.a.01', -0.1453235611522138), ('east.a.01', -0.15217072046089813), ('assertive.a.01', -0.1561224887165856), ('optimistic.a.01', -0.1587276536999621), ('foreign.a.02', -0.16007725646172424), ('blond.a.01', -0.16609265606499185), ('enthusiastic.a.01', -0.17101999786777775), ('vertical.a.01', -0.1960913578840736)]\n"
     ]
    }
   ],
   "source": [
    "print(word_poles['escort'].most_common()[:10])\n",
    "print(word_poles['escort'].most_common()[-10:])"
   ]
  },
  {
   "cell_type": "code",
   "execution_count": 12,
   "id": "aa948386",
   "metadata": {},
   "outputs": [
    {
     "name": "stdout",
     "output_type": "stream",
     "text": [
      "[('stressed.a.02', 0.1642349879986019), ('communicative.a.02', 0.1548538037300795), ('shod.a.01', 0.1543340554310427), ('inclined.a.02', 0.147667724371479), ('used.a.01', 0.11680373567631179), ('nascent.a.01', 0.11622444489836678), ('practical.a.01', 0.11315294289782041), ('clothed.a.01', 0.11043103649144768), ('androgynous.a.02', 0.1101759594250323), ('worthy.a.01', 0.10829729959320025)]\n",
      "[('prejudiced.a.02', -0.11483809209471618), ('refined.a.01', -0.11657568793466172), ('rural.a.01', -0.12230937551930993), ('sincere.a.01', -0.1348905506471321), ('enthusiastic.a.01', -0.14627547671047186), ('pleasing.a.01', -0.1476187306605714), ('vertical.a.01', -0.1505769589603431), ('indulgent.a.01', -0.17271745348962464), ('womanly.a.01', -0.2510947708161832), ('blond.a.01', -0.26228053180066013)]\n"
     ]
    }
   ],
   "source": [
    "print(word_poles['wife'].most_common()[:10])\n",
    "print(word_poles['wife'].most_common()[-10:])"
   ]
  },
  {
   "cell_type": "code",
   "execution_count": 13,
   "id": "b2c58765",
   "metadata": {},
   "outputs": [
    {
     "name": "stdout",
     "output_type": "stream",
     "text": [
      "[('tough.a.01', 0.17081688060138467), ('heavy.a.04', 0.16985555976159045), ('shod.a.01', 0.16921350151419515), ('formal.a.01', 0.16257934295405002), ('rational.a.01', 0.1539584724003656), ('clearheaded.a.01', 0.15095418273110356), ('practical.a.01', 0.14949227852479552), ('used.a.01', 0.13713366262867435), ('functional.a.01', 0.13655726047751593), ('live.a.01', 0.13282821636469758)]\n",
      "[('publicized.a.01', -0.16861678299034474), ('indulgent.a.01', -0.1689884056297398), ('fashionable.a.01', -0.17495802324450085), ('assertive.a.01', -0.1790488263955755), ('blond.a.01', -0.18400036903294198), ('honorable.a.02', -0.19386016991548416), ('capitalistic.a.01', -0.20089025110473818), ('enchanted.a.01', -0.2038839316617339), ('optimistic.a.01', -0.219878418645344), ('enthusiastic.a.01', -0.2702015404193948)]\n"
     ]
    }
   ],
   "source": [
    "print(word_poles['celebrities'].most_common()[:10])\n",
    "print(word_poles['celebrities'].most_common()[-10:])"
   ]
  },
  {
   "cell_type": "code",
   "execution_count": 14,
   "id": "bf230a09",
   "metadata": {},
   "outputs": [
    {
     "name": "stdout",
     "output_type": "stream",
     "text": [
      "[('tough.a.01', 0.1805231952555273), ('present.a.01', 0.16453077107531805), ('modern.a.01', 0.1598416223346724), ('tough.a.03', 0.1524890905554785), ('used.a.01', 0.1516182763602973), ('surface.a.01', 0.1467284602966408), ('androgynous.a.02', 0.14105737420570597), ('shod.a.01', 0.13003690030581358), ('empirical.a.01', 0.12563998245363733), ('settled.a.02', 0.11645714677201925)]\n",
      "[('refined.a.01', -0.15650710977105559), ('moral.a.01', -0.1566110449753308), ('glorious.a.01', -0.15852079714472445), ('assertive.a.01', -0.17072084941067336), ('rhetorical.a.02', -0.1747360461794557), ('honorable.a.02', -0.17498177536861484), ('auspicious.a.01', -0.1800081524016834), ('gracious.a.01', -0.190434756294191), ('pleasing.a.01', -0.19060802410015823), ('noble.a.02', -0.43068912052829506)]\n"
     ]
    }
   ],
   "source": [
    "print(word_poles['princes'].most_common()[:10])\n",
    "print(word_poles['princes'].most_common()[-10:])"
   ]
  },
  {
   "cell_type": "code",
   "execution_count": 15,
   "id": "d0d910f7",
   "metadata": {},
   "outputs": [
    {
     "name": "stdout",
     "output_type": "stream",
     "text": [
      "[('fragrant.a.01', 0.23376121381115872), ('clean.a.01', 0.23125052308491592), ('superior.a.01', 0.22022119417854905), ('educated.a.01', 0.21966800373108855), ('mindful.a.01', 0.2182822500174266), ('busy.a.01', 0.21826220544904631), ('settled.a.02', 0.21495180240785697), ('modest.a.01', 0.21196934804280826), ('careful.a.01', 0.20642503539056628), ('humorous.a.01', 0.20533699336294906)]\n",
      "[('nonproprietary.a.01', -0.12804204739587602), ('wet.a.01', -0.13109088872897956), ('proud.a.01', -0.14986895208471712), ('moral.a.01', -0.1507341828212458), ('simple.a.01', -0.15215763433495405), ('conscious.a.02', -0.15456060351936168), ('prejudiced.a.02', -0.1595962284843616), ('selfish.a.01', -0.2134563069472661), ('ordinary.a.01', -0.23051900162149913), ('fat.a.01', -0.23554981095825875)]\n"
     ]
    }
   ],
   "source": [
    "print(word_poles['normies'].most_common()[:10])\n",
    "print(word_poles['normies'].most_common()[-10:])"
   ]
  },
  {
   "cell_type": "code",
   "execution_count": 16,
   "id": "8392095f",
   "metadata": {},
   "outputs": [
    {
     "name": "stdout",
     "output_type": "stream",
     "text": [
      "[('clean.a.01', 0.2604844388082124), ('serious.a.01', 0.2527842823082931), ('definite.a.01', 0.24164403889662878), ('conventional.a.04', 0.23772145187427085), ('abstemious.a.01', 0.22977715695462214), ('careful.a.01', 0.216644847990057), ('gracious.a.01', 0.21475233326039692), ('cautious.a.01', 0.21308335759125957), ('tasteful.a.01', 0.2048277942128987), ('busy.a.01', 0.20080071600078564)]\n",
      "[('cheerful.a.01', -0.13711930530631397), ('flexible.a.02', -0.13992376426055217), ('quiet.a.01', -0.14082034815067648), ('flexible.a.01', -0.1432322652076855), ('nonproprietary.a.01', -0.1515342433042608), ('changeable.a.02', -0.15319182252356459), ('indulgent.a.01', -0.16091865765036034), ('simple.a.01', -0.17922892126620177), ('proud.a.01', -0.216327865672561), ('fat.a.01', -0.281288708181036)]\n"
     ]
    }
   ],
   "source": [
    "print(word_poles['simps'].most_common()[:10])\n",
    "print(word_poles['simps'].most_common()[-10:])"
   ]
  },
  {
   "cell_type": "code",
   "execution_count": 17,
   "id": "ab70ee11",
   "metadata": {},
   "outputs": [
    {
     "name": "stdout",
     "output_type": "stream",
     "text": [
      "[('used.a.01', 0.2738366691962819), ('clothed.a.01', 0.23937097872188579), ('settled.a.02', 0.2291109180309099), ('genuine.a.01', 0.20774164855996033), ('reputable.a.01', 0.2034176074242275), ('free.a.01', 0.20046270103216252), ('safe.a.01', 0.19728634455816058), ('superior.a.01', 0.18511084056671884), ('visible.a.01', 0.18354977985627313), ('careful.a.01', 0.1824616231531639)]\n",
      "[('assertive.a.01', -0.1599361735706449), ('capitalistic.a.01', -0.16414326236623333), ('tired.a.01', -0.17383875787119737), ('optimistic.a.01', -0.17687235032425183), ('commercial.a.01', -0.18044915161152808), ('corrupt.a.01', -0.18965010845156033), ('womanly.a.01', -0.19693576109523947), ('blond.a.01', -0.1993103340935537), ('indulgent.a.01', -0.21088796861255577), ('prejudiced.a.02', -0.26173099058036536)]\n"
     ]
    }
   ],
   "source": [
    "print(word_poles['prostitute'].most_common()[:10])\n",
    "print(word_poles['prostitute'].most_common()[-10:])"
   ]
  },
  {
   "cell_type": "code",
   "execution_count": 18,
   "id": "f4a1c4c5",
   "metadata": {},
   "outputs": [
    {
     "name": "stdout",
     "output_type": "stream",
     "text": [
      "[('soured.a.01', 0.2993762680324553), ('old.a.01', 0.24585196920696173), ('large.a.01', 0.23454624090201942), ('demanding.a.01', 0.20686306185232417), ('busy.a.01', 0.197643275722586), ('distant.a.02', 0.189853979436521), ('used.a.01', 0.18674327001249796), ('tough.a.03', 0.1843033060276611), ('much.a.01', 0.1842825865919937), ('cursed.a.01', 0.17506098967106104)]\n",
      "[('reasonable.a.01', -0.20029725604609822), ('sympathetic.a.04', -0.20576029865844586), ('exculpatory.a.01', -0.2085969624311667), ('refined.a.01', -0.22853918654971514), ('beautiful.a.01', -0.23545727870178343), ('sincere.a.01', -0.2519843280077457), ('optimistic.a.01', -0.2563437773193954), ('pleasing.a.01', -0.2725066810670002), ('kind.a.01', -0.2763736927813124), ('lovable.a.01', -0.3158886668571521)]\n"
     ]
    }
   ],
   "source": [
    "print(word_poles['sweet girl'].most_common()[:10])\n",
    "print(word_poles['sweet girl'].most_common()[-10:])"
   ]
  },
  {
   "cell_type": "code",
   "execution_count": 19,
   "id": "6c0dd677",
   "metadata": {},
   "outputs": [
    {
     "name": "stdout",
     "output_type": "stream",
     "text": [
      "[('definite.a.01', 0.1942506848860781), ('clean.a.01', 0.1673035189706998), ('improved.a.01', 0.16144572589832623), ('motivated.a.01', 0.152628178859815), ('conventional.a.04', 0.14834912226141417), ('assisted.a.01', 0.14402170982564783), ('gracious.a.01', 0.14375817406252167), ('exempt.a.01', 0.1386175631587233), ('meaningful.a.01', 0.1376077435672449), ('stable.a.01', 0.13545902803716559)]\n",
      "[('strange.a.01', -0.10258656068959875), ('flexible.a.02', -0.10486797902865443), ('satisfactory.a.01', -0.11070000339932176), ('thinkable.a.01', -0.11700241756682321), ('credulous.a.01', -0.12267252067925646), ('fat.a.01', -0.12638101965574716), ('nonproprietary.a.01', -0.12937259858528127), ('old.a.02', -0.13903732562136084), ('same.a.01', -0.15038574864936355), ('distant.a.01', -0.20976531914767527)]\n"
     ]
    }
   ],
   "source": [
    "print(word_poles['thot'].most_common()[:10])\n",
    "print(word_poles['thot'].most_common()[-10:])"
   ]
  },
  {
   "cell_type": "code",
   "execution_count": 20,
   "id": "088414c6",
   "metadata": {},
   "outputs": [
    {
     "name": "stdout",
     "output_type": "stream",
     "text": [
      "[('stressed.a.02', 0.2689686041765973), ('androgynous.a.02', 0.26615011162215274), ('used.a.01', 0.17418508989923898), ('shod.a.01', 0.17415410665801528), ('heavy.a.04', 0.15623034942651035), ('clothed.a.01', 0.14830480731774676), ('worthy.a.01', 0.14272245389365118), ('resolute.a.01', 0.13329823016528006), ('sacred.a.01', 0.13287332282955855), ('protected.a.01', 0.12342149919623766)]\n",
      "[('selfish.a.01', -0.12718445486502283), ('capitalistic.a.01', -0.12951324600671643), ('hot.a.03', -0.1325397538418296), ('graceful.a.01', -0.1355055651284687), ('pleasing.a.01', -0.13815785044580048), ('indulgent.a.01', -0.17790987421169782), ('shapely.a.01', -0.18686821149604158), ('prejudiced.a.02', -0.2406379872123752), ('blond.a.01', -0.32147493747143213), ('womanly.a.01', -0.5140653893774207)]\n"
     ]
    }
   ],
   "source": [
    "print(word_poles['women'].most_common()[:10])\n",
    "print(word_poles['women'].most_common()[-10:])"
   ]
  },
  {
   "cell_type": "markdown",
   "id": "a56edd5e",
   "metadata": {},
   "source": [
    "# Variance within gender"
   ]
  },
  {
   "cell_type": "code",
   "execution_count": 332,
   "id": "ee347392",
   "metadata": {},
   "outputs": [],
   "source": [
    "fem_variance = Counter() # {pole: variance of fem terms}\n",
    "fem_extremes = defaultdict(tuple) # {pole: (top N terms, bottom N terms)}\n",
    "masc_variance = Counter() \n",
    "masc_extremes = defaultdict(tuple)\n",
    "fem_scores = defaultdict(list) # {pole: scores in order of x_words}\n",
    "masc_scores = defaultdict(list) # {pole: scores in order of y_words}\n",
    "N = 10\n",
    "for pole in scores: \n",
    "    s = scores[pole]\n",
    "    x = [] # fem scores\n",
    "    x_words = []\n",
    "    y = [] # masc scores\n",
    "    y_words = []\n",
    "    for i, term in enumerate(vocab_order): \n",
    "        term = term.strip()\n",
    "        if term in gender_labels: \n",
    "            if gender_labels[term] > 0.75: \n",
    "                x.append(s[i])\n",
    "                x_words.append(term)\n",
    "            elif gender_labels[term] < 0.25: \n",
    "                y.append(s[i])\n",
    "                y_words.append(term)\n",
    "    fem_variance[pole] = np.var(x)\n",
    "    indices = np.argpartition(x, -N)[-N:]\n",
    "    topN = [x_words[idx].strip() for idx in indices]\n",
    "    indices = np.argpartition(x, N)[:N]\n",
    "    bottomN = [x_words[idx].strip() for idx in indices]\n",
    "    fem_extremes[pole] = (topN, bottomN, min(x), max(x))\n",
    "    fem_scores[pole] = x\n",
    "    \n",
    "    masc_variance[pole] = np.var(y)\n",
    "    indices = np.argpartition(y, -N)[-N:]\n",
    "    topN = [y_words[idx].strip() for idx in indices]\n",
    "    indices = np.argpartition(y, N)[:N]\n",
    "    bottomN = [y_words[idx].strip() for idx in indices]\n",
    "    masc_extremes[pole] = (topN, bottomN, min(y), max(y))\n",
    "    masc_scores[pole] = y"
   ]
  },
  {
   "cell_type": "code",
   "execution_count": 333,
   "id": "faf4af2b",
   "metadata": {},
   "outputs": [
    {
     "name": "stdout",
     "output_type": "stream",
     "text": [
      "('womanly.a.01', 0.0207367739111438)\n",
      "TOP: ['debbie downer', 'creepy stalker', 'harlot', 'fuckbuddy', 'harlots', 'tomboys', 'downer', 'hambeast', 'hambeasts', 'tomboy']\n",
      "BOTTOM: ['female', 'feminine woman', 'female gender', 'feminine women', 'female feminist', 'women', 'feminist women', 'masculine women', 'women women', 'females']\n",
      "-0.5856429849438389 0.36751912466938597\n",
      "\n",
      "('androgynous.a.02', 0.01048472108047411)\n",
      "TOP: ['1 female', 'black females', 'female', 'white females', 'female gender', 'female one', 'two females', 'females', 'more females', 'female humans']\n",
      "BOTTOM: ['nympho', 'noodlewhores', 'noodlewhore', 'supermodel', 'supermodels', 'manipulative bitch', 'stepmom', 'harlots', 'harlot', 'tomboy']\n",
      "-0.19918680740902128 0.4108695695846027\n",
      "\n",
      "('lovable.a.01', 0.010376138902053338)\n",
      "TOP: ['female supremacist', 'degenerate whores', 'protester', 'stupid cunts', 'woman hater', 'accusers', 'woman haters', 'false accusers', 'women haters', 'cunts']\n",
      "BOTTOM: ['cute one', 'cute friend', 'sweet girl', 'beautiful wife', 'cute girl', 'beautiful girl', 'beautiful girls', 'little princess', 'sweetie', 'baby girl']\n",
      "-0.3158886668571521 0.4004010633757613\n",
      "\n",
      "('reputable.a.01', 0.008525157638178259)\n",
      "TOP: ['dumb slut', 'club sluts', 'slutty girls', 'slutty girl', 'cheating slut', 'slutty women', 'slut', 'sluts', 'dumb sluts', 'dirty slut']\n",
      "BOTTOM: ['great mother', 'good mothers', 'great dancer', 'great women', 'good wives', 'great wife', 'great woman', 'qualified women', 'wonderful woman', 'good mom']\n",
      "-0.14964813563467744 0.4022180094944489\n",
      "\n",
      "('wholesome.a.01', 0.00843521055871161)\n",
      "TOP: ['fucking slut', 'stupid cunts', 'biggest sluts', 'degenerate whores', 'manipulative bitch', 'stupid slut', 'dirty slut', 'dumb slut', 'dumb sluts', 'evil bitch']\n",
      "BOTTOM: ['homemaker', 'homemakers', 'healthy woman', 'healthy women', 'fertile women', 'quality woman', 'companion', 'quality women', 'intelligent woman', 'happy wife']\n",
      "-0.24472081446745786 0.3657217434203625\n",
      "\n",
      "('clean.a.01', 0.007831925252821238)\n",
      "TOP: ['ugly cunt', 'fattie', 'bar sluts', 'hambeast', 'sloot', 'fuckbuddy', 'sissy', 'hambeasts', 'club sluts', 'harlots']\n",
      "BOTTOM: ['loyal woman', 'healthy woman', 'female president', 'perfect woman', 'loyal wife', 'healthy women', 'perfect wife', 'woman president', 'loving wife', 'housekeeper']\n",
      "-0.12854343965843157 0.3400276884051787\n",
      "\n",
      "('conventional.a.04', 0.007581305991350485)\n",
      "TOP: ['crazy girl', 'sloot', 'chics', 'cutie', 'chic', 'debbie downer', 'fuckbuddy', 'sissy', 'tinder girl', 'tinderella']\n",
      "BOTTOM: ['average female', 'most women', 'average women', 'average woman', 'female counterparts', 'female peers', 'most feminists', 'heterosexual women', 'typical women', 'mainstream feminists']\n",
      "-0.19416805965222145 0.3009912181359369\n",
      "\n",
      "('beautiful.a.01', 0.007578161991001737)\n",
      "TOP: ['false accuser', 'women haters', 'oppressed women', 'accusers', 'female rapist', 'female rapists', 'female abusers', 'fat pig', 'evil bitch', 'degenerate whores']\n",
      "BOTTOM: ['great girl', 'amazing girl', 'great girlfriend', 'beautiful wife', 'gorgeous girl', 'beautiful girl', 'gorgeous girls', 'great wife', 'great girls', 'sweet girl']\n",
      "-0.27379093296445667 0.28227535855584\n",
      "\n",
      "('proud.a.01', 0.00705904923835677)\n",
      "TOP: ['poor women', 'female victims', 'teens', '17 women', 'female prisoners', 'women victims', 'fewer women', 'zero women', 'few women', 'most females']\n",
      "BOTTOM: ['harlot', 'prude', 'manipulative women', 'manipulative bitch', 'harlots', 'tomboy', 'prudes', 'dominatrix', 'degenerate whores', 'cunts']\n",
      "-0.4072820215301625 0.10987524037137289\n",
      "\n",
      "('straight.a.06', 0.006934881650156797)\n",
      "TOP: ['crack whore', 'lying cunt', 'sluts', 'wife beaters', 'dumb sluts', 'cheating slut', 'degenerate whores', 'manipulative bitch', 'manipulative women', 'dirty slut']\n",
      "BOTTOM: ['heterosexual women', 'straight women', 'straight woman', 'muse', 'true feminist', 'sane women', 'real feminist', 'straight girls', 'normal woman', 'most chicks']\n",
      "-0.14100894371059372 0.35636713845941614\n",
      "\n",
      "('competent.a.01', 0.006926532481046312)\n",
      "TOP: ['stupid slut', 'total slut', 'dumb sluts', 'sluts', 'unattractive girl', 'unattractive girls', 'unattractive woman', 'unattractive women', 'degenerate whores', 'harlots']\n",
      "BOTTOM: ['good pussy', 'female judge', 'female lawyer', 'human females', 'female therapist', 'human female', 'female doctor', 'female judges', 'female president', 'better girls']\n",
      "-0.16084060889425078 0.363279329191092\n",
      "\n",
      "('old.a.01', 0.006892988340014167)\n",
      "TOP: ['baby girl', 'teenage girl', 'teenage daughter', 'teen', 'young daughter', 'little girls', 'little girl', 'toddlers', 'toddler', 'young teen']\n",
      "BOTTOM: ['old lady', 'last ex', 'cleaning lady', 'old ex', 'old hag', 'red queen', 'ex gf', 'old hags', 'old ladies', 'fatty']\n",
      "-0.1389097417885981 0.5568596093610515\n",
      "\n",
      "('cautious.a.01', 0.00685249614484301)\n",
      "TOP: ['promiscuous women', 'manipulative bitch', 'promiscuous woman', 'harlot', 'harlots', 'unattractive woman', 'manipulative women', 'unattractive girl', 'unattractive girls', 'unattractive women']\n",
      "BOTTOM: ['becky', 'stacy', 'nurses', 'nurse', 'stacey', 'librarian', 'female prisoners', 'female judge', 'escorts', 'cougars']\n",
      "-0.1283407570569997 0.41038705219589544\n",
      "\n",
      "('prejudiced.a.02', 0.0066778274436363454)\n",
      "TOP: ['midwife', 'receptionists', 'matriarch', 'babysitters', 'surrogates', 'chaperone', 'paralegal', 'babysitter', 'surrogate mother', 'surrogate']\n",
      "BOTTOM: ['female rapists', 'gay women', 'women haters', 'abusive women', 'female abusers', 'raped women', 'abused women', 'sex offenders', 'violent women', 'woman haters']\n",
      "-0.40283961695139414 0.11772141205539903\n",
      "\n",
      "('intellectual.a.02', 0.006601855575763878)\n",
      "TOP: ['noodle whores', 'succubus', 'hambeasts', 'concubine', 'harlot', 'promiscuous woman', 'noodlewhores', 'noodlewhore', 'degenerate whores', 'harlots']\n",
      "BOTTOM: ['intelligent woman', 'interesting women', 'good pussy', 'great dancer', 'interesting girl', 'great women', 'interesting girls', 'celebrities', 'nice woman', 'entertainer']\n",
      "-0.1300063433405586 0.3730808596098844\n",
      "\n",
      "('humane.a.02', 0.00653619830347797)\n",
      "TOP: ['manipulative women', 'ugly bitch', 'bad bitch', 'cheating whores', 'dirty slut', 'manipulative bitch', 'evil bitch', 'degenerate whores', 'horrible women', 'dirty whore']\n",
      "BOTTOM: ['western feminists', 'early feminists', 'liberal feminists', 'moderate feminists', 'academic feminists', 'radical feminists', 'gender feminists', 'radical feminist', 'mainstream feminists', 'modern feminists']\n",
      "-0.257414534963713 0.27536789460270455\n",
      "\n",
      "('reasonable.a.01', 0.006493671729336511)\n",
      "TOP: ['unattractive woman', 'false accuser', 'wife beaters', 'accuser', 'accusers', 'degenerate whores', 'harlots', 'female abusers', 'total slut', 'false accusers']\n",
      "BOTTOM: ['intelligent woman', 'smart girl', 'smart woman', 'intelligent women', 'smart women', 'sane women', 'healthy woman', 'smart girls', 'healthy women', 'fatty']\n",
      "-0.30286646960230007 0.2512111376483978\n",
      "\n",
      "('nice.a.01', 0.006443932426143307)\n",
      "TOP: ['dumb sluts', 'horrible women', 'fucking sluts', 'fucking slut', 'ugly cunt', 'biggest sluts', 'stupid cunts', 'dirty whore', 'degenerate whores', 'dirty slut']\n",
      "BOTTOM: ['hostess', 'happy wife', 'nana', 'companions', 'nice woman', 'nice lady', 'nice girl', 'companion', 'unicorn', 'receptionist']\n",
      "-0.12770267392954726 0.36142299562780256\n",
      "\n",
      "('intended.a.01', 0.006362993461432345)\n",
      "TOP: ['promiscuous women', 'stepdaughter', 'promiscuous woman', 'degenerate whores', 'harlot', 'unattractive girls', 'unattractive women', 'unattractive woman', 'harlots', 'unattractive girl']\n",
      "BOTTOM: ['female judges', 'female comedians', 'female therapist', 'muse', 'female judge', 'stacey', 'female politicians', 'female managers', 'religious girls', 'dancers']\n",
      "-0.2068017765253252 0.3581257122996963\n",
      "\n",
      "('good.a.03', 0.006334989818543344)\n",
      "TOP: ['evil women', 'ugly bitch', 'lying cunt', 'degenerate whores', 'evil bitch', 'psycho bitch', 'ugly cunt', 'evil woman', 'stupid cunts', 'dirty whore']\n",
      "BOTTOM: ['good mom', 'lifeguard', 'homemakers', 'homemaker', 'great mother', 'good mother', 'good mothers', 'loving wife', 'home mom', 'good girl']\n",
      "-0.14094122068187284 0.36238062217576894\n",
      "\n"
     ]
    }
   ],
   "source": [
    "for tup in fem_variance.most_common(20): \n",
    "    print(tup)\n",
    "    pole = tup[0]\n",
    "    topN, bottomN, mi, ma = fem_extremes[pole]\n",
    "    print(\"TOP:\", topN)\n",
    "    print(\"BOTTOM:\", bottomN)\n",
    "    print(mi, ma)\n",
    "    print()"
   ]
  },
  {
   "cell_type": "code",
   "execution_count": 334,
   "id": "0a1f7dcf",
   "metadata": {},
   "outputs": [
    {
     "name": "stdout",
     "output_type": "stream",
     "text": [
      "('androgynous.a.02', 0.012188110400550777)\n",
      "TOP: ['male members', 'male character', 'dominant male', 'white males', 'male players', 'one male', 'dominant males', 'masculine male', 'male', 'males']\n",
      "BOTTOM: ['fucking hypocrites', 'hypocrite', 'fucking hypocrite', 'tenmagnet', 'manipulator', 'hypocrites', 'chiropractor', 'manipulators', 'charlatan', 'endocrinologist']\n",
      "-0.2604874475023576 0.44170802824635863\n",
      "\n",
      "('womanly.a.01', 0.01105276724502953)\n",
      "TOP: ['introvert', 'introverted guy', 'faggots', 'little faggot', 'nutter', 'faggot', 'buffoon', 'goober', 'wimp', 'wanker']\n",
      "BOTTOM: ['male gender', 'feminist man', 'feminine men', 'feminist leaders', 'male feminist', 'feminist men', 'male feminists', 'masculine male', 'male nurses', 'masculine men']\n",
      "-0.5029534793157493 0.29910455279596726\n",
      "\n",
      "('reputable.a.01', 0.009900774126213017)\n",
      "TOP: ['chump', 'snitch', 'serial rapist', 'schmuck', 'misogynist', 'misogynists', 'mugger', 'muggers', 'wimp', 'wimps']\n",
      "BOTTOM: ['great leader', 'successful people', 'good actor', 'mentors', 'great people', 'great men', 'great man', 'good leader', 'good captain', 'great person']\n",
      "-0.22716405597214687 0.3987890193065139\n",
      "\n",
      "('lovable.a.01', 0.009518692849910448)\n",
      "TOP: ['adversaries', 'zealot', 'asshats', 'misogynist', 'zealots', 'haters', 'hater', 'perpetrator', 'traitors', 'misogynists']\n",
      "BOTTOM: ['sweet guy', 'little bro', 'pretty boy', 'little angel', 'beautiful man', 'prince charming', 'pretty boys', 'little kids', 'baby boy', 'little guy']\n",
      "-0.2916932595371912 0.3965976053049023\n",
      "\n",
      "('wholesome.a.01', 0.00925771584422821)\n",
      "TOP: ['schmuck', 'sick fucks', 'misogynists', 'hypocrite', 'misogynist', 'buffoon', 'fucking hypocrites', 'fucking hypocrite', 'zealot', 'zealots']\n",
      "BOTTOM: ['healthy male', 'healthy man', 'farmer', 'financial advisor', 'farmers', 'healthy men', 'intact men', 'economists', 'personal trainers', 'successful person']\n",
      "-0.24359662484688357 0.3695135063377389\n",
      "\n",
      "('intellectual.a.02', 0.00856525720854899)\n",
      "TOP: ['fucking hypocrites', 'circumcised men', 'serf', 'misogynist', 'misogynists', 'hypocrite', 'hypocrites', 'fucking hypocrite', 'uncircumcised men', 'circumcised man']\n",
      "BOTTOM: ['good leader', 'consultants', 'good actor', 'good player', 'good captain', 'mathematicians', 'good doctor', 'intelligent guy', 'best players', 'programmers']\n",
      "-0.19463256021254127 0.3470383529052146\n",
      "\n",
      "('straight.a.06', 0.008359399909709119)\n",
      "TOP: ['wimp', 'gangsters', 'mugger', 'bullies', 'snitch', 'schmuck', 'adversaries', 'crooks', 'goons', 'muggers']\n",
      "BOTTOM: ['intact men', 'straight males', 'typical afc', 'true alpha', 'straight male', 'true mgtow', 'male nurses', 'complete afc', 'yes men', 'true chad']\n",
      "-0.1379163891211252 0.46113729026326256\n",
      "\n",
      "('cautious.a.01', 0.008325457101418179)\n",
      "TOP: ['douche bag', 'wimp', 'unattractive man', 'unattractive guys', 'unattractive guy', 'unattractive men', 'cuckolds', 'unattractive people', 'cuckold', 'unattractive person']\n",
      "BOTTOM: ['prisoner', 'prisoners', 'foreman', 'trainers', 'warden', 'policemen', 'inmates', 'historians', 'monarchs', 'handler']\n",
      "-0.18050248197000057 0.424798628009575\n",
      "\n",
      "('clean.a.01', 0.008263384575543091)\n",
      "TOP: ['misogynists', 'fags', 'wimp', 'fag', 'schmuck', 'little faggot', 'faggots', 'badboy', 'faggot', 'fucking faggot']\n",
      "BOTTOM: ['loving father', 'male leadership', 'intact men', 'martyrs', 'presidents', 'complete afc', 'natural alpha', 'strong leader', 'same person', 'true alpha']\n",
      "-0.13608913524900607 0.384021668527844\n",
      "\n",
      "('faithful.a.01', 0.008171472597128821)\n",
      "TOP: ['circumcised men', 'cuckolds', 'circumcised man', 'uncircumcised men', 'misogynist', 'misogynists', 'undesirable men', 'hypocrite', 'cuckold', 'hypocrites']\n",
      "BOTTOM: ['strong leader', 'true chad', 'good captain', 'good leader', 'kind sir', 'true alpha', 'advisors', 'strong person', 'strong people', 'comrades']\n",
      "-0.21864266938934956 0.3974211391720257\n",
      "\n",
      "('old.a.01', 0.00816922294783811)\n",
      "TOP: ['kid', 'baby boy', 'teenage boy', 'little boy', 'little boys', 'little kid', 'youngster', 'young boy', 'little kids', 'young kid']\n",
      "BOTTOM: ['black knight', 'old sage', 'bald man', 'old boss', 'bald guy', 'turks', 'white knights', 'turk', 'texan', 'white chad']\n",
      "-0.19514360263042813 0.5113171177238965\n",
      "\n",
      "('beautiful.a.01', 0.008147372994117505)\n",
      "TOP: ['zealots', 'mass murderers', 'mass murderer', 'sadists', 'satanist', 'satanists', 'murderers', 'serial rapists', 'serial rapist', 'perpetrator']\n",
      "BOTTOM: ['amazing guy', 'quality guy', 'great guy', 'beautiful man', 'great guys', 'amazing man', 'sweet guy', 'wonderful man', 'good guy', 'best guys']\n",
      "-0.25951401286184117 0.3044481796560223\n",
      "\n",
      "('prejudiced.a.02', 0.008065454137783574)\n",
      "TOP: ['beginner', 'manipulator', 'layman', 'public defender', 'specialists', 'chauffeur', 'attorney general', 'consultant', 'intelligent person', 'saviour']\n",
      "BOTTOM: ['homosexual men', 'gay males', 'gay guys', 'gay guy', 'gay dude', 'gay men', 'trans men', 'gay people', 'abused men', 'abusive men']\n",
      "-0.3888753071461612 0.1488056237548509\n",
      "\n",
      "('competent.a.01', 0.00802452003844264)\n",
      "TOP: ['autist', 'unattractive person', 'unattractive man', 'misogynist', 'misogynists', 'hypocrites', 'hypocrite', 'unattractive people', 'wimp', 'undesirable men']\n",
      "BOTTOM: ['mage', 'specialist', 'good doctor', 'afc friends', 'healthy male', 'good alpha', 'natural alpha', 'specialists', 'male therapist', 'dh']\n",
      "-0.1812152759362137 0.3591657500057476\n",
      "\n",
      "('subordinate.a.02', 0.007963409418881249)\n",
      "TOP: ['cuckold', 'unattractive people', 'unattractive males', 'unattractive man', 'unattractive male', 'undesirable men', 'unattractive guys', 'unattractive person', 'unattractive guy', 'unattractive men']\n",
      "BOTTOM: ['advisor', 'vp', 'consultant', 'client', 'mage', 'advisors', 'sigma', 'monarchs', 'dh', 'consultants']\n",
      "-0.24274051226116372 0.4334710019002802\n",
      "\n",
      "('educated.a.01', 0.007917420864930342)\n",
      "TOP: ['unattractive guy', 'unattractive person', 'unattractive man', 'uncircumcised men', 'unattractive guys', 'unattractive men', 'unattractive males', 'unattractive male', 'unattractive people', 'undesirable men']\n",
      "BOTTOM: ['scholars', 'feedback guys', 'smart man', 'mentor', 'smart kid', 'educated man', 'scholar', 'smart guy', 'avid reader', 'good player']\n",
      "-0.2083950841235108 0.4556076849561242\n",
      "\n",
      "('reasonable.a.01', 0.007884962386084276)\n",
      "TOP: ['hypocrite', 'snitch', 'fucking hypocrites', 'adversaries', 'traitors', 'felons', 'hypocrites', 'perpetrator', 'imposter', 'undesirable men']\n",
      "BOTTOM: ['smart person', 'intelligent guy', 'healthy man', 'intelligent person', 'intelligent man', 'rational male', 'smart man', 'thinking man', 'intelligent people', 'confident person']\n",
      "-0.35489330639386335 0.34694763892431246\n",
      "\n",
      "('serious.a.01', 0.00768356866548704)\n",
      "TOP: ['cocksucker', 'cuckolds', 'goober', 'dweeb', 'faggots', 'cuckold', 'wimp', 'little faggot', 'faggot', 'dweebs']\n",
      "BOTTOM: ['stronger man', 'honest man', 'mature man', 'true men', 'true man', 'strong man', 'good man', 'strong person', 'healthy man', 'christian men']\n",
      "-0.2723124957920057 0.3215419628036681\n",
      "\n",
      "('gracious.a.01', 0.007652131437258652)\n",
      "TOP: ['nutjob', 'misogynists', 'faggots', 'misogynist', 'wimp', 'dweeb', 'complete retard', 'cuckold', 'retard', 'cuckolds']\n",
      "BOTTOM: ['prophets', 'prophet', 'princes', 'monarchs', 'sultan', 'monarch', 'architects', 'priests', 'pianist', 'beautiful man']\n",
      "-0.21592479029625367 0.3102260830147038\n",
      "\n",
      "('conventional.a.04', 0.007618682937190801)\n",
      "TOP: ['nigga', 'dipshits', 'pickup artists', 'dipshit', 'nutjob', 'homie', 'dj', 'djs', 'badboy', 'goober']\n",
      "BOTTOM: ['male counterparts', 'most men', 'male peers', 'average male', 'most males', 'average men', 'average males', 'male gender', 'only males', 'average person']\n",
      "-0.2340365933959002 0.30603466160892\n",
      "\n"
     ]
    }
   ],
   "source": [
    "for tup in masc_variance.most_common(20): \n",
    "    print(tup)\n",
    "    pole = tup[0]\n",
    "    topN, bottomN, mi, ma = masc_extremes[pole]\n",
    "    print(\"TOP:\", topN)\n",
    "    print(\"BOTTOM:\", bottomN)\n",
    "    print(mi, ma)\n",
    "    print()"
   ]
  },
  {
   "cell_type": "markdown",
   "id": "8194188b",
   "metadata": {},
   "source": [
    "## Axes similarities for each clusters' highly gendered terms"
   ]
  },
  {
   "cell_type": "code",
   "execution_count": 172,
   "id": "5ff871b7",
   "metadata": {},
   "outputs": [
    {
     "name": "stdout",
     "output_type": "stream",
     "text": [
      "[('she', 1760546), ('he', 861007), ('women', 801795), ('man', 604788), ('people', 555328), ('girl', 490864), ('woman', 482506), ('someone', 458890), ('guys', 361499), ('guy', 344341), ('men', 336551), ('girls', 326322), ('anyone', 324551), ('friends', 243747), ('everyone', 238800), ('friend', 228233), ('others', 203092), ('female', 178923), ('person', 174827), ('you guys', 167224)]\n"
     ]
    }
   ],
   "source": [
    "with open(LOGS + 'gram_counts/combined_catyear_word_count.json', 'r') as infile: \n",
    "    catyear_word_count = json.load(infile)\n",
    "total_vocab_count = Counter() # {term : count in mano reddit + forum}\n",
    "for catyear in catyear_word_count: \n",
    "    for term in catyear_word_count[catyear]: \n",
    "        total_vocab_count[term] += catyear_word_count[catyear][term]\n",
    "# remove bigram counts from unigrams \n",
    "for term in total_vocab_count: \n",
    "    if ' ' in term: \n",
    "        toks = term.split(' ')\n",
    "        if toks[0] in total_vocab_count: \n",
    "            total_vocab_count[toks[0]] = total_vocab_count[toks[0]] - total_vocab_count[term]\n",
    "        if toks[1] in total_vocab_count: \n",
    "            total_vocab_count[toks[1]] = total_vocab_count[toks[1]] - total_vocab_count[term]\n",
    "print(total_vocab_count.most_common(20))"
   ]
  },
  {
   "cell_type": "code",
   "execution_count": 145,
   "id": "530bc3af",
   "metadata": {},
   "outputs": [],
   "source": [
    "with open(LOGS + 'time_series/cluster_members_6.json', 'r') as infile: \n",
    "    clust_words = json.load(infile)\n",
    "clust_words_rev = {}\n",
    "for clust in clust_words: \n",
    "    cluster_words = clust_words[clust]\n",
    "    for w in cluster_words: \n",
    "        clust_words_rev[w] = clust"
   ]
  },
  {
   "cell_type": "code",
   "execution_count": 348,
   "id": "9e684741",
   "metadata": {},
   "outputs": [],
   "source": [
    "cluster_gender_sum = defaultdict(Counter) # {gender + clust_num : {pole : sum of word scores} }\n",
    "cluster_gender_total = defaultdict(Counter) # {gender + clust_num : {pole : word count} }\n",
    "pole_sum = defaultdict(Counter) # {gender : {pole : sum of word scores} }\n",
    "pole_count = defaultdict(Counter) # {gender : {pole : word count} }\n",
    "for pole in scores: \n",
    "    s = scores[pole]\n",
    "    for i, term in enumerate(vocab_order): \n",
    "        term = term.strip()\n",
    "        clust_num = clust_words_rev[term]\n",
    "        if term in gender_labels: \n",
    "            if gender_labels[term] > 0.75: \n",
    "                cluster_gender_sum[str(clust_num) + '_fem'][pole] += s[i]*total_vocab_count[term]\n",
    "                cluster_gender_total[str(clust_num) + '_fem'][pole] += total_vocab_count[term]\n",
    "                pole_sum['fem'][pole] += s[i]*total_vocab_count[term]\n",
    "                pole_count['fem'][pole] += total_vocab_count[term]\n",
    "#                 cluster_gender_sum[str(clust_num) + '_fem'][pole] += s[i]\n",
    "#                 cluster_gender_total[str(clust_num) + '_fem'][pole] += 1\n",
    "#                 pole_sum['fem'][pole] += s[i]\n",
    "#                 pole_count['fem'][pole] += 1\n",
    "            elif gender_labels[term] < 0.25: \n",
    "                cluster_gender_sum[str(clust_num) + '_masc'][pole] += s[i]*total_vocab_count[term]\n",
    "                cluster_gender_total[str(clust_num) + '_masc'][pole] += total_vocab_count[term]\n",
    "                pole_sum['masc'][pole] += s[i]*total_vocab_count[term]\n",
    "                pole_count['masc'][pole] += total_vocab_count[term]\n",
    "#                 cluster_gender_sum[str(clust_num) + '_masc'][pole] += s[i]\n",
    "#                 cluster_gender_total[str(clust_num) + '_masc'][pole] += 1\n",
    "#                 pole_sum['masc'][pole] += s[i]\n",
    "#                 pole_count['masc'][pole] += 1"
   ]
  },
  {
   "cell_type": "code",
   "execution_count": 349,
   "id": "8ce304f4",
   "metadata": {},
   "outputs": [],
   "source": [
    "cluster_gender_avg = defaultdict(Counter) \n",
    "cluster_gender_avg_raw = defaultdict(Counter) \n",
    "for key in cluster_gender_sum: \n",
    "    for pole in cluster_gender_sum[key]: \n",
    "        if key.endswith('fem'): \n",
    "            pole_avg = pole_sum['fem'][pole] / pole_count['fem'][pole]\n",
    "        elif key.endswith('masc'): \n",
    "            pole_avg = pole_sum['masc'][pole] / pole_count['masc'][pole]\n",
    "        else: \n",
    "            continue\n",
    "        cluster_gender_avg[key][pole] = cluster_gender_sum[key][pole] / cluster_gender_total[key][pole] - pole_avg\n",
    "        cluster_gender_avg_raw[key][pole] = cluster_gender_sum[key][pole] / cluster_gender_total[key][pole]"
   ]
  },
  {
   "cell_type": "code",
   "execution_count": 350,
   "id": "50177f1c",
   "metadata": {},
   "outputs": [
    {
     "name": "stdout",
     "output_type": "stream",
     "text": [
      "4_fem\n",
      "[('inclined.a.01', 0.0435827388996584), ('prejudiced.a.02', 0.03490178632892163), ('indulgent.a.01', 0.032401319634501186), ('mobile.a.02', 0.031625384776536945), ('selfish.a.01', 0.03129652244016061), ('trustful.a.01', 0.030442030241389348), ('physical.a.01', 0.030108872245617233), ('credulous.a.01', 0.030080416489881228), ('voluntary.a.01', 0.02914612360646074), ('integrated.a.03', 0.028783549221864914)]\n",
      "[('stable.a.01', -0.03349944836571742), ('cautious.a.01', -0.03364800400118047), ('androgynous.a.02', -0.03491723557772604), ('employed.a.01', -0.035141655495986746), ('finished.a.01', -0.03610152017685227), ('skilled.a.01', -0.0397415229430746), ('articulate.a.01', -0.04134774130185986), ('concerned.a.01', -0.043918352775362525), ('settled.a.02', -0.043918416077449694), ('educated.a.01', -0.04584284546581627)]\n",
      "\n",
      "4_masc\n",
      "[('bright.a.01', 0.02383466668197318), ('common.a.01', 0.023230546540641554), ('delicate.a.01', 0.019749021597258956), ('decisive.a.03', 0.019350300822505984), ('natural.a.02', 0.018300464993700305), ('demonstrative.a.01', 0.01809550417216277), ('formal.a.01', 0.01799329126518122), ('credulous.a.01', 0.017858952868219053), ('lawful.a.01', 0.01733955161532444), ('womanly.a.01', 0.01709821492178374)]\n",
      "[('cosmopolitan.a.02', -0.02385831422999528), ('additive.a.02', -0.023999122665839458), ('rich.a.01', -0.024462621202170562), ('intellectual.a.02', -0.024690606137936506), ('stressed.a.02', -0.0249747903762641), ('serious.a.01', -0.02531269366610701), ('liked.a.01', -0.027886594623128036), ('affected.a.01', -0.02804368672542573), ('sympathetic.a.04', -0.02809003836066619), ('educated.a.01', -0.029671594684207242)]\n",
      "\n",
      "3_fem\n",
      "[('womanly.a.01', 0.09478577543579375), ('conventional.a.04', 0.056789918209936105), ('old.a.01', 0.053508552496240966), ('clean.a.01', 0.0445445760209047), ('articulate.a.01', 0.04163886307866986), ('experienced.a.01', 0.04058553511650993), ('rural.a.01', 0.0376028964068332), ('heavy.a.04', 0.03727482311562755), ('practical.a.01', 0.03679440196299745), ('large.a.01', 0.03652945811630981)]\n",
      "[('moderate.a.01', -0.0370805405069401), ('wet.a.01', -0.03733441072024192), ('loved.a.01', -0.03753738104770776), ('flexible.a.02', -0.03781410951320888), ('emotional.a.02', -0.0391183000609571), ('lovable.a.01', -0.039527025031363766), ('attractive.a.01', -0.04274615213798845), ('beautiful.a.01', -0.04296417010703184), ('optimistic.a.01', -0.04745926769983208), ('spirited.a.01', -0.05280202393146573)]\n",
      "\n",
      "3_masc\n",
      "[('conventional.a.04', 0.03767882485179171), ('credible.a.01', 0.032631201981417196), ('dominant.a.01', 0.031149409299117775), ('ashamed.a.01', 0.03079133481756227), ('heavy.a.04', 0.0298656549526415), ('punctual.a.01', 0.029325527193630227), ('abstemious.a.01', 0.02719542117984914), ('unilateral.a.01', 0.026857401692269967), ('concerned.a.01', 0.025090164797130735), ('convincing.a.01', 0.024175308092858786)]\n",
      "[('potent.a.03', -0.031913814430143204), ('healthy.a.01', -0.03284191257119865), ('grateful.a.01', -0.033546226011226345), ('satisfactory.a.01', -0.035709896241205796), ('spirited.a.01', -0.03650022265599491), ('attractive.a.01', -0.03678081833570192), ('lively.a.01', -0.038212245850775976), ('homemade.a.01', -0.040394146681980506), ('beautiful.a.01', -0.041042618801438294), ('shod.a.01', -0.042528077213883485)]\n",
      "\n",
      "5_fem\n",
      "[('emotional.a.02', 0.10246216478067677), ('lovable.a.01', 0.10237685231326973), ('capitalistic.a.01', 0.10161239083534432), ('beautiful.a.01', 0.08910357886956813), ('violent.a.01', 0.08786166547651406), ('dependent.a.01', 0.08631828334071116), ('nice.a.01', 0.08625347983168985), ('prospective.a.01', 0.08510201944735776), ('physical.a.01', 0.0782439045718282), ('polite.a.01', 0.07191264180089169)]\n",
      "[('womanly.a.01', -0.07685952289616516), ('unilateral.a.01', -0.07799748228997391), ('positive.a.01', -0.07819555882224544), ('social.a.02', -0.07980413725055482), ('controversial.a.01', -0.08239554540254221), ('common.a.02', -0.08573384331094422), ('prejudiced.a.02', -0.08727570645487048), ('active.a.03', -0.11098947003724334), ('humane.a.02', -0.13865538075318656), ('national.a.02', -0.1490023913243685)]\n",
      "\n",
      "5_masc\n",
      "[('beautiful.a.01', 0.09189882624990295), ('rich.a.01', 0.08224942004606742), ('liked.a.01', 0.0797634820520543), ('lovable.a.01', 0.07876369008803145), ('healthy.a.01', 0.07432392906195273), ('good.a.01', 0.07080434351389615), ('secure.a.02', 0.07055336718023396), ('fortunate.a.01', 0.06702649262546867), ('fit.a.01', 0.06443208739142689), ('used.a.01', 0.06399437658073304)]\n",
      "[('lawful.a.01', -0.041648458362081066), ('prejudiced.a.02', -0.04278497156024946), ('credible.a.01', -0.04332289373417536), ('delicate.a.01', -0.044123468663379295), ('distant.a.02', -0.044845234650871924), ('heavy.a.04', -0.04890103116077711), ('selfish.a.01', -0.05007384881284531), ('abstemious.a.01', -0.05171266728941667), ('hostile.a.01', -0.057374486814155794), ('conventional.a.04', -0.060564893734573265)]\n",
      "\n",
      "1_fem\n",
      "[('androgynous.a.02', 0.07290099413082317), ('stressed.a.02', 0.05852232309586686), ('shod.a.01', 0.056749637522251276), ('lively.a.01', 0.043334067950870206), ('attractive.a.01', 0.03937499252242268), ('worthy.a.01', 0.03581497829076492), ('skilled.a.01', 0.03529970110158877), ('high.a.04', 0.03170857777469923), ('sacred.a.01', 0.03152251278188485), ('resolute.a.01', 0.03141367850249813)]\n",
      "[('abstemious.a.01', -0.03326160862752046), ('worldly.a.01', -0.03506821665408055), ('shapely.a.01', -0.035307457302329884), ('plain.a.02', -0.039405661566196085), ('indulgent.a.01', -0.03960481083797708), ('punctual.a.01', -0.0412895172623557), ('overt.a.01', -0.04453956199566029), ('blond.a.01', -0.04755465167325426), ('conventional.a.04', -0.05783670970306792), ('womanly.a.01', -0.13220410941832111)]\n",
      "\n",
      "1_masc\n",
      "[('homemade.a.01', 0.03345861798159944), ('private.a.01', 0.030791175817703516), ('resolute.a.01', 0.029796602354300507), ('androgynous.a.02', 0.029440867886048758), ('violent.a.01', 0.02863063406037208), ('flexible.a.01', 0.02825040708064131), ('stressed.a.02', 0.02758516738657548), ('heavenly.a.03', 0.026868969524285337), ('married.a.01', 0.02671569894761066), ('cacophonous.a.01', 0.0261409158336329)]\n",
      "[('clean.a.01', -0.028376125781378415), ('union.a.02', -0.028419250920531998), ('gracious.a.01', -0.02914908897474535), ('productive.a.01', -0.02941121547759612), ('wholesome.a.01', -0.030235429559767706), ('punctual.a.01', -0.03297504354930441), ('effortful.a.01', -0.03509667207375413), ('civilized.a.01', -0.047569526934949466), ('conventional.a.04', -0.04957701913736175), ('womanly.a.01', -0.06726962016238816)]\n",
      "\n",
      "2_fem\n",
      "[('educated.a.01', 0.07024793095142688), ('settled.a.02', 0.07019213207299345), ('lovable.a.01', 0.06686420798214787), ('beautiful.a.01', 0.06548974953216083), ('good.a.03', 0.0638714667661808), ('busy.a.01', 0.06284115420430275), ('lively.a.01', 0.06098861684315854), ('fit.a.01', 0.05892927600916128), ('active.a.07', 0.05787577286553858), ('superior.a.01', 0.055713418739930874)]\n",
      "[('tired.a.01', -0.034483293388763436), ('strange.a.01', -0.035106444413322), ('changeable.a.02', -0.03516211489099795), ('tough.a.03', -0.03560312360327861), ('ordinary.a.01', -0.03631100266894295), ('fat.a.01', -0.038582188982572874), ('old.a.02', -0.038891320332466894), ('dependent.a.01', -0.04204523243694433), ('prejudiced.a.02', -0.042672180339025895), ('selfish.a.01', -0.04669275598241181)]\n",
      "\n",
      "2_masc\n",
      "[('educated.a.01', 0.07891070462427931), ('liked.a.01', 0.07099802301547425), ('reputable.a.01', 0.06977456295111839), ('secure.a.02', 0.06830623746709641), ('sympathetic.a.04', 0.06581713227588087), ('grateful.a.01', 0.06481879656098678), ('competent.a.01', 0.06440143769228869), ('beautiful.a.01', 0.0642504436655431), ('controlled.a.01', 0.06303600562821897), ('rational.a.01', 0.061993695173679406)]\n",
      "[('voluntary.a.01', -0.036235880444541235), ('old.a.02', -0.03803510647045708), ('lawful.a.01', -0.03828083243026166), ('high.a.04', -0.03847907213158511), ('changeable.a.02', -0.0387283865039284), ('inclined.a.02', -0.03913834077973003), ('simple.a.01', -0.03985298948727729), ('strange.a.01', -0.03992504750340083), ('heavy.a.04', -0.04300881928304788), ('androgynous.a.02', -0.04934237168843123)]\n",
      "\n",
      "0_fem\n",
      "[('womanly.a.01', 0.26004139811934757), ('blond.a.01', 0.20095871158232223), ('shapely.a.01', 0.18103467850132535), ('definite.a.01', 0.12458717105528305), ('conventional.a.04', 0.12416254965911451), ('beautiful.a.01', 0.1172966509870905), ('enclosed.a.01', 0.11684100233018198), ('clean.a.01', 0.11486922506495152), ('gracious.a.01', 0.1125005212084246), ('intellectual.a.02', 0.10945093213026456)]\n",
      "[('old.a.01', -0.093531618685561), ('visible.a.01', -0.09429410145622699), ('tough.a.01', -0.09654271998772349), ('thinkable.a.01', -0.10273663386364186), ('nonproprietary.a.01', -0.10388859538235186), ('old.a.02', -0.11279159160235902), ('same.a.01', -0.11307575468195818), ('conscious.a.02', -0.11412500982854393), ('quiet.a.01', -0.1161355558074323), ('androgynous.a.02', -0.14857058458621858)]\n",
      "\n",
      "0_masc\n",
      "[('definite.a.01', 0.10976739383712647), ('serious.a.01', 0.09454792830480635), ('enclosed.a.01', 0.09039027667671783), ('intellectual.a.02', 0.0901234288339588), ('gracious.a.01', 0.08960890778773875), ('union.a.02', 0.08598343459999473), ('educated.a.01', 0.08373115115138292), ('metallic.a.01', 0.08359040883414194), ('direct.a.03', 0.08318989127878634), ('mobile.a.02', 0.08260518031285226)]\n",
      "[('old.a.01', -0.06157535605060146), ('quiet.a.01', -0.06281374292591305), ('decisive.a.03', -0.06387217511026397), ('present.a.01', -0.06523251126896418), ('nonproprietary.a.01', -0.06527450192379179), ('same.a.01', -0.0741090200468971), ('delicate.a.01', -0.07492585474759696), ('high.a.04', -0.08022659036921537), ('natural.a.02', -0.10006499879105038), ('androgynous.a.02', -0.10817377873246573)]\n",
      "\n"
     ]
    }
   ],
   "source": [
    "cluster_order = [4, 3, 5, 1, 2, 0]\n",
    "common_shift_poles = Counter()\n",
    "for clust_num in cluster_order: \n",
    "    for gender in ['fem', 'masc']:\n",
    "        key = str(clust_num) + '_' + gender\n",
    "        print(key)\n",
    "        top = cluster_gender_avg[key].most_common()[:10]\n",
    "        bottom = cluster_gender_avg[key].most_common()[-10:]\n",
    "        for tup in top: \n",
    "            common_shift_poles[(gender, tup[0])] += 1\n",
    "        for tup in bottom: \n",
    "            common_shift_poles[(gender, tup[0])] += 1\n",
    "        print(top)\n",
    "        print(bottom)\n",
    "        print()"
   ]
  },
  {
   "cell_type": "code",
   "execution_count": 351,
   "id": "2622b504",
   "metadata": {},
   "outputs": [
    {
     "data": {
      "text/plain": [
       "[(('fem', 'womanly.a.01'), 4),\n",
       " (('fem', 'beautiful.a.01'), 4),\n",
       " (('fem', 'prejudiced.a.02'), 3),\n",
       " (('fem', 'androgynous.a.02'), 3),\n",
       " (('masc', 'delicate.a.01'), 3),\n",
       " (('masc', 'lawful.a.01'), 3),\n",
       " (('masc', 'liked.a.01'), 3),\n",
       " (('masc', 'educated.a.01'), 3),\n",
       " (('fem', 'conventional.a.04'), 3),\n",
       " (('fem', 'lovable.a.01'), 3),\n",
       " (('masc', 'conventional.a.04'), 3),\n",
       " (('masc', 'heavy.a.04'), 3),\n",
       " (('masc', 'beautiful.a.01'), 3),\n",
       " (('masc', 'androgynous.a.02'), 3),\n",
       " (('fem', 'indulgent.a.01'), 2),\n",
       " (('fem', 'selfish.a.01'), 2),\n",
       " (('fem', 'physical.a.01'), 2),\n",
       " (('fem', 'skilled.a.01'), 2),\n",
       " (('fem', 'articulate.a.01'), 2),\n",
       " (('fem', 'settled.a.02'), 2),\n",
       " (('fem', 'educated.a.01'), 2),\n",
       " (('masc', 'decisive.a.03'), 2),\n",
       " (('masc', 'natural.a.02'), 2),\n",
       " (('masc', 'womanly.a.01'), 2),\n",
       " (('masc', 'rich.a.01'), 2),\n",
       " (('masc', 'intellectual.a.02'), 2),\n",
       " (('masc', 'stressed.a.02'), 2),\n",
       " (('masc', 'serious.a.01'), 2),\n",
       " (('masc', 'sympathetic.a.04'), 2),\n",
       " (('fem', 'old.a.01'), 2),\n",
       " (('fem', 'clean.a.01'), 2),\n",
       " (('fem', 'emotional.a.02'), 2),\n",
       " (('fem', 'attractive.a.01'), 2),\n",
       " (('masc', 'credible.a.01'), 2),\n",
       " (('masc', 'punctual.a.01'), 2),\n",
       " (('masc', 'abstemious.a.01'), 2),\n",
       " (('masc', 'healthy.a.01'), 2),\n",
       " (('masc', 'grateful.a.01'), 2),\n",
       " (('masc', 'homemade.a.01'), 2),\n",
       " (('fem', 'dependent.a.01'), 2),\n",
       " (('masc', 'secure.a.02'), 2),\n",
       " (('fem', 'lively.a.01'), 2),\n",
       " (('fem', 'shapely.a.01'), 2),\n",
       " (('fem', 'blond.a.01'), 2),\n",
       " (('masc', 'union.a.02'), 2),\n",
       " (('masc', 'gracious.a.01'), 2),\n",
       " (('fem', 'old.a.02'), 2),\n",
       " (('masc', 'high.a.04'), 2),\n",
       " (('fem', 'inclined.a.01'), 1),\n",
       " (('fem', 'mobile.a.02'), 1),\n",
       " (('fem', 'trustful.a.01'), 1),\n",
       " (('fem', 'credulous.a.01'), 1),\n",
       " (('fem', 'voluntary.a.01'), 1),\n",
       " (('fem', 'integrated.a.03'), 1),\n",
       " (('fem', 'stable.a.01'), 1),\n",
       " (('fem', 'cautious.a.01'), 1),\n",
       " (('fem', 'employed.a.01'), 1),\n",
       " (('fem', 'finished.a.01'), 1),\n",
       " (('fem', 'concerned.a.01'), 1),\n",
       " (('masc', 'bright.a.01'), 1),\n",
       " (('masc', 'common.a.01'), 1),\n",
       " (('masc', 'demonstrative.a.01'), 1),\n",
       " (('masc', 'formal.a.01'), 1),\n",
       " (('masc', 'credulous.a.01'), 1),\n",
       " (('masc', 'cosmopolitan.a.02'), 1),\n",
       " (('masc', 'additive.a.02'), 1),\n",
       " (('masc', 'affected.a.01'), 1),\n",
       " (('fem', 'experienced.a.01'), 1),\n",
       " (('fem', 'rural.a.01'), 1),\n",
       " (('fem', 'heavy.a.04'), 1),\n",
       " (('fem', 'practical.a.01'), 1),\n",
       " (('fem', 'large.a.01'), 1),\n",
       " (('fem', 'moderate.a.01'), 1),\n",
       " (('fem', 'wet.a.01'), 1),\n",
       " (('fem', 'loved.a.01'), 1),\n",
       " (('fem', 'flexible.a.02'), 1),\n",
       " (('fem', 'optimistic.a.01'), 1),\n",
       " (('fem', 'spirited.a.01'), 1),\n",
       " (('masc', 'dominant.a.01'), 1),\n",
       " (('masc', 'ashamed.a.01'), 1),\n",
       " (('masc', 'unilateral.a.01'), 1),\n",
       " (('masc', 'concerned.a.01'), 1),\n",
       " (('masc', 'convincing.a.01'), 1),\n",
       " (('masc', 'potent.a.03'), 1),\n",
       " (('masc', 'satisfactory.a.01'), 1),\n",
       " (('masc', 'spirited.a.01'), 1),\n",
       " (('masc', 'attractive.a.01'), 1),\n",
       " (('masc', 'lively.a.01'), 1),\n",
       " (('masc', 'shod.a.01'), 1),\n",
       " (('fem', 'capitalistic.a.01'), 1),\n",
       " (('fem', 'violent.a.01'), 1),\n",
       " (('fem', 'nice.a.01'), 1),\n",
       " (('fem', 'prospective.a.01'), 1),\n",
       " (('fem', 'polite.a.01'), 1),\n",
       " (('fem', 'unilateral.a.01'), 1),\n",
       " (('fem', 'positive.a.01'), 1),\n",
       " (('fem', 'social.a.02'), 1),\n",
       " (('fem', 'controversial.a.01'), 1),\n",
       " (('fem', 'common.a.02'), 1),\n",
       " (('fem', 'active.a.03'), 1),\n",
       " (('fem', 'humane.a.02'), 1),\n",
       " (('fem', 'national.a.02'), 1),\n",
       " (('masc', 'lovable.a.01'), 1),\n",
       " (('masc', 'good.a.01'), 1),\n",
       " (('masc', 'fortunate.a.01'), 1),\n",
       " (('masc', 'fit.a.01'), 1),\n",
       " (('masc', 'used.a.01'), 1),\n",
       " (('masc', 'prejudiced.a.02'), 1),\n",
       " (('masc', 'distant.a.02'), 1),\n",
       " (('masc', 'selfish.a.01'), 1),\n",
       " (('masc', 'hostile.a.01'), 1),\n",
       " (('fem', 'stressed.a.02'), 1),\n",
       " (('fem', 'shod.a.01'), 1),\n",
       " (('fem', 'worthy.a.01'), 1),\n",
       " (('fem', 'high.a.04'), 1),\n",
       " (('fem', 'sacred.a.01'), 1),\n",
       " (('fem', 'resolute.a.01'), 1),\n",
       " (('fem', 'abstemious.a.01'), 1),\n",
       " (('fem', 'worldly.a.01'), 1),\n",
       " (('fem', 'plain.a.02'), 1),\n",
       " (('fem', 'punctual.a.01'), 1),\n",
       " (('fem', 'overt.a.01'), 1),\n",
       " (('masc', 'private.a.01'), 1),\n",
       " (('masc', 'resolute.a.01'), 1),\n",
       " (('masc', 'violent.a.01'), 1),\n",
       " (('masc', 'flexible.a.01'), 1),\n",
       " (('masc', 'heavenly.a.03'), 1),\n",
       " (('masc', 'married.a.01'), 1),\n",
       " (('masc', 'cacophonous.a.01'), 1),\n",
       " (('masc', 'clean.a.01'), 1),\n",
       " (('masc', 'productive.a.01'), 1),\n",
       " (('masc', 'wholesome.a.01'), 1),\n",
       " (('masc', 'effortful.a.01'), 1),\n",
       " (('masc', 'civilized.a.01'), 1),\n",
       " (('fem', 'good.a.03'), 1),\n",
       " (('fem', 'busy.a.01'), 1),\n",
       " (('fem', 'fit.a.01'), 1),\n",
       " (('fem', 'active.a.07'), 1),\n",
       " (('fem', 'superior.a.01'), 1),\n",
       " (('fem', 'tired.a.01'), 1),\n",
       " (('fem', 'strange.a.01'), 1),\n",
       " (('fem', 'changeable.a.02'), 1),\n",
       " (('fem', 'tough.a.03'), 1),\n",
       " (('fem', 'ordinary.a.01'), 1),\n",
       " (('fem', 'fat.a.01'), 1),\n",
       " (('masc', 'reputable.a.01'), 1),\n",
       " (('masc', 'competent.a.01'), 1),\n",
       " (('masc', 'controlled.a.01'), 1),\n",
       " (('masc', 'rational.a.01'), 1),\n",
       " (('masc', 'voluntary.a.01'), 1),\n",
       " (('masc', 'old.a.02'), 1),\n",
       " (('masc', 'changeable.a.02'), 1),\n",
       " (('masc', 'inclined.a.02'), 1),\n",
       " (('masc', 'simple.a.01'), 1),\n",
       " (('masc', 'strange.a.01'), 1),\n",
       " (('fem', 'definite.a.01'), 1),\n",
       " (('fem', 'enclosed.a.01'), 1),\n",
       " (('fem', 'gracious.a.01'), 1),\n",
       " (('fem', 'intellectual.a.02'), 1),\n",
       " (('fem', 'visible.a.01'), 1),\n",
       " (('fem', 'tough.a.01'), 1),\n",
       " (('fem', 'thinkable.a.01'), 1),\n",
       " (('fem', 'nonproprietary.a.01'), 1),\n",
       " (('fem', 'same.a.01'), 1),\n",
       " (('fem', 'conscious.a.02'), 1),\n",
       " (('fem', 'quiet.a.01'), 1),\n",
       " (('masc', 'definite.a.01'), 1),\n",
       " (('masc', 'enclosed.a.01'), 1),\n",
       " (('masc', 'metallic.a.01'), 1),\n",
       " (('masc', 'direct.a.03'), 1),\n",
       " (('masc', 'mobile.a.02'), 1),\n",
       " (('masc', 'old.a.01'), 1),\n",
       " (('masc', 'quiet.a.01'), 1),\n",
       " (('masc', 'present.a.01'), 1),\n",
       " (('masc', 'nonproprietary.a.01'), 1),\n",
       " (('masc', 'same.a.01'), 1)]"
      ]
     },
     "execution_count": 351,
     "metadata": {},
     "output_type": "execute_result"
    }
   ],
   "source": [
    "common_shift_poles.most_common()"
   ]
  },
  {
   "cell_type": "code",
   "execution_count": 299,
   "id": "2aaa20e2",
   "metadata": {},
   "outputs": [],
   "source": [
    "fem_axes = ['beautiful.a.01', 'lovable.a.01', 'prejudiced.a.02', 'old.a.01', 'clean.a.01']\n",
    "masc_axes = ['educated.a.01', 'liked.a.01', 'beautiful.a.01', 'heavy.a.04', 'delicate.a.01']"
   ]
  },
  {
   "cell_type": "code",
   "execution_count": 300,
   "id": "524c36d1",
   "metadata": {},
   "outputs": [
    {
     "name": "stdout",
     "output_type": "stream",
     "text": [
      "4_fem beautiful.a.01 -0.04581709614375898\n",
      "4_fem lovable.a.01 -0.07384939871079269\n",
      "4_fem prejudiced.a.02 -0.12460909707736825\n",
      "4_fem old.a.01 0.08516260496604304\n",
      "4_fem clean.a.01 0.0017531047279941417\n",
      "4_masc educated.a.01 0.0313209562485265\n",
      "4_masc liked.a.01 -0.05256445734593639\n",
      "4_masc beautiful.a.01 -0.02928160053972833\n",
      "4_masc heavy.a.04 0.12977394376513388\n",
      "4_masc delicate.a.01 0.10201538008760735\n",
      "3_fem beautiful.a.01 -0.07709091135741379\n",
      "3_fem lovable.a.01 -0.10224184974967267\n",
      "3_fem prejudiced.a.02 -0.16322240086062637\n",
      "3_fem old.a.01 0.1507855219179773\n",
      "3_fem clean.a.01 0.0793637577443496\n",
      "3_masc educated.a.01 0.056379903240881296\n",
      "3_masc liked.a.01 -0.045167622256890284\n",
      "3_masc beautiful.a.01 -0.04851101486988881\n",
      "3_masc heavy.a.04 0.14370499043052443\n",
      "3_masc delicate.a.01 0.08801177241042711\n",
      "5_fem beautiful.a.01 0.05497683761918617\n",
      "5_fem lovable.a.01 0.03966202759496083\n",
      "5_fem prejudiced.a.02 -0.24678658986116037\n",
      "5_fem old.a.01 0.06542743186976162\n",
      "5_fem clean.a.01 0.048851065321657706\n",
      "5_masc educated.a.01 0.11723272662747644\n",
      "5_masc liked.a.01 0.05508561932924595\n",
      "5_masc beautiful.a.01 0.08443043018145242\n",
      "5_masc heavy.a.04 0.06493830431710582\n",
      "5_masc delicate.a.01 0.038142889826969104\n",
      "1_fem beautiful.a.01 -0.026685232996576002\n",
      "1_fem lovable.a.01 -0.0587641544078017\n",
      "1_fem prejudiced.a.02 -0.1871451210613421\n",
      "1_fem old.a.01 0.09110479443617471\n",
      "1_fem clean.a.01 0.015885563935306678\n",
      "1_masc educated.a.01 0.06226549250591157\n",
      "1_masc liked.a.01 -0.006494602880059468\n",
      "1_masc beautiful.a.01 0.008869512555450864\n",
      "1_masc heavy.a.04 0.09922322751925021\n",
      "1_masc delicate.a.01 0.07994824203859077\n",
      "2_fem beautiful.a.01 0.031363008281778876\n",
      "2_fem lovable.a.01 0.004149383263838966\n",
      "2_fem prejudiced.a.02 -0.20218306374531578\n",
      "2_fem old.a.01 0.06829691188335123\n",
      "2_fem clean.a.01 0.06893517459434419\n",
      "2_masc educated.a.01 0.13990325555701305\n",
      "2_masc liked.a.01 0.04632016029266589\n",
      "2_masc beautiful.a.01 0.05678204759709257\n",
      "2_masc heavy.a.04 0.07083051619483505\n",
      "2_masc delicate.a.01 0.051892529431055275\n",
      "0_fem beautiful.a.01 0.08316990973670854\n",
      "0_fem lovable.a.01 0.026075427858890957\n",
      "0_fem prejudiced.a.02 -0.09101556640629418\n",
      "0_fem old.a.01 0.0037453507361753535\n",
      "0_fem clean.a.01 0.14968840678839643\n",
      "0_masc educated.a.01 0.14472370208411667\n",
      "0_masc liked.a.01 0.028168124597693387\n",
      "0_masc beautiful.a.01 0.06007873958464158\n",
      "0_masc heavy.a.04 0.061683066432586434\n",
      "0_masc delicate.a.01 0.007340503742751439\n"
     ]
    }
   ],
   "source": [
    "for clust_num in cluster_order: \n",
    "    for gender in ['fem', 'masc']:\n",
    "        key = str(clust_num) + '_' + gender\n",
    "        if gender == 'fem': \n",
    "            this_axes = fem_axes\n",
    "        if gender == 'masc': \n",
    "            this_axes = masc_axes\n",
    "        for pole in this_axes: \n",
    "            print(key, pole, cluster_gender_avg_raw[key][pole])"
   ]
  },
  {
   "cell_type": "markdown",
   "id": "7de34d25",
   "metadata": {},
   "source": [
    "### New visualization plan\n",
    "\n",
    "scatter plot for each axis, x-axis is overall frequency of word, y-axis is score, hue is the cluster number"
   ]
  },
  {
   "cell_type": "code",
   "execution_count": 301,
   "id": "cd5c5d94",
   "metadata": {},
   "outputs": [],
   "source": [
    "d = {\n",
    "    'pole': [], \n",
    "    'gender': [],\n",
    "    'clust_num': [], \n",
    "    'word': [], \n",
    "    'score': [],\n",
    "    'frequency': [],\n",
    "}\n",
    "for clust_num in cluster_order: \n",
    "    for gender in ['fem', 'masc']:\n",
    "        key = str(clust_num) + '_' + gender\n",
    "        if gender == 'fem': \n",
    "            this_axes = fem_axes\n",
    "        if gender == 'masc': \n",
    "            this_axes = masc_axes\n",
    "        for pole in this_axes:  \n",
    "            s = scores[pole]\n",
    "            for i, term in enumerate(vocab_order): \n",
    "                term = term.strip()\n",
    "                if str(clust_words_rev[term]) != str(clust_num): continue\n",
    "                if term not in gender_labels: continue\n",
    "                if gender == 'fem' and gender_labels[term] > 0.75: \n",
    "                    d['pole'].append(pole)\n",
    "                    d['gender'].append(gender)\n",
    "                    d['clust_num'].append(clust_num)\n",
    "                    d['word'].append(term)\n",
    "                    d['score'].append(s[i])\n",
    "                    d['frequency'].append(total_vocab_count[term])\n",
    "                if gender == 'masc' and gender_labels[term] < 0.25: \n",
    "                    d['pole'].append(pole)\n",
    "                    d['gender'].append(gender)\n",
    "                    d['clust_num'].append(clust_num)\n",
    "                    d['word'].append(term)\n",
    "                    d['score'].append(s[i])\n",
    "                    d['frequency'].append(total_vocab_count[term])"
   ]
  },
  {
   "cell_type": "code",
   "execution_count": 302,
   "id": "ed439fe8",
   "metadata": {},
   "outputs": [
    {
     "data": {
      "text/html": [
       "<div>\n",
       "<style scoped>\n",
       "    .dataframe tbody tr th:only-of-type {\n",
       "        vertical-align: middle;\n",
       "    }\n",
       "\n",
       "    .dataframe tbody tr th {\n",
       "        vertical-align: top;\n",
       "    }\n",
       "\n",
       "    .dataframe thead th {\n",
       "        text-align: right;\n",
       "    }\n",
       "</style>\n",
       "<table border=\"1\" class=\"dataframe\">\n",
       "  <thead>\n",
       "    <tr style=\"text-align: right;\">\n",
       "      <th></th>\n",
       "      <th>pole</th>\n",
       "      <th>gender</th>\n",
       "      <th>clust_num</th>\n",
       "      <th>word</th>\n",
       "      <th>score</th>\n",
       "      <th>frequency</th>\n",
       "      <th>log_freq</th>\n",
       "      <th>clust_letter</th>\n",
       "    </tr>\n",
       "  </thead>\n",
       "  <tbody>\n",
       "    <tr>\n",
       "      <td>0</td>\n",
       "      <td>beautiful.a.01</td>\n",
       "      <td>fem</td>\n",
       "      <td>4</td>\n",
       "      <td>1 female</td>\n",
       "      <td>0.036255</td>\n",
       "      <td>700</td>\n",
       "      <td>2.845098</td>\n",
       "      <td>A</td>\n",
       "    </tr>\n",
       "    <tr>\n",
       "      <td>1</td>\n",
       "      <td>beautiful.a.01</td>\n",
       "      <td>fem</td>\n",
       "      <td>4</td>\n",
       "      <td>10 women</td>\n",
       "      <td>-0.002096</td>\n",
       "      <td>2914</td>\n",
       "      <td>3.464490</td>\n",
       "      <td>A</td>\n",
       "    </tr>\n",
       "    <tr>\n",
       "      <td>2</td>\n",
       "      <td>beautiful.a.01</td>\n",
       "      <td>fem</td>\n",
       "      <td>4</td>\n",
       "      <td>100 girls</td>\n",
       "      <td>-0.062551</td>\n",
       "      <td>1723</td>\n",
       "      <td>3.236285</td>\n",
       "      <td>A</td>\n",
       "    </tr>\n",
       "    <tr>\n",
       "      <td>3</td>\n",
       "      <td>beautiful.a.01</td>\n",
       "      <td>fem</td>\n",
       "      <td>4</td>\n",
       "      <td>15 women</td>\n",
       "      <td>0.029945</td>\n",
       "      <td>426</td>\n",
       "      <td>2.629410</td>\n",
       "      <td>A</td>\n",
       "    </tr>\n",
       "    <tr>\n",
       "      <td>4</td>\n",
       "      <td>beautiful.a.01</td>\n",
       "      <td>fem</td>\n",
       "      <td>4</td>\n",
       "      <td>2 women</td>\n",
       "      <td>0.016124</td>\n",
       "      <td>2053</td>\n",
       "      <td>3.312389</td>\n",
       "      <td>A</td>\n",
       "    </tr>\n",
       "    <tr>\n",
       "      <td>...</td>\n",
       "      <td>...</td>\n",
       "      <td>...</td>\n",
       "      <td>...</td>\n",
       "      <td>...</td>\n",
       "      <td>...</td>\n",
       "      <td>...</td>\n",
       "      <td>...</td>\n",
       "      <td>...</td>\n",
       "    </tr>\n",
       "    <tr>\n",
       "      <td>17930</td>\n",
       "      <td>delicate.a.01</td>\n",
       "      <td>masc</td>\n",
       "      <td>0</td>\n",
       "      <td>virgin men</td>\n",
       "      <td>0.034152</td>\n",
       "      <td>892</td>\n",
       "      <td>2.950365</td>\n",
       "      <td>F</td>\n",
       "    </tr>\n",
       "    <tr>\n",
       "      <td>17931</td>\n",
       "      <td>delicate.a.01</td>\n",
       "      <td>masc</td>\n",
       "      <td>0</td>\n",
       "      <td>white chad</td>\n",
       "      <td>0.105987</td>\n",
       "      <td>2223</td>\n",
       "      <td>3.346939</td>\n",
       "      <td>F</td>\n",
       "    </tr>\n",
       "    <tr>\n",
       "      <td>17932</td>\n",
       "      <td>delicate.a.01</td>\n",
       "      <td>masc</td>\n",
       "      <td>0</td>\n",
       "      <td>white chads</td>\n",
       "      <td>0.042333</td>\n",
       "      <td>878</td>\n",
       "      <td>2.943495</td>\n",
       "      <td>F</td>\n",
       "    </tr>\n",
       "    <tr>\n",
       "      <td>17933</td>\n",
       "      <td>delicate.a.01</td>\n",
       "      <td>masc</td>\n",
       "      <td>0</td>\n",
       "      <td>white incel</td>\n",
       "      <td>-0.105055</td>\n",
       "      <td>580</td>\n",
       "      <td>2.763428</td>\n",
       "      <td>F</td>\n",
       "    </tr>\n",
       "    <tr>\n",
       "      <td>17934</td>\n",
       "      <td>delicate.a.01</td>\n",
       "      <td>masc</td>\n",
       "      <td>0</td>\n",
       "      <td>white incels</td>\n",
       "      <td>-0.108354</td>\n",
       "      <td>1256</td>\n",
       "      <td>3.098990</td>\n",
       "      <td>F</td>\n",
       "    </tr>\n",
       "  </tbody>\n",
       "</table>\n",
       "<p>17935 rows × 8 columns</p>\n",
       "</div>"
      ],
      "text/plain": [
       "                 pole gender  clust_num          word     score  frequency  \\\n",
       "0      beautiful.a.01    fem          4      1 female  0.036255        700   \n",
       "1      beautiful.a.01    fem          4      10 women -0.002096       2914   \n",
       "2      beautiful.a.01    fem          4     100 girls -0.062551       1723   \n",
       "3      beautiful.a.01    fem          4      15 women  0.029945        426   \n",
       "4      beautiful.a.01    fem          4       2 women  0.016124       2053   \n",
       "...               ...    ...        ...           ...       ...        ...   \n",
       "17930   delicate.a.01   masc          0    virgin men  0.034152        892   \n",
       "17931   delicate.a.01   masc          0    white chad  0.105987       2223   \n",
       "17932   delicate.a.01   masc          0   white chads  0.042333        878   \n",
       "17933   delicate.a.01   masc          0   white incel -0.105055        580   \n",
       "17934   delicate.a.01   masc          0  white incels -0.108354       1256   \n",
       "\n",
       "       log_freq clust_letter  \n",
       "0      2.845098            A  \n",
       "1      3.464490            A  \n",
       "2      3.236285            A  \n",
       "3      2.629410            A  \n",
       "4      3.312389            A  \n",
       "...         ...          ...  \n",
       "17930  2.950365            F  \n",
       "17931  3.346939            F  \n",
       "17932  2.943495            F  \n",
       "17933  2.763428            F  \n",
       "17934  3.098990            F  \n",
       "\n",
       "[17935 rows x 8 columns]"
      ]
     },
     "execution_count": 302,
     "metadata": {},
     "output_type": "execute_result"
    }
   ],
   "source": [
    "cluster_score_df = pd.DataFrame.from_dict(d)\n",
    "cluster_score_df['log_freq'] = cluster_score_df['frequency'].apply(lambda x: math.log10(x))\n",
    "clust_num_letter_map = {4 : 'A', 3 : 'B', 5 : 'C', 1 : 'D', 2 : 'E', 0 : 'F'}\n",
    "cluster_score_df['clust_letter'] = cluster_score_df['clust_num'].apply(lambda x: clust_num_letter_map[x])\n",
    "cluster_score_df"
   ]
  },
  {
   "cell_type": "code",
   "execution_count": 303,
   "id": "be05d890",
   "metadata": {},
   "outputs": [
    {
     "data": {
      "text/html": [
       "<div>\n",
       "<style scoped>\n",
       "    .dataframe tbody tr th:only-of-type {\n",
       "        vertical-align: middle;\n",
       "    }\n",
       "\n",
       "    .dataframe tbody tr th {\n",
       "        vertical-align: top;\n",
       "    }\n",
       "\n",
       "    .dataframe thead th {\n",
       "        text-align: right;\n",
       "    }\n",
       "</style>\n",
       "<table border=\"1\" class=\"dataframe\">\n",
       "  <thead>\n",
       "    <tr style=\"text-align: right;\">\n",
       "      <th></th>\n",
       "      <th>pole</th>\n",
       "      <th>gender</th>\n",
       "      <th>clust_num</th>\n",
       "      <th>word</th>\n",
       "      <th>score</th>\n",
       "      <th>frequency</th>\n",
       "      <th>log_freq</th>\n",
       "      <th>clust_letter</th>\n",
       "    </tr>\n",
       "  </thead>\n",
       "  <tbody>\n",
       "    <tr>\n",
       "      <td>9493</td>\n",
       "      <td>beautiful.a.01</td>\n",
       "      <td>fem</td>\n",
       "      <td>1</td>\n",
       "      <td>women</td>\n",
       "      <td>-0.036429</td>\n",
       "      <td>801795</td>\n",
       "      <td>5.904063</td>\n",
       "      <td>D</td>\n",
       "    </tr>\n",
       "    <tr>\n",
       "      <td>9838</td>\n",
       "      <td>lovable.a.01</td>\n",
       "      <td>fem</td>\n",
       "      <td>1</td>\n",
       "      <td>women</td>\n",
       "      <td>-0.065459</td>\n",
       "      <td>801795</td>\n",
       "      <td>5.904063</td>\n",
       "      <td>D</td>\n",
       "    </tr>\n",
       "    <tr>\n",
       "      <td>10183</td>\n",
       "      <td>prejudiced.a.02</td>\n",
       "      <td>fem</td>\n",
       "      <td>1</td>\n",
       "      <td>women</td>\n",
       "      <td>-0.240638</td>\n",
       "      <td>801795</td>\n",
       "      <td>5.904063</td>\n",
       "      <td>D</td>\n",
       "    </tr>\n",
       "    <tr>\n",
       "      <td>10528</td>\n",
       "      <td>old.a.01</td>\n",
       "      <td>fem</td>\n",
       "      <td>1</td>\n",
       "      <td>women</td>\n",
       "      <td>0.084115</td>\n",
       "      <td>801795</td>\n",
       "      <td>5.904063</td>\n",
       "      <td>D</td>\n",
       "    </tr>\n",
       "    <tr>\n",
       "      <td>10873</td>\n",
       "      <td>clean.a.01</td>\n",
       "      <td>fem</td>\n",
       "      <td>1</td>\n",
       "      <td>women</td>\n",
       "      <td>-0.002982</td>\n",
       "      <td>801795</td>\n",
       "      <td>5.904063</td>\n",
       "      <td>D</td>\n",
       "    </tr>\n",
       "  </tbody>\n",
       "</table>\n",
       "</div>"
      ],
      "text/plain": [
       "                  pole gender  clust_num   word     score  frequency  \\\n",
       "9493    beautiful.a.01    fem          1  women -0.036429     801795   \n",
       "9838      lovable.a.01    fem          1  women -0.065459     801795   \n",
       "10183  prejudiced.a.02    fem          1  women -0.240638     801795   \n",
       "10528         old.a.01    fem          1  women  0.084115     801795   \n",
       "10873       clean.a.01    fem          1  women -0.002982     801795   \n",
       "\n",
       "       log_freq clust_letter  \n",
       "9493   5.904063            D  \n",
       "9838   5.904063            D  \n",
       "10183  5.904063            D  \n",
       "10528  5.904063            D  \n",
       "10873  5.904063            D  "
      ]
     },
     "execution_count": 303,
     "metadata": {},
     "output_type": "execute_result"
    }
   ],
   "source": [
    "cluster_score_df[cluster_score_df['word'] == 'women']"
   ]
  },
  {
   "cell_type": "code",
   "execution_count": 305,
   "id": "36752187",
   "metadata": {},
   "outputs": [
    {
     "data": {
      "text/html": [
       "<div>\n",
       "<style scoped>\n",
       "    .dataframe tbody tr th:only-of-type {\n",
       "        vertical-align: middle;\n",
       "    }\n",
       "\n",
       "    .dataframe tbody tr th {\n",
       "        vertical-align: top;\n",
       "    }\n",
       "\n",
       "    .dataframe thead th {\n",
       "        text-align: right;\n",
       "    }\n",
       "</style>\n",
       "<table border=\"1\" class=\"dataframe\">\n",
       "  <thead>\n",
       "    <tr style=\"text-align: right;\">\n",
       "      <th></th>\n",
       "      <th>pole</th>\n",
       "      <th>gender</th>\n",
       "      <th>clust_num</th>\n",
       "      <th>word</th>\n",
       "      <th>score</th>\n",
       "      <th>frequency</th>\n",
       "      <th>log_freq</th>\n",
       "      <th>clust_letter</th>\n",
       "    </tr>\n",
       "  </thead>\n",
       "  <tbody>\n",
       "    <tr>\n",
       "      <td>4403</td>\n",
       "      <td>beautiful.a.01</td>\n",
       "      <td>fem</td>\n",
       "      <td>3</td>\n",
       "      <td>girls</td>\n",
       "      <td>-0.095671</td>\n",
       "      <td>326322</td>\n",
       "      <td>5.513646</td>\n",
       "      <td>B</td>\n",
       "    </tr>\n",
       "    <tr>\n",
       "      <td>4722</td>\n",
       "      <td>lovable.a.01</td>\n",
       "      <td>fem</td>\n",
       "      <td>3</td>\n",
       "      <td>girls</td>\n",
       "      <td>-0.130053</td>\n",
       "      <td>326322</td>\n",
       "      <td>5.513646</td>\n",
       "      <td>B</td>\n",
       "    </tr>\n",
       "    <tr>\n",
       "      <td>5041</td>\n",
       "      <td>prejudiced.a.02</td>\n",
       "      <td>fem</td>\n",
       "      <td>3</td>\n",
       "      <td>girls</td>\n",
       "      <td>-0.213103</td>\n",
       "      <td>326322</td>\n",
       "      <td>5.513646</td>\n",
       "      <td>B</td>\n",
       "    </tr>\n",
       "    <tr>\n",
       "      <td>5360</td>\n",
       "      <td>old.a.01</td>\n",
       "      <td>fem</td>\n",
       "      <td>3</td>\n",
       "      <td>girls</td>\n",
       "      <td>0.242922</td>\n",
       "      <td>326322</td>\n",
       "      <td>5.513646</td>\n",
       "      <td>B</td>\n",
       "    </tr>\n",
       "    <tr>\n",
       "      <td>5679</td>\n",
       "      <td>clean.a.01</td>\n",
       "      <td>fem</td>\n",
       "      <td>3</td>\n",
       "      <td>girls</td>\n",
       "      <td>0.061343</td>\n",
       "      <td>326322</td>\n",
       "      <td>5.513646</td>\n",
       "      <td>B</td>\n",
       "    </tr>\n",
       "  </tbody>\n",
       "</table>\n",
       "</div>"
      ],
      "text/plain": [
       "                 pole gender  clust_num   word     score  frequency  log_freq  \\\n",
       "4403   beautiful.a.01    fem          3  girls -0.095671     326322  5.513646   \n",
       "4722     lovable.a.01    fem          3  girls -0.130053     326322  5.513646   \n",
       "5041  prejudiced.a.02    fem          3  girls -0.213103     326322  5.513646   \n",
       "5360         old.a.01    fem          3  girls  0.242922     326322  5.513646   \n",
       "5679       clean.a.01    fem          3  girls  0.061343     326322  5.513646   \n",
       "\n",
       "     clust_letter  \n",
       "4403            B  \n",
       "4722            B  \n",
       "5041            B  \n",
       "5360            B  \n",
       "5679            B  "
      ]
     },
     "execution_count": 305,
     "metadata": {},
     "output_type": "execute_result"
    }
   ],
   "source": [
    "cluster_score_df[cluster_score_df['word'] == 'girls']"
   ]
  },
  {
   "cell_type": "code",
   "execution_count": 279,
   "id": "5d0cea79",
   "metadata": {},
   "outputs": [
    {
     "data": {
      "image/png": "[encoded data removed]",
      "text/plain": [
       "<Figure size 432x288 with 1 Axes>"
      ]
     },
     "metadata": {
      "needs_background": "light"
     },
     "output_type": "display_data"
    }
   ],
   "source": [
    "frequencies = cluster_score_df['log_freq'].to_list()\n",
    "first_cutoff = np.percentile(frequencies, 1/4*100)\n",
    "second_cutoff = np.percentile(frequencies, 2/4*100)\n",
    "third_cutoff = np.percentile(frequencies, 3/4*100)\n",
    "cluster_score_df['log_freq'].hist(bins=20)\n",
    "plt.axvline(first_cutoff)\n",
    "plt.axvline(second_cutoff)\n",
    "plt.axvline(third_cutoff)\n",
    "plt.show()"
   ]
  },
  {
   "cell_type": "code",
   "execution_count": 281,
   "id": "f3fa06a2",
   "metadata": {},
   "outputs": [
    {
     "data": {
      "text/html": [
       "<div>\n",
       "<style scoped>\n",
       "    .dataframe tbody tr th:only-of-type {\n",
       "        vertical-align: middle;\n",
       "    }\n",
       "\n",
       "    .dataframe tbody tr th {\n",
       "        vertical-align: top;\n",
       "    }\n",
       "\n",
       "    .dataframe thead th {\n",
       "        text-align: right;\n",
       "    }\n",
       "</style>\n",
       "<table border=\"1\" class=\"dataframe\">\n",
       "  <thead>\n",
       "    <tr style=\"text-align: right;\">\n",
       "      <th></th>\n",
       "      <th>pole</th>\n",
       "      <th>gender</th>\n",
       "      <th>clust_num</th>\n",
       "      <th>word</th>\n",
       "      <th>score</th>\n",
       "      <th>frequency</th>\n",
       "      <th>log_freq</th>\n",
       "      <th>clust_letter</th>\n",
       "      <th>freq_bucket</th>\n",
       "    </tr>\n",
       "  </thead>\n",
       "  <tbody>\n",
       "    <tr>\n",
       "      <td>0</td>\n",
       "      <td>beautiful.a.01</td>\n",
       "      <td>fem</td>\n",
       "      <td>4</td>\n",
       "      <td>1 female</td>\n",
       "      <td>0.036255</td>\n",
       "      <td>700</td>\n",
       "      <td>2.845098</td>\n",
       "      <td>A</td>\n",
       "      <td>bottom 75%</td>\n",
       "    </tr>\n",
       "    <tr>\n",
       "      <td>1</td>\n",
       "      <td>beautiful.a.01</td>\n",
       "      <td>fem</td>\n",
       "      <td>4</td>\n",
       "      <td>10 women</td>\n",
       "      <td>-0.002096</td>\n",
       "      <td>2914</td>\n",
       "      <td>3.464490</td>\n",
       "      <td>A</td>\n",
       "      <td>top 25%</td>\n",
       "    </tr>\n",
       "    <tr>\n",
       "      <td>2</td>\n",
       "      <td>beautiful.a.01</td>\n",
       "      <td>fem</td>\n",
       "      <td>4</td>\n",
       "      <td>100 girls</td>\n",
       "      <td>-0.062551</td>\n",
       "      <td>1723</td>\n",
       "      <td>3.236285</td>\n",
       "      <td>A</td>\n",
       "      <td>bottom 75%</td>\n",
       "    </tr>\n",
       "    <tr>\n",
       "      <td>3</td>\n",
       "      <td>beautiful.a.01</td>\n",
       "      <td>fem</td>\n",
       "      <td>4</td>\n",
       "      <td>15 women</td>\n",
       "      <td>0.029945</td>\n",
       "      <td>426</td>\n",
       "      <td>2.629410</td>\n",
       "      <td>A</td>\n",
       "      <td>bottom 75%</td>\n",
       "    </tr>\n",
       "    <tr>\n",
       "      <td>4</td>\n",
       "      <td>beautiful.a.01</td>\n",
       "      <td>fem</td>\n",
       "      <td>4</td>\n",
       "      <td>2 women</td>\n",
       "      <td>0.016124</td>\n",
       "      <td>2053</td>\n",
       "      <td>3.312389</td>\n",
       "      <td>A</td>\n",
       "      <td>bottom 75%</td>\n",
       "    </tr>\n",
       "    <tr>\n",
       "      <td>...</td>\n",
       "      <td>...</td>\n",
       "      <td>...</td>\n",
       "      <td>...</td>\n",
       "      <td>...</td>\n",
       "      <td>...</td>\n",
       "      <td>...</td>\n",
       "      <td>...</td>\n",
       "      <td>...</td>\n",
       "      <td>...</td>\n",
       "    </tr>\n",
       "    <tr>\n",
       "      <td>17930</td>\n",
       "      <td>delicate.a.01</td>\n",
       "      <td>masc</td>\n",
       "      <td>0</td>\n",
       "      <td>virgin men</td>\n",
       "      <td>0.034152</td>\n",
       "      <td>892</td>\n",
       "      <td>2.950365</td>\n",
       "      <td>F</td>\n",
       "      <td>bottom 75%</td>\n",
       "    </tr>\n",
       "    <tr>\n",
       "      <td>17931</td>\n",
       "      <td>delicate.a.01</td>\n",
       "      <td>masc</td>\n",
       "      <td>0</td>\n",
       "      <td>white chad</td>\n",
       "      <td>0.105987</td>\n",
       "      <td>2223</td>\n",
       "      <td>3.346939</td>\n",
       "      <td>F</td>\n",
       "      <td>top 25%</td>\n",
       "    </tr>\n",
       "    <tr>\n",
       "      <td>17932</td>\n",
       "      <td>delicate.a.01</td>\n",
       "      <td>masc</td>\n",
       "      <td>0</td>\n",
       "      <td>white chads</td>\n",
       "      <td>0.042333</td>\n",
       "      <td>878</td>\n",
       "      <td>2.943495</td>\n",
       "      <td>F</td>\n",
       "      <td>bottom 75%</td>\n",
       "    </tr>\n",
       "    <tr>\n",
       "      <td>17933</td>\n",
       "      <td>delicate.a.01</td>\n",
       "      <td>masc</td>\n",
       "      <td>0</td>\n",
       "      <td>white incel</td>\n",
       "      <td>-0.105055</td>\n",
       "      <td>580</td>\n",
       "      <td>2.763428</td>\n",
       "      <td>F</td>\n",
       "      <td>bottom 75%</td>\n",
       "    </tr>\n",
       "    <tr>\n",
       "      <td>17934</td>\n",
       "      <td>delicate.a.01</td>\n",
       "      <td>masc</td>\n",
       "      <td>0</td>\n",
       "      <td>white incels</td>\n",
       "      <td>-0.108354</td>\n",
       "      <td>1256</td>\n",
       "      <td>3.098990</td>\n",
       "      <td>F</td>\n",
       "      <td>bottom 75%</td>\n",
       "    </tr>\n",
       "  </tbody>\n",
       "</table>\n",
       "<p>17935 rows × 9 columns</p>\n",
       "</div>"
      ],
      "text/plain": [
       "                 pole gender  clust_num          word     score  frequency  \\\n",
       "0      beautiful.a.01    fem          4      1 female  0.036255        700   \n",
       "1      beautiful.a.01    fem          4      10 women -0.002096       2914   \n",
       "2      beautiful.a.01    fem          4     100 girls -0.062551       1723   \n",
       "3      beautiful.a.01    fem          4      15 women  0.029945        426   \n",
       "4      beautiful.a.01    fem          4       2 women  0.016124       2053   \n",
       "...               ...    ...        ...           ...       ...        ...   \n",
       "17930   delicate.a.01   masc          0    virgin men  0.034152        892   \n",
       "17931   delicate.a.01   masc          0    white chad  0.105987       2223   \n",
       "17932   delicate.a.01   masc          0   white chads  0.042333        878   \n",
       "17933   delicate.a.01   masc          0   white incel -0.105055        580   \n",
       "17934   delicate.a.01   masc          0  white incels -0.108354       1256   \n",
       "\n",
       "       log_freq clust_letter freq_bucket  \n",
       "0      2.845098            A  bottom 75%  \n",
       "1      3.464490            A     top 25%  \n",
       "2      3.236285            A  bottom 75%  \n",
       "3      2.629410            A  bottom 75%  \n",
       "4      3.312389            A  bottom 75%  \n",
       "...         ...          ...         ...  \n",
       "17930  2.950365            F  bottom 75%  \n",
       "17931  3.346939            F     top 25%  \n",
       "17932  2.943495            F  bottom 75%  \n",
       "17933  2.763428            F  bottom 75%  \n",
       "17934  3.098990            F  bottom 75%  \n",
       "\n",
       "[17935 rows x 9 columns]"
      ]
     },
     "execution_count": 281,
     "metadata": {},
     "output_type": "execute_result"
    }
   ],
   "source": [
    "def get_freq_bucket(x): \n",
    "    if x <= third_cutoff:\n",
    "        return 'bottom 75%'\n",
    "    else: \n",
    "        return 'top 25%'\n",
    "cluster_score_df['freq_bucket'] = cluster_score_df['log_freq'].apply(get_freq_bucket)\n",
    "cluster_score_df"
   ]
  },
  {
   "cell_type": "code",
   "execution_count": 282,
   "id": "049d470e",
   "metadata": {},
   "outputs": [],
   "source": [
    "fem_cluster_score_df = cluster_score_df[cluster_score_df['gender'] == 'fem']\n",
    "masc_cluster_score_df = cluster_score_df[cluster_score_df['gender'] == 'masc']"
   ]
  },
  {
   "cell_type": "code",
   "execution_count": 325,
   "id": "0edaa547",
   "metadata": {},
   "outputs": [],
   "source": [
    "def reindex_df(df, weight_col):\n",
    "    \"\"\"expand the dataframe to prepare for resampling\n",
    "    result is 1 row per count per sample\"\"\"\n",
    "    df = df.reindex(df.index.repeat(df[weight_col]))\n",
    "    df.reset_index(drop=True, inplace=True)\n",
    "    return(df)\n",
    "cluster_order_str = [str(x) for x in cluster_order]\n",
    "pole_titles = {'beautiful.a.01' : 'beautiful $\\longleftrightarrow$ ugly',\n",
    "               'lovable.a.01' : 'loveable $\\longleftrightarrow$ detestable', \n",
    "               'prejudiced.a.02': 'prejudiced $\\longleftrightarrow$ unprejudiced', \n",
    "               'old.a.01': 'old $\\longleftrightarrow$ young', \n",
    "               'clean.a.01': 'clean $\\longleftrightarrow$ dirty', \n",
    "               'educated.a.01': 'knowledgeable $\\longleftrightarrow$ ignorant',\n",
    "               'liked.a.01': 'likeable $\\longleftrightarrow$ unlikable', \n",
    "               'heavy.a.04': 'distressful $\\longleftrightarrow$ casual, light', \n",
    "               'delicate.a.01': 'delicate $\\longleftrightarrow$ tough',\n",
    "              }"
   ]
  },
  {
   "cell_type": "code",
   "execution_count": 343,
   "id": "89c5f634",
   "metadata": {},
   "outputs": [
    {
     "data": {
      "image/png": "[encoded data removed]",
      "text/plain": [
       "<Figure size 432x288 with 1 Axes>"
      ]
     },
     "metadata": {
      "needs_background": "light"
     },
     "output_type": "display_data"
    },
    {
     "data": {
      "image/png": "[encoded data removed]",
      "text/plain": [
       "<Figure size 432x288 with 1 Axes>"
      ]
     },
     "metadata": {
      "needs_background": "light"
     },
     "output_type": "display_data"
    },
    {
     "data": {
      "image/png": "[encoded data removed]",
      "text/plain": [
       "<Figure size 432x288 with 1 Axes>"
      ]
     },
     "metadata": {
      "needs_background": "light"
     },
     "output_type": "display_data"
    },
    {
     "data": {
      "image/png": "[encoded data removed]",
      "text/plain": [
       "<Figure size 432x288 with 1 Axes>"
      ]
     },
     "metadata": {
      "needs_background": "light"
     },
     "output_type": "display_data"
    },
    {
     "data": {
      "image/png": "[encoded data removed]",
      "text/plain": [
       "<Figure size 432x288 with 1 Axes>"
      ]
     },
     "metadata": {
      "needs_background": "light"
     },
     "output_type": "display_data"
    }
   ],
   "source": [
    "for pole in fem_axes: \n",
    "    this_df = fem_cluster_score_df[fem_cluster_score_df['pole'] == pole]\n",
    "    sns.pointplot(x=\"score\", y=\"clust_letter\", hue='freq_bucket', palette=\"Paired\",\n",
    "                  data=this_df, orient=\"h\", dodge=.2, join=False)\n",
    "    plt.axvline(0, linestyle='--')\n",
    "    plt.title(pole_titles[pole], fontsize=15)\n",
    "    plt.show()"
   ]
  },
  {
   "cell_type": "code",
   "execution_count": 342,
   "id": "d6943198",
   "metadata": {},
   "outputs": [
    {
     "data": {
      "image/png": "[encoded data removed]",
      "text/plain": [
       "<Figure size 432x288 with 1 Axes>"
      ]
     },
     "metadata": {
      "needs_background": "light"
     },
     "output_type": "display_data"
    },
    {
     "data": {
      "image/png": "[encoded data removed]",
      "text/plain": [
       "<Figure size 432x288 with 1 Axes>"
      ]
     },
     "metadata": {
      "needs_background": "light"
     },
     "output_type": "display_data"
    },
    {
     "data": {
      "image/png": "[encoded data removed]",
      "text/plain": [
       "<Figure size 432x288 with 1 Axes>"
      ]
     },
     "metadata": {
      "needs_background": "light"
     },
     "output_type": "display_data"
    },
    {
     "data": {
      "image/png": "[encoded data removed]",
      "text/plain": [
       "<Figure size 432x288 with 1 Axes>"
      ]
     },
     "metadata": {
      "needs_background": "light"
     },
     "output_type": "display_data"
    },
    {
     "data": {
      "image/png": "[encoded data removed]",
      "text/plain": [
       "<Figure size 432x288 with 1 Axes>"
      ]
     },
     "metadata": {
      "needs_background": "light"
     },
     "output_type": "display_data"
    }
   ],
   "source": [
    "for pole in masc_axes: \n",
    "    this_df = masc_cluster_score_df[masc_cluster_score_df['pole'] == pole]\n",
    "    sns.pointplot(x=\"score\", y=\"clust_letter\", hue='freq_bucket', palette=\"Paired\",\n",
    "                  data=this_df, orient=\"h\", dodge=.2, join=False)\n",
    "    plt.axvline(0, linestyle='--')\n",
    "    plt.title(pole_titles[pole], fontsize=15)\n",
    "    plt.show()"
   ]
  },
  {
   "cell_type": "code",
   "execution_count": null,
   "id": "d3b8db18",
   "metadata": {},
   "outputs": [],
   "source": []
  }
 ],
 "metadata": {
  "kernelspec": {
   "display_name": "Python 3 (ipykernel)",
   "language": "python",
   "name": "python3"
  },
  "language_info": {
   "codemirror_mode": {
    "name": "ipython",
    "version": 3
   },
   "file_extension": ".py",
   "mimetype": "text/x-python",
   "name": "python",
   "nbconvert_exporter": "python",
   "pygments_lexer": "ipython3",
   "version": "3.7.11"
  }
 },
 "nbformat": 4,
 "nbformat_minor": 5
}
