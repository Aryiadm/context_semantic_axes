{
 "cells": [
  {
   "cell_type": "code",
   "execution_count": 35,
   "id": "0afcaeba",
   "metadata": {},
   "outputs": [],
   "source": [
    "import spacy\n",
    "import csv\n",
    "import json \n",
    "import os\n",
    "import time\n",
    "import sys\n",
    "import neuralcoref\n",
    "from collections import defaultdict\n",
    "from tabulate import tabulate\n",
    "\n",
    "ROOT = '/mnt/data0/lucy/manosphere/'\n",
    "DLOGS = '/mnt/data0/dtadimeti/manosphere/logs/'\n",
    "POSTS = ROOT + 'data/submissions/'\n",
    "LOGS = ROOT + 'logs/'\n",
    "COMMENTS = ROOT + 'data/comments/'\n",
    "ANN_FILE = ROOT + 'data/ann_sig_entities.csv'\n",
    "BOTS = LOGS + 'reddit_bots.txt'"
   ]
  },
  {
   "cell_type": "code",
   "execution_count": 36,
   "id": "02a9b954",
   "metadata": {},
   "outputs": [],
   "source": [
    "nlp = spacy.load('en')\n",
    "neuralcoref.add_to_pipe(nlp)\n",
    "    \n",
    "f = '2010-04'\n",
    "month = f.replace('RC_', '')\n",
    "    \n",
    "words = []\n",
    "with open(ANN_FILE, 'r') as csvfile:\n",
    "    reader = csv.DictReader(csvfile)\n",
    "    for row in reader: \n",
    "        if row['keep'] == 'Y': \n",
    "            words.append(row['entity'])"
   ]
  },
  {
   "cell_type": "code",
   "execution_count": null,
   "id": "40f52cdf",
   "metadata": {},
   "outputs": [],
   "source": [
    "denoms = dict()\n",
    "for word in words:\n",
    "        denoms[word] = 0\n",
    "        \n",
    "with open(COMMENTS + 'RC_' + month + '/part-00000', 'r') as infile: \n",
    "        for line in infile: \n",
    "            d = json.loads(line)\n",
    "            text = d['body']\n",
    "            author = d['author']\n",
    "            # run the coref on text\n",
    "            doc = nlp(text)\n",
    "                                    \n",
    "            for c in doc._.coref_clusters:\n",
    "                str_mentions = []\n",
    "                for token in c.mentions:\n",
    "                    str_mentions.append(token.text.lower())\n",
    "                for word in words:\n",
    "                    if word in str_mentions:          \n",
    "                        denoms[word] = denoms[word] + 1"
   ]
  },
  {
   "cell_type": "code",
   "execution_count": null,
   "id": "4355ee51",
   "metadata": {},
   "outputs": [],
   "source": [
    "denoms"
   ]
  },
  {
   "cell_type": "code",
   "execution_count": null,
   "id": "63eaeb74",
   "metadata": {},
   "outputs": [],
   "source": []
  }
 ],
 "metadata": {
  "kernelspec": {
   "display_name": "Python 3",
   "language": "python",
   "name": "python3"
  },
  "language_info": {
   "codemirror_mode": {
    "name": "ipython",
    "version": 3
   },
   "file_extension": ".py",
   "mimetype": "text/x-python",
   "name": "python",
   "nbconvert_exporter": "python",
   "pygments_lexer": "ipython3",
   "version": "3.7.9"
  }
 },
 "nbformat": 4,
 "nbformat_minor": 5
}
