{
 "cells": [
  {
   "cell_type": "code",
   "execution_count": 38,
   "id": "80d5978d",
   "metadata": {},
   "outputs": [],
   "source": [
    "import numpy as np\n",
    "import os\n",
    "from collections import defaultdict, Counter\n",
    "import csv\n",
    "import pandas as pd"
   ]
  },
  {
   "cell_type": "code",
   "execution_count": 44,
   "id": "98be6abb",
   "metadata": {
    "scrolled": false
   },
   "outputs": [],
   "source": [
    "ROOT = '/mnt/data0/lucy/manosphere/'\n",
    "COREF_LOGS = '/mnt/data0/dtadimeti/manosphere/logs/'\n",
    "COREF_REDDIT = COREF_LOGS + 'coref_reddit/'\n",
    "SUB_META = ROOT + 'data/subreddits.txt'\n",
    "COREF_RESULTS = ROOT + 'logs/coref_results/'"
   ]
  },
  {
   "cell_type": "code",
   "execution_count": 3,
   "id": "23bcb646",
   "metadata": {},
   "outputs": [],
   "source": [
    "categories = defaultdict(str)\n",
    "categories_rev = defaultdict(list)\n",
    "with open(SUB_META, 'r') as infile: \n",
    "    reader = csv.DictReader(infile)\n",
    "    for row in reader: \n",
    "        name = row['Subreddit'].strip().lower()\n",
    "        if name.startswith('/r/'): name = name[3:]\n",
    "        if name.startswith('r/'): name = name[2:]\n",
    "        if name.endswith('/'): name = name[:-1]\n",
    "        categories[name] = row['Category after majority agreement']\n",
    "        categories_rev[row['Category after majority agreement']].append(name)"
   ]
  },
  {
   "cell_type": "code",
   "execution_count": 4,
   "id": "e2c51ee7",
   "metadata": {},
   "outputs": [],
   "source": [
    "pronoun_map = {}\n",
    "fem = set(['she', 'her', 'hers', 'herself'])\n",
    "for p in fem: \n",
    "    pronoun_map[p] = 'fem'\n",
    "masc = set(['he', 'him', 'his', 'himself'])\n",
    "for p in masc: \n",
    "    pronoun_map[p] = 'masc'\n",
    "they = set(['they', 'them', 'their', 'theirs', 'themself', 'themselves'])\n",
    "for p in they: \n",
    "    pronoun_map[p] = 'they'\n",
    "it = set(['it', 'its', 'itself'])\n",
    "for p in it: \n",
    "    pronoun_map[p] = 'it'\n",
    "you = set(['you', 'your', 'yours', 'yourself', 'yourselves'])\n",
    "for p in you: \n",
    "    pronoun_map[p] = 'you'"
   ]
  },
  {
   "cell_type": "code",
   "execution_count": 97,
   "id": "f690e649",
   "metadata": {},
   "outputs": [
    {
     "name": "stdout",
     "output_type": "stream",
     "text": [
      "17576\n",
      "11\n"
     ]
    }
   ],
   "source": [
    "ratios = {} # {year-month : fem frac}\n",
    "all_fem_count = 0 # total\n",
    "all_masc_count = 0 # total\n",
    "boyfriend_count = 0\n",
    "for year_month in os.listdir(COREF_REDDIT): \n",
    "    boyfriend_lines = [] # clusters that contain 'boyfriend' substring\n",
    "    with open(COREF_REDDIT + year_month, 'r') as infile: \n",
    "        for line in infile: \n",
    "            # very crude check\n",
    "            contents = line.strip().lower().split('\\t')\n",
    "            if len(contents) <= 1: continue\n",
    "            if categories[contents[0]] != 'Health' and categories[contents[0]] != 'Criticism': \n",
    "                for clust in contents: \n",
    "                    if 'boyfriend' in clust: \n",
    "                        boyfriend_lines.append(clust)\n",
    "    pronoun_count = Counter()\n",
    "    \n",
    "    for clust in boyfriend_lines: \n",
    "        items = set(clust.split('$'))\n",
    "        # is a cluster that contains 'boyfriend' as a span or proceeded by one other token\n",
    "        is_boyfriend_cluster = False\n",
    "        pronouns = set()\n",
    "        for item in items: \n",
    "            w_tokens = item.split(' ')\n",
    "            if len(w_tokens) > 3: continue\n",
    "            # 'the wife' -> wife, 'the hot wife' -> hot wife\n",
    "            w_except_first = ' '.join(w_tokens[1:])\n",
    "            # 'hot wife' -> wife\n",
    "            last_token = w_tokens[-1]\n",
    "            if item == 'boyfriend' or w_except_first == 'boyfriend' or last_token =='boyfriend': \n",
    "                is_boyfriend_cluster = True\n",
    "            if item in pronoun_map: \n",
    "                pronouns.add(pronoun_map[item])\n",
    "        if is_boyfriend_cluster: \n",
    "            boyfriend_count += 1\n",
    "            for p in pronouns: \n",
    "                pronoun_count[p] += 1\n",
    "\n",
    "    fem_count = pronoun_count['fem']\n",
    "    masc_count = pronoun_count['masc']\n",
    "    if (fem_count + masc_count) != 0: \n",
    "        ratios[year_month] = fem_count / (fem_count + masc_count)\n",
    "    all_fem_count += fem_count\n",
    "    all_masc_count += masc_count\n",
    "# print(ratios)\n",
    "print(boyfriend_count)\n",
    "print(len(boyfriend_lines))"
   ]
  },
  {
   "cell_type": "code",
   "execution_count": 98,
   "id": "b4a9badd",
   "metadata": {},
   "outputs": [
    {
     "data": {
      "text/plain": [
       "[0.0,\n",
       " 0.0,\n",
       " 0.0,\n",
       " 0.1,\n",
       " 0.16666666666666666,\n",
       " 0.25,\n",
       " 0.25,\n",
       " 0.26785714285714285,\n",
       " 0.2727272727272727,\n",
       " 0.2773722627737226,\n",
       " 0.27848101265822783,\n",
       " 0.28169014084507044,\n",
       " 0.2916666666666667,\n",
       " 0.2926829268292683,\n",
       " 0.29545454545454547,\n",
       " 0.2956989247311828,\n",
       " 0.29931972789115646,\n",
       " 0.30357142857142855,\n",
       " 0.31092436974789917,\n",
       " 0.3111111111111111,\n",
       " 0.3125,\n",
       " 0.31693989071038253,\n",
       " 0.3175355450236967,\n",
       " 0.32298136645962733,\n",
       " 0.3271604938271605,\n",
       " 0.33004926108374383,\n",
       " 0.3310810810810811,\n",
       " 0.3333333333333333,\n",
       " 0.3333333333333333,\n",
       " 0.3375,\n",
       " 0.3392857142857143,\n",
       " 0.3416666666666667,\n",
       " 0.3431952662721893,\n",
       " 0.34375,\n",
       " 0.34415584415584416,\n",
       " 0.3445378151260504,\n",
       " 0.3448275862068966,\n",
       " 0.34523809523809523,\n",
       " 0.34782608695652173,\n",
       " 0.3489583333333333,\n",
       " 0.35119047619047616,\n",
       " 0.35119047619047616,\n",
       " 0.35135135135135137,\n",
       " 0.3516483516483517,\n",
       " 0.3522727272727273,\n",
       " 0.3523809523809524,\n",
       " 0.3532934131736527,\n",
       " 0.35348837209302325,\n",
       " 0.35751295336787564,\n",
       " 0.3582089552238806,\n",
       " 0.3588235294117647,\n",
       " 0.3588235294117647,\n",
       " 0.3602941176470588,\n",
       " 0.36363636363636365,\n",
       " 0.36401673640167365,\n",
       " 0.366412213740458,\n",
       " 0.37209302325581395,\n",
       " 0.37264150943396224,\n",
       " 0.37662337662337664,\n",
       " 0.3832599118942731,\n",
       " 0.3854166666666667,\n",
       " 0.38596491228070173,\n",
       " 0.38596491228070173,\n",
       " 0.3873239436619718,\n",
       " 0.3879310344827586,\n",
       " 0.3893129770992366,\n",
       " 0.3893129770992366,\n",
       " 0.39166666666666666,\n",
       " 0.39285714285714285,\n",
       " 0.3939393939393939,\n",
       " 0.3939393939393939,\n",
       " 0.39444444444444443,\n",
       " 0.3953488372093023,\n",
       " 0.3978494623655914,\n",
       " 0.3983739837398374,\n",
       " 0.4,\n",
       " 0.40236686390532544,\n",
       " 0.40606060606060607,\n",
       " 0.40816326530612246,\n",
       " 0.4094488188976378,\n",
       " 0.41025641025641024,\n",
       " 0.41414141414141414,\n",
       " 0.4148936170212766,\n",
       " 0.4157303370786517,\n",
       " 0.41708542713567837,\n",
       " 0.4175824175824176,\n",
       " 0.42105263157894735,\n",
       " 0.42276422764227645,\n",
       " 0.4230769230769231,\n",
       " 0.4266666666666667,\n",
       " 0.42857142857142855,\n",
       " 0.42857142857142855,\n",
       " 0.42857142857142855,\n",
       " 0.43243243243243246,\n",
       " 0.4339622641509434,\n",
       " 0.4358974358974359,\n",
       " 0.4365079365079365,\n",
       " 0.43795620437956206,\n",
       " 0.4385026737967914,\n",
       " 0.4409448818897638,\n",
       " 0.4496124031007752,\n",
       " 0.45384615384615384,\n",
       " 0.45454545454545453,\n",
       " 0.4567901234567901,\n",
       " 0.45714285714285713,\n",
       " 0.45918367346938777,\n",
       " 0.45918367346938777,\n",
       " 0.4626865671641791,\n",
       " 0.4666666666666667,\n",
       " 0.47096774193548385,\n",
       " 0.4722222222222222,\n",
       " 0.47692307692307695,\n",
       " 0.4805194805194805,\n",
       " 0.48148148148148145,\n",
       " 0.4827586206896552,\n",
       " 0.4827586206896552,\n",
       " 0.48936170212765956,\n",
       " 0.5,\n",
       " 0.5,\n",
       " 0.5,\n",
       " 0.5048543689320388,\n",
       " 0.5217391304347826,\n",
       " 0.5409836065573771,\n",
       " 0.5490196078431373,\n",
       " 0.5714285714285714,\n",
       " 0.5714285714285714,\n",
       " 1.0]"
      ]
     },
     "execution_count": 98,
     "metadata": {},
     "output_type": "execute_result"
    }
   ],
   "source": [
    "sorted(list(ratios.values()))"
   ]
  },
  {
   "cell_type": "code",
   "execution_count": 99,
   "id": "10268ea7",
   "metadata": {},
   "outputs": [
    {
     "data": {
      "text/plain": [
       "0.6223021582733813"
      ]
     },
     "execution_count": 99,
     "metadata": {},
     "output_type": "execute_result"
    }
   ],
   "source": [
    "1-(all_fem_count / (all_fem_count + all_masc_count))"
   ]
  },
  {
   "cell_type": "code",
   "execution_count": 100,
   "id": "2d1c36bc",
   "metadata": {},
   "outputs": [
    {
     "data": {
      "text/plain": [
       "5145"
      ]
     },
     "execution_count": 100,
     "metadata": {},
     "output_type": "execute_result"
    }
   ],
   "source": [
    "all_fem_count"
   ]
  },
  {
   "cell_type": "markdown",
   "id": "1664a6aa",
   "metadata": {},
   "source": [
    "### Playing around with evaluation"
   ]
  },
  {
   "cell_type": "code",
   "execution_count": 42,
   "id": "c7b63b73",
   "metadata": {},
   "outputs": [],
   "source": [
    "gold_masc = set()\n",
    "gold_fem = set()\n",
    "with open(ROOT + 'logs/gender_gold_labels.csv', 'r') as infile: \n",
    "    reader = csv.DictReader(infile)\n",
    "    for row in reader: \n",
    "        if row['gendered?'] == 'm':\n",
    "            gold_masc.add(row['word (plural)'].lower())\n",
    "            gold_masc.add(row['word (singular)'].lower())\n",
    "        if row['gendered?'] == 'f': \n",
    "            gold_fem.add(row['word (plural)'].lower())\n",
    "            gold_fem.add(row['word (singular)'].lower())"
   ]
  },
  {
   "cell_type": "code",
   "execution_count": 43,
   "id": "659d98bc",
   "metadata": {},
   "outputs": [],
   "source": [
    "david_labels = Counter()\n",
    "with open(ROOT + 'logs/temp_gender.txt', 'r') as infile: \n",
    "    reader = csv.DictReader(infile, delimiter='\\t')\n",
    "    for row in reader: \n",
    "        if row['proper'] != 'nom': continue\n",
    "        if (float(row['he/him/his']) + float(row['she/her'])) < 3: continue\n",
    "        david_labels[row['term']] = float(row['she/her']) / (float(row['he/him/his']) + float(row['she/her']))"
   ]
  },
  {
   "cell_type": "code",
   "execution_count": 35,
   "id": "9057f850",
   "metadata": {},
   "outputs": [
    {
     "name": "stdout",
     "output_type": "stream",
     "text": [
      "0.11035301645113263\n"
     ]
    }
   ],
   "source": [
    "print(david_labels['boyfriend'])"
   ]
  },
  {
   "cell_type": "code",
   "execution_count": 62,
   "id": "5c0a03c9",
   "metadata": {},
   "outputs": [],
   "source": [
    "df = pd.read_csv(COREF_RESULTS + 'coref_reddit_df.csv')"
   ]
  },
  {
   "cell_type": "code",
   "execution_count": 63,
   "id": "942be167",
   "metadata": {},
   "outputs": [],
   "source": [
    "df = df.groupby('word').sum()\n",
    "df['fem_frac'] = df['fem'] / (df['fem'] + df['masc'])\n",
    "df = df[['fem_frac']].dropna()\n",
    "df = df.to_dict()"
   ]
  },
  {
   "cell_type": "code",
   "execution_count": 65,
   "id": "5f32bbb2",
   "metadata": {},
   "outputs": [],
   "source": [
    "spacy_labels = df['fem_frac']"
   ]
  },
  {
   "cell_type": "code",
   "execution_count": 66,
   "id": "b5916d39",
   "metadata": {},
   "outputs": [
    {
     "name": "stdout",
     "output_type": "stream",
     "text": [
      "0.20835285848172447\n"
     ]
    }
   ],
   "source": [
    "print(spacy_labels['boyfriend'])"
   ]
  },
  {
   "cell_type": "code",
   "execution_count": 79,
   "id": "c294c89b",
   "metadata": {},
   "outputs": [],
   "source": [
    "# average score for m words\n",
    "spacy_scores = []\n",
    "david_scores = []\n",
    "for w in gold_masc: \n",
    "    if w in spacy_labels and w in david_labels: \n",
    "        spacy_scores.append(spacy_labels[w])\n",
    "        david_scores.append(david_labels[w])"
   ]
  },
  {
   "cell_type": "code",
   "execution_count": 81,
   "id": "8331573a",
   "metadata": {},
   "outputs": [
    {
     "name": "stdout",
     "output_type": "stream",
     "text": [
      "masc words\n",
      "SPACY: 0.3444542404438327 BOOKNLP: 0.4178711174822399\n"
     ]
    }
   ],
   "source": [
    "print(\"masc words\")\n",
    "print(\"SPACY:\", np.mean(spacy_scores), \"BOOKNLP:\", np.mean(david_scores))"
   ]
  },
  {
   "cell_type": "code",
   "execution_count": 82,
   "id": "39a5d35d",
   "metadata": {},
   "outputs": [],
   "source": [
    "# average score for f words\n",
    "spacy_scores = []\n",
    "david_scores = []\n",
    "for w in gold_fem: \n",
    "    if w in spacy_labels and w in david_labels: \n",
    "        spacy_scores.append(spacy_labels[w])\n",
    "        david_scores.append(david_labels[w])"
   ]
  },
  {
   "cell_type": "code",
   "execution_count": 83,
   "id": "c561e420",
   "metadata": {
    "scrolled": true
   },
   "outputs": [
    {
     "name": "stdout",
     "output_type": "stream",
     "text": [
      "fem words\n",
      "SPACY: 0.8207216951656394 BOOKNLP: 0.6975304808729251\n"
     ]
    }
   ],
   "source": [
    "print(\"fem words\")\n",
    "print(\"SPACY:\", np.mean(spacy_scores), \"BOOKNLP:\", np.mean(david_scores))"
   ]
  },
  {
   "cell_type": "code",
   "execution_count": null,
   "id": "6cecf0a5",
   "metadata": {},
   "outputs": [],
   "source": []
  }
 ],
 "metadata": {
  "kernelspec": {
   "display_name": "Python 3 (ipykernel)",
   "language": "python",
   "name": "python3"
  },
  "language_info": {
   "codemirror_mode": {
    "name": "ipython",
    "version": 3
   },
   "file_extension": ".py",
   "mimetype": "text/x-python",
   "name": "python",
   "nbconvert_exporter": "python",
   "pygments_lexer": "ipython3",
   "version": "3.7.11"
  }
 },
 "nbformat": 4,
 "nbformat_minor": 5
}
