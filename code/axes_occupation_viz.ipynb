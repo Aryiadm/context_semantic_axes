{
 "cells": [
  {
   "cell_type": "code",
   "execution_count": 1,
   "metadata": {},
   "outputs": [],
   "source": [
    "import numpy as np\n",
    "import scipy.stats\n",
    "import json\n",
    "from collections import defaultdict\n",
    "from scipy import spatial\n",
    "import matplotlib.pyplot as plt\n",
    "from collections import Counter\n",
    "from validate_semantics import load_wordnet_axes, get_glove_vecs\n",
    "from sklearn.decomposition import PCA\n",
    "from sklearn.discriminant_analysis import LinearDiscriminantAnalysis\n",
    "from sklearn.preprocessing import StandardScaler\n",
    "from scipy.stats import mannwhitneyu\n",
    "from sklearn.metrics.pairwise import cosine_similarity\n",
    "import random"
   ]
  },
  {
   "cell_type": "code",
   "execution_count": 2,
   "metadata": {},
   "outputs": [],
   "source": [
    "ROOT = '/mnt/data0/lucy/manosphere/'\n",
    "DATA = ROOT + 'data/'\n",
    "GLOVE = DATA + 'glove/'\n",
    "LOGS = ROOT + 'logs/'"
   ]
  },
  {
   "cell_type": "markdown",
   "metadata": {},
   "source": [
    "### Axes in vector space"
   ]
  },
  {
   "cell_type": "code",
   "execution_count": 3,
   "metadata": {},
   "outputs": [],
   "source": [
    "axes, axes_vocab = load_wordnet_axes()\n",
    "glove_vecs = get_glove_vecs(set(), axes_vocab, exp_name='default')"
   ]
  },
  {
   "cell_type": "code",
   "execution_count": 4,
   "metadata": {},
   "outputs": [],
   "source": [
    "def show_top_axes(path, scores):\n",
    "    with open(path, 'r') as infile:\n",
    "        biases = json.load(infile) # {c : { pole : (bias, effect) } }\n",
    "\n",
    "    for c in biases: \n",
    "        print(\"**** BIAS ****\", c)\n",
    "        vals = []\n",
    "        dims = []\n",
    "        for pole in biases[c]: \n",
    "            bias_sep, p_val, effect, b_t_f1, b_t_f2 = biases[c][pole]\n",
    "            # separability + statistical significance\n",
    "            if scores[pole + '_left'][0] >= 0 and scores[pole + '_right'][0] >= 0 and p_val < 0.05:\n",
    "                dims.append((pole, round(b_t_f2, 3)))\n",
    "                vals.append(abs(effect))\n",
    "        sorted_dims = [x for _,x in sorted(zip(vals,dims))]\n",
    "        for i in range(1, 6): \n",
    "            pole, bias = sorted_dims[-i]\n",
    "            left, right = axes[pole]\n",
    "            bias_sep, p_val, effect, b_t_f1, b_t_f2 = biases[c][pole]\n",
    "            if b_t_f2 > 0 and effect > 0: \n",
    "                this_side = left\n",
    "                degree = 'more'\n",
    "            elif b_t_f2 > 0 and effect <= 0: \n",
    "                this_side = left\n",
    "                degree = 'less'\n",
    "            elif b_t_f2 <= 0 and effect > 0: \n",
    "                this_side = right\n",
    "                degree = 'less'\n",
    "            elif b_t_f2 <= 0 and effect <= 0: \n",
    "                this_side = right\n",
    "                degree = 'more'\n",
    "            print(round(effect, 3), bias, pole, degree.upper(), '(' + ', '.join(this_side)  + ')')\n",
    "        print()"
   ]
  },
  {
   "cell_type": "code",
   "execution_count": 5,
   "metadata": {},
   "outputs": [],
   "source": [
    "def get_occ_sent_counts(): \n",
    "    with open(DATA + 'semantics/occupation_sents.json', 'r') as infile: \n",
    "        occ_sents = json.load(infile)\n",
    "    with open(DATA + 'semantics/cleaned/occupations.json', 'r') as infile: \n",
    "        lexicon_dict = json.load(infile)\n",
    "    occ_cat = defaultdict(list)\n",
    "    for c in lexicon_dict: \n",
    "        for occ in lexicon_dict[c]['high']: \n",
    "            occ_cat[occ].append(c)\n",
    "    occ_cat_counts = defaultdict(Counter)\n",
    "    for occ in occ_sents: \n",
    "        for cat in occ_cat[occ]: \n",
    "            occ_cat_counts[cat][occ] = len(occ_sents[occ])\n",
    "    for cat in occ_cat_counts: \n",
    "        print(cat.upper())\n",
    "        print(len(occ_cat_counts[cat]))\n",
    "        for tup in occ_cat_counts[cat].most_common(): \n",
    "            print('\\t', tup[0], tup[1])"
   ]
  },
  {
   "cell_type": "code",
   "execution_count": 6,
   "metadata": {},
   "outputs": [
    {
     "name": "stdout",
     "output_type": "stream",
     "text": [
      "GOVERNMENT\n",
      "47\n",
      "\t mayor 127\n",
      "\t ombudsman 98\n",
      "\t governor 56\n",
      "\t aide-de-camp 44\n",
      "\t sheriff 32\n",
      "\t ambassador 28\n",
      "\t prosecutor 26\n",
      "\t fence viewer 22\n",
      "\t acting governor 22\n",
      "\t official 19\n",
      "\t alderman 17\n",
      "\t permanent secretary 15\n",
      "\t city manager 10\n",
      "\t attaché 10\n",
      "\t sovereign 9\n",
      "\t city attorney 9\n",
      "\t deputy mayor 8\n",
      "\t advocate general 8\n",
      "\t drain commissioner 8\n",
      "\t undersecretary 7\n",
      "\t postmaster 6\n",
      "\t royal secretary 6\n",
      "\t gold commissioner 6\n",
      "\t treasurer 5\n",
      "\t municipal commissioner 5\n",
      "\t press secretary 4\n",
      "\t state architect 4\n",
      "\t appraiser 4\n",
      "\t county administrator 4\n",
      "\t tax collector 3\n",
      "\t courtier 3\n",
      "\t cultural attaché 3\n",
      "\t permanent representative 3\n",
      "\t intelligence officer 3\n",
      "\t county surveyor 2\n",
      "\t council architect 2\n",
      "\t village accountant 2\n",
      "\t cabinet secretary 2\n",
      "\t hardship post 2\n",
      "\t acting president 2\n",
      "\t bureaucrat 2\n",
      "\t language commissioner 1\n",
      "\t pursuivant 1\n",
      "\t county executive 1\n",
      "\t sub-divisional magistrate 1\n",
      "\t municipal clerk 1\n",
      "\t postal worker 1\n",
      "HEALTH\n",
      "47\n",
      "\t midwife 44\n",
      "\t pharmacist 32\n",
      "\t psychologist 29\n",
      "\t pharmacy technician 24\n",
      "\t dental assistant 23\n",
      "\t physician assistant 21\n",
      "\t general practitioner 18\n",
      "\t radiographer 16\n",
      "\t occupational therapist 16\n",
      "\t physical therapist 14\n",
      "\t ophthalmologist 11\n",
      "\t flight nurse 11\n",
      "\t audiologist 10\n",
      "\t chiropractor 10\n",
      "\t optometrist 10\n",
      "\t chiropodist 10\n",
      "\t dental technician 9\n",
      "\t anesthesiologist 9\n",
      "\t anesthesiologist assistant 9\n",
      "\t social worker 9\n",
      "\t podiatrist 8\n",
      "\t neurologist 8\n",
      "\t radiologist 8\n",
      "\t dermatologist 8\n",
      "\t nephrologist 7\n",
      "\t psychiatrist 6\n",
      "\t pediatrician 5\n",
      "\t cardiologist 5\n",
      "\t athletic trainer 5\n",
      "\t emergency physician 5\n",
      "\t massage therapist 5\n",
      "\t gynaecologist 4\n",
      "\t neurosurgeon 4\n",
      "\t neonatologist 4\n",
      "\t phlebotomist 4\n",
      "\t dentist 4\n",
      "\t endocrinologist 3\n",
      "\t pulmonologist 3\n",
      "\t cardiac surgeon 2\n",
      "\t urologist 2\n",
      "\t geriatrician 2\n",
      "\t cardiothoracic surgeon 2\n",
      "\t internist 2\n",
      "\t obstetrician 1\n",
      "\t oncologist 1\n",
      "\t lactation consultant 1\n",
      "\t epidemiologist 1\n",
      "THEATER, FILM, TV, ENTERTAINMENT\n",
      "48\n",
      "\t actor 22\n",
      "\t stage manager 22\n",
      "\t lighting designer 20\n",
      "\t music director 18\n",
      "\t sound designer 18\n",
      "\t electrician 18\n",
      "\t casting director 15\n",
      "\t cinematographer 14\n",
      "\t showrunner 13\n",
      "\t publicist 12\n",
      "\t animator 12\n",
      "\t artistic director 12\n",
      "\t audio engineer 11\n",
      "\t screenwriter 10\n",
      "\t composer 10\n",
      "\t wardrobe supervisor 10\n",
      "\t television director 10\n",
      "\t executive producer 9\n",
      "\t film director 8\n",
      "\t technical director 8\n",
      "\t dramaturge 7\n",
      "\t property master 7\n",
      "\t master electrician 7\n",
      "\t lighting technician 7\n",
      "\t dancer 6\n",
      "\t playwright 5\n",
      "\t musician 5\n",
      "\t costume designer 5\n",
      "\t voice actor 4\n",
      "\t film producer 4\n",
      "\t video editor 4\n",
      "\t stunt coordinator 4\n",
      "\t charge artist 4\n",
      "\t cartoonist 3\n",
      "\t choreographer 3\n",
      "\t fly crew 3\n",
      "\t scenographer 3\n",
      "\t janitor 3\n",
      "\t anchorman 3\n",
      "\t spotlight operator 2\n",
      "\t scenic designer 2\n",
      "\t theatrical technician 2\n",
      "\t television producer 1\n",
      "\t theater manager 1\n",
      "\t marketing director 1\n",
      "\t stagehand 1\n",
      "\t production manager 1\n",
      "\t backstage 1\n",
      "PHYSICAL, NATURAL, EARTH SCIENCES\n",
      "30\n",
      "\t astronaut 31\n",
      "\t psychologist 29\n",
      "\t physician 18\n",
      "\t scientist 12\n",
      "\t research fellow 10\n",
      "\t veterinarian 10\n",
      "\t chemist 9\n",
      "\t archaeologist 9\n",
      "\t inventor 9\n",
      "\t pathologist 8\n",
      "\t biochemist 6\n",
      "\t science attaché 6\n",
      "\t forester 6\n",
      "\t physicist 5\n",
      "\t geologist 5\n",
      "\t biomedical scientist 4\n",
      "\t astronomer 3\n",
      "\t naturalist 3\n",
      "\t botanist 2\n",
      "\t petroleum geologist 2\n",
      "\t herpetologist 2\n",
      "\t geographer 2\n",
      "\t microbiologist 2\n",
      "\t gentleman scientist 2\n",
      "\t ecologist 1\n",
      "\t biologist 1\n",
      "\t neuroscientist 1\n",
      "\t zoologist 1\n",
      "\t oceanographer 1\n",
      "\t government scientist 1\n",
      "SPORTS\n",
      "24\n",
      "\t boxer 41\n",
      "\t surfer 38\n",
      "\t archer 32\n",
      "\t disc golf 32\n",
      "\t jockey 31\n",
      "\t gymnast 23\n",
      "\t rower 13\n",
      "\t judoka 9\n",
      "\t skier 7\n",
      "\t dancer 6\n",
      "\t bullfighter 6\n",
      "\t cyclist 5\n",
      "\t wrestler 5\n",
      "\t marathoner 4\n",
      "\t figure skater 3\n",
      "\t triathlete 2\n",
      "\t kickboxer 2\n",
      "\t curler 2\n",
      "\t cricketer 2\n",
      "\t long-distance runner 2\n",
      "\t swimmer 1\n",
      "\t martial artist 1\n",
      "\t football player 1\n",
      "\t baseball player 1\n",
      "SOCIAL SCIENCE\n",
      "6\n",
      "\t urban planner 24\n",
      "\t historian 17\n",
      "\t sociologist 10\n",
      "\t anthropologist 5\n",
      "\t economist 4\n",
      "\t political scientist 2\n",
      "ARTISTIC\n",
      "32\n",
      "\t writer 42\n",
      "\t architect 32\n",
      "\t curator 28\n",
      "\t singer 17\n",
      "\t photographer 13\n",
      "\t animator 12\n",
      "\t penciller 10\n",
      "\t concept artist 8\n",
      "\t interior designer 7\n",
      "\t dancer 6\n",
      "\t sculptor 5\n",
      "\t colorist 5\n",
      "\t musician 5\n",
      "\t wedding planner 4\n",
      "\t baker 4\n",
      "\t fashion designer 4\n",
      "\t photojournalist 4\n",
      "\t essayist 3\n",
      "\t artisan 3\n",
      "\t lyricist 3\n",
      "\t design director 3\n",
      "\t art therapist 3\n",
      "\t set decorator 3\n",
      "\t web designer 3\n",
      "\t production designer 3\n",
      "\t illustrator 2\n",
      "\t set dresser 2\n",
      "\t graphic designer 2\n",
      "\t tattoo artist 2\n",
      "\t jewellery designer 1\n",
      "\t potter 1\n",
      "\t hairstylist 1\n",
      "WRITING\n",
      "27\n",
      "\t writer 42\n",
      "\t author 37\n",
      "\t review 34\n",
      "\t ghostwriter 30\n",
      "\t novelist 28\n",
      "\t songwriter 23\n",
      "\t copy editor 20\n",
      "\t scribe 16\n",
      "\t blogger 15\n",
      "\t griot 14\n",
      "\t technical writer 14\n",
      "\t speechwriter 12\n",
      "\t scrivener 11\n",
      "\t screenwriter 10\n",
      "\t poet 10\n",
      "\t freelancer 10\n",
      "\t script coordinator 8\n",
      "\t medical writing 8\n",
      "\t journalist 6\n",
      "\t hack writer 6\n",
      "\t literary editor 3\n",
      "\t commissioning editor 2\n",
      "\t dog writer 2\n",
      "\t staff writer 2\n",
      "\t creative consultant 2\n",
      "\t script doctor 1\n",
      "\t manuscript format 1\n",
      "AGRICULTURE\n",
      "29\n",
      "\t cowboy 77\n",
      "\t yeoman 61\n",
      "\t gaucho 25\n",
      "\t shepherd 25\n",
      "\t vaquero 22\n",
      "\t reaper 21\n",
      "\t farmer 15\n",
      "\t llanero 15\n",
      "\t charro 15\n",
      "\t beekeeper 11\n",
      "\t farmworker 11\n",
      "\t water boy 9\n",
      "\t knacker 7\n",
      "\t breeder 6\n",
      "\t teamster 5\n",
      "\t gentleman farmer 4\n",
      "\t rancher 4\n",
      "\t agriculturist 3\n",
      "\t husbandman 3\n",
      "\t cattleman 2\n",
      "\t milkmaid 2\n",
      "\t fruit picking 2\n",
      "\t herder 2\n",
      "\t swineherd 1\n",
      "\t professional hunter 1\n",
      "\t campino 1\n",
      "\t sea shepherd 1\n",
      "\t sheep shearer 1\n",
      "\t goatherd 1\n",
      "ENGINEERING\n",
      "7\n",
      "\t civil engineer 14\n",
      "\t engineering technologist 11\n",
      "\t chemical engineer 6\n",
      "\t engineering technician 3\n",
      "\t mechanical engineer 2\n",
      "\t educational technologist 2\n",
      "\t biomedical engineer 1\n",
      "MATH & STATISTICS\n",
      "3\n",
      "\t mathematician 7\n",
      "\t statistician 3\n",
      "\t computational scientist 3\n"
     ]
    }
   ],
   "source": [
    "get_occ_sent_counts()"
   ]
  },
  {
   "cell_type": "markdown",
   "metadata": {},
   "source": [
    "### Occupation and self-consistency evaluation"
   ]
  },
  {
   "cell_type": "code",
   "execution_count": 7,
   "metadata": {},
   "outputs": [],
   "source": [
    "def mean_confidence_interval(data, confidence=0.90):\n",
    "    '''\n",
    "    copied from https://stackoverflow.com/questions/15033511/compute-a-confidence-interval-from-sample-data\n",
    "    '''\n",
    "    a = 1.0 * np.array(data)\n",
    "    n = len(a)\n",
    "    m, se = np.mean(a), scipy.stats.sem(a)\n",
    "    h = se * scipy.stats.t.ppf((1 + confidence) / 2., n-1)\n",
    "    return m, m-h, m+h\n",
    "\n",
    "def plot_axes_quality(exp_name): \n",
    "    quality_file_path = LOGS + 'semantics_val/axes_quality_' + exp_name + '.txt'\n",
    "    scores = defaultdict(dict) # {synset: {word : (predicted, true)}}\n",
    "    with open(quality_file_path, 'r') as infile: \n",
    "        for line in infile: \n",
    "            contents = line.strip().split('\\t')\n",
    "            scores[contents[0]][contents[1]] = (float(contents[2]), contents[3])\n",
    "    avg_scores = Counter()\n",
    "    ci_scores = Counter()\n",
    "    good_count = 0\n",
    "    for synset in scores: \n",
    "        left_scores = []\n",
    "        right_scores = []\n",
    "        for w in scores[synset]: \n",
    "            if scores[synset][w][1] == 'left': \n",
    "                left_scores.append(-1*scores[synset][w][0])\n",
    "            else: \n",
    "                right_scores.append(scores[synset][w][0])\n",
    "        if left_scores != []: \n",
    "            # some are empty since they only had one word with reps\n",
    "            avg_scores[synset + '_left'] = np.mean(left_scores) \n",
    "            ci_scores[synset + '_left'] = mean_confidence_interval(left_scores)\n",
    "        if right_scores != []: \n",
    "            avg_scores[synset + '_right'] = np.mean(right_scores) \n",
    "            ci_scores[synset + '_right'] = mean_confidence_interval(right_scores)\n",
    "        if avg_scores[synset + '_left'] >= 0 and avg_scores[synset + '_right'] >= 0: \n",
    "            good_count += 1\n",
    "    ordered_scores = avg_scores.most_common()\n",
    "    print(\"BEST\", ordered_scores[:10])\n",
    "    print(\"WORST\", ordered_scores[::-1][:10])\n",
    "    plt.hist(avg_scores.values(), density=True, bins=20)\n",
    "    print(\"AVG SIMILARITY TO CORRECT SIDE:\", np.mean(list(avg_scores.values())))\n",
    "    print(\"STANDARD DEVIATION:\", np.std(list(avg_scores.values())))\n",
    "    print(\"GOOD AXES COUNT:\", good_count)\n",
    "    plt.axvline(x=np.mean(list(avg_scores.values())), color='red')\n",
    "    plt.ylabel('frequency')\n",
    "    plt.xlabel('similarity to correct side')\n",
    "    plt.title(exp_name)\n",
    "    plt.show()\n",
    "    return ci_scores"
   ]
  },
  {
   "cell_type": "code",
   "execution_count": 8,
   "metadata": {},
   "outputs": [
    {
     "name": "stdout",
     "output_type": "stream",
     "text": [
      "BEST [('cardinal.a.02_right', 0.46587843275706514), ('democratic.a.01_right', 0.45688202820996093), ('established.a.01_right', 0.4457313786380787), ('proved.a.01_right', 0.4400854343410742), ('diligent.a.02_left', 0.4298208091532249), ('used.a.01_left', 0.42174856144216466), ('prospective.a.01_left', 0.4127038229058156), ('partial.a.02_right', 0.3980450580154516), ('nourished.a.01_right', 0.3915070398937059), ('all.a.01_left', 0.3797426857709725)]\n",
      "WORST [('leeward.a.01_left', -0.2969628124826152), ('left-handed.a.01_left', -0.27629508544904546), ('east.a.01_right', -0.2724861278640515), ('alkaline.a.01_left', -0.2609350143981471), ('western.a.02_left', -0.2469994684001294), ('right-handed.a.01_right', -0.22041623298552349), ('same.a.01_left', -0.21482705170077418), ('left-handed.a.01_right', -0.1928498721136952), ('right.a.01_right', -0.1880249658281328), ('like.a.01_left', -0.18562359995196703)]\n",
      "AVG SIMILARITY TO CORRECT SIDE: 0.10148170209867674\n",
      "STANDARD DEVIATION: 0.11268108819441731\n",
      "GOOD AXES COUNT: 503\n"
     ]
    },
    {
     "data": {
      "image/png": "[encoded data removed]",
      "text/plain": [
       "<Figure size 432x288 with 1 Axes>"
      ]
     },
     "metadata": {
      "needs_background": "light"
     },
     "output_type": "display_data"
    }
   ],
   "source": [
    "# GloVe \n",
    "scores1 = plot_axes_quality('default')"
   ]
  },
  {
   "cell_type": "code",
   "execution_count": 9,
   "metadata": {},
   "outputs": [
    {
     "name": "stdout",
     "output_type": "stream",
     "text": [
      "**** BIAS **** Writing\n",
      "0.092 0.084 complimentary.a.01 MORE (complimentary, eulogistic, laudatory, panegyric, praising)\n",
      "0.092 0.141 substantial.a.03 MORE (material, real, substantial)\n",
      "0.089 0.178 original.a.03 MORE (avant-garde, daring, freehand, fresh, germinal, groundbreaking, innovative, new, newfangled, novel, original, seminal)\n",
      "0.084 0.128 real.a.01 MORE (actual, documentary, existent, factual, historical, objective, real)\n",
      "-0.08 -0.08 reverent.a.01 MORE (blasphemous, disrespectful, irreverent, profane, sacrilegious)\n",
      "\n",
      "**** BIAS **** Theater, film, TV, entertainment\n",
      "0.108 0.157 healthy.a.01 MORE (bouncing, firm, florid, flushed, full-blooded, good, hale, healthy, hearty, lusty, rosy, ruddy, sanguine, sound, well-preserved, whole, wholesome)\n",
      "0.107 0.16 sound.a.03 MORE (solid, sound, strong, substantial)\n",
      "0.105 0.167 colorful.a.01 MORE (ablaze, bright, brilliant, changeable, colorful, colourful, deep, fluorescent, iridescent, prismatic, psychedelic, rich, shot, shrill, vibrant, vivid)\n",
      "0.105 0.17 ample.a.01 MORE (ample, full, generous, good, wide)\n",
      "0.103 0.174 faithful.a.01 MORE (faithful, fast, firm, loyal, true)\n",
      "\n",
      "**** BIAS **** Artistic\n",
      "0.126 0.218 original.a.03 MORE (avant-garde, daring, freehand, fresh, germinal, groundbreaking, innovative, new, newfangled, novel, original, seminal)\n",
      "0.099 0.158 colorful.a.01 MORE (ablaze, bright, brilliant, changeable, colorful, colourful, deep, fluorescent, iridescent, prismatic, psychedelic, rich, shot, shrill, vibrant, vivid)\n",
      "0.096 0.177 gracious.a.01 MORE (elegant, graceful, gracious, merciful, refined)\n",
      "0.093 0.148 creative.a.01 MORE (creative, fanciful, fictive, imaginative, inventive, notional, yeasty)\n",
      "0.09 0.204 skilled.a.01 MORE (accomplished, adept, arch, complete, consummate, delicate, expert, good, hot, masterful, masterly, mean, practiced, proficient, skilful, skilled, skillful, technical, versatile, virtuoso)\n",
      "\n",
      "**** BIAS **** Health\n",
      "-0.157 -0.108 healthy.a.01 MORE (angry, arthritic, asthmatic, bad, bloodshot, colicky, creaky, dehydrated, diseased, enlarged, flatulent, foaming, foamy, frothing, gangrenous, gassy, inflamed, inflammatory, ingrown, jaundiced, membranous, mental, morbid, mortified, pathologic, pathological, pro-inflammatory, proinflammatory, puffy, rheumatic, rheumatoid, rheumy, sallow, sickly, sunburned, sunburnt, tumescent, turgid, ulcerated, unfit, unhealthy, unsound, varicose, wheezing, wheezy, yellow)\n",
      "-0.129 -0.038 original.a.03 MORE (banal, cliched, cold, commonplace, corny, dusty, hackneyed, platitudinous, ready-made, shopworn, slavish, stale, stock, threadbare, timeworn, tired, trite, unoriginal, well-worn)\n",
      "-0.127 -0.068 colorful.a.01 MORE (ashen, blanched, bleached, bloodless, colorless, colourless, drab, dulled, faded, livid, lurid, pale, pallid, pasty, sober, somber, sombre, wan, washed-out, washy, waxen, waxy, white, whitened)\n",
      "-0.125 -0.071 substantial.a.03 MORE (aerial, airy, ethereal, insubstantial, shadowy, stringy, unreal, unsubstantial, wraithlike)\n",
      "-0.123 -0.078 sympathetic.a.04 MORE (unappealing, unlikable, unlikeable, unsympathetic)\n",
      "\n",
      "**** BIAS **** Agriculture\n",
      "0.171 0.033 dominant.a.01 MORE (ascendant, ascendent, controlling, dominant, dominating, governing, overriding, paramount, possessive, predominant, predominate, preponderant, sovereign, superior, supreme)\n",
      "-0.161 -0.063 intellectual.a.02 MORE (anti-intellectual, lowbrow, mindless, philistine, uncultivated)\n",
      "-0.143 -0.051 original.a.03 MORE (banal, cliched, cold, commonplace, corny, dusty, hackneyed, platitudinous, ready-made, shopworn, slavish, stale, stock, threadbare, timeworn, tired, trite, unoriginal, well-worn)\n",
      "-0.137 -0.067 important.a.01 MORE (fiddling, immaterial, inconsequential, indifferent, lightweight, lilliputian, little, niggling, petty, picayune, piddling, potty, small-time, trivial, unimportant)\n",
      "-0.136 -0.081 fast.a.01 MORE (dilatory, drawn-out, laggard, lazy, long-play, long-playing, pokey, poky, slow, slow-moving, sluggish, sulky)\n",
      "\n",
      "**** BIAS **** Government\n",
      "-0.152 -0.13 best.a.01 MORE (bottom, last, last-place, lowest, worst)\n",
      "0.141 0.17 political.a.01 MORE (governmental, policy-making, political)\n",
      "0.136 0.201 even.a.03 MORE (even, flat, flush, justified, level, plane, straight, true)\n",
      "0.133 0.164 common.a.01 MORE (common, communal, public)\n",
      "-0.133 -0.14 abstract.a.01 MORE (concrete, objective, real, tangible)\n",
      "\n",
      "**** BIAS **** Sports\n",
      "0.124 -0.013 dominant.a.01 LESS (adjunct, assistant, associate, low-level, secondary, subordinate, under)\n",
      "-0.116 -0.086 common.a.01 MORE (idiosyncratic, individual, individualist, individualistic, man-to-man, one-on-one, respective, several, single, singular, various)\n",
      "-0.095 -0.026 constructive.a.01 MORE (annihilating, blasting, cataclysmic, caustic, corrosive, crushing, damaging, destructive, devastating, erosive, iconoclastic, mordant, negative, ravaging, ruinous, vitriolic, wasteful, withering)\n",
      "-0.087 -0.065 political.a.01 MORE (apolitical, nonpolitical, unpolitical)\n",
      "-0.087 -0.094 social.a.02 MORE (alone, antisocial, asocial, lone, lonely, recluse, reclusive, solitary, unsocial, withdrawn)\n",
      "\n",
      "**** BIAS **** Engineering\n",
      "0.226 0.253 functional.a.01 MORE (functional, structural, useful, utilitarian)\n",
      "0.218 0.253 united.a.01 MORE (agreed, allied, amalgamate, amalgamated, coalesced, coalescent, coalescing, cohesive, confederate, conjugate, conjugated, conjunct, consolidated, coupled, federate, federated, fused, incorporate, incorporated, integrated, merged, one, suprasegmental, tied, undivided, unified, unitary, united, unsegmented)\n",
      "0.207 0.276 progressive.a.01 MORE (advanced, advancing, forward, forward-looking, innovative, modern, modernised, modernized, progressive, state-of-the-art)\n",
      "0.203 0.265 high.a.01 MORE (advanced, broad, full, graduate, high, higher, last, postgraduate, soaring, utmost)\n",
      "0.191 0.262 civilized.a.01 MORE (advanced, civil, civilised, civilized, humane)\n",
      "\n",
      "**** BIAS **** Physical, natural, earth sciences\n",
      "-0.095 -0.069 smooth.a.01 MORE (abrasive, broken, bumpy, chapped, corded, cracked, craggy, crushed, gravelly, hilly, homespun, imbricate, lined, mountainous, nubby, pebbly, pocked, pockmarked, potholed, ribbed, rocky, rough, roughened, rugged, rugose, scabby, scabrous, scaly, scratchy, seamed, shagged, shaggy, stony, textured, tweedy, warty)\n",
      "-0.092 -0.12 conventional.a.04 MORE (alternative, bizarre, devil-may-care, eccentric, flakey, flaky, freakish, freaky, funky, gonzo, kinky, off-the-wall, offbeat, outlandish, outre, quirky, raffish, rakish, spaced-out, spacey, spacy, unconventional)\n",
      "-0.091 -0.107 orthodox.a.02 MORE (dissident, heretical, heterodox, iconoclastic, nonconforming, nonconformist, recusant, unorthodox)\n",
      "0.083 0.107 best.a.01 MORE (best, champion, first, foremost, high-grade, optimal, optimum, primo, prizewinning, record-breaking, second-best, superfine, top-grade, top-quality, unexcelled, unsurpassable, unsurpassed, world-class)\n",
      "0.083 0.167 honorable.a.02 MORE (august, honorable, honourable, laureate, revered, time-honored, time-honoured, venerable)\n",
      "\n",
      "**** BIAS **** Math & statistics\n",
      "-0.202 -0.22 physical.a.01 MORE (intellectual, mental, moral, noetic, psychic, psychical, psychogenic, psychological, rational)\n",
      "-0.196 -0.196 questionable.a.01 MORE (acknowledged, indubitable, mathematical, unimpeachable, unquestionable)\n",
      "0.168 0.152 tough.a.01 MORE (hard-bitten, hard-boiled, pugnacious, tough, tough-minded, unsentimental)\n",
      "-0.137 -0.102 willing.a.01 MORE (grudging, loath, loth, reluctant, unintentional, unwilling)\n",
      "-0.131 -0.133 mature.a.01 MORE (adolescent, babyish, childish, immature, infantile, jejune, juvenile, puerile)\n",
      "\n",
      "**** BIAS **** Social science\n",
      "-0.193 -0.212 physical.a.01 MORE (intellectual, mental, moral, noetic, psychic, psychical, psychogenic, psychological, rational)\n",
      "0.144 0.24 active.a.03 MORE (active, activist, hands-on, proactive)\n",
      "0.135 0.119 social.a.02 MORE (cultural, ethnic, ethnical, gregarious, interpersonal, multi-ethnic, multiethnic, social)\n",
      "0.132 0.151 political.a.01 MORE (governmental, policy-making, political)\n",
      "0.121 0.161 basic.a.01 MORE (basal, base, basic, elemental, elementary, fundamental, grassroots, primary, radical, rudimentary, underlying)\n",
      "\n"
     ]
    }
   ],
   "source": [
    "show_top_axes(LOGS + 'semantics_val/occupations/frameaxis_default.json', scores1)"
   ]
  },
  {
   "cell_type": "code",
   "execution_count": 10,
   "metadata": {},
   "outputs": [
    {
     "name": "stdout",
     "output_type": "stream",
     "text": [
      "BEST [('cosmopolitan.a.02_left', 0.4688037444572688), ('established.a.01_right', 0.4596850064984086), ('diligent.a.02_left', 0.44453673857165804), ('perfect.a.01_right', 0.4236236618175155), ('democratic.a.01_right', 0.42250865007703964), ('coastal.a.02_left', 0.4197461159100794), ('rural.a.01_right', 0.404912632665243), ('loyal.a.01_right', 0.40454635135829137), ('proved.a.01_right', 0.4010928313641157), ('accordant.a.01_right', 0.3786686542925012)]\n",
      "WORST [('right.a.07_right', -0.24983714360112655), ('middle-class.a.01_right', -0.21872887699865978), ('lower-class.a.01_right', -0.2060201658683339), ('left-handed.a.01_left', -0.2055182739316395), ('carnivorous.a.02_left', -0.20271160378624717), ('bidirectional.a.01_right', -0.2004641383563981), ('simple.a.06_right', -0.18363307685494304), ('plausible.a.01_left', -0.18247291968936494), ('upper-class.a.01_left', -0.18238383433328156), ('right-handed.a.01_right', -0.16924812978017423)]\n",
      "AVG SIMILARITY TO CORRECT SIDE: 0.08362568852321235\n",
      "STANDARD DEVIATION: 0.1147778963524086\n",
      "GOOD AXES COUNT: 393\n"
     ]
    },
    {
     "data": {
      "image/png": "[encoded data removed]",
      "text/plain": [
       "<Figure size 432x288 with 1 Axes>"
      ]
     },
     "metadata": {
      "needs_background": "light"
     },
     "output_type": "display_data"
    }
   ],
   "source": [
    "scores2 = plot_axes_quality('bert-default')"
   ]
  },
  {
   "cell_type": "code",
   "execution_count": 11,
   "metadata": {},
   "outputs": [
    {
     "name": "stdout",
     "output_type": "stream",
     "text": [
      "**** BIAS **** Writing\n",
      "0.07 0.16 creative.a.01 MORE (creative, fanciful, fictive, imaginative, inventive, notional, yeasty)\n",
      "0.061 0.138 high.a.04 MORE (adenoidal, altissimo, alto, countertenor, falsetto, high, high-pitched, nasal, peaky, pinched, screechy, sharp, shrill, sopranino, soprano, spiky, squeaking, squeaky, squealing, tenor, treble)\n",
      "0.057 0.12 controversial.a.01 MORE (arguable, contentious, controversial, debatable, disputable, disputed, moot, polemic, polemical)\n",
      "0.056 0.079 healthy.a.01 MORE (bouncing, firm, florid, flushed, full-blooded, good, hale, healthy, hearty, lusty, rosy, ruddy, sanguine, sound, well-preserved, whole, wholesome)\n",
      "-0.055 -0.11 fatty.a.01 MORE (fat-free, light, lite, nonfat, skim, skimmed)\n",
      "\n",
      "**** BIAS **** Theater, film, TV, entertainment\n",
      "0.066 0.145 ready.a.01 MORE (fit, primed, prompt, ready, ripe, set, waiting)\n",
      "0.059 0.081 healthy.a.01 MORE (bouncing, firm, florid, flushed, full-blooded, good, hale, healthy, hearty, lusty, rosy, ruddy, sanguine, sound, well-preserved, whole, wholesome)\n",
      "0.055 0.076 susceptible.a.01 MORE (allergic, amenable, capable, hypersensitive, liable, nonresistant, open, persuadable, pliable, predisposed, sensitised, sensitized, subject, suggestible, supersensitive, susceptible, tractable, unvaccinated, vulnerable)\n",
      "0.053 0.05 emotional.a.02 MORE (affective, bathetic, cathartic, charged, drippy, emotional, emotive, funky, hokey, hot-blooded, kitschy, little, low-down, lyric, lyrical, maudlin, mawkish, mind-blowing, moody, mushy, releasing, schmaltzy, sentimental, sloppy, slushy, soppy, soulful, soupy, supercharged, temperamental)\n",
      "-0.05 -0.103 fatty.a.01 MORE (fat-free, light, lite, nonfat, skim, skimmed)\n",
      "\n",
      "**** BIAS **** Artistic\n",
      "0.076 0.139 tasteful.a.01 MORE (aesthetic, artistic, esthetic, tasteful, understated, unostentatious, unpretentious)\n",
      "0.076 0.065 shapely.a.01 MORE (bosomy, busty, buxom, curvaceous, curvy, modeled, sculptural, sculptured, shapely, stacked, statuesque, upturned, voluptuous, well-endowed, well-proportioned)\n",
      "0.067 0.157 creative.a.01 MORE (creative, fanciful, fictive, imaginative, inventive, notional, yeasty)\n",
      "0.057 0.13 intended.a.01 MORE (calculated, conscious, deliberate, intended, intentional, knowing, measured, well-intentioned, well-meaning, witting)\n",
      "0.052 0.12 improved.a.01 MORE (built, developed, improved, landscaped, reinforced)\n",
      "\n",
      "**** BIAS **** Health\n",
      "-0.173 -0.15 healthy.a.01 MORE (angry, arthritic, asthmatic, bad, bloodshot, colicky, creaky, dehydrated, diseased, enlarged, flatulent, foaming, foamy, frothing, gangrenous, gassy, inflamed, inflammatory, ingrown, jaundiced, membranous, mental, morbid, mortified, pathologic, pathological, pro-inflammatory, proinflammatory, puffy, rheumatic, rheumatoid, rheumy, sallow, sickly, sunburned, sunburnt, tumescent, turgid, ulcerated, unfit, unhealthy, unsound, varicose, wheezing, wheezy, yellow)\n",
      "-0.129 -0.111 susceptible.a.01 MORE (immune, immunised, immunized, immunogenic, incapable, resistant, unresponsive, vaccinated)\n",
      "-0.128 -0.111 typical.a.01 MORE (atypical, unrepresentative, untypical)\n",
      "0.108 0.141 empirical.a.01 MORE (confirmable, empiric, empirical, existential, experiential, experimental, falsifiable, observational, trial-and-error, verifiable)\n",
      "-0.107 -0.034 intended.a.01 MORE (accidental, fortuitous, inadvertent, unintended, unintentional, unplanned, unwitting)\n",
      "\n",
      "**** BIAS **** Agriculture\n",
      "-0.099 -0.038 tasteful.a.01 MORE (barbaric, brassy, camp, campy, cheap, flash, flashy, garish, gaudy, gimcrack, indelicate, loud, meretricious, off-color, ostentatious, pretentious, tacky, tasteless, tatty, tawdry, trashy)\n",
      "-0.097 -0.08 skilled.a.01 MORE (artless, botched, bungled, bungling, clumsy, crude, fumbling, hopeless, humble, incompetent, lowly, menial, rough, rusty, semiskilled, unskilled, unskillful, weak)\n",
      "-0.095 -0.045 constructive.a.01 MORE (annihilating, blasting, cataclysmic, caustic, corrosive, crushing, damaging, destructive, devastating, erosive, iconoclastic, mordant, negative, ravaging, ruinous, vitriolic, wasteful, withering)\n",
      "0.084 0.066 rural.a.01 MORE (agrarian, agrestic, agricultural, arcadian, bucolic, countrified, country-style, farming, folksy, homespun, pastoral, rural, rustic)\n",
      "-0.083 -0.016 legal.a.01 MORE (banned, black, black-market, bootleg, contraband, criminal, dirty, embezzled, extrajudicial, extralegal, felonious, hot, ill-gotten, illegal, illegitimate, illicit, ineligible, misappropriated, misbranded, mislabeled, nonlegal, outlaw, outlawed, penal, prohibited, punishable, smuggled, unlawful, unratified)\n",
      "\n",
      "**** BIAS **** Government\n",
      "0.071 0.096 respectful.a.01 MORE (deferent, deferential, honorific, respectful)\n",
      "0.068 0.099 responsible.a.01 MORE (accountable, amenable, answerable, liable, responsible, trustworthy)\n",
      "0.065 0.072 political.a.01 MORE (governmental, policy-making, political)\n",
      "0.062 0.06 maximal.a.01 MORE (maximal, maximum, supreme)\n",
      "-0.061 -0.026 fixed.a.03 MORE (detached, floating, free, unfixed, unsteady)\n",
      "\n",
      "**** BIAS **** Sports\n",
      "-0.121 -0.085 underhand.a.01 MORE (overarm, overhand, round-arm)\n",
      "0.091 0.105 active.a.05 MORE (about, acrobatic, active, agile, astir, athletic, gymnastic, hot, hyperactive, nimble, overactive, quick, sporty, spry)\n",
      "0.088 0.029 military.a.03 MORE (combatant, expeditionary, martial, military, noncombatant)\n",
      "0.078 0.031 purebred.a.01 MORE (blooded, full-blood, full-blooded, pedigree, pedigreed, pureblood, purebred, thoroughbred)\n",
      "0.074 0.071 strong.a.01 MORE (brawny, fortified, hard, hefty, knock-down, knockout, muscular, noticeable, powerful, reinforced, robust, severe, sinewy, stiff, strengthened, strong, vehement, virile, weapons-grade)\n",
      "\n",
      "**** BIAS **** Engineering\n",
      "0.087 0.179 humane.a.02 MORE (child-centered, human-centered, humane, humanist, humanistic, humanitarian)\n",
      "0.084 0.108 practical.a.01 MORE (applicative, functional, interoperable, matter-of-fact, operable, practicable, practical, pragmatic, serviceable, unimaginative, working)\n",
      "0.083 0.076 biological.a.02 MORE (begotten, biological, natural)\n",
      "0.081 0.144 commercial.a.01 MORE (commercial, commercialised, commercialized, mercantile, mercenary, moneymaking, technical)\n",
      "0.081 0.039 integrated.a.03 MORE (co-ed, coeducational, integrated, interracial, mainstreamed, mixed)\n",
      "\n",
      "**** BIAS **** Physical, natural, earth sciences\n",
      "0.091 0.082 biological.a.02 MORE (begotten, biological, natural)\n",
      "-0.082 -0.086 emotional.a.02 MORE (chilly, dry, impassive, philosophic, philosophical, phlegmatic, stoic, stoical, stolid, unblinking, unemotional)\n",
      "0.074 0.164 humane.a.02 MORE (child-centered, human-centered, humane, humanist, humanistic, humanitarian)\n",
      "-0.057 -0.078 metallic.a.01 MORE (metalloid, nonmetal, nonmetallic)\n",
      "0.055 0.103 early.a.01 MORE (aboriginal, advance, archaean, archean, beforehand, earlier, earliest, early, premature, previous, primal, primeval, primordial, proterozoic, proto, untimely, wee)\n",
      "\n",
      "**** BIAS **** Math & statistics\n",
      "0.196 0.216 calculable.a.01 MORE (calculable, computable, countable, enumerable, estimable)\n",
      "-0.136 -0.165 specialized.a.01 MORE (generalised, generalized, unspecialized)\n",
      "0.13 0.216 expressible.a.01 MORE (describable, expressible, representable)\n",
      "-0.115 -0.114 absolute.a.01 MORE (comparative, relational, relative)\n",
      "0.099 0.139 tractable.a.01 MORE (docile, ductile, malleable, manipulable, teachable, tractable)\n",
      "\n",
      "**** BIAS **** Social science\n",
      "-0.121 -0.119 absolute.a.01 MORE (comparative, relational, relative)\n",
      "0.097 0.189 humane.a.02 MORE (child-centered, human-centered, humane, humanist, humanistic, humanitarian)\n",
      "0.096 0.159 controversial.a.01 MORE (arguable, contentious, controversial, debatable, disputable, disputed, moot, polemic, polemical)\n",
      "0.087 0.13 efficient.a.01 MORE (businesslike, cost-effective, cost-efficient, economic, economical, efficient, expeditious, high-octane, streamlined)\n",
      "0.087 0.158 intended.a.01 MORE (calculated, conscious, deliberate, intended, intentional, knowing, measured, well-intentioned, well-meaning, witting)\n",
      "\n"
     ]
    }
   ],
   "source": [
    "show_top_axes(LOGS + 'semantics_val/occupations/frameaxis_bert-default.json', scores2)"
   ]
  },
  {
   "cell_type": "code",
   "execution_count": 12,
   "metadata": {},
   "outputs": [
    {
     "name": "stdout",
     "output_type": "stream",
     "text": [
      "**** BIAS **** Writing\n",
      "-0.018 -0.096 pious.a.01 MORE (godless, impious, irreverent)\n",
      "-0.018 -0.112 armed.a.01 MORE (barehanded, clean, defenceless, defenseless, unarmed, weaponless)\n",
      "-0.017 -0.046 holy.a.01 MORE (profane, unconsecrated, unholy)\n",
      "-0.017 -0.042 consecrated.a.01 MORE (deconsecrated, desecrated, profaned, violated)\n",
      "-0.017 -0.004 authorized.a.01 MORE (self-appointed, unaccredited, unauthorised, unauthorized, unlicenced, unlicensed)\n",
      "\n",
      "**** BIAS **** Theater, film, TV, entertainment\n",
      "0.026 0.091 employed.a.01 MORE (employed, engaged, hired, working)\n",
      "0.023 0.198 susceptible.a.01 MORE (allergic, amenable, capable, hypersensitive, liable, nonresistant, open, persuadable, pliable, predisposed, sensitised, sensitized, subject, suggestible, supersensitive, susceptible, tractable, unvaccinated, vulnerable)\n",
      "0.019 0.089 assisted.a.01 MORE (aided, assisted, power-assisted)\n",
      "-0.018 -0.001 dominant.a.01 MORE (adjunct, assistant, associate, low-level, secondary, subordinate, under)\n",
      "0.018 0.056 private.a.01 MORE (backstage, clannish, cliquish, cloistered, close, closed-door, clubby, confidential, head-to-head, insular, nonpublic, offstage, one-on-one, private, privy, reclusive, secluded, secret, semiprivate, sequestered, snobbish, snobby)\n",
      "\n",
      "**** BIAS **** Artistic\n",
      "0.026 0.099 smart.a.01 MORE (astute, cagey, canny, clever, sharp, shrewd, smart, streetwise)\n",
      "0.026 0.09 employed.a.01 MORE (employed, engaged, hired, working)\n",
      "0.025 0.17 active.a.03 MORE (active, activist, hands-on, proactive)\n",
      "0.025 0.104 creative.a.01 MORE (creative, fanciful, fictive, imaginative, inventive, notional, yeasty)\n",
      "0.024 0.045 tasteful.a.01 MORE (aesthetic, artistic, esthetic, tasteful, understated, unostentatious, unpretentious)\n",
      "\n",
      "**** BIAS **** Health\n",
      "0.048 0.033 empirical.a.01 MORE (confirmable, empiric, empirical, existential, experiential, experimental, falsifiable, observational, trial-and-error, verifiable)\n",
      "-0.035 0.141 susceptible.a.01 LESS (allergic, amenable, capable, hypersensitive, liable, nonresistant, open, persuadable, pliable, predisposed, sensitised, sensitized, subject, suggestible, supersensitive, susceptible, tractable, unvaccinated, vulnerable)\n",
      "-0.034 0.084 healthy.a.01 LESS (bouncing, firm, florid, flushed, full-blooded, good, hale, healthy, hearty, lusty, rosy, ruddy, sanguine, sound, well-preserved, whole, wholesome)\n",
      "0.032 0.074 constructive.a.01 MORE (constructive, creative, formative, inferential, plastic, reconstructive, rehabilitative, shaping, structural)\n",
      "0.031 0.072 well.a.01 MORE (asymptomatic, cured, healed, recovered, symptomless, well)\n",
      "\n",
      "**** BIAS **** Agriculture\n",
      "-0.038 -0.005 skilled.a.01 MORE (artless, botched, bungled, bungling, clumsy, crude, fumbling, hopeless, humble, incompetent, lowly, menial, rough, rusty, semiskilled, unskilled, unskillful, weak)\n",
      "0.033 0.002 continental.a.04 MORE (continent-wide, continental, transcontinental)\n",
      "-0.033 -0.013 tasteful.a.01 MORE (barbaric, brassy, camp, campy, cheap, flash, flashy, garish, gaudy, gimcrack, indelicate, loud, meretricious, off-color, ostentatious, pretentious, tacky, tasteless, tatty, tawdry, trashy)\n",
      "-0.033 0.008 constructive.a.01 LESS (constructive, creative, formative, inferential, plastic, reconstructive, rehabilitative, shaping, structural)\n",
      "-0.032 -0.029 educated.a.01 MORE (ignorant, illiterate, undereducated, uneducated, unlearned, unlettered, unschooled, unstudied, untutored)\n",
      "\n",
      "**** BIAS **** Government\n",
      "0.045 0.084 respectful.a.01 MORE (deferent, deferential, honorific, respectful)\n",
      "0.036 -0.012 inheritable.a.01 LESS (acquired, congenital, inborn, innate)\n",
      "-0.035 -0.05 empirical.a.01 MORE (conjectural, divinatory, hypothetical, metaphysical, notional, speculative, supposed, theoretic, theoretical)\n",
      "0.032 0.08 subordinate.a.02 MORE (dependent, feudatory, ruled, subject, subordinate, subservient)\n",
      "0.031 0.156 conventional.a.01 MORE (conventional, customary, formulaic, received, stodgy, stuffy)\n",
      "\n",
      "**** BIAS **** Sports\n",
      "-0.064 0.047 underhand.a.01 LESS (underarm, underhand, underhanded)\n",
      "-0.045 0.025 assisted.a.01 LESS (aided, assisted, power-assisted)\n",
      "-0.045 0.03 smart.a.01 LESS (astute, cagey, canny, clever, sharp, shrewd, smart, streetwise)\n",
      "-0.044 0.052 responsible.a.01 LESS (accountable, amenable, answerable, liable, responsible, trustworthy)\n",
      "-0.044 -0.005 respectful.a.01 MORE (annihilating, contemptuous, derisive, devastating, disdainful, disrespectful, flip, impious, impudent, insolent, insulting, jeering, mocking, scornful, taunting, withering)\n",
      "\n",
      "**** BIAS **** Engineering\n",
      "0.049 -0.038 integrated.a.03 LESS (isolated, quarantined, segregated, separate, sequestered, white)\n",
      "0.04 -0.031 positive.a.01 LESS (antagonistic, counter, negative, neutral, neutralised, neutralized, perverse)\n",
      "0.037 0.1 practical.a.01 MORE (applicative, functional, interoperable, matter-of-fact, operable, practicable, practical, pragmatic, serviceable, unimaginative, working)\n",
      "0.033 0.109 humane.a.02 MORE (child-centered, human-centered, humane, humanist, humanistic, humanitarian)\n",
      "0.032 0.08 united.a.01 MORE (agreed, allied, amalgamate, amalgamated, coalesced, coalescent, coalescing, cohesive, confederate, conjugate, conjugated, conjunct, consolidated, coupled, federate, federated, fused, incorporate, incorporated, integrated, merged, one, suprasegmental, tied, undivided, unified, unitary, united, unsegmented)\n",
      "\n",
      "**** BIAS **** Physical, natural, earth sciences\n",
      "0.032 0.108 humane.a.02 MORE (child-centered, human-centered, humane, humanist, humanistic, humanitarian)\n",
      "-0.024 0.031 emotional.a.02 LESS (affective, bathetic, cathartic, charged, drippy, emotional, emotive, funky, hokey, hot-blooded, kitschy, little, low-down, lyric, lyrical, maudlin, mawkish, mind-blowing, moody, mushy, releasing, schmaltzy, sentimental, sloppy, slushy, soppy, soulful, soupy, supercharged, temperamental)\n",
      "0.022 0.011 biological.a.02 MORE (begotten, biological, natural)\n",
      "-0.02 0.06 busy.a.01 LESS (busy, engaged, laboring, labouring, occupied, toiling)\n",
      "-0.02 -0.017 metallic.a.01 MORE (metalloid, nonmetal, nonmetallic)\n",
      "\n",
      "**** BIAS **** Math & statistics\n",
      "0.054 0.028 calculable.a.01 MORE (calculable, computable, countable, enumerable, estimable)\n",
      "0.04 0.111 humane.a.02 MORE (child-centered, human-centered, humane, humanist, humanistic, humanitarian)\n",
      "0.038 0.101 comprehensible.a.01 MORE (accessible, approachable, comprehensible, fathomable, graspable, intelligible, perceivable, understandable)\n",
      "-0.037 -0.026 east.a.01 MORE (west, westbound, westerly, western, westernmost, westside, westward)\n",
      "0.035 0.026 biological.a.02 MORE (begotten, biological, natural)\n",
      "\n",
      "**** BIAS **** Social science\n",
      "0.05 0.178 significant.a.01 MORE (earthshaking, epoch-making, epochal, evidential, evidentiary, fundamental, important, large, momentous, monumental, noteworthy, operative, portentous, probative, prodigious, profound, remarkable, significant)\n",
      "0.042 0.188 active.a.03 MORE (active, activist, hands-on, proactive)\n",
      "0.037 0.039 articulate.a.01 MORE (articulate, eloquent, facile, fluent, silver, well-spoken)\n",
      "0.032 0.105 smart.a.01 MORE (astute, cagey, canny, clever, sharp, shrewd, smart, streetwise)\n",
      "0.031 0.107 humane.a.02 MORE (child-centered, human-centered, humane, humanist, humanistic, humanitarian)\n",
      "\n"
     ]
    }
   ],
   "source": [
    "show_top_axes(LOGS + 'semantics_val/person/frameaxis_bert-default.json', scores2)"
   ]
  },
  {
   "cell_type": "code",
   "execution_count": 13,
   "metadata": {},
   "outputs": [
    {
     "name": "stdout",
     "output_type": "stream",
     "text": [
      "BEST [('established.a.01_right', 0.7294871953224412), ('proved.a.01_right', 0.6003769027690024), ('coastal.a.02_left', 0.534377121387999), ('diligent.a.02_left', 0.516783715891913), ('metallic.a.01_right', 0.49643004925960144), ('democratic.a.01_right', 0.48636240376103274), ('shod.a.01_right', 0.4850944448444688), ('plowed.a.01_left', 0.4707722675369253), ('rural.a.01_right', 0.46622151722676325), ('simple.a.06_left', 0.46490348156035904)]\n",
      "WORST [('right.a.07_right', -0.3167768528796098), ('simple.a.06_right', -0.2753792586020164), ('bidirectional.a.01_right', -0.26510131944057097), ('lower-class.a.01_right', -0.23113754876505607), ('digestible.a.01_left', -0.2310606702300178), ('right-handed.a.01_right', -0.22672592475482176), ('carnivorous.a.02_left', -0.22394346918759292), ('alkaline.a.01_left', -0.21794843798810126), ('right.a.01_right', -0.2162411538762183), ('middle-class.a.01_right', -0.20458877321276514)]\n",
      "AVG SIMILARITY TO CORRECT SIDE: 0.11119279037123038\n",
      "STANDARD DEVIATION: 0.13026423923791597\n",
      "GOOD AXES COUNT: 468\n"
     ]
    },
    {
     "data": {
      "image/png": "[encoded data removed]",
      "text/plain": [
       "<Figure size 432x288 with 1 Axes>"
      ]
     },
     "metadata": {
      "needs_background": "light"
     },
     "output_type": "display_data"
    }
   ],
   "source": [
    "scores3 = plot_axes_quality('bert-zscore')"
   ]
  },
  {
   "cell_type": "code",
   "execution_count": 14,
   "metadata": {},
   "outputs": [
    {
     "name": "stdout",
     "output_type": "stream",
     "text": [
      "**** BIAS **** Writing\n",
      "0.084 0.147 creative.a.01 MORE (creative, fanciful, fictive, imaginative, inventive, notional, yeasty)\n",
      "-0.056 -0.11 tough.a.07 MORE (chewable, crisp, crispy, flakey, flaky, tender, tenderized)\n",
      "0.055 0.081 controversial.a.01 MORE (arguable, contentious, controversial, debatable, disputable, disputed, moot, polemic, polemical)\n",
      "0.055 0.06 persuasive.a.01 MORE (coaxing, cogent, compelling, glib, persuasive, telling, weighty)\n",
      "0.054 0.059 lengthwise.a.01 MORE (axial, end-to-end, fore-and-aft, lengthwise, linear, longitudinal, running)\n",
      "\n",
      "**** BIAS **** Theater, film, TV, entertainment\n",
      "0.06 0.06 major.a.01 MORE (leading, major, prima, star, starring, stellar)\n",
      "0.059 0.042 healthy.a.01 MORE (bouncing, firm, florid, flushed, full-blooded, good, hale, healthy, hearty, lusty, rosy, ruddy, sanguine, sound, well-preserved, whole, wholesome)\n",
      "-0.057 -0.051 essential.a.02 MORE (incidental, inessential, nonessential, unessential)\n",
      "0.055 0.028 corrupt.a.01 MORE (corrupt, corrupted, corruptible, debased, depraved, dirty, dishonest, perverse, perverted, purchasable, putrid, reprobate, sold-out, sordid, venal, vitiated)\n",
      "0.054 0.066 ready.a.01 MORE (fit, primed, prompt, ready, ripe, set, waiting)\n",
      "\n",
      "**** BIAS **** Artistic\n",
      "0.091 0.166 tasteful.a.01 MORE (aesthetic, artistic, esthetic, tasteful, understated, unostentatious, unpretentious)\n",
      "0.09 0.098 shapely.a.01 MORE (bosomy, busty, buxom, curvaceous, curvy, modeled, sculptural, sculptured, shapely, stacked, statuesque, upturned, voluptuous, well-endowed, well-proportioned)\n",
      "0.08 0.144 creative.a.01 MORE (creative, fanciful, fictive, imaginative, inventive, notional, yeasty)\n",
      "-0.062 -0.134 spoken.a.01 MORE (backhand, cursive, engrossed, graphic, graphical, handwritten, holographic, inscribed, longhand, shorthand, written)\n",
      "0.058 0.032 improved.a.01 MORE (built, developed, improved, landscaped, reinforced)\n",
      "\n",
      "**** BIAS **** Health\n",
      "-0.184 -0.201 healthy.a.01 MORE (angry, arthritic, asthmatic, bad, bloodshot, colicky, creaky, dehydrated, diseased, enlarged, flatulent, foaming, foamy, frothing, gangrenous, gassy, inflamed, inflammatory, ingrown, jaundiced, membranous, mental, morbid, mortified, pathologic, pathological, pro-inflammatory, proinflammatory, puffy, rheumatic, rheumatoid, rheumy, sallow, sickly, sunburned, sunburnt, tumescent, turgid, ulcerated, unfit, unhealthy, unsound, varicose, wheezing, wheezy, yellow)\n",
      "-0.148 -0.176 corrupt.a.01 MORE (antiseptic, incorrupt, incorruptible, uncorrupted, unspoiled)\n",
      "-0.141 -0.111 typical.a.01 MORE (atypical, unrepresentative, untypical)\n",
      "0.12 0.154 empirical.a.01 MORE (confirmable, empiric, empirical, existential, experiential, experimental, falsifiable, observational, trial-and-error, verifiable)\n",
      "-0.1 -0.065 intended.a.01 MORE (accidental, fortuitous, inadvertent, unintended, unintentional, unplanned, unwitting)\n",
      "\n",
      "**** BIAS **** Agriculture\n",
      "-0.119 -0.046 tasteful.a.01 MORE (barbaric, brassy, camp, campy, cheap, flash, flashy, garish, gaudy, gimcrack, indelicate, loud, meretricious, off-color, ostentatious, pretentious, tacky, tasteless, tatty, tawdry, trashy)\n",
      "-0.115 -0.092 skilled.a.01 MORE (artless, botched, bungled, bungling, clumsy, crude, fumbling, hopeless, humble, incompetent, lowly, menial, rough, rusty, semiskilled, unskilled, unskillful, weak)\n",
      "-0.112 0.012 constructive.a.01 LESS (constructive, creative, formative, inferential, plastic, reconstructive, rehabilitative, shaping, structural)\n",
      "-0.109 -0.076 intellectual.a.02 MORE (anti-intellectual, lowbrow, mindless, philistine, uncultivated)\n",
      "-0.103 -0.129 improved.a.01 MORE (dirt, scrub, ungraded, unimproved)\n",
      "\n",
      "**** BIAS **** Government\n",
      "0.082 0.14 respectful.a.01 MORE (deferent, deferential, honorific, respectful)\n",
      "0.081 0.147 political.a.01 MORE (governmental, policy-making, political)\n",
      "0.078 0.101 responsible.a.01 MORE (accountable, amenable, answerable, liable, responsible, trustworthy)\n",
      "0.071 0.115 maximal.a.01 MORE (maximal, maximum, supreme)\n",
      "0.068 0.134 common.a.01 MORE (common, communal, public)\n",
      "\n",
      "**** BIAS **** Sports\n",
      "0.097 0.146 active.a.05 MORE (about, acrobatic, active, agile, astir, athletic, gymnastic, hot, hyperactive, nimble, overactive, quick, sporty, spry)\n",
      "-0.089 -0.07 delicate.a.01 MORE (knockabout, rugged, sturdy, tough)\n",
      "0.089 0.059 strong.a.01 MORE (brawny, fortified, hard, hefty, knock-down, knockout, muscular, noticeable, powerful, reinforced, robust, severe, sinewy, stiff, strengthened, strong, vehement, virile, weapons-grade)\n",
      "0.087 0.073 partial.a.02 MORE (biased, colored, coloured, one-sided, partial, slanted)\n",
      "0.082 0.054 prejudiced.a.02 MORE (discriminatory, homophobic, jaundiced, loaded, prejudiced, racist, sexist)\n",
      "\n",
      "**** BIAS **** Engineering\n",
      "0.105 0.143 commercial.a.01 MORE (commercial, commercialised, commercialized, mercantile, mercenary, moneymaking, technical)\n",
      "0.1 0.233 humane.a.02 MORE (child-centered, human-centered, humane, humanist, humanistic, humanitarian)\n",
      "0.099 0.12 practical.a.01 MORE (applicative, functional, interoperable, matter-of-fact, operable, practicable, practical, pragmatic, serviceable, unimaginative, working)\n",
      "0.097 0.117 progressive.a.01 MORE (advanced, advancing, forward, forward-looking, innovative, modern, modernised, modernized, progressive, state-of-the-art)\n",
      "0.091 0.096 biological.a.02 MORE (begotten, biological, natural)\n",
      "\n",
      "**** BIAS **** Physical, natural, earth sciences\n",
      "0.103 0.102 biological.a.02 MORE (begotten, biological, natural)\n",
      "-0.085 -0.13 emotional.a.02 MORE (chilly, dry, impassive, philosophic, philosophical, phlegmatic, stoic, stoical, stolid, unblinking, unemotional)\n",
      "0.079 0.211 humane.a.02 MORE (child-centered, human-centered, humane, humanist, humanistic, humanitarian)\n",
      "0.071 0.056 basic.a.01 MORE (basal, base, basic, elemental, elementary, fundamental, grassroots, primary, radical, rudimentary, underlying)\n",
      "-0.069 -0.094 affected.a.02 MORE (lifelike, natural, unaffected, unmannered, unselfconscious)\n",
      "\n",
      "**** BIAS **** Math & statistics\n",
      "0.222 0.3 calculable.a.01 MORE (calculable, computable, countable, enumerable, estimable)\n",
      "0.164 0.213 expressible.a.01 MORE (describable, expressible, representable)\n",
      "-0.161 -0.144 specialized.a.01 MORE (generalised, generalized, unspecialized)\n",
      "0.125 0.198 divisible.a.01 MORE (dissociative, divisible, partible, separable)\n",
      "-0.124 -0.185 absolute.a.01 MORE (comparative, relational, relative)\n",
      "\n",
      "**** BIAS **** Social science\n",
      "-0.132 -0.195 absolute.a.01 MORE (comparative, relational, relative)\n",
      "-0.12 -0.138 trustful.a.01 MORE (cynical, distrustful, doubting, green-eyed, jealous, leery, misanthropic, mistrustful, questioning, sceptical, skeptical, suspicious, untrusting, wary)\n",
      "0.119 0.137 controversial.a.01 MORE (arguable, contentious, controversial, debatable, disputable, disputed, moot, polemic, polemical)\n",
      "0.107 0.141 intended.a.01 MORE (calculated, conscious, deliberate, intended, intentional, knowing, measured, well-intentioned, well-meaning, witting)\n",
      "0.106 0.081 rational.a.01 MORE (coherent, intelligent, logical, lucid, rational, reasonable, reasoning, sane, thinking)\n",
      "\n"
     ]
    }
   ],
   "source": [
    "show_top_axes(LOGS + 'semantics_val/occupations/frameaxis_bert-zscore.json', scores3)"
   ]
  },
  {
   "cell_type": "code",
   "execution_count": 15,
   "metadata": {},
   "outputs": [
    {
     "name": "stdout",
     "output_type": "stream",
     "text": [
      "**** BIAS **** Writing\n",
      "-0.026 -0.086 used.a.01 MORE (abused, exploited, misused, put-upon, used, victimised, victimized)\n",
      "-0.025 -0.014 dignified.a.01 MORE (demeaning, humbling, humiliating, mortifying, pathetic, ridiculous, silly, undignified)\n",
      "0.024 0.055 corrupt.a.01 MORE (corrupt, corrupted, corruptible, debased, depraved, dirty, dishonest, perverse, perverted, purchasable, putrid, reprobate, sold-out, sordid, venal, vitiated)\n",
      "-0.024 -0.005 authorized.a.01 MORE (self-appointed, unaccredited, unauthorised, unauthorized, unlicenced, unlicensed)\n",
      "-0.023 -0.072 armed.a.01 MORE (barehanded, clean, defenceless, defenseless, unarmed, weaponless)\n",
      "\n",
      "**** BIAS **** Theater, film, TV, entertainment\n",
      "0.033 0.034 employed.a.01 MORE (employed, engaged, hired, working)\n",
      "0.024 0.029 assisted.a.01 MORE (aided, assisted, power-assisted)\n",
      "-0.023 0.055 corrigible.a.01 LESS (amendable, correctable, redeemable)\n",
      "0.023 0.032 persuasive.a.01 MORE (coaxing, cogent, compelling, glib, persuasive, telling, weighty)\n",
      "0.022 0.025 emotional.a.02 MORE (affective, bathetic, cathartic, charged, drippy, emotional, emotive, funky, hokey, hot-blooded, kitschy, little, low-down, lyric, lyrical, maudlin, mawkish, mind-blowing, moody, mushy, releasing, schmaltzy, sentimental, sloppy, slushy, soppy, soulful, soupy, supercharged, temperamental)\n",
      "\n",
      "**** BIAS **** Artistic\n",
      "0.035 0.114 active.a.03 MORE (active, activist, hands-on, proactive)\n",
      "0.034 0.036 employed.a.01 MORE (employed, engaged, hired, working)\n",
      "0.032 0.057 tasteful.a.01 MORE (aesthetic, artistic, esthetic, tasteful, understated, unostentatious, unpretentious)\n",
      "0.032 0.091 creative.a.01 MORE (creative, fanciful, fictive, imaginative, inventive, notional, yeasty)\n",
      "0.031 0.077 smart.a.01 MORE (astute, cagey, canny, clever, sharp, shrewd, smart, streetwise)\n",
      "\n",
      "**** BIAS **** Health\n",
      "0.061 0.045 empirical.a.01 MORE (confirmable, empiric, empirical, existential, experiential, experimental, falsifiable, observational, trial-and-error, verifiable)\n",
      "0.046 0.181 constructive.a.01 MORE (constructive, creative, formative, inferential, plastic, reconstructive, rehabilitative, shaping, structural)\n",
      "-0.046 0.018 healthy.a.01 LESS (bouncing, firm, florid, flushed, full-blooded, good, hale, healthy, hearty, lusty, rosy, ruddy, sanguine, sound, well-preserved, whole, wholesome)\n",
      "-0.042 -0.012 corrupt.a.01 MORE (antiseptic, incorrupt, incorruptible, uncorrupted, unspoiled)\n",
      "0.04 0.167 humane.a.02 MORE (child-centered, human-centered, humane, humanist, humanistic, humanitarian)\n",
      "\n",
      "**** BIAS **** Agriculture\n",
      "-0.051 -0.014 skilled.a.01 MORE (artless, botched, bungled, bungling, clumsy, crude, fumbling, hopeless, humble, incompetent, lowly, menial, rough, rusty, semiskilled, unskilled, unskillful, weak)\n",
      "-0.045 -0.05 bony.a.03 MORE (boned, boneless, deboned)\n",
      "0.042 0.039 dominant.a.01 MORE (ascendant, ascendent, controlling, dominant, dominating, governing, overriding, paramount, possessive, predominant, predominate, preponderant, sovereign, superior, supreme)\n",
      "-0.041 -0.007 educated.a.01 MORE (ignorant, illiterate, undereducated, uneducated, unlearned, unlettered, unschooled, unstudied, untutored)\n",
      "0.039 0.012 continental.a.04 MORE (continent-wide, continental, transcontinental)\n",
      "\n",
      "**** BIAS **** Government\n",
      "0.059 0.134 respectful.a.01 MORE (deferent, deferential, honorific, respectful)\n",
      "0.05 0.015 inheritable.a.01 MORE (ancestral, familial, genetic, hereditary, heritable, inheritable, inherited, inheriting, monogenic, nee, patrimonial, polygenic, transmissible, transmitted)\n",
      "0.041 0.084 subordinate.a.02 MORE (dependent, feudatory, ruled, subject, subordinate, subservient)\n",
      "0.04 0.13 responsible.a.01 MORE (accountable, amenable, answerable, liable, responsible, trustworthy)\n",
      "-0.04 0.04 active.a.03 LESS (active, activist, hands-on, proactive)\n",
      "\n",
      "**** BIAS **** Sports\n",
      "-0.059 0.102 punctual.a.01 LESS (prompt, punctual, timely)\n",
      "-0.058 0.033 responsible.a.01 LESS (accountable, amenable, answerable, liable, responsible, trustworthy)\n",
      "-0.058 0.018 respectful.a.01 LESS (deferent, deferential, honorific, respectful)\n",
      "-0.057 -0.052 assisted.a.01 MORE (naked, unaided, unassisted)\n",
      "-0.055 -0.011 smart.a.01 MORE (boneheaded, dense, dim, doltish, dopey, dull, dumb, foolish, goosey, jerky, lumpen, lumpish, obtuse, senseless, slow, stupid, thick, thickheaded, unthinking, weak, witless)\n",
      "\n",
      "**** BIAS **** Engineering\n",
      "0.056 0.067 integrated.a.03 MORE (co-ed, coeducational, integrated, interracial, mainstreamed, mixed)\n",
      "-0.041 -0.074 inheritable.a.01 MORE (acquired, congenital, inborn, innate)\n",
      "0.04 0.004 nascent.a.01 MORE (emergent, emerging, nascent)\n",
      "0.039 0.123 reputable.a.01 MORE (esteemed, estimable, good, honorable, honored, prestigious, redoubtable, reputable, respectable, respected, time-honored, time-honoured)\n",
      "0.038 0.098 practical.a.01 MORE (applicative, functional, interoperable, matter-of-fact, operable, practicable, practical, pragmatic, serviceable, unimaginative, working)\n",
      "\n",
      "**** BIAS **** Physical, natural, earth sciences\n",
      "0.038 0.164 humane.a.02 MORE (child-centered, human-centered, humane, humanist, humanistic, humanitarian)\n",
      "-0.027 -0.024 emotional.a.02 MORE (chilly, dry, impassive, philosophic, philosophical, phlegmatic, stoic, stoical, stolid, unblinking, unemotional)\n",
      "0.026 0.03 biological.a.02 MORE (begotten, biological, natural)\n",
      "0.026 0.042 basic.a.01 MORE (basal, base, basic, elemental, elementary, fundamental, grassroots, primary, radical, rudimentary, underlying)\n",
      "0.025 0.077 conscious.a.02 MORE (conscious, self-aware, self-conscious, semiconscious, sentient)\n",
      "\n",
      "**** BIAS **** Math & statistics\n",
      "0.064 0.133 calculable.a.01 MORE (calculable, computable, countable, enumerable, estimable)\n",
      "0.046 0.047 biological.a.02 MORE (begotten, biological, natural)\n",
      "0.043 0.17 humane.a.02 MORE (child-centered, human-centered, humane, humanist, humanistic, humanitarian)\n",
      "0.042 0.113 tractable.a.01 MORE (docile, ductile, malleable, manipulable, teachable, tractable)\n",
      "0.042 0.017 simple.a.01 MORE (simple, simplex, simplistic, uncomplicated, unsophisticated)\n",
      "\n",
      "**** BIAS **** Social science\n",
      "0.062 0.117 significant.a.01 MORE (earthshaking, epoch-making, epochal, evidential, evidentiary, fundamental, important, large, momentous, monumental, noteworthy, operative, portentous, probative, prodigious, profound, remarkable, significant)\n",
      "0.055 0.133 active.a.03 MORE (active, activist, hands-on, proactive)\n",
      "0.051 0.179 humane.a.02 MORE (child-centered, human-centered, humane, humanist, humanistic, humanitarian)\n",
      "-0.044 0.019 rhetorical.a.02 LESS (bombastic, declamatory, flowery, forensic, grandiloquent, large, oratorical, ornate, poetic, poetical, purple, rhetorical, stylistic, tall, turgid)\n",
      "0.043 0.087 smart.a.01 MORE (astute, cagey, canny, clever, sharp, shrewd, smart, streetwise)\n",
      "\n"
     ]
    }
   ],
   "source": [
    "show_top_axes(LOGS + 'semantics_val/person/frameaxis_bert-zscore.json', scores3)"
   ]
  },
  {
   "cell_type": "code",
   "execution_count": 16,
   "metadata": {},
   "outputs": [
    {
     "name": "stdout",
     "output_type": "stream",
     "text": [
      "BEST [('rural.a.01_right', 0.5079529104935544), ('supported.a.01_left', 0.4998363262025115), ('certain.a.02_right', 0.45720223887760286), ('free.a.02_right', 0.4423543961243689), ('coastal.a.02_left', 0.42999713194845757), ('appropriate.a.01_right', 0.4296320921141326), ('established.a.01_right', 0.42959920292012543), ('diligent.a.02_left', 0.426470910671979), ('democratic.a.01_right', 0.4200877246084205), ('shaven.a.01_left', 0.4196405020442762)]\n",
      "WORST [('leeward.a.01_left', -0.3879342295753272), ('upper-class.a.01_left', -0.2538857094663233), ('left-handed.a.01_right', -0.2180710724155836), ('fast.a.03_left', -0.215623939337331), ('perpendicular.a.01_right', -0.20909917376953585), ('carnivorous.a.02_left', -0.20271160378624717), ('conclusive.a.01_right', -0.2018900829636054), ('bidirectional.a.01_right', -0.2004641383563981), ('binaural.a.01_left', -0.19882697605066216), ('right.a.01_right', -0.18252207393523703)]\n",
      "AVG SIMILARITY TO CORRECT SIDE: 0.09901751975695801\n",
      "STANDARD DEVIATION: 0.11629041177790093\n",
      "GOOD AXES COUNT: 439\n"
     ]
    },
    {
     "data": {
      "image/png": "[encoded data removed]",
      "text/plain": [
       "<Figure size 432x288 with 1 Axes>"
      ]
     },
     "metadata": {
      "needs_background": "light"
     },
     "output_type": "display_data"
    },
    {
     "name": "stdout",
     "output_type": "stream",
     "text": [
      "BEST [('established.a.01_right', 0.6993109478210755), ('supported.a.01_left', 0.6919462365810196), ('rural.a.01_right', 0.6161120167537171), ('free.a.02_right', 0.5978805635832115), ('certain.a.02_right', 0.5895949033941624), ('appropriate.a.01_right', 0.5297432920972936), ('coastal.a.02_left', 0.5177359368834074), ('diligent.a.02_left', 0.4965931522441744), ('shaven.a.01_left', 0.48942386798341314), ('proved.a.01_right', 0.48674222596695227)]\n",
      "WORST [('leeward.a.01_left', -0.42026067075301327), ('analytic.a.03_left', -0.2728206991136306), ('fast.a.03_left', -0.2665459619274105), ('bidirectional.a.01_right', -0.26510131944057097), ('binaural.a.01_left', -0.24970407693071262), ('right.a.01_right', -0.23275079359457163), ('center.a.02_left', -0.22449327753182663), ('carnivorous.a.02_left', -0.22394346918759292), ('upper-class.a.01_left', -0.2217013949520717), ('left-handed.a.01_right', -0.20392589048735674)]\n",
      "AVG SIMILARITY TO CORRECT SIDE: 0.1278290542854911\n",
      "STANDARD DEVIATION: 0.13375296110096224\n",
      "GOOD AXES COUNT: 513\n"
     ]
    },
    {
     "data": {
      "image/png": "[encoded data removed]",
      "text/plain": [
       "<Figure size 432x288 with 1 Axes>"
      ]
     },
     "metadata": {
      "needs_background": "light"
     },
     "output_type": "display_data"
    },
    {
     "name": "stdout",
     "output_type": "stream",
     "text": [
      "BEST [('neutral.a.04_left', 0.5179562695603912), ('supported.a.01_left', 0.4960966472001016), ('diligent.a.02_left', 0.46456751366352966), ('free.a.02_right', 0.45776361195863513), ('democratic.a.01_right', 0.4378322028960426), ('established.a.01_right', 0.43272816673444964), ('perfect.a.01_right', 0.43248183884603464), ('homemade.a.01_right', 0.4300192820145284), ('upper-class.a.01_right', 0.42889013844737084), ('coastal.a.02_left', 0.42168218857871054)]\n",
      "WORST [('leeward.a.01_left', -0.41532336221550425), ('left-handed.a.01_right', -0.2658001986684154), ('middle-class.a.01_right', -0.22917487176534454), ('fast.a.03_left', -0.22536532240567778), ('binaural.a.01_left', -0.2086092842998165), ('conclusive.a.01_right', -0.20273746002538004), ('carnivorous.a.02_left', -0.20271160378624717), ('bidirectional.a.01_right', -0.2004641383563981), ('objective.a.01_left', -0.18517732651430033), ('aggressive.a.01_right', -0.18077605995247295)]\n",
      "AVG SIMILARITY TO CORRECT SIDE: 0.10184461478423383\n",
      "STANDARD DEVIATION: 0.12257551731890821\n",
      "GOOD AXES COUNT: 437\n"
     ]
    },
    {
     "data": {
      "image/png": "[encoded data removed]",
      "text/plain": [
       "<Figure size 432x288 with 1 Axes>"
      ]
     },
     "metadata": {
      "needs_background": "light"
     },
     "output_type": "display_data"
    },
    {
     "name": "stdout",
     "output_type": "stream",
     "text": [
      "BEST [('supported.a.01_left', 0.7043552694986422), ('established.a.01_right', 0.6999857262149071), ('neutral.a.04_left', 0.6483677612091925), ('free.a.02_right', 0.6335047814459684), ('proved.a.01_right', 0.5288132096422237), ('enclosed.a.01_right', 0.5201514641967183), ('coastal.a.02_left', 0.516749594935013), ('diligent.a.02_left', 0.5077916843176904), ('competent.a.01_right', 0.5067040050703289), ('intended.a.01_right', 0.5063328554542935)]\n",
      "WORST [('leeward.a.01_left', -0.4587471610061489), ('left-handed.a.01_right', -0.3006249187097694), ('analytic.a.03_left', -0.2964747578109648), ('right-handed.a.01_right', -0.29292882686901306), ('fast.a.03_left', -0.28391337917116455), ('right.a.01_right', -0.275476890525091), ('bidirectional.a.01_right', -0.26510131944057097), ('binaural.a.01_left', -0.23536408619417518), ('simple.a.06_right', -0.22929867040989171), ('carnivorous.a.02_left', -0.22394346918759292)]\n",
      "AVG SIMILARITY TO CORRECT SIDE: 0.13513912177671944\n",
      "STANDARD DEVIATION: 0.13919980192904924\n",
      "GOOD AXES COUNT: 522\n"
     ]
    },
    {
     "data": {
      "image/png": "[encoded data removed]",
      "text/plain": [
       "<Figure size 432x288 with 1 Axes>"
      ]
     },
     "metadata": {
      "needs_background": "light"
     },
     "output_type": "display_data"
    },
    {
     "name": "stdout",
     "output_type": "stream",
     "text": [
      "BEST [('neutral.a.04_left', 0.5225176599163684), ('supported.a.01_left', 0.5129855891803874), ('diligent.a.02_left', 0.4674412104474132), ('free.a.02_right', 0.45034484384257406), ('democratic.a.01_right', 0.4361055396402518), ('upper-class.a.01_right', 0.4347686788403358), ('established.a.01_right', 0.42968386716969337), ('homemade.a.01_right', 0.4252743167131219), ('perfect.a.01_right', 0.42485260517326684), ('loyal.a.01_right', 0.4204348206382797)]\n",
      "WORST [('leeward.a.01_left', -0.41050471204284233), ('left-handed.a.01_right', -0.2515199426598954), ('middle-class.a.01_right', -0.23068176569088122), ('binaural.a.01_left', -0.21578926796210351), ('conclusive.a.01_right', -0.21131616689877872), ('carnivorous.a.02_left', -0.20271160378624717), ('analytic.a.03_left', -0.2016105539958431), ('fast.a.03_left', -0.20098959444328016), ('bidirectional.a.01_right', -0.2004641383563981), ('simple.a.06_right', -0.1970464274753967)]\n",
      "AVG SIMILARITY TO CORRECT SIDE: 0.10229304061252699\n",
      "STANDARD DEVIATION: 0.12378690786789812\n",
      "GOOD AXES COUNT: 437\n"
     ]
    },
    {
     "data": {
      "image/png": "[encoded data removed]",
      "text/plain": [
       "<Figure size 432x288 with 1 Axes>"
      ]
     },
     "metadata": {
      "needs_background": "light"
     },
     "output_type": "display_data"
    },
    {
     "name": "stdout",
     "output_type": "stream",
     "text": [
      "BEST [('supported.a.01_left', 0.7191661294932302), ('established.a.01_right', 0.6993628487579976), ('neutral.a.04_left', 0.6553395924934493), ('free.a.02_right', 0.6326196644025166), ('proved.a.01_right', 0.5427045163621825), ('enclosed.a.01_right', 0.5271480022323338), ('intended.a.01_right', 0.5253105083430732), ('coastal.a.02_left', 0.5247584421541162), ('competent.a.01_right', 0.5205232436182161), ('diligent.a.02_left', 0.5078810487387652)]\n",
      "WORST [('leeward.a.01_left', -0.4413128218325099), ('analytic.a.03_left', -0.29990364729290686), ('left-handed.a.01_right', -0.2942688833968601), ('right-handed.a.01_right', -0.2915958043823256), ('right.a.01_right', -0.2898784377416405), ('fast.a.03_left', -0.27789547484998495), ('simple.a.06_right', -0.26971542037007407), ('bidirectional.a.01_right', -0.26510131944057097), ('binaural.a.01_left', -0.25001789581180184), ('carnivorous.a.02_left', -0.22394346918759292)]\n",
      "AVG SIMILARITY TO CORRECT SIDE: 0.1365129395561111\n",
      "STANDARD DEVIATION: 0.14029240343544136\n",
      "GOOD AXES COUNT: 525\n"
     ]
    },
    {
     "data": {
      "image/png": "[encoded data removed]",
      "text/plain": [
       "<Figure size 432x288 with 1 Axes>"
      ]
     },
     "metadata": {
      "needs_background": "light"
     },
     "output_type": "display_data"
    },
    {
     "name": "stdout",
     "output_type": "stream",
     "text": [
      "BEST [('supported.a.01_left', 0.5245496178338556), ('neutral.a.04_left', 0.5231244053916415), ('diligent.a.02_left', 0.4736188232271851), ('democratic.a.01_right', 0.45956000347426834), ('free.a.02_right', 0.44409374846491634), ('upper-class.a.01_right', 0.43996275672548335), ('enthusiastic.a.01_right', 0.4394656300631434), ('established.a.01_right', 0.4346264117227662), ('perfect.a.01_right', 0.4267273427609652), ('appropriate.a.01_right', 0.42560931917235556)]\n",
      "WORST [('leeward.a.01_left', -0.41448076419069274), ('left-handed.a.01_right', -0.24520925458248777), ('binaural.a.01_left', -0.22075011036845607), ('conclusive.a.01_right', -0.21831728542657794), ('analytic.a.03_left', -0.21666590984699796), ('lower-class.a.01_right', -0.21612127606532391), ('middle-class.a.01_right', -0.21378340440842605), ('simple.a.06_right', -0.21126044806608876), ('carnivorous.a.02_left', -0.20271160378624717), ('bidirectional.a.01_right', -0.2004641383563981)]\n",
      "AVG SIMILARITY TO CORRECT SIDE: 0.10252379830405624\n",
      "STANDARD DEVIATION: 0.1248458468061755\n",
      "GOOD AXES COUNT: 435\n"
     ]
    },
    {
     "data": {
      "image/png": "[encoded data removed]",
      "text/plain": [
       "<Figure size 432x288 with 1 Axes>"
      ]
     },
     "metadata": {
      "needs_background": "light"
     },
     "output_type": "display_data"
    },
    {
     "name": "stdout",
     "output_type": "stream",
     "text": [
      "BEST [('supported.a.01_left', 0.727612079392169), ('established.a.01_right', 0.7030245813404042), ('neutral.a.04_left', 0.6618971760236652), ('free.a.02_right', 0.623403772151214), ('proved.a.01_right', 0.5568267447907496), ('competent.a.01_right', 0.5371974049577499), ('intended.a.01_right', 0.5299493630120987), ('enclosed.a.01_right', 0.5272927373920758), ('coastal.a.02_left', 0.5254190609035877), ('diligent.a.02_left', 0.5091604143874116)]\n",
      "WORST [('leeward.a.01_left', -0.4481856137523778), ('analytic.a.03_left', -0.31124631024658705), ('left-handed.a.01_right', -0.2964886607129758), ('right.a.01_right', -0.28214306216932594), ('simple.a.06_right', -0.2817720875414323), ('right-handed.a.01_right', -0.26966479452759656), ('bidirectional.a.01_right', -0.26510131944057097), ('fast.a.03_left', -0.2557703175089095), ('binaural.a.01_left', -0.24978458204262985), ('carnivorous.a.02_left', -0.22394346918759292)]\n",
      "AVG SIMILARITY TO CORRECT SIDE: 0.1372562368015527\n",
      "STANDARD DEVIATION: 0.14099344196847557\n",
      "GOOD AXES COUNT: 522\n"
     ]
    },
    {
     "data": {
      "image/png": "[encoded data removed]",
      "text/plain": [
       "<Figure size 432x288 with 1 Axes>"
      ]
     },
     "metadata": {
      "needs_background": "light"
     },
     "output_type": "display_data"
    }
   ],
   "source": [
    "# inspect effect of N on score \n",
    "for top_n in [100, 300, 400, 500]: \n",
    "    _ = plot_axes_quality('bert-base-prob' + str(top_n))\n",
    "    _ = plot_axes_quality('bert-base-prob' + str(top_n) + '-zscore')"
   ]
  },
  {
   "cell_type": "code",
   "execution_count": 17,
   "metadata": {},
   "outputs": [
    {
     "name": "stdout",
     "output_type": "stream",
     "text": [
      "BEST [('neutral.a.04_left', 0.5225176599163684), ('supported.a.01_left', 0.5129855891803874), ('diligent.a.02_left', 0.4674412104474132), ('free.a.02_right', 0.45034484384257406), ('democratic.a.01_right', 0.4361055396402518), ('upper-class.a.01_right', 0.4347686788403358), ('established.a.01_right', 0.42968386716969337), ('homemade.a.01_right', 0.4252743167131219), ('perfect.a.01_right', 0.42485260517326684), ('loyal.a.01_right', 0.4204348206382797)]\n",
      "WORST [('leeward.a.01_left', -0.41050471204284233), ('left-handed.a.01_right', -0.2515199426598954), ('middle-class.a.01_right', -0.23068176569088122), ('binaural.a.01_left', -0.21578926796210351), ('conclusive.a.01_right', -0.21131616689877872), ('carnivorous.a.02_left', -0.20271160378624717), ('analytic.a.03_left', -0.2016105539958431), ('fast.a.03_left', -0.20098959444328016), ('bidirectional.a.01_right', -0.2004641383563981), ('simple.a.06_right', -0.1970464274753967)]\n",
      "AVG SIMILARITY TO CORRECT SIDE: 0.10229304061252699\n",
      "STANDARD DEVIATION: 0.12378690786789812\n",
      "GOOD AXES COUNT: 437\n"
     ]
    },
    {
     "data": {
      "image/png": "[encoded data removed]",
      "text/plain": [
       "<Figure size 432x288 with 1 Axes>"
      ]
     },
     "metadata": {
      "needs_background": "light"
     },
     "output_type": "display_data"
    }
   ],
   "source": [
    "scores7 = plot_axes_quality('bert-base-prob400')"
   ]
  },
  {
   "cell_type": "code",
   "execution_count": 18,
   "metadata": {},
   "outputs": [
    {
     "name": "stdout",
     "output_type": "stream",
     "text": [
      "**** BIAS **** Writing\n",
      "0.072 0.118 healthy.a.01 MORE (bouncing, firm, florid, flushed, full-blooded, good, hale, healthy, hearty, lusty, rosy, ruddy, sanguine, sound, well-preserved, whole, wholesome)\n",
      "-0.069 -0.145 fatty.a.01 MORE (fat-free, light, lite, nonfat, skim, skimmed)\n",
      "-0.065 -0.065 nonproprietary.a.01 MORE (branded, copyrighted, patented, proprietary, trademarked)\n",
      "0.06 0.192 creative.a.01 MORE (creative, fanciful, fictive, imaginative, inventive, notional, yeasty)\n",
      "0.057 0.054 susceptible.a.01 MORE (allergic, amenable, capable, hypersensitive, liable, nonresistant, open, persuadable, pliable, predisposed, sensitised, sensitized, subject, suggestible, supersensitive, susceptible, tractable, unvaccinated, vulnerable)\n",
      "\n",
      "**** BIAS **** Theater, film, TV, entertainment\n",
      "0.066 0.146 ready.a.01 MORE (fit, primed, prompt, ready, ripe, set, waiting)\n",
      "-0.061 -0.145 live.a.01 MORE (canned, filmed, prerecorded, recorded, tape-recorded, taped, transcribed)\n",
      "0.055 0.052 susceptible.a.01 MORE (allergic, amenable, capable, hypersensitive, liable, nonresistant, open, persuadable, pliable, predisposed, sensitised, sensitized, subject, suggestible, supersensitive, susceptible, tractable, unvaccinated, vulnerable)\n",
      "0.052 0.104 healthy.a.01 MORE (bouncing, firm, florid, flushed, full-blooded, good, hale, healthy, hearty, lusty, rosy, ruddy, sanguine, sound, well-preserved, whole, wholesome)\n",
      "-0.051 -0.056 depressant.a.01 MORE (adrenocorticotropic, excitatory, irritating, stimulant, stimulating, stimulative)\n",
      "\n",
      "**** BIAS **** Artistic\n",
      "0.078 0.102 shapely.a.01 MORE (bosomy, busty, buxom, curvaceous, curvy, modeled, sculptural, sculptured, shapely, stacked, statuesque, upturned, voluptuous, well-endowed, well-proportioned)\n",
      "0.064 0.119 tasteful.a.01 MORE (aesthetic, artistic, esthetic, tasteful, understated, unostentatious, unpretentious)\n",
      "-0.063 -0.066 nonproprietary.a.01 MORE (branded, copyrighted, patented, proprietary, trademarked)\n",
      "0.059 0.13 improved.a.01 MORE (built, developed, improved, landscaped, reinforced)\n",
      "0.059 0.063 partial.a.02 MORE (biased, colored, coloured, one-sided, partial, slanted)\n",
      "\n",
      "**** BIAS **** Health\n",
      "-0.169 -0.118 healthy.a.01 MORE (angry, arthritic, asthmatic, bad, bloodshot, colicky, creaky, dehydrated, diseased, enlarged, flatulent, foaming, foamy, frothing, gangrenous, gassy, inflamed, inflammatory, ingrown, jaundiced, membranous, mental, morbid, mortified, pathologic, pathological, pro-inflammatory, proinflammatory, puffy, rheumatic, rheumatoid, rheumy, sallow, sickly, sunburned, sunburnt, tumescent, turgid, ulcerated, unfit, unhealthy, unsound, varicose, wheezing, wheezy, yellow)\n",
      "-0.127 -0.099 typical.a.01 MORE (atypical, unrepresentative, untypical)\n",
      "-0.121 -0.125 susceptible.a.01 MORE (immune, immunised, immunized, immunogenic, incapable, resistant, unresponsive, vaccinated)\n",
      "0.113 0.128 empirical.a.01 MORE (confirmable, empiric, empirical, existential, experiential, experimental, falsifiable, observational, trial-and-error, verifiable)\n",
      "0.107 0.032 fatty.a.01 MORE (adipose, buttery, fat, fatty, greasy, oily, oleaginous, sebaceous)\n",
      "\n",
      "**** BIAS **** Agriculture\n",
      "-0.091 -0.034 tasteful.a.01 MORE (barbaric, brassy, camp, campy, cheap, flash, flashy, garish, gaudy, gimcrack, indelicate, loud, meretricious, off-color, ostentatious, pretentious, tacky, tasteless, tatty, tawdry, trashy)\n",
      "-0.089 -0.017 constructive.a.01 MORE (annihilating, blasting, cataclysmic, caustic, corrosive, crushing, damaging, destructive, devastating, erosive, iconoclastic, mordant, negative, ravaging, ruinous, vitriolic, wasteful, withering)\n",
      "0.087 0.075 rural.a.01 MORE (agrarian, agrestic, agricultural, arcadian, bucolic, countrified, country-style, farming, folksy, homespun, pastoral, rural, rustic)\n",
      "-0.081 -0.047 skilled.a.01 MORE (artless, botched, bungled, bungling, clumsy, crude, fumbling, hopeless, humble, incompetent, lowly, menial, rough, rusty, semiskilled, unskilled, unskillful, weak)\n",
      "-0.078 -0.008 improved.a.01 MORE (dirt, scrub, ungraded, unimproved)\n",
      "\n",
      "**** BIAS **** Government\n",
      "0.086 0.113 responsible.a.01 MORE (accountable, amenable, answerable, liable, responsible, trustworthy)\n",
      "-0.074 -0.087 private.a.01 MORE (national, open, public, semipublic, state-supported, unrestricted)\n",
      "0.068 0.138 subordinate.a.02 MORE (dependent, feudatory, ruled, subject, subordinate, subservient)\n",
      "0.065 0.063 political.a.01 MORE (governmental, policy-making, political)\n",
      "0.065 0.107 polite.a.01 MORE (courteous, gracious, mannerly, nice, polite, well-mannered)\n",
      "\n",
      "**** BIAS **** Sports\n",
      "-0.125 -0.085 underhand.a.01 MORE (overarm, overhand, round-arm)\n",
      "0.096 0.119 active.a.05 MORE (about, acrobatic, active, agile, astir, athletic, gymnastic, hot, hyperactive, nimble, overactive, quick, sporty, spry)\n",
      "0.08 -0.019 military.a.03 LESS (civil, civilian, noncombatant)\n",
      "-0.077 -0.02 trustworthy.a.01 MORE (devious, shady, shifty, slippery, tricky, untrustworthy)\n",
      "0.068 0.051 metallic.a.01 MORE (all-metal, bimetallic, bronze, gilded, gold, gold-bearing, golden, metal, metallic, silver, tinny)\n",
      "\n",
      "**** BIAS **** Engineering\n",
      "0.089 0.103 biological.a.02 MORE (begotten, biological, natural)\n",
      "0.087 0.087 progressive.a.01 MORE (advanced, advancing, forward, forward-looking, innovative, modern, modernised, modernized, progressive, state-of-the-art)\n",
      "-0.085 -0.101 metallic.a.01 MORE (metalloid, nonmetal, nonmetallic)\n",
      "0.082 0.138 humane.a.02 MORE (child-centered, human-centered, humane, humanist, humanistic, humanitarian)\n",
      "0.082 0.14 hierarchical.a.01 MORE (class-conscious, graded, hierarchal, hierarchic, hierarchical, ranked, stratified, vertical)\n",
      "\n",
      "**** BIAS **** Physical, natural, earth sciences\n",
      "0.083 0.1 biological.a.02 MORE (begotten, biological, natural)\n",
      "-0.071 -0.075 middle.a.04 MORE (aboriginal, advance, advanced, after-hours, archaean, archean, beforehand, earlier, earliest, early, late, posthumous, premature, previous, primal, primeval, primordial, proterozoic, proto, ripe, untimely, wee)\n",
      "0.071 0.129 humane.a.02 MORE (child-centered, human-centered, humane, humanist, humanistic, humanitarian)\n",
      "0.065 0.077 early.a.01 MORE (aboriginal, advance, archaean, archean, beforehand, earlier, earliest, early, premature, previous, primal, primeval, primordial, proterozoic, proto, untimely, wee)\n",
      "-0.064 0.002 organic.a.02 LESS (integrated, organic, structured)\n",
      "\n",
      "**** BIAS **** Math & statistics\n",
      "0.197 0.211 calculable.a.01 MORE (calculable, computable, countable, enumerable, estimable)\n",
      "0.134 0.216 expressible.a.01 MORE (describable, expressible, representable)\n",
      "0.131 0.189 logical.a.01 MORE (discursive, formal, logical)\n",
      "-0.125 -0.138 physical.a.01 MORE (intellectual, mental, moral, noetic, psychic, psychical, psychogenic, psychological, rational)\n",
      "0.113 0.056 linear.a.02 MORE (collinear, lineal, linear, one-dimensional, rectilinear)\n",
      "\n",
      "**** BIAS **** Social science\n",
      "-0.131 -0.145 physical.a.01 MORE (intellectual, mental, moral, noetic, psychic, psychical, psychogenic, psychological, rational)\n",
      "-0.128 -0.132 absolute.a.01 MORE (comparative, relational, relative)\n",
      "0.099 0.159 humane.a.02 MORE (child-centered, human-centered, humane, humanist, humanistic, humanitarian)\n",
      "0.097 0.165 intended.a.01 MORE (calculated, conscious, deliberate, intended, intentional, knowing, measured, well-intentioned, well-meaning, witting)\n",
      "0.092 0.134 controversial.a.01 MORE (arguable, contentious, controversial, debatable, disputable, disputed, moot, polemic, polemical)\n",
      "\n"
     ]
    }
   ],
   "source": [
    "show_top_axes(LOGS + 'semantics_val/occupations/frameaxis_bert-base-prob400.json', scores7)"
   ]
  },
  {
   "cell_type": "code",
   "execution_count": 19,
   "metadata": {},
   "outputs": [
    {
     "name": "stdout",
     "output_type": "stream",
     "text": [
      "**** BIAS **** Writing\n",
      "-0.022 -0.08 noble.a.02 MORE (base, common, humble, ignoble, lowly, plebeian, untitled, unwashed, vulgar)\n",
      "-0.02 0.002 authorized.a.01 LESS (accredited, approved, authorised, authorized, canonised, canonized, commissioned, empowered, glorified, licenced, licensed, sanctioned)\n",
      "-0.019 0.043 prepared.a.01 LESS (braced, embattled, equipped, preconditioned, precooked, prepared, processed, ready, spread, up)\n",
      "-0.018 -0.01 committed.a.01 MORE (floating, uncommitted, undecided)\n",
      "-0.018 -0.058 respectful.a.01 MORE (annihilating, contemptuous, derisive, devastating, disdainful, disrespectful, flip, impious, impudent, insolent, insulting, jeering, mocking, scornful, taunting, withering)\n",
      "\n",
      "**** BIAS **** Theater, film, TV, entertainment\n",
      "0.026 0.083 employed.a.01 MORE (employed, engaged, hired, working)\n",
      "-0.022 -0.043 nonproprietary.a.01 MORE (branded, copyrighted, patented, proprietary, trademarked)\n",
      "-0.022 -0.015 dominant.a.01 MORE (adjunct, assistant, associate, low-level, secondary, subordinate, under)\n",
      "-0.021 -0.057 depressant.a.01 MORE (adrenocorticotropic, excitatory, irritating, stimulant, stimulating, stimulative)\n",
      "0.021 0.181 susceptible.a.01 MORE (allergic, amenable, capable, hypersensitive, liable, nonresistant, open, persuadable, pliable, predisposed, sensitised, sensitized, subject, suggestible, supersensitive, susceptible, tractable, unvaccinated, vulnerable)\n",
      "\n",
      "**** BIAS **** Artistic\n",
      "0.026 0.075 skilled.a.01 MORE (accomplished, adept, arch, complete, consummate, delicate, expert, good, hot, masterful, masterly, mean, practiced, proficient, skilful, skilled, skillful, technical, versatile, virtuoso)\n",
      "0.024 0.17 active.a.03 MORE (active, activist, hands-on, proactive)\n",
      "0.023 0.081 employed.a.01 MORE (employed, engaged, hired, working)\n",
      "-0.022 0.036 regular.a.01 LESS (first-string, lawful, official, prescribed, regular, standard, stock, timed, uniform, weak, well-ordered)\n",
      "0.021 0.006 persuasive.a.01 MORE (coaxing, cogent, compelling, glib, persuasive, telling, weighty)\n",
      "\n",
      "**** BIAS **** Health\n",
      "0.049 0.006 empirical.a.01 MORE (confirmable, empiric, empirical, existential, experiential, experimental, falsifiable, observational, trial-and-error, verifiable)\n",
      "-0.035 0.124 susceptible.a.01 LESS (allergic, amenable, capable, hypersensitive, liable, nonresistant, open, persuadable, pliable, predisposed, sensitised, sensitized, subject, suggestible, supersensitive, susceptible, tractable, unvaccinated, vulnerable)\n",
      "0.034 0.081 practical.a.01 MORE (applicative, functional, interoperable, matter-of-fact, operable, practicable, practical, pragmatic, serviceable, unimaginative, working)\n",
      "-0.034 0.101 spontaneous.a.01 LESS (impulsive, instinctive, intuitive, natural, self-generated, spontaneous, unprompted)\n",
      "0.031 0.093 healthful.a.01 MORE (alterative, anthelmintic, antimicrobial, cathartic, curative, good, healing, healthful, medicinal, organic, orthomolecular, preventative, preventive, prophylactic, psychotherapeutic, recuperative, remedial, restorative, salutary, therapeutic)\n",
      "\n",
      "**** BIAS **** Agriculture\n",
      "-0.037 -0.068 superior.a.01 MORE (bad, base, bum, bush, cheap, cheesy, chintzy, coarse, coarsened, commercial, commercial-grade, common, crummy, deplorable, execrable, inferior, less, low-grade, mediocre, miserable, punk, ropy, scrawny, scrubby, second-class, second-rate, shoddy, sleazy, stunted, tawdry, third-rate, tinny, utility, woeful, wretched)\n",
      "-0.034 0.013 skilled.a.01 LESS (accomplished, adept, arch, complete, consummate, delicate, expert, good, hot, masterful, masterly, mean, practiced, proficient, skilful, skilled, skillful, technical, versatile, virtuoso)\n",
      "-0.034 0.05 constructive.a.01 LESS (constructive, creative, formative, inferential, plastic, reconstructive, rehabilitative, shaping, structural)\n",
      "0.033 0.039 dominant.a.01 MORE (ascendant, ascendent, controlling, dominant, dominating, governing, overriding, paramount, possessive, predominant, predominate, preponderant, sovereign, superior, supreme)\n",
      "0.032 0.154 abridged.a.01 MORE (abridged, cut, half-length, potted, shortened)\n",
      "\n",
      "**** BIAS **** Government\n",
      "0.054 0.014 respectful.a.01 MORE (deferent, deferential, honorific, respectful)\n",
      "0.043 0.157 responsible.a.01 MORE (accountable, amenable, answerable, liable, responsible, trustworthy)\n",
      "-0.041 -0.084 empirical.a.01 MORE (conjectural, divinatory, hypothetical, metaphysical, notional, speculative, supposed, theoretic, theoretical)\n",
      "0.04 0.048 committed.a.01 MORE (committed, pledged, sworn)\n",
      "0.038 -0.019 noble.a.02 LESS (base, common, humble, ignoble, lowly, plebeian, untitled, unwashed, vulgar)\n",
      "\n",
      "**** BIAS **** Sports\n",
      "-0.063 0.047 underhand.a.01 LESS (underarm, underhand, underhanded)\n",
      "-0.052 0.063 responsible.a.01 LESS (accountable, amenable, answerable, liable, responsible, trustworthy)\n",
      "0.047 0.017 active.a.05 MORE (about, acrobatic, active, agile, astir, athletic, gymnastic, hot, hyperactive, nimble, overactive, quick, sporty, spry)\n",
      "-0.047 0.049 reciprocal.a.01 LESS (bilateral, correlative, interactional, interactive, mutual, reciprocal, trilateral)\n",
      "-0.045 0.064 subordinate.a.02 LESS (dependent, feudatory, ruled, subject, subordinate, subservient)\n",
      "\n",
      "**** BIAS **** Engineering\n",
      "-0.055 -0.02 direct.a.03 MORE (allusive, backhanded, circuitous, devious, digressive, discursive, hearsay, indirect, oblique, periphrastic, rambling, roundabout, tortuous)\n",
      "0.05 -0.068 integrated.a.03 LESS (isolated, quarantined, segregated, separate, sequestered, white)\n",
      "-0.038 -0.037 inheritable.a.01 MORE (acquired, congenital, inborn, innate)\n",
      "-0.037 0.036 mature.a.03 LESS (abloom, adult, big, fruiting, full-blown, full-grown, grown, grownup, headed, marriageable, mature, matured, meridian, nubile, overblown, prime)\n",
      "0.036 0.133 reciprocal.a.01 MORE (bilateral, correlative, interactional, interactive, mutual, reciprocal, trilateral)\n",
      "\n",
      "**** BIAS **** Physical, natural, earth sciences\n",
      "0.033 0.071 humane.a.02 MORE (child-centered, human-centered, humane, humanist, humanistic, humanitarian)\n",
      "0.024 0.063 biological.a.02 MORE (begotten, biological, natural)\n",
      "0.021 0.083 civilized.a.01 MORE (advanced, civil, civilised, civilized, humane)\n",
      "-0.021 -0.003 metallic.a.01 MORE (metalloid, nonmetal, nonmetallic)\n",
      "-0.02 0.009 physical.a.01 LESS (animal, bodily, carnal, corporal, corporeal, fleshly, material, personal, physical, physiologic, physiological, sensual, somatic)\n",
      "\n",
      "**** BIAS **** Math & statistics\n",
      "0.055 0.004 calculable.a.01 MORE (calculable, computable, countable, enumerable, estimable)\n",
      "0.038 0.115 comprehensible.a.01 MORE (accessible, approachable, comprehensible, fathomable, graspable, intelligible, perceivable, understandable)\n",
      "0.036 0.074 biological.a.02 MORE (begotten, biological, natural)\n",
      "0.035 0.072 humane.a.02 MORE (child-centered, human-centered, humane, humanist, humanistic, humanitarian)\n",
      "-0.032 0.08 responsible.a.01 LESS (accountable, amenable, answerable, liable, responsible, trustworthy)\n",
      "\n",
      "**** BIAS **** Social science\n",
      "0.044 0.131 significant.a.01 MORE (earthshaking, epoch-making, epochal, evidential, evidentiary, fundamental, important, large, momentous, monumental, noteworthy, operative, portentous, probative, prodigious, profound, remarkable, significant)\n",
      "0.041 0.186 active.a.03 MORE (active, activist, hands-on, proactive)\n",
      "0.039 0.085 stressed.a.02 MORE (accented, emphasised, emphasized, emphatic, masculine, stressed)\n",
      "0.035 0.054 articulate.a.01 MORE (articulate, eloquent, facile, fluent, silver, well-spoken)\n",
      "0.034 0.171 effective.a.01 MORE (effective, effectual, efficacious, hard-hitting, impelling, impressive, telling, trenchant)\n",
      "\n"
     ]
    }
   ],
   "source": [
    "show_top_axes(LOGS + 'semantics_val/person/frameaxis_bert-base-prob400.json', scores7)"
   ]
  },
  {
   "cell_type": "code",
   "execution_count": 20,
   "metadata": {},
   "outputs": [
    {
     "name": "stdout",
     "output_type": "stream",
     "text": [
      "BEST [('supported.a.01_left', 0.7191661294932302), ('established.a.01_right', 0.6993628487579976), ('neutral.a.04_left', 0.6553395924934493), ('free.a.02_right', 0.6326196644025166), ('proved.a.01_right', 0.5427045163621825), ('enclosed.a.01_right', 0.5271480022323338), ('intended.a.01_right', 0.5253105083430732), ('coastal.a.02_left', 0.5247584421541162), ('competent.a.01_right', 0.5205232436182161), ('diligent.a.02_left', 0.5078810487387652)]\n",
      "WORST [('leeward.a.01_left', -0.4413128218325099), ('analytic.a.03_left', -0.29990364729290686), ('left-handed.a.01_right', -0.2942688833968601), ('right-handed.a.01_right', -0.2915958043823256), ('right.a.01_right', -0.2898784377416405), ('fast.a.03_left', -0.27789547484998495), ('simple.a.06_right', -0.26971542037007407), ('bidirectional.a.01_right', -0.26510131944057097), ('binaural.a.01_left', -0.25001789581180184), ('carnivorous.a.02_left', -0.22394346918759292)]\n",
      "AVG SIMILARITY TO CORRECT SIDE: 0.1365129395561111\n",
      "STANDARD DEVIATION: 0.14029240343544136\n",
      "GOOD AXES COUNT: 525\n"
     ]
    },
    {
     "data": {
      "image/png": "[encoded data removed]",
      "text/plain": [
       "<Figure size 432x288 with 1 Axes>"
      ]
     },
     "metadata": {
      "needs_background": "light"
     },
     "output_type": "display_data"
    }
   ],
   "source": [
    "scores8 = plot_axes_quality('bert-base-prob400-zscore')"
   ]
  },
  {
   "cell_type": "code",
   "execution_count": 21,
   "metadata": {},
   "outputs": [
    {
     "name": "stdout",
     "output_type": "stream",
     "text": [
      "**** BIAS **** Writing\n",
      "-0.074 -0.075 nonproprietary.a.01 MORE (branded, copyrighted, patented, proprietary, trademarked)\n",
      "-0.063 -0.016 noble.a.02 MORE (base, common, humble, ignoble, lowly, plebeian, untitled, unwashed, vulgar)\n",
      "0.058 0.154 creative.a.01 MORE (creative, fanciful, fictive, imaginative, inventive, notional, yeasty)\n",
      "-0.056 -0.075 finished.a.02 MORE (incomplete, pending, uncompleted, undone, unfinished)\n",
      "-0.054 -0.122 alkaline.a.01 MORE (acid, acidic, amphoteric)\n",
      "\n",
      "**** BIAS **** Theater, film, TV, entertainment\n",
      "0.069 0.087 major.a.01 MORE (leading, major, prima, star, starring, stellar)\n",
      "-0.065 -0.051 essential.a.02 MORE (incidental, inessential, nonessential, unessential)\n",
      "-0.064 -0.138 live.a.01 MORE (canned, filmed, prerecorded, recorded, tape-recorded, taped, transcribed)\n",
      "0.058 0.004 emotional.a.02 MORE (affective, bathetic, cathartic, charged, drippy, emotional, emotive, funky, hokey, hot-blooded, kitschy, little, low-down, lyric, lyrical, maudlin, mawkish, mind-blowing, moody, mushy, releasing, schmaltzy, sentimental, sloppy, slushy, soppy, soulful, soupy, supercharged, temperamental)\n",
      "0.054 0.098 ready.a.01 MORE (fit, primed, prompt, ready, ripe, set, waiting)\n",
      "\n",
      "**** BIAS **** Artistic\n",
      "0.088 0.097 shapely.a.01 MORE (bosomy, busty, buxom, curvaceous, curvy, modeled, sculptural, sculptured, shapely, stacked, statuesque, upturned, voluptuous, well-endowed, well-proportioned)\n",
      "-0.079 -0.077 functional.a.01 MORE (cosmetic, decorative, nonfunctional, nonstructural, ornamental)\n",
      "0.077 0.157 tasteful.a.01 MORE (aesthetic, artistic, esthetic, tasteful, understated, unostentatious, unpretentious)\n",
      "-0.072 -0.075 nonproprietary.a.01 MORE (branded, copyrighted, patented, proprietary, trademarked)\n",
      "-0.064 -0.153 spoken.a.01 MORE (backhand, cursive, engrossed, graphic, graphical, handwritten, holographic, inscribed, longhand, shorthand, written)\n",
      "\n",
      "**** BIAS **** Health\n",
      "-0.177 -0.23 healthy.a.01 MORE (angry, arthritic, asthmatic, bad, bloodshot, colicky, creaky, dehydrated, diseased, enlarged, flatulent, foaming, foamy, frothing, gangrenous, gassy, inflamed, inflammatory, ingrown, jaundiced, membranous, mental, morbid, mortified, pathologic, pathological, pro-inflammatory, proinflammatory, puffy, rheumatic, rheumatoid, rheumy, sallow, sickly, sunburned, sunburnt, tumescent, turgid, ulcerated, unfit, unhealthy, unsound, varicose, wheezing, wheezy, yellow)\n",
      "-0.142 -0.18 corrupt.a.01 MORE (antiseptic, incorrupt, incorruptible, uncorrupted, unspoiled)\n",
      "-0.136 -0.107 typical.a.01 MORE (atypical, unrepresentative, untypical)\n",
      "0.121 0.132 empirical.a.01 MORE (confirmable, empiric, empirical, existential, experiential, experimental, falsifiable, observational, trial-and-error, verifiable)\n",
      "0.109 0.106 nonproprietary.a.01 MORE (generic, nonproprietary, unpatented)\n",
      "\n",
      "**** BIAS **** Agriculture\n",
      "-0.11 -0.061 intellectual.a.02 MORE (anti-intellectual, lowbrow, mindless, philistine, uncultivated)\n",
      "0.109 0.15 rural.a.01 MORE (agrarian, agrestic, agricultural, arcadian, bucolic, countrified, country-style, farming, folksy, homespun, pastoral, rural, rustic)\n",
      "-0.108 -0.025 tasteful.a.01 MORE (barbaric, brassy, camp, campy, cheap, flash, flashy, garish, gaudy, gimcrack, indelicate, loud, meretricious, off-color, ostentatious, pretentious, tacky, tasteless, tatty, tawdry, trashy)\n",
      "-0.104 0.013 constructive.a.01 LESS (constructive, creative, formative, inferential, plastic, reconstructive, rehabilitative, shaping, structural)\n",
      "-0.101 -0.115 improved.a.01 MORE (dirt, scrub, ungraded, unimproved)\n",
      "\n",
      "**** BIAS **** Government\n",
      "0.101 0.143 responsible.a.01 MORE (accountable, amenable, answerable, liable, responsible, trustworthy)\n",
      "-0.081 -0.089 private.a.01 MORE (national, open, public, semipublic, state-supported, unrestricted)\n",
      "0.08 0.144 political.a.01 MORE (governmental, policy-making, political)\n",
      "0.079 0.129 respectful.a.01 MORE (deferent, deferential, honorific, respectful)\n",
      "0.076 0.137 subordinate.a.02 MORE (dependent, feudatory, ruled, subject, subordinate, subservient)\n",
      "\n",
      "**** BIAS **** Sports\n",
      "0.103 0.172 active.a.05 MORE (about, acrobatic, active, agile, astir, athletic, gymnastic, hot, hyperactive, nimble, overactive, quick, sporty, spry)\n",
      "0.083 0.033 metallic.a.01 MORE (all-metal, bimetallic, bronze, gilded, gold, gold-bearing, golden, metal, metallic, silver, tinny)\n",
      "0.08 0.008 direct.a.03 MORE (bluff, blunt, brutal, candid, direct, flat-footed, forthright, frank, man-to-man, no-nonsense, outspoken, plain, plainspoken, point-blank, pointed, square, straight, straightforward, unvarnished, upfront)\n",
      "-0.075 -0.059 trustworthy.a.01 MORE (devious, shady, shifty, slippery, tricky, untrustworthy)\n",
      "-0.074 -0.04 kind.a.01 MORE (cutting, edged, harsh, hurtful, rough, stinging, unkind, unkindly, unsympathetic)\n",
      "\n",
      "**** BIAS **** Engineering\n",
      "0.105 0.108 functional.a.01 MORE (functional, structural, useful, utilitarian)\n",
      "0.104 0.12 progressive.a.01 MORE (advanced, advancing, forward, forward-looking, innovative, modern, modernised, modernized, progressive, state-of-the-art)\n",
      "0.102 0.1 practical.a.01 MORE (applicative, functional, interoperable, matter-of-fact, operable, practicable, practical, pragmatic, serviceable, unimaginative, working)\n",
      "0.1 0.187 hierarchical.a.01 MORE (class-conscious, graded, hierarchal, hierarchic, hierarchical, ranked, stratified, vertical)\n",
      "0.099 0.131 sophisticated.a.01 MORE (blase, intelligent, polished, refined, sophisticated, svelte, urbane, well-informed, worldly)\n",
      "\n",
      "**** BIAS **** Physical, natural, earth sciences\n",
      "-0.091 -0.146 emotional.a.02 MORE (chilly, dry, impassive, philosophic, philosophical, phlegmatic, stoic, stoical, stolid, unblinking, unemotional)\n",
      "0.074 0.188 humane.a.02 MORE (child-centered, human-centered, humane, humanist, humanistic, humanitarian)\n",
      "-0.071 -0.119 middle.a.04 MORE (aboriginal, advance, advanced, after-hours, archaean, archean, beforehand, earlier, earliest, early, late, posthumous, premature, previous, primal, primeval, primordial, proterozoic, proto, ripe, untimely, wee)\n",
      "0.068 0.081 essential.a.02 MORE (basal, biogenic, constituent, constitutional, constitutive, essential, life-sustaining, must, no-frills, organic, primary, staple, substantial, substantive, virtual, vital)\n",
      "0.067 0.089 early.a.01 MORE (aboriginal, advance, archaean, archean, beforehand, earlier, earliest, early, premature, previous, primal, primeval, primordial, proterozoic, proto, untimely, wee)\n",
      "\n",
      "**** BIAS **** Math & statistics\n",
      "0.213 0.292 calculable.a.01 MORE (calculable, computable, countable, enumerable, estimable)\n",
      "0.167 0.213 expressible.a.01 MORE (describable, expressible, representable)\n",
      "0.162 0.162 functional.a.01 MORE (functional, structural, useful, utilitarian)\n",
      "0.141 0.261 logical.a.01 MORE (discursive, formal, logical)\n",
      "-0.139 -0.199 physical.a.01 MORE (intellectual, mental, moral, noetic, psychic, psychical, psychogenic, psychological, rational)\n",
      "\n",
      "**** BIAS **** Social science\n",
      "-0.147 -0.21 physical.a.01 MORE (intellectual, mental, moral, noetic, psychic, psychical, psychogenic, psychological, rational)\n",
      "-0.143 -0.185 absolute.a.01 MORE (comparative, relational, relative)\n",
      "0.115 0.18 intended.a.01 MORE (calculated, conscious, deliberate, intended, intentional, knowing, measured, well-intentioned, well-meaning, witting)\n",
      "0.112 0.224 humane.a.02 MORE (child-centered, human-centered, humane, humanist, humanistic, humanitarian)\n",
      "0.109 0.109 controversial.a.01 MORE (arguable, contentious, controversial, debatable, disputable, disputed, moot, polemic, polemical)\n",
      "\n"
     ]
    }
   ],
   "source": [
    "show_top_axes(LOGS + 'semantics_val/occupations/frameaxis_bert-base-prob400-zscore.json', scores8)"
   ]
  },
  {
   "cell_type": "code",
   "execution_count": 22,
   "metadata": {},
   "outputs": [
    {
     "name": "stdout",
     "output_type": "stream",
     "text": [
      "**** BIAS **** Writing\n",
      "-0.035 -0.195 formal.a.01 MORE (casual, daily, everyday, folksy, informal, unceremonious)\n",
      "-0.03 -0.057 noble.a.02 MORE (base, common, humble, ignoble, lowly, plebeian, untitled, unwashed, vulgar)\n",
      "0.027 0.054 corrupt.a.01 MORE (corrupt, corrupted, corruptible, debased, depraved, dirty, dishonest, perverse, perverted, purchasable, putrid, reprobate, sold-out, sordid, venal, vitiated)\n",
      "-0.027 0.033 authorized.a.01 LESS (accredited, approved, authorised, authorized, canonised, canonized, commissioned, empowered, glorified, licenced, licensed, sanctioned)\n",
      "-0.025 0.024 prepared.a.01 LESS (braced, embattled, equipped, preconditioned, precooked, prepared, processed, ready, spread, up)\n",
      "\n",
      "**** BIAS **** Theater, film, TV, entertainment\n",
      "0.032 0.054 employed.a.01 MORE (employed, engaged, hired, working)\n",
      "-0.029 -0.033 depressant.a.01 MORE (adrenocorticotropic, excitatory, irritating, stimulant, stimulating, stimulative)\n",
      "-0.027 -0.045 nonproprietary.a.01 MORE (branded, copyrighted, patented, proprietary, trademarked)\n",
      "-0.025 -0.085 dominant.a.01 MORE (adjunct, assistant, associate, low-level, secondary, subordinate, under)\n",
      "0.025 0.015 emotional.a.02 MORE (affective, bathetic, cathartic, charged, drippy, emotional, emotive, funky, hokey, hot-blooded, kitschy, little, low-down, lyric, lyrical, maudlin, mawkish, mind-blowing, moody, mushy, releasing, schmaltzy, sentimental, sloppy, slushy, soppy, soulful, soupy, supercharged, temperamental)\n",
      "\n",
      "**** BIAS **** Artistic\n",
      "0.034 0.087 skilled.a.01 MORE (accomplished, adept, arch, complete, consummate, delicate, expert, good, hot, masterful, masterly, mean, practiced, proficient, skilful, skilled, skillful, technical, versatile, virtuoso)\n",
      "0.033 -0.005 diligent.a.02 LESS (delinquent, derelict, hit-and-run, inattentive, lax, neglectful, negligent, remiss, slack)\n",
      "0.033 -0.06 stimulating.a.01 LESS (bland, dry, flat, unexciting, vapid)\n",
      "0.033 0.098 smart.a.01 MORE (astute, cagey, canny, clever, sharp, shrewd, smart, streetwise)\n",
      "0.032 0.143 active.a.03 MORE (active, activist, hands-on, proactive)\n",
      "\n",
      "**** BIAS **** Health\n",
      "0.06 0.015 empirical.a.01 MORE (confirmable, empiric, empirical, existential, experiential, experimental, falsifiable, observational, trial-and-error, verifiable)\n",
      "0.048 0.145 healthful.a.01 MORE (alterative, anthelmintic, antimicrobial, cathartic, curative, good, healing, healthful, medicinal, organic, orthomolecular, preventative, preventive, prophylactic, psychotherapeutic, recuperative, remedial, restorative, salutary, therapeutic)\n",
      "-0.047 -0.165 intoxicated.a.01 MORE (drug-free, dry, sober, teetotal)\n",
      "-0.045 -0.004 healthy.a.01 MORE (angry, arthritic, asthmatic, bad, bloodshot, colicky, creaky, dehydrated, diseased, enlarged, flatulent, foaming, foamy, frothing, gangrenous, gassy, inflamed, inflammatory, ingrown, jaundiced, membranous, mental, morbid, mortified, pathologic, pathological, pro-inflammatory, proinflammatory, puffy, rheumatic, rheumatoid, rheumy, sallow, sickly, sunburned, sunburnt, tumescent, turgid, ulcerated, unfit, unhealthy, unsound, varicose, wheezing, wheezy, yellow)\n",
      "-0.045 0.092 spontaneous.a.01 LESS (impulsive, instinctive, intuitive, natural, self-generated, spontaneous, unprompted)\n",
      "\n",
      "**** BIAS **** Agriculture\n",
      "-0.045 -0.026 bony.a.03 MORE (boned, boneless, deboned)\n",
      "-0.045 0.008 skilled.a.01 LESS (accomplished, adept, arch, complete, consummate, delicate, expert, good, hot, masterful, masterly, mean, practiced, proficient, skilful, skilled, skillful, technical, versatile, virtuoso)\n",
      "-0.043 -0.045 superior.a.01 MORE (bad, base, bum, bush, cheap, cheesy, chintzy, coarse, coarsened, commercial, commercial-grade, common, crummy, deplorable, execrable, inferior, less, low-grade, mediocre, miserable, punk, ropy, scrawny, scrubby, second-class, second-rate, shoddy, sleazy, stunted, tawdry, third-rate, tinny, utility, woeful, wretched)\n",
      "-0.042 0.03 rational.a.01 LESS (coherent, intelligent, logical, lucid, rational, reasonable, reasoning, sane, thinking)\n",
      "0.04 -0.019 dominant.a.01 LESS (adjunct, assistant, associate, low-level, secondary, subordinate, under)\n",
      "\n",
      "**** BIAS **** Government\n",
      "0.074 0.118 respectful.a.01 MORE (deferent, deferential, honorific, respectful)\n",
      "0.061 -0.1 formal.a.01 LESS (casual, daily, everyday, folksy, informal, unceremonious)\n",
      "0.056 0.193 responsible.a.01 MORE (accountable, amenable, answerable, liable, responsible, trustworthy)\n",
      "0.052 0.104 committed.a.01 MORE (committed, pledged, sworn)\n",
      "0.051 0.025 noble.a.02 MORE (aristocratic, august, blue, gentle, grand, highborn, imperial, kingly, lordly, majestic, monarchical, noble, patrician, princely, purple, queenly, regal, royal, titled)\n",
      "\n",
      "**** BIAS **** Sports\n",
      "-0.067 0.072 responsible.a.01 LESS (accountable, amenable, answerable, liable, responsible, trustworthy)\n",
      "0.062 0.09 active.a.05 MORE (about, acrobatic, active, agile, astir, athletic, gymnastic, hot, hyperactive, nimble, overactive, quick, sporty, spry)\n",
      "-0.057 0.086 reciprocal.a.01 LESS (bilateral, correlative, interactional, interactive, mutual, reciprocal, trilateral)\n",
      "-0.057 0.026 subordinate.a.02 LESS (dependent, feudatory, ruled, subject, subordinate, subservient)\n",
      "-0.057 0.047 ready.a.01 LESS (fit, primed, prompt, ready, ripe, set, waiting)\n",
      "\n",
      "**** BIAS **** Engineering\n",
      "-0.056 -0.113 direct.a.03 MORE (allusive, backhanded, circuitous, devious, digressive, discursive, hearsay, indirect, oblique, periphrastic, rambling, roundabout, tortuous)\n",
      "0.051 0.063 integrated.a.03 MORE (co-ed, coeducational, integrated, interracial, mainstreamed, mixed)\n",
      "0.042 0.125 reputable.a.01 MORE (esteemed, estimable, good, honorable, honored, prestigious, redoubtable, reputable, respectable, respected, time-honored, time-honoured)\n",
      "0.041 0.078 practical.a.01 MORE (applicative, functional, interoperable, matter-of-fact, operable, practicable, practical, pragmatic, serviceable, unimaginative, working)\n",
      "-0.04 -0.125 inheritable.a.01 MORE (acquired, congenital, inborn, innate)\n",
      "\n",
      "**** BIAS **** Physical, natural, earth sciences\n",
      "0.037 0.143 humane.a.02 MORE (child-centered, human-centered, humane, humanist, humanistic, humanitarian)\n",
      "-0.03 -0.039 emotional.a.02 MORE (chilly, dry, impassive, philosophic, philosophical, phlegmatic, stoic, stoical, stolid, unblinking, unemotional)\n",
      "0.025 0.106 civilized.a.01 MORE (advanced, civil, civilised, civilized, humane)\n",
      "0.024 0.08 functional.a.01 MORE (functional, structural, useful, utilitarian)\n",
      "0.024 -0.081 warm.a.01 LESS (air-conditioned, air-cooled, caller, cool, water-cooled)\n",
      "\n",
      "**** BIAS **** Math & statistics\n",
      "0.062 0.107 calculable.a.01 MORE (calculable, computable, countable, enumerable, estimable)\n",
      "0.053 0.071 conscious.a.02 MORE (conscious, self-aware, self-conscious, semiconscious, sentient)\n",
      "-0.05 -0.211 formal.a.01 MORE (casual, daily, everyday, folksy, informal, unceremonious)\n",
      "0.046 0.132 comprehensible.a.01 MORE (accessible, approachable, comprehensible, fathomable, graspable, intelligible, perceivable, understandable)\n",
      "0.043 0.005 diligent.a.02 MORE (assiduous, diligent, hardworking, industrious, tireless, untiring)\n",
      "\n",
      "**** BIAS **** Social science\n",
      "0.058 0.163 active.a.03 MORE (active, activist, hands-on, proactive)\n",
      "0.055 0.132 significant.a.01 MORE (earthshaking, epoch-making, epochal, evidential, evidentiary, fundamental, important, large, momentous, monumental, noteworthy, operative, portentous, probative, prodigious, profound, remarkable, significant)\n",
      "0.053 0.16 humane.a.02 MORE (child-centered, human-centered, humane, humanist, humanistic, humanitarian)\n",
      "0.043 0.063 articulate.a.01 MORE (articulate, eloquent, facile, fluent, silver, well-spoken)\n",
      "0.042 0.174 honorable.a.02 MORE (august, honorable, honourable, laureate, revered, time-honored, time-honoured, venerable)\n",
      "\n"
     ]
    }
   ],
   "source": [
    "show_top_axes(LOGS + 'semantics_val/person/frameaxis_bert-base-prob400-zscore.json', scores8)"
   ]
  },
  {
   "cell_type": "code",
   "execution_count": 23,
   "metadata": {},
   "outputs": [
    {
     "name": "stdout",
     "output_type": "stream",
     "text": [
      "MannwhitneyuResult(statistic=-3585197.0, pvalue=0.0)\n",
      "MannwhitneyuResult(statistic=-3485682.0, pvalue=0.0)\n",
      "MannwhitneyuResult(statistic=-3214552.0, pvalue=0.0)\n"
     ]
    }
   ],
   "source": [
    "# U-tests\n",
    "# z-scored bert prob vs. glove\n",
    "print(mannwhitneyu(list(scores8.values()), list(scores1.values())))\n",
    "# z-scored bert prob vs. z-scored bert random\n",
    "print(mannwhitneyu(list(scores8.values()), list(scores3.values())))\n",
    "# z-scored bert random vs. glove\n",
    "print(mannwhitneyu(list(scores3.values()), list(scores1.values())))"
   ]
  },
  {
   "cell_type": "markdown",
   "metadata": {},
   "source": [
    "# Human evaluation task materials\n",
    "\n",
    "This section includes metadata used to design the evaluation task, including: \n",
    "- example occupations in each category \n",
    "- example sentences for each occupation category (taking the first sentence on their page)"
   ]
  },
  {
   "cell_type": "code",
   "execution_count": 24,
   "metadata": {},
   "outputs": [],
   "source": [
    "with open(DATA + 'semantics/cleaned/occupations.json', 'r') as infile:\n",
    "    classes = json.load(infile)\n",
    "with open(DATA + 'semantics/occupation_sents.json', 'r') as infile: \n",
    "    occ_sents = json.load(infile)"
   ]
  },
  {
   "cell_type": "code",
   "execution_count": 25,
   "metadata": {},
   "outputs": [
    {
     "name": "stdout",
     "output_type": "stream",
     "text": [
      "copy editor, commissioning editor, staff writer, freelancer, ghostwriter\n",
      "\n",
      "film director, property master, television director, screenwriter, artistic director\n",
      "\n",
      "tattoo artist, interior designer, artisan, essayist, penciller\n",
      "\n",
      "radiologist, neonatologist, cardiothoracic surgeon, general practitioner, psychiatrist\n",
      "\n",
      "campino, sheep shearer, yeoman, llanero, charro\n",
      "\n",
      "mayor, governor, cultural attaché, press secretary, city attorney\n",
      "\n",
      "kickboxer, boxer, football player, rower, curler\n",
      "\n",
      "engineering technologist, engineering technician, biomedical engineer, chemical engineer, educational technologist\n",
      "\n",
      "biomedical scientist, botanist, naturalist, research fellow, physician\n",
      "\n",
      "computational scientist, statistician, mathematician\n",
      "\n",
      "political scientist, anthropologist, economist, sociologist, urban planner\n",
      "\n"
     ]
    }
   ],
   "source": [
    "random.seed(10)\n",
    "for c in classes: \n",
    "    occ_list = [i for i in classes[c]['high'] if i in occ_sents]\n",
    "    if len(occ_list) > 5: \n",
    "        print(', '.join(random.sample(occ_list, 5)))\n",
    "    else: \n",
    "        print(', '.join(occ_list))\n",
    "    print()"
   ]
  },
  {
   "cell_type": "code",
   "execution_count": 26,
   "metadata": {},
   "outputs": [
    {
     "name": "stdout",
     "output_type": "stream",
     "text": [
      "['ghostwriter', 'commissioning editor', 'novelist', 'speechwriter', 'scrivener', 'review', 'author', 'blogger', 'griot', 'poet', 'creative consultant', 'manuscript format', 'dog writer', 'staff writer', 'literary editor', 'freelancer', 'screenwriter', 'songwriter', 'copy editor', 'medical writing', 'technical writer', 'script coordinator', 'hack writer', 'scribe', 'journalist', 'writer', 'script doctor']\n",
      "['theater manager', 'marketing director', 'actor', 'publicist', 'lighting designer', 'scenographer', 'playwright', 'executive producer', 'sound designer', 'dancer', 'spotlight operator', 'animator', 'stage manager', 'film director', 'lighting technician', 'film producer', 'technical director', 'screenwriter', 'music director', 'cinematographer', 'electrician', 'master electrician', 'composer', 'backstage', 'cartoonist', 'anchorman', 'choreographer', 'musician', 'janitor', 'property master', 'theatrical technician', 'television director', 'costume designer', 'audio engineer', 'voice actor', 'production manager', 'scenic designer', 'wardrobe supervisor', 'music director', 'fly crew', 'video editor', 'artistic director', 'television producer', 'charge artist', 'dramaturge', 'showrunner', 'stunt coordinator', 'casting director', 'stagehand']\n",
      "['animator', 'jewellery designer', 'interior designer', 'lyricist', 'penciller', 'production designer', 'writer', 'set dresser', 'design director', 'photographer', 'tattoo artist', 'art therapist', 'illustrator', 'set decorator', 'wedding planner', 'colorist', 'curator', 'singer', 'fashion designer', 'musician', 'essayist', 'sculptor', 'concept artist', 'web designer', 'photojournalist', 'hairstylist', 'potter', 'baker', 'dancer', 'architect', 'graphic designer', 'artisan']\n",
      "['chiropodist', 'internist', 'cardiothoracic surgeon', 'optometrist', 'cardiac surgeon', 'dermatologist', 'endocrinologist', 'physical therapist', 'psychiatrist', 'midwife', 'anesthesiologist', 'oncologist', 'lactation consultant', 'athletic trainer', 'phlebotomist', 'radiologist', 'pulmonologist', 'nephrologist', 'epidemiologist', 'podiatrist', 'anesthesiologist assistant', 'pharmacy technician', 'ophthalmologist', 'neonatologist', 'chiropractor', 'audiologist', 'general practitioner', 'psychologist', 'physician assistant', 'obstetrician', 'geriatrician', 'massage therapist', 'neurosurgeon', 'pharmacist', 'urologist', 'neurologist', 'occupational therapist', 'flight nurse', 'cardiologist', 'dental assistant', 'dental technician', 'pediatrician', 'emergency physician', 'social worker', 'gynaecologist', 'radiographer', 'dentist']\n",
      "['cattleman', 'agriculturist', 'swineherd', 'teamster', 'cowboy', 'vaquero', 'milkmaid', 'goatherd', 'water boy', 'charro', 'farmworker', 'sheep shearer', 'yeoman', 'llanero', 'beekeeper', 'gaucho', 'herder', 'professional hunter', 'reaper', 'campino', 'sea shepherd', 'shepherd', 'knacker', 'gentleman farmer', 'breeder', 'husbandman', 'fruit picking', 'rancher', 'farmer']\n",
      "['county administrator', 'language commissioner', 'county surveyor', 'permanent representative', 'appraiser', 'drain commissioner', 'alderman', 'hardship post', 'cabinet secretary', 'bureaucrat', 'county executive', 'press secretary', 'postal worker', 'intelligence officer', 'state architect', 'prosecutor', 'governor', 'ombudsman', 'postmaster', 'city attorney', 'ambassador', 'pursuivant', 'treasurer', 'gold commissioner', 'municipal commissioner', 'royal secretary', 'council architect', 'sovereign', 'courtier', 'cultural attaché', 'fence viewer', 'municipal clerk', 'sheriff', 'undersecretary', 'permanent secretary', 'aide-de-camp', 'official', 'tax collector', 'acting president', 'city manager', 'acting governor', 'advocate general', 'deputy mayor', 'mayor', 'attaché', 'sub-divisional magistrate', 'village accountant']\n",
      "['long-distance runner', 'marathoner', 'dancer', 'surfer', 'football player', 'jockey', 'swimmer', 'curler', 'cyclist', 'martial artist', 'disc golf', 'boxer', 'archer', 'bullfighter', 'rower', 'judoka', 'cricketer', 'triathlete', 'gymnast', 'wrestler', 'figure skater', 'kickboxer', 'baseball player', 'skier']\n",
      "['chemical engineer', 'civil engineer', 'educational technologist', 'engineering technologist', 'engineering technician', 'mechanical engineer', 'biomedical engineer']\n",
      "['biomedical scientist', 'veterinarian', 'science attaché', 'chemist', 'naturalist', 'psychologist', 'research fellow', 'botanist', 'scientist', 'zoologist', 'gentleman scientist', 'archaeologist', 'oceanographer', 'forester', 'petroleum geologist', 'microbiologist', 'herpetologist', 'physicist', 'biologist', 'inventor', 'government scientist', 'geographer', 'ecologist', 'pathologist', 'astronomer', 'astronaut', 'geologist', 'biochemist', 'neuroscientist', 'physician']\n",
      "['computational scientist', 'statistician', 'mathematician']\n",
      "['sociologist', 'urban planner', 'political scientist', 'historian', 'anthropologist', 'economist']\n",
      "0\n"
     ]
    }
   ],
   "source": [
    "num_sents = 0\n",
    "for c in classes: \n",
    "    print([i for i in classes[c]['high'] if i in occ_sents])\n",
    "#     print()\n",
    "#     for i in classes[c]['high']: \n",
    "#         if i in occ_sents: \n",
    "#             num_sents += len(occ_sents[i])\n",
    "#             for sent in occ_sents[i]: \n",
    "#                 if len(sent.split()) >= 10: \n",
    "#                     print(sent)\n",
    "#                 break\n",
    "#             print()\n",
    "#     print()\n",
    "print(num_sents)"
   ]
  },
  {
   "cell_type": "code",
   "execution_count": 27,
   "metadata": {},
   "outputs": [
    {
     "name": "stdout",
     "output_type": "stream",
     "text": [
      "[]\n",
      "[]\n",
      "[]\n",
      "[]\n",
      "[]\n",
      "[]\n",
      "[]\n",
      "[]\n",
      "[]\n",
      "[]\n",
      "[]\n"
     ]
    }
   ],
   "source": [
    "for c in classes: \n",
    "    print([i for i in classes[c]['high'] if i in occ_sents and i.endswith('s')])"
   ]
  },
  {
   "cell_type": "code",
   "execution_count": null,
   "metadata": {},
   "outputs": [],
   "source": []
  }
 ],
 "metadata": {
  "kernelspec": {
   "display_name": "Python 3 (ipykernel)",
   "language": "python",
   "name": "python3"
  },
  "language_info": {
   "codemirror_mode": {
    "name": "ipython",
    "version": 3
   },
   "file_extension": ".py",
   "mimetype": "text/x-python",
   "name": "python",
   "nbconvert_exporter": "python",
   "pygments_lexer": "ipython3",
   "version": "3.7.11"
  }
 },
 "nbformat": 4,
 "nbformat_minor": 2
}
