{
 "cells": [
  {
   "cell_type": "code",
   "execution_count": 18,
   "metadata": {},
   "outputs": [],
   "source": [
    "import os\n",
    "from collections import Counter\n",
    "from tqdm import tqdm\n",
    "import matplotlib.pyplot as plt\n",
    "import matplotlib.dates as mdates\n",
    "import datetime as dt"
   ]
  },
  {
   "cell_type": "code",
   "execution_count": 5,
   "metadata": {},
   "outputs": [],
   "source": [
    "ROOT = '/mnt/data0/lucy/manosphere/'\n",
    "SUBS = ROOT + 'data/submissions/'"
   ]
  },
  {
   "cell_type": "code",
   "execution_count": 12,
   "metadata": {},
   "outputs": [
    {
     "name": "stderr",
     "output_type": "stream",
     "text": [
      "100%|██████████| 172/172 [00:14<00:00, 12.05it/s]\n"
     ]
    }
   ],
   "source": [
    "months = Counter()\n",
    "for filename in tqdm(os.listdir(SUBS)): \n",
    "    if filename == 'bad_jsons': continue\n",
    "    f = filename.replace('RS_', '').replace('RC_', '').replace('v2_', '').split('.')[0]\n",
    "    i = 0\n",
    "    for part in os.listdir(SUBS + filename):\n",
    "        if not part.startswith('part-'): continue\n",
    "        with open(SUBS + filename + '/' + part, 'r') as infile: \n",
    "            for line in infile: \n",
    "                i += 1\n",
    "    months[f] = i"
   ]
  },
  {
   "cell_type": "code",
   "execution_count": 31,
   "metadata": {},
   "outputs": [],
   "source": [
    "counts = []\n",
    "month_names = []\n",
    "for y in range(2005, 2020): \n",
    "    for m in range(1, 13): \n",
    "        if len(str(m)) == 1: \n",
    "            d = str(y) + '-0' + str(m)\n",
    "        else:\n",
    "            d = str(y) + '-' + str(m)\n",
    "        counts.append(months[d])\n",
    "        month_names.append(d)\n",
    "x = [dt.datetime.strptime(d,'%Y-%m').date() for d in month_names][:-4]\n",
    "counts = counts[:-4]"
   ]
  },
  {
   "cell_type": "code",
   "execution_count": 33,
   "metadata": {},
   "outputs": [
    {
     "data": {
      "text/plain": [
       "Text(0.5, 1.0, 'Number of Reddit submissions in manosphere-related subreddits')"
      ]
     },
     "execution_count": 33,
     "metadata": {},
     "output_type": "execute_result"
    },
    {
     "data": {
      "image/png": "[encoded data removed]",
      "text/plain": [
       "<Figure size 432x288 with 1 Axes>"
      ]
     },
     "metadata": {
      "needs_background": "light"
     },
     "output_type": "display_data"
    }
   ],
   "source": [
    "plt.gca().xaxis.set_major_formatter(mdates.DateFormatter('%Y-%m'))\n",
    "plt.plot(x,counts)\n",
    "plt.gcf().autofmt_xdate()\n",
    "plt.title(\"Number of Reddit submissions in manosphere-related subreddits\")"
   ]
  },
  {
   "cell_type": "code",
   "execution_count": null,
   "metadata": {},
   "outputs": [],
   "source": []
  }
 ],
 "metadata": {
  "kernelspec": {
   "display_name": "Python 3",
   "language": "python",
   "name": "python3"
  },
  "language_info": {
   "codemirror_mode": {
    "name": "ipython",
    "version": 3
   },
   "file_extension": ".py",
   "mimetype": "text/x-python",
   "name": "python",
   "nbconvert_exporter": "python",
   "pygments_lexer": "ipython3",
   "version": "3.7.5"
  }
 },
 "nbformat": 4,
 "nbformat_minor": 2
}
