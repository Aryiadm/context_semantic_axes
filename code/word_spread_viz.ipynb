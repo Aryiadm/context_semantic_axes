{
 "cells": [
  {
   "cell_type": "code",
   "execution_count": 93,
   "id": "f6d05432",
   "metadata": {},
   "outputs": [],
   "source": [
    "import os\n",
    "import json\n",
    "from collections import defaultdict, Counter\n",
    "import csv\n",
    "from helpers import get_sr_cats\n",
    "from nltk.corpus import reuters, brown\n",
    "import pandas as pd\n",
    "import networkx as nx"
   ]
  },
  {
   "cell_type": "code",
   "execution_count": 2,
   "id": "f79a066c",
   "metadata": {},
   "outputs": [],
   "source": [
    "ROOT = '/mnt/data0/lucy/manosphere/'\n",
    "DATA = ROOT + 'data/'\n",
    "LOGS = ROOT + 'logs/'"
   ]
  },
  {
   "cell_type": "code",
   "execution_count": 3,
   "id": "45ab11c8",
   "metadata": {},
   "outputs": [],
   "source": [
    "with open(LOGS + 'overall_word_births.json', 'r') as infile: \n",
    "    word_births = json.load(infile)"
   ]
  },
  {
   "cell_type": "code",
   "execution_count": 4,
   "id": "d2b05fe1",
   "metadata": {},
   "outputs": [
    {
     "name": "stdout",
     "output_type": "stream",
     "text": [
      "{'philosophyofrape', 'pickup', 'blackpillscience', 'suicidewatch', 'seduction', 'mensrightslinks', 'truefemcels', 'thanktrp', 'mensrights', 'FORUM_pua_forum', 'redpillparenting', 'mgtowbooks', 'femaledatingstrategy', 'FORUM_rooshv', 'incelspurgatory', 'askfds', 'thebluepill', '1ncels', 'mrref', 'malecels', 'foreveralonelondon', 'braincels', 'geotrp', 'supportcel', 'becomeaman', 'incelselfies', 'theglowup', 'pinkpillfeminism', 'pornfreerelationships', 'foreveraloneteens', 'lonelynonviolentmen', 'mgtowmusic', 'fpua', 'alttrp', 'rsd', 'askanincel', 'intactivists', 'inceltears', 'asktrufemcels', 'truecels', 'trufemcels', 'asktrp', 'masculism', 'FORUM_incels', 'foreveralone', 'trpofftopic', 'mgtow', 'FORUM_the_attraction', 'puascience', 'gold_digger', 'ladymras', 'fdssuperfans', 'marriedredpill', 'redpillwomen', 'mensrightslaw', 'gymcels', 'depression', 'gaycel', 'redpillwives', 'foreverunwanted', 'FORUM_red_pill_talk', 'pussypass', 'mractivism', 'inceldense', 'foreveralonedating', 'FORUM_avfm', 'askseddit', 'incels', 'socialanxiety', 'theredpill', 'egalitarianism', 'pua', 'exredpill', 'incelswithouthate', 'maleforeveralone', 'femalelevelupstrategy', 'incelbrotherhood'}\n"
     ]
    }
   ],
   "source": [
    "categories = get_sr_cats()\n",
    "forums = ['FORUM_the_attraction', 'FORUM_pua_forum', 'FORUM_incels', \n",
    "          'FORUM_red_pill_talk', 'FORUM_avfm', 'FORUM_rooshv', 'FORUM_red_pill_talk']\n",
    "mano_communities = set(categories.keys()) | set(forums)\n",
    "print(mano_communities)"
   ]
  },
  {
   "cell_type": "markdown",
   "id": "b7002b84",
   "metadata": {},
   "source": [
    "# Get lexical innovation vocabulary\n",
    "\n",
    "First, we find a suitable cutoff for words that we can ensure they are actually new (and not just new because they are part of general language and some communities are earlier in the dataset than others. \n",
    "\n",
    "We remove bigrams whose second token also appears in our vocabulary, since those tend to be innovative phrases less often. This removes terms such as \"most girls\" yet retains many innovative phrase such as \"carousel riders\". \n",
    "\n",
    "We use the reuters corpus (created in 2000) to filter out non-innovative words. "
   ]
  },
  {
   "cell_type": "code",
   "execution_count": 5,
   "id": "bb11a4de",
   "metadata": {},
   "outputs": [
    {
     "name": "stdout",
     "output_type": "stream",
     "text": [
      "['electricians', 'repairs', 'bonus', 'kassenobligation', 'unavoidable', 'black', 'ipla', 'contemplated', 'friedhelm', 'vlissingen']\n"
     ]
    }
   ],
   "source": [
    "reuters_words = set([w.lower() for w in reuters.words()])\n",
    "brown_words = set([w.lower() for w in brown.words()])\n",
    "print(list(reuters_words)[:10])"
   ]
  },
  {
   "cell_type": "code",
   "execution_count": 6,
   "id": "4e93def5",
   "metadata": {},
   "outputs": [],
   "source": [
    "common_sources = Counter()\n",
    "yearly_innovations = defaultdict(list) # {year: [list of innovations]}\n",
    "for w in word_births: \n",
    "    if w in reuters_words or w in brown_words: continue # not an innovation\n",
    "    if w.endswith('s'): \n",
    "        if w[:-1] in reuters_words or w[:-1] in brown_words: continue # not an innovation\n",
    "    if ' ' in w: # bigram\n",
    "        toks = w.split(' ')\n",
    "        if toks[-1] in word_births or toks[-1] in reuters_words or toks[-1] in brown_words: continue\n",
    "    content = word_births[w]\n",
    "    date = content[0]\n",
    "    year = date.split('-')[0]\n",
    "    sources = content[1]\n",
    "    # uncomment below if you want to find words that only manosphere communities pioneeered\n",
    "    #if set(sources) & mano_communities: \n",
    "    yearly_innovations[year].append(w)\n",
    "    common_sources.update(sources)"
   ]
  },
  {
   "cell_type": "code",
   "execution_count": 7,
   "id": "2d4e4118",
   "metadata": {},
   "outputs": [
    {
     "data": {
      "text/plain": [
       "[('FORUM_the_attraction', 577),\n",
       " ('reddit.com', 343),\n",
       " ('FORUM_red_pill_talk', 39),\n",
       " ('politics', 12),\n",
       " ('askreddit', 11),\n",
       " ('mensrights', 11),\n",
       " ('incels', 10),\n",
       " ('programming', 9),\n",
       " ('FORUM_pua_forum', 8),\n",
       " ('funny', 5),\n",
       " ('pics', 4),\n",
       " ('thebluepill', 4),\n",
       " ('science', 4),\n",
       " ('wtf', 4),\n",
       " ('drama', 4),\n",
       " ('shitredditsays', 4),\n",
       " ('the_donald', 3),\n",
       " ('atheism', 3),\n",
       " ('seduction', 3),\n",
       " ('entertainment', 3),\n",
       " ('theredpill', 3),\n",
       " ('business', 3),\n",
       " ('news', 2),\n",
       " ('FORUM_rooshv', 2),\n",
       " ('4chan4trump', 2),\n",
       " ('mgtow', 2),\n",
       " ('purplepilldebate', 2),\n",
       " ('askmen', 2),\n",
       " ('videos', 2),\n",
       " ('worldnews', 2),\n",
       " ('antipozi', 1),\n",
       " ('kotakuinaction', 1),\n",
       " ('puahate', 1),\n",
       " ('waluigi', 1),\n",
       " ('rupaulsdragrace', 1),\n",
       " ('wikipedia', 1),\n",
       " ('oney', 1),\n",
       " ('features', 1),\n",
       " ('badhistory', 1),\n",
       " ('netsec', 1),\n",
       " ('gadgets', 1),\n",
       " ('gatekeeping', 1),\n",
       " ('anarchism', 1),\n",
       " ('askwomen', 1),\n",
       " ('cringeanarchy', 1),\n",
       " ('bestof', 1),\n",
       " ('justneckbeardthings', 1),\n",
       " ('vegan', 1),\n",
       " ('penis', 1),\n",
       " ('bacon', 1),\n",
       " ('equality', 1),\n",
       " ('egalitarian', 1),\n",
       " ('cooking', 1),\n",
       " ('computebazaar', 1),\n",
       " ('buildapcsales', 1),\n",
       " ('guildwars2', 1),\n",
       " ('australia', 1),\n",
       " ('todayilearned', 1),\n",
       " ('transgender', 1),\n",
       " ('subredditdrama', 1),\n",
       " ('diablo', 1),\n",
       " ('self', 1),\n",
       " ('cringepics', 1),\n",
       " ('tumblrinaction', 1),\n",
       " ('cuckold', 1),\n",
       " ('dirtykik', 1),\n",
       " ('feminisms', 1),\n",
       " ('soccerspirits', 1),\n",
       " ('health', 1),\n",
       " ('comics', 1),\n",
       " ('leagueoflegends', 1),\n",
       " ('wow', 1),\n",
       " ('nofap', 1),\n",
       " ('nofapjuly', 1),\n",
       " ('pfjerk', 1),\n",
       " ('gardening', 1),\n",
       " ('4chan', 1),\n",
       " ('books', 1),\n",
       " ('de', 1),\n",
       " ('nsfw', 1),\n",
       " ('trees', 1),\n",
       " ('foreveralone', 1),\n",
       " ('celebrities', 1),\n",
       " ('gaming', 1),\n",
       " ('meetup', 1),\n",
       " ('christianity', 1),\n",
       " ('gay', 1),\n",
       " ('sidehugs', 1),\n",
       " ('gaybros', 1),\n",
       " ('fitnesscirclejerk', 1),\n",
       " ('blackpeopletwitter', 1),\n",
       " ('FORUM_mgtow', 1),\n",
       " ('pets', 1),\n",
       " ('fitness', 1),\n",
       " ('cortexcommand', 1),\n",
       " ('theoryofreddit', 1),\n",
       " ('tattoos', 1)]"
      ]
     },
     "execution_count": 7,
     "metadata": {},
     "output_type": "execute_result"
    }
   ],
   "source": [
    "common_sources.most_common()"
   ]
  },
  {
   "cell_type": "code",
   "execution_count": 8,
   "id": "a1474f7f",
   "metadata": {},
   "outputs": [
    {
     "name": "stdout",
     "output_type": "stream",
     "text": [
      "2005 ['gf', 'assholes', 'eachother', 'chodes', 'roomate', 'amogs', 'hypnotist', 'goofball', 'geek', 'cunt', 'fuckers', 'cunts', 'hippies', 'masseuse', 'enablers', 'oddball', 'newb', 'toastmasters', 'joker', 'narcissist', 'chubby chasers', 'freelancers', 'shaman', 'wackos', 'boyz', 'infj', 'server', 'keyboard jockeys', 'bloggers', 'noobie', 'prude', 'rapist', 'exes', 'shorty', 'gamer', 'brat', 'perverts', 'womanizer', 'dudes', 'girlfriends', 'smartass', 'hb2', 'stalker', 'stalkers', 'sluts', 'douche', 'noob', 'hb10', 'lifeguard', 'boyfriends', 'nerd', 'hotties', 'dumbass', 'weirdos', 'jerkoff', 'mods', 'moron', 'niceguy', 'barmaid', 'morons', 'jedi', 'wanker', 'selector', 'hb4', 'girlfriend', 'dude', 'slut', 'surfers', 'druggies', 'caveman', 'pornstar', 'hb7', 'bouncers', 'baristas', 'airhead', 'hb5', 'hb6', 'puas', 'misfits', 'hacker', 'toddler', 'paedophile', 'filmmaker', 'commenters', 'pua', 'hb9', 'wingmen', 'dork', 'nerds', 'doofus', 'cheerleader', 'pervert', 'amog', 'babysitter', 'hb8', 'rapper', 'ceo', 'warlords', 'goths', 'bookworm', 'hottie', 'pornstars', 'trainee', 'fucker', 'spaniard', 'aussies', 'dickhead', 'mafia', 'perps', 'boyfriend', 'firefighter', 'cashier', 'mofo', 'buzzkill', 'swimmer', 'bozo', 'emotional tampon', 'motherfucker', 'noone', 'geeks', 'swingers', 'twat', 'atheist', 'gents', 'cutie', 'weirdo', 'celeb', 'paramedic', 'supermodels', 'homeboy', 'fags', 'hotty', 'uggos', 'perfectionist', 'sender', 'sociopath', 'chode', 'coworker', 'sweetie', 'pedo', 'dirtbag', 'lumberjack', 'gramps', 'bf', 'fattie', 'haters', 'protector', 'celebs', 'godfather', 'supermodel', 'wallflower', 'workmates', 'choosers', 'hooker', 'skank', 'flatmates', 'wimp', 'vigilantes', 'bucko', 'orbiter', 'snob', 'sensei', 'jester', 'hb10s', 'pedophile', 'concubines', 'housemates', 'newbs', 'coders', 'badboys', 'badboy', 'organizer', 'sidekick', 'goon', 'mod', 'newbie', 'bouncer', 'wussy', 'smoker', 'sophmore', 'feminazi', 'dickheads', 'babyface', 'footballer', 'asshole', 'rockstar', 'manipulator', 'frats', 'undergrads', 'millionare', 'newbies', 'loner', 'prof', 'rockstars', 'tomboy', 'villian', 'ninja', 'servers', 'goons', 'sissy', 'rafc', 'bitches', 'good kisser', 'hairstylist', 'fanboy', 'sucker', 'trainer', 'noobs', 'wierdo', 'daredevil', 'midget', 'introvert', 'junkie', 'mpua', 'profs', 'spammers', 'optimist', 'douchebags', 'chavs', 'hunter gatherers', 'hb1', 'billionaire', 'gamers', 'grandpa', 'introverts', 'kj', 'blondie', 'nco', 'mpuas', 'opportunist', 'fatass', 'stepfather', 'minions']\n",
      "\n",
      "2006 ['groupie', 'hairdresser', 'cute brunette', 'hbb', 'entj', 'scammers', 'meanie', 'boomers', 'hermits', 'uggo', 'homophobe', 'serf', 'asswipe', 'strawmen', 'niceguys', 'kickboxer', 'flatmate', 'renters', 'quebecois', 'accuser', 'abusers', 'serb', 'darlin', 'transsexuals', 'lesbos', 'lefties', 'redditor', 'filmmakers', 'girls irl', 'sociopaths', 'becky', 'cheapskate', 'average joes', 'shithead', 'ugly duckling', 'homewrecker', 'misandrists', 'normie', 'mysoginist', 'good conversationalist', 'plaything', 'goalie', 'somalis', 'wench', 'spammer', 'chix', 'neet', 'paladin', 'fangirls', 'dweeb', 'tranny', 'mangina', 'sprinter', 'decider', 'skanks', 'sleaze', 'ninjas', 'breadwinner', 'old fart', 'wearer', 'neets', 'fuckhead', 'hoodrats', 'late bloomer', 'heterosexuals', 'douches', 'hvm', 'tomboys', 'linebacker', 'punisher', 'cfo', 'enforcer', 'beckies', 'samaritans', 'new comers', 'harlots', 'cretin', 'whiner', 'wimps', 'brothas', 'charlatan', 'roomies', 'vegans', 'slacker', 'fuckface', 'white supremacists', 'barrister', 'fembots', 'permavirgin', 'simps', 'simp', 'butterface', 'gent', 'concubine', 'crackhead', 'nutritionist', 'nurturers', 'masochist', 'hedonist', 'metalhead', 'shitbag', 'otaku', 'boyos', 'ubermensch', 'golddiggers', 'gringo', 'ladyboys', 'hoodrat', 'soulmates', 'wannabes', 'everyman', 'bullshitters', 'accusers', 'wimmin', 'paralegal', 'little shits', 'mommies', 'ideologue', 'subhumans', 'jihadists', 'debater', 'eunuch', 'homie', 'dweebs', 'psychos', 'abuser', 'hermit', 'glutton', 'dipshits', 'stepdad', 'cohort', 'journeyman', 'gambler', 'slav', 'pleb', 'pediatrician', 'oligarch', 'islamists', 'boyo', 'theists', 'lurker', 'trannies', 'douchebag', 'bestfriend', 'surrogate', 'freelancer', 'amerindian', 'goys', 'bullshitter', 'contestant', 'everbody', 'prettyboys', 'arseholes', 'bigot', 'true scotsman', 'wife beaters', 'chubby chaser', 'manchild', 'complainers', 'elves', 'preteen', 'redditors', 'girl2', 'people pleaser', 'dipshit', 'protectors', 'weaklings', 'welder', 'wingwomen', 'wrestler', 'caregiver', 'autist', 'swede', 'semites', 'spotter', 'theist', 'libs', 'other mens', 'egalitarians', 'rpers', 'prudes', 'mage', 'milf', 'socialite', 'curries', 'barman', 'old hag', 'schlub', 'songwriter', 'protester', 'nomad', 'hookers', 'badasses', 'yuppies', 'cocksuckers', 'hooligans', 'fanbase', 'cougars', 'spaniards', 'crybaby', 'ladyboy', 'babysitters', 'grandmaster', 'neocons', 'satanist', 'paedophiles', 'spaz', 'soulmate', 'cockblocker', 'complainer', 'jb', 'colombianas', 'powerlifters', 'succubus', 'provocateur', 'infiltrators', 'partier', 'wimminz', 'troublemaker', 'geezer', 'rappers', 'bffs', 'jihadis', 'dems', 'homeowner', 'butch lesbian', 'imposter', 'pedos', 'antichrist', 'baller', 'cougar', 'naysayers', 'nympho', 'cocksucker', 'wife beater', 'stoners', 'harlot', 'yakuza', 'oppressor', 'nutter', 'commentors', 'pushover', 'serial monogamist', 'leper', 'cretins', 'figurehead', 'sissies', 'intj', 'posers', 'granddad', 'skinheads', 'succubi', 'environmentalists', 'fuckwits', 'pakis', 'aryans', 'hater', 'gatekeeper', 'thots', 'lurkers', 'skeptic', 'refs', 'chav', 'exwife', 'plebs', 'hunny', 'collectivists', 'plain janes', 'transvestite', 'high schooler', 'paraplegic', 'stunner', 'devs', 'caregivers', 'gigolo', 'fanboys', 'footballers', 'surrogates', 'perp', 'grandchild', 'endocrinologist', 'tax payer', 'child molesters', 'blogger', 'latinos', 'jailbait', 'crazies', 'bikers', 'hitman', 'scorpio', 'workhorse', 'subhuman', 'transgenders', 'shmuck', 'bestie', 'warlord', 'traffickers', 'fpua', 'unicorns', 'weakling', 'youtubers', '20 somethings', 'paparazzi', 'cockblockers', 'womanizers', 'sisterhood', 'nobodies', 'fuckwit', 'bub', 'oligarchs', 'doer', 'fatasses', 'submitter', 'flat earthers', 'trannys', 'dermatologist', 'sugar daddies', 'fucktard', 'girl1', 'douchbag', 'narcos', 'ashkenazi', 'goober', 'gremlin', 'thot', 'good samaritan', 'salesperson', 'nurturer', 'infp', 'humankind', 'chauvinists', 'creationists', 'nice strawman', 'mohel', 'orbiters', 'latinas', 'fag', 'schmuck', 'foodie', 'expats', 'gangbanger', 'kiwis', 'mysogynist', 'downer', 'opportunists', 'slayer', 'nannies', 'nanny', 'pedophiles', 'nutjob', 'prettyboy', 'grownup', 'handmaid', 'hoarder', 'mrm', 'hb3', 'roomie', 'asshat', 'emotional tampons', 'cashiers', 'backpackers', 'firefighters', 'millenials', 'electrician', 'superheroes', 'doormats', 'sicko', 'pediatricians', 'scumbag', 'commenter', 'honey badger', 'wimmins', 'techie', 'fuckheads', 'fucking psycho', 'amputee', 'sil', 'faggot', 'wrestlers', 'nutcase', 'faggots', 'wenches', 'misfit', 'grannies', 'environmentalist', 'ballers', 'mummy', 'grandparent', 'grandkids', 'missus', 'libtards', 'sexists', 'striker', 'elitists', 'dumbasses', 'paramedics', 'activists', 'welders', 'right winger', 'homophobes', 'wive', 'meathead', 'stoner', 'fiancee', 'hairdressers', 'nana', 'scumbags', 'hobbyist', 'influencers', 'coder', 'underclass', 'tradesman', 'carer', 'medic', 'slackers', 'ideologues', 'harasser', 'asshats', 'satanists', 'rando', 'imam', 'snitch', 'nigga', 'feminazis', 'groupies', 'trainers', 'goddesses', 'adventurer', 'dominatrix', 'spoiled brats', 'serbs', 'mugger', 'zeta', 'femenists', 'creationist', 'jbs', 'outlier', 'exhibitionist', 'amish', 'scammer', 'womankind', 'breadwinners', 'nomads', 'protestors', 'tyrone', 'harassers', 'outgroup', 'unicorn', 'pussies', 'barista', 'pothead', 'motherfuckers', 'enabler', 'poser', 'sikhs', 'shitbags', 'the childs', 'eunuchs', 'boogeyman', 'filipina', 'mongols', 'dumbo', 'exgf', 'spinster', 'freemasons', 'quitter', 'narc', 'mockingbird', 'pervs', 'masochists', 'bimbos', 'fuckbuddy', 'milfs', 'fuglies', 'broski', 'cynic', 'gringos', 'slayers', 'emt', 'spinsters', 'golddigger', 'gangbangers', 'nutters', 'mistresses', 'wingwoman', 'bff', 'arsehole', 'powerlifter', 'supplicant', 'wifey', 'ceos', 'shitheads', 'looker', 'housemate', 'bad kisser', 'druggie', 'white supremacist', 'cameraman', 'kiddos', 'npcs', 'billionaires', 'cabbie', 'fuckbuddies', 'boomer', 'niggas', 'cheater', 'dumbfucks', 'pharaoh', 'workaholic', 'proles', 'deadbeats', 'great conversationalist', 'crackheads', 'impostor', 'loonies', 'ancap', 'stepmom', 'gold diggers', 'vixen', 'jackasses', 'bubba', 'narcissists', 'child molester', 'responder', 'maori', 'coon', 'carers', 'demigod', 'fuckwad', 'manwhore', 'doormat', 'homies', 'bisexuals', 'weenie', 'kiddo', 'cheaters', 'perv', 'psychotherapist', 'retirees', 'beholder', 'bogeyman', 'renter', 'urologist', 'npc', 'aristocrat', 'hardass', 'nutcases', 'transmen', 'lvm', 'rper', 'sex havers', 'downvoters', 'apua', 'hbblonde']\n",
      "\n",
      "2007 ['millennials', 'normies', 'hikikomori', 'aspies', 'sahm', 'autists', 'wimmenz', 'beckys', 'wymyn', 'fucktoy', 'randos', 'larpers', 'neurotypicals', 'stacie', 'landwhale', 'hambeasts', 'weeaboo', 'womyns', 'people irl', 'incel', 'fembot', 'camwhore', 'sex bots', 'cosplayers', 'cum dumpsters', 'mgtow', 'globalists', 'old hags', 'masculist', 'equalist', 'sex bot', 'dravidian', 'friendo', 'radfems', 'terf', 'foid', 'camgirl', 'femnazis', 'xw', 'infiltrator', 'wageslave', 'cuckolds', 'femnazi', 'intactivists', 'homebody', 'antifa', 'aspie', 'hambeast', 'female supremacist', 'batterers', 'cum dumpster', 'mra', 'transpeople', 'filipinas', 'stepdaughter', 'assaulter', 'transwoman', 'sloot', 'sexbot', 'sexbots', 'baby daddies', 'manlet', 'influencer', 'larper', 'feminsts', 'mras', 'prepper', 'honey badgers', 'tyrones', 'transwomen', 'cuckold', 'womenz', 'batterer', 'camgirls', 'masculinist', 'cumdumpster', 'femails', 'faer']\n",
      "\n",
      "2008 ['women irl', 'weebs', 'suffragists', 'rape apologists', 'dudebro', 'antifeminists', 'womynz', 'menz', 'female supremacists', 'stbx', 'stacies', 'punjabis', 'manlets', 'redpillers', 'cuck', 'fuckboys', 'manginas', 'fuckboy', 'sloots', 'laydeez', 'roasties', 'female protagonists', 'cucks', 'senpai', 'manchildren', 'jailbaits', 'brigaders', 'rich bimbo', 'fho', 'annarchist']\n",
      "\n",
      "2009 ['brony', 'intactivist', 'shitskins', 'rad fems', 'incels', 'shitlord', 'shitposter', 'femtards', 'good goy', 'fat neckbeard', 'spergs', 'mhra', 'bathmate', 'wamen', 'besties', 'foids', 'landwhales', 'involuntary celibates', 'shitlords', 'meninist', 'bpers', 'catfishman', 'fhos']\n",
      "\n"
     ]
    }
   ],
   "source": [
    "for year in range(2005, 2010): \n",
    "    print(year, yearly_innovations[str(year)])\n",
    "    print()"
   ]
  },
  {
   "cell_type": "code",
   "execution_count": 9,
   "id": "47fc5ba1",
   "metadata": {},
   "outputs": [
    {
     "name": "stdout",
     "output_type": "stream",
     "text": [
      "2007 ['millennials', 'normies', 'hikikomori', 'aspies', 'sahm', 'autists', 'wimmenz', 'beckys', 'wymyn', 'fucktoy', 'randos', 'larpers', 'neurotypicals', 'stacie', 'landwhale', 'hambeasts', 'weeaboo', 'womyns', 'people irl', 'incel', 'fembot', 'camwhore', 'sex bots', 'cosplayers', 'cum dumpsters', 'mgtow', 'globalists', 'old hags', 'masculist', 'equalist', 'sex bot', 'dravidian', 'friendo', 'radfems', 'terf', 'foid', 'camgirl', 'femnazis', 'xw', 'infiltrator', 'wageslave', 'cuckolds', 'femnazi', 'intactivists', 'homebody', 'antifa', 'aspie', 'hambeast', 'female supremacist', 'batterers', 'cum dumpster', 'mra', 'transpeople', 'filipinas', 'stepdaughter', 'assaulter', 'transwoman', 'sloot', 'sexbot', 'sexbots', 'baby daddies', 'manlet', 'influencer', 'larper', 'feminsts', 'mras', 'prepper', 'honey badgers', 'tyrones', 'transwomen', 'cuckold', 'womenz', 'batterer', 'camgirls', 'masculinist', 'cumdumpster', 'femails', 'faer']\n",
      "\n",
      "2008 ['women irl', 'weebs', 'suffragists', 'rape apologists', 'dudebro', 'antifeminists', 'womynz', 'menz', 'female supremacists', 'stbx', 'stacies', 'punjabis', 'manlets', 'redpillers', 'cuck', 'fuckboys', 'manginas', 'fuckboy', 'sloots', 'laydeez', 'roasties', 'female protagonists', 'cucks', 'senpai', 'manchildren', 'jailbaits', 'brigaders', 'rich bimbo', 'fho', 'annarchist']\n",
      "\n",
      "2009 ['brony', 'intactivist', 'shitskins', 'rad fems', 'incels', 'shitlord', 'shitposter', 'femtards', 'good goy', 'fat neckbeard', 'spergs', 'mhra', 'bathmate', 'wamen', 'besties', 'foids', 'landwhales', 'involuntary celibates', 'shitlords', 'meninist', 'bpers', 'catfishman', 'fhos']\n",
      "\n",
      "2010 ['nawalts', 'soyboy', 'dicklet', 'roastie', 'terfs', 'rationalization hamster', 'khv', 'blue piller', 'mghow', 'mgtows', 'sedditor', 'shitposters', 'khhv', 'sedditors', 'faers']\n",
      "\n",
      "2011 ['mtgow', 'red pillers', 'fuckboi', 'red piller', 'blue pillers', 'mgtowers', 'tradcons', 'tinderella', 'chad thundercock', 'nofappers', 'mgtower', 'bronies', 'srser', 'tallfag', 'srsers', 'husbank']\n",
      "\n",
      "2012 ['rvfers', 'mhras', 'dark triads', 'beta bux', 'femitheist', 'dickcel', 'femcel', 'moids', 'chaddam']\n",
      "\n",
      "2013 ['soyboys', 'volcels', 'bluepillers', 'edgelord', 'male smv', 'trpers', 'tumblrinas', 'redpiller', 'volcel', 'bluepiller', 'normie scum', 'turbomanlet', 'trper']\n",
      "\n",
      "2014 ['cuckcel', 'sluthaters', 'currycel', 'blackcel', 'gymcel', 'wahmen', 'ethniks', 'truecel', 'gymcels', 'betacuck', 'looksmatch', 'pajeet', 'richcel', 'youngcels', 'mentalcel', 'truecels', 'escortcels', 'fakecels', 'youngcel', 'sluthater', 'chadcel', 'oldcels', 'locationcel', 'jockcel', 'ethnicel', 'currycels', 'looksmatches', 'ethnicels', 'heightcel', 'sub8s', 'itcels', 'blackcels', 'fakecel', 'poorcel', 'gaycel', 'femcels', 'oldcel', 'mentalcels', 'wristcel']\n",
      "\n",
      "2015 ['cuckservatives', 'rapefugees', 'wagecucks', 'chadlet', 'chadpreet', 'ricecel', 'norwood reaper', 'ricecels', 'normshits', 'betabuxx', 'weemins']\n",
      "\n",
      "2016 ['numales', 'tradcucks', 'whamen', 'cucktears', 'tradcuck', 'gigachad']\n",
      "\n",
      "2017 ['noodlewhores', 'noodlewhore', 'tradthots', 'femoids', 'tradthot', 'gigachads', 'femoid', 'chadlite', 'chadlites', 'wahmyn', 'cucktear', 'cuckqueers', 'suicel', 'normtards']\n",
      "\n",
      "2018 []\n",
      "\n",
      "2019 []\n",
      "\n"
     ]
    }
   ],
   "source": [
    "innov_vocab = set()\n",
    "for year in range(2007, 2020): \n",
    "    print(year, yearly_innovations[str(year)])\n",
    "    innov_vocab.update(yearly_innovations[str(year)])\n",
    "    print()"
   ]
  },
  {
   "cell_type": "markdown",
   "id": "b3a64b97",
   "metadata": {},
   "source": [
    "## Analyze source and destinations of lexical innovations"
   ]
  },
  {
   "cell_type": "code",
   "execution_count": 10,
   "id": "18145bfe",
   "metadata": {},
   "outputs": [
    {
     "name": "stdout",
     "output_type": "stream",
     "text": [
      "254\n"
     ]
    }
   ],
   "source": [
    "print(len(innov_vocab))\n",
    "with open(LOGS + 'lexical_innovations.txt', 'w') as outfile: \n",
    "    for w in innov_vocab: \n",
    "        outfile.write(w + '\\n')"
   ]
  },
  {
   "cell_type": "code",
   "execution_count": 53,
   "id": "453e1cd1",
   "metadata": {},
   "outputs": [],
   "source": [
    "common_sources = Counter()\n",
    "mano_source_words = set()\n",
    "outside_source_words = set()\n",
    "for w in word_births: \n",
    "    if w not in innov_vocab: continue\n",
    "    content = word_births[w]\n",
    "    date = content[0]\n",
    "    year = date.split('-')[0]\n",
    "    if set(sources) & mano_communities: \n",
    "        mano_source_words.add(w)\n",
    "    else: \n",
    "        outside_source_words.add(w)\n",
    "    sources = content[1]\n",
    "    common_sources.update(sources)"
   ]
  },
  {
   "cell_type": "code",
   "execution_count": 54,
   "id": "0e1b6a78",
   "metadata": {},
   "outputs": [
    {
     "data": {
      "text/plain": [
       "[('reddit.com', 65),\n",
       " ('FORUM_red_pill_talk', 39),\n",
       " ('FORUM_the_attraction', 16),\n",
       " ('politics', 12),\n",
       " ('askreddit', 11),\n",
       " ('mensrights', 11),\n",
       " ('incels', 10),\n",
       " ('FORUM_pua_forum', 7),\n",
       " ('funny', 5),\n",
       " ('pics', 4),\n",
       " ('thebluepill', 4),\n",
       " ('science', 4),\n",
       " ('wtf', 4),\n",
       " ('drama', 4),\n",
       " ('programming', 4),\n",
       " ('shitredditsays', 4),\n",
       " ('the_donald', 3),\n",
       " ('atheism', 3),\n",
       " ('seduction', 3),\n",
       " ('entertainment', 3),\n",
       " ('theredpill', 3),\n",
       " ('business', 3),\n",
       " ('news', 2),\n",
       " ('FORUM_rooshv', 2),\n",
       " ('4chan4trump', 2),\n",
       " ('mgtow', 2),\n",
       " ('purplepilldebate', 2),\n",
       " ('askmen', 2),\n",
       " ('videos', 2),\n",
       " ('worldnews', 2)]"
      ]
     },
     "execution_count": 54,
     "metadata": {},
     "output_type": "execute_result"
    }
   ],
   "source": [
    "common_sources.most_common(30)"
   ]
  },
  {
   "cell_type": "code",
   "execution_count": 15,
   "id": "71f4e2e5",
   "metadata": {},
   "outputs": [
    {
     "name": "stdout",
     "output_type": "stream",
     "text": [
      "500\n",
      "antipozi\n",
      "kotakuinaction\n",
      "puahate\n",
      "waluigi\n",
      "wikipedia\n",
      "oney\n",
      "4chan4trump\n",
      "badhistory\n",
      "netsec\n",
      "gatekeeping\n",
      "anarchism\n",
      "purplepilldebate\n",
      "justneckbeardthings\n",
      "drama\n",
      "bacon\n",
      "equality\n",
      "egalitarian\n",
      "cooking\n",
      "computebazaar\n",
      "buildapcsales\n",
      "shitredditsays\n",
      "transgender\n",
      "subredditdrama\n",
      "diablo\n",
      "tumblrinaction\n",
      "cuckold\n",
      "dirtykik\n",
      "feminisms\n",
      "soccerspirits\n",
      "nofapjuly\n",
      "pfjerk\n",
      "4chan\n",
      "celebrities\n",
      "meetup\n",
      "gay\n",
      "sidehugs\n",
      "gaybros\n",
      "fitnesscirclejerk\n",
      "pets\n",
      "cortexcommand\n",
      "theoryofreddit\n"
     ]
    }
   ],
   "source": [
    "top_n_subreddits = set()\n",
    "with open(DATA + 'all_reddit_post_counts/top_subreddits.txt', 'r') as infile: \n",
    "    line_count = 0\n",
    "    for line in infile: \n",
    "        top_n_subreddits.add(line.strip().split(' ')[0])\n",
    "        line_count += 1\n",
    "        if line_count == 500: break\n",
    "print(len(top_n_subreddits))\n",
    "for source in common_sources: \n",
    "    if source.startswith('FORUM_'): continue\n",
    "    if source not in top_n_subreddits and source not in mano_communities: \n",
    "        print(source)"
   ]
  },
  {
   "cell_type": "code",
   "execution_count": 14,
   "id": "f764006a",
   "metadata": {},
   "outputs": [
    {
     "name": "stdout",
     "output_type": "stream",
     "text": [
      "{'normie scum', 'hambeast', 'transwomen', 'blackcel', 'faer', 'oldcel', 'foid', 'escortcels', 'brigaders', 'influencer', 'gymcel', 'chadpreet', 'fuckboy', 'poorcel', 'volcel', 'redpiller', 'looksmatches', 'larpers', 'chadcel', 'norwood reaper', 'roasties', 'cuckqueers', 'sexbot', 'chaddam', 'feminsts', 'suffragists', 'red piller', 'chadlet', 'locationcel', 'ricecels', 'itcels', 'femails', 'oldcels', 'mentalcel', 'cuckservatives', 'tradcuck', 'sub8s', 'beta bux', 'ethnicel', 'camwhore', 'heightcel', 'fakecels', 'intactivist', 'manlet', 'chadlite', 'wymyn', 'friendo', 'rapefugees', 'stepdaughter', 'manlets', 'richcel', 'turbomanlet', 'bluepiller', 'mentalcels', 'aspies', 'landwhale', 'manginas', 'edgelord', 'trper', 'looksmatch', 'srsers', 'sluthaters', 'cuckcel', 'femcel', 'youngcels', 'wahmyn', 'gigachads', 'youngcel', 'khhv', 'numales', 'landwhales', 'shitlord', 'manchildren', 'wristcel', 'noodlewhore', 'wahmen', 'weebs', 'terfs', 'sex bot', 'intactivists', 'sedditors', 'women irl', 'currycel', 'truecels', 'batterer', 'sluthater', 'millennials', 'fakecel', 'rationalization hamster', 'femoid', 'blackcels', 'womenz', 'catfishman'}\n",
      "\n",
      "{'female supremacist', 'camgirls', 'fhos', 'tallfag', 'shitskins', 'mgtowers', 'truecel', 'tyrones', 'husbank', 'moids', 'antifeminists', 'fho', 'randos', 'aspie', 'foids', 'cucktears', 'incel', 'betacuck', 'redpillers', 'fembot', 'stbx', 'bpers', 'mgtows', 'people irl', 'femnazis', 'womynz', 'camgirl', 'stacies', 'srser', 'womyns', 'tradthot', 'larper', 'normies', 'rvfers', 'beckys', 'mhra', 'ricecel', 'cucktear', 'jailbaits', 'mras', 'bathmate', 'fuckboys', 'femoids', 'cum dumpster', 'equalist', 'currycels', 'masculist', 'ethniks', 'soyboys', 'female protagonists', 'tradthots', 'transpeople', 'wagecucks', 'filipinas', 'homebody', 'ethnicels', 'chadlites', 'male smv', 'laydeez', 'rich bimbo', 'assaulter', 'blue pillers', 'roastie', 'besties', 'betabuxx', 'dark triads', 'shitlords', 'weeaboo', 'shitposter', 'meninist', 'cucks', 'faers', 'noodlewhores', 'gymcels', 'jockcel', 'femitheist', 'female supremacists', 'blue piller', 'masculinist', 'hikikomori', 'autists', 'incels', 'normtards', 'punjabis', 'stacie', 'prepper', 'femcels', 'infiltrator', 'cuck', 'dicklet', 'rape apologists', 'neurotypicals', 'mtgow', 'bronies', 'brony', 'honey badgers', 'cosplayers', 'baby daddies', 'old hags', 'tinderella', 'hambeasts', 'soyboy', 'dudebro', 'sex bots', 'whamen', 'fucktoy', 'trpers', 'menz', 'good goy', 'mgtower', 'dravidian', 'cuckold', 'wageslave', 'cum dumpsters', 'normshits', 'annarchist', 'spergs', 'tradcons', 'red pillers', 'senpai', 'rad fems', 'tumblrinas', 'transwoman', 'tradcucks', 'suicel', 'femtards', 'bluepillers', 'nawalts', 'mhras', 'antifa', 'nofappers', 'xw', 'sloots', 'wimmenz', 'chad thundercock', 'fat neckbeard', 'cumdumpster', 'sedditor', 'fuckboi', 'mgtow', 'globalists', 'gaycel', 'batterers', 'khv', 'mra', 'terf', 'sloot', 'shitposters', 'sahm', 'weemins', 'mghow', 'femnazi', 'involuntary celibates', 'dickcel', 'wamen', 'radfems', 'cuckolds', 'sexbots', 'volcels', 'pajeet', 'gigachad'}\n"
     ]
    }
   ],
   "source": [
    "print(mano_source_words)\n",
    "print()\n",
    "print(outside_source_words)"
   ]
  },
  {
   "cell_type": "code",
   "execution_count": 55,
   "id": "dfd6dbfe",
   "metadata": {},
   "outputs": [
    {
     "name": "stdout",
     "output_type": "stream",
     "text": [
      "{'camgirls', 'fhos', 'tyrones', 'shitskins', 'mgtowers', 'moids', 'antifeminists', 'randos', 'foids', 'cucktears', 'escortcels', 'brigaders', 'redpillers', 'bpers', 'mgtows', 'femnazis', 'looksmatches', 'stacies', 'larpers', 'womyns', 'normies', 'beckys', 'rvfers', 'jailbaits', 'roasties', 'mras', 'fuckboys', 'currycels', 'femoids', 'cuckqueers', 'feminsts', 'suffragists', 'ethniks', 'soyboys', 'female protagonists', 'tradthots', 'wagecucks', 'filipinas', 'ethnicels', 'ricecels', 'chadlites', 'itcels', 'blue pillers', 'besties', 'femails', 'oldcels', 'dark triads', 'shitlords', 'sub8s', 'cuckservatives', 'faers', 'cucks', 'noodlewhores', 'gymcels', 'female supremacists', 'fakecels', 'autists', 'incels', 'rapefugees', 'normtards', 'manlets', 'mentalcels', 'punjabis', 'aspies', 'femcels', 'rape apologists', 'manginas', 'neurotypicals', 'bronies', 'honey badgers', 'cosplayers', 'baby daddies', 'old hags', 'srsers', 'sluthaters', 'hambeasts', 'sex bots', 'youngcels', 'gigachads', 'trpers', 'numales', 'cum dumpsters', 'normshits', 'landwhales', 'spergs', 'tradcons', 'red pillers', 'rad fems', 'tumblrinas', 'tradcucks', 'femtards', 'bluepillers', 'nawalts', 'mhras', 'intactivists', 'weebs', 'terfs', 'sedditors', 'nofappers', 'sloots', 'truecels', 'millennials', 'globalists', 'batterers', 'shitposters', 'weemins', 'involuntary celibates', 'radfems', 'cuckolds', 'sexbots', 'blackcels', 'volcels'}\n",
      "\n",
      "{'female supremacist', 'hambeast', 'tallfag', 'transwomen', 'normie scum', 'truecel', 'blackcel', 'husbank', 'fho', 'faer', 'oldcel', 'aspie', 'foid', 'incel', 'betacuck', 'fembot', 'stbx', 'influencer', 'gymcel', 'chadpreet', 'fuckboy', 'people irl', 'womynz', 'poorcel', 'camgirl', 'volcel', 'redpiller', 'srser', 'chadcel', 'tradthot', 'larper', 'ricecel', 'mhra', 'cucktear', 'norwood reaper', 'sexbot', 'bathmate', 'cum dumpster', 'chaddam', 'equalist', 'masculist', 'red piller', 'chadlet', 'transpeople', 'homebody', 'locationcel', 'male smv', 'laydeez', 'rich bimbo', 'assaulter', 'roastie', 'betabuxx', 'mentalcel', 'tradcuck', 'weeaboo', 'shitposter', 'meninist', 'beta bux', 'ethnicel', 'jockcel', 'femitheist', 'camwhore', 'heightcel', 'intactivist', 'blue piller', 'masculinist', 'manlet', 'hikikomori', 'chadlite', 'wymyn', 'friendo', 'stepdaughter', 'richcel', 'turbomanlet', 'bluepiller', 'stacie', 'prepper', 'infiltrator', 'landwhale', 'cuck', 'dicklet', 'edgelord', 'trper', 'mtgow', 'brony', 'looksmatch', 'cuckcel', 'femcel', 'tinderella', 'soyboy', 'dudebro', 'wahmyn', 'whamen', 'fucktoy', 'menz', 'good goy', 'mgtower', 'khhv', 'youngcel', 'dravidian', 'cuckold', 'wageslave', 'shitlord', 'annarchist', 'manchildren', 'senpai', 'transwoman', 'suicel', 'wristcel', 'noodlewhore', 'antifa', 'wahmen', 'sex bot', 'xw', 'women irl', 'currycel', 'wimmenz', 'chad thundercock', 'sluthater', 'batterer', 'fat neckbeard', 'cumdumpster', 'sedditor', 'fakecel', 'fuckboi', 'mgtow', 'rationalization hamster', 'gaycel', 'khv', 'mra', 'terf', 'sloot', 'sahm', 'femoid', 'mghow', 'femnazi', 'dickcel', 'wamen', 'womenz', 'pajeet', 'catfishman', 'gigachad'}\n"
     ]
    }
   ],
   "source": [
    "plural = set()\n",
    "singular = set()\n",
    "for w in innov_vocab: \n",
    "    if w.endswith('s'): \n",
    "        plural.add(w)\n",
    "    else: \n",
    "        singular.add(w)\n",
    "print(plural)\n",
    "print()\n",
    "print(singular)"
   ]
  },
  {
   "cell_type": "markdown",
   "id": "86914849",
   "metadata": {},
   "source": [
    "### Sustained periods in mainstream\n",
    "\n",
    "Run `mainstream_sustained_periods()` in `gram_counting.py`."
   ]
  },
  {
   "cell_type": "code",
   "execution_count": 83,
   "id": "708b0d5f",
   "metadata": {},
   "outputs": [],
   "source": [
    "with open(LOGS + 'sustained_mainstream.json', 'r') as infile: \n",
    "    mainstream_sp = json.load(infile)"
   ]
  },
  {
   "cell_type": "code",
   "execution_count": 84,
   "id": "2ceb9c69",
   "metadata": {},
   "outputs": [
    {
     "name": "stdout",
     "output_type": "stream",
     "text": [
      "107\n"
     ]
    }
   ],
   "source": [
    "print(len(mainstream_sp))"
   ]
  },
  {
   "cell_type": "markdown",
   "id": "598bf1a0",
   "metadata": {},
   "source": [
    "Run `manosphere_sustained_periods()` in `gram_counting.py`."
   ]
  },
  {
   "cell_type": "code",
   "execution_count": 85,
   "id": "1fa58ace",
   "metadata": {},
   "outputs": [],
   "source": [
    "with open(LOGS + 'sustained_manosphere.json', 'r') as infile: \n",
    "    mano_sp = json.load(infile)"
   ]
  },
  {
   "cell_type": "code",
   "execution_count": 100,
   "id": "bb8a1d21",
   "metadata": {},
   "outputs": [
    {
     "name": "stdout",
     "output_type": "stream",
     "text": [
      "millennials 92 ['Bitcoin', 'PoliticalHumor', 'baseball', 'relationships', 'politics', 'dankmemes', 'im14andthisisdeep', 'technology', 'atheism', 'AskMen', 'pics', 'ukpolitics', 'AdviceAnimals', 'Entrepreneur', 'gaming', 'CFB', 'RoastMe', 'facepalm', 'Music', 'PewdiepieSubmissions', 'Philippines', 'canada', 'aww', 'personalfinance', 'exmormon', 'europe', 'nba', 'OldSchoolCool', 'mildlyinteresting', 'gifs', 'australia', 'OutOfTheLoop', 'tifu', 'funny', 'FortNiteBR', 'HistoryMemes', 'news', 'Christianity', 'videos', 'worldpolitics', 'AskWomen', 'The_Donald', 'nottheonion', 'books', 'modernwarfare', 'CryptoCurrency', 'science', 'DestinyTheGame', 'Libertarian', 'cars', 'Conservative', 'trashy', 'AskReddit', 'me_irl', 'ComedyCemetery', 'Showerthoughts', 'POLITIC', 'BlackPeopleTwitter', 'LifeProTips', 'Economics', 'movies', 'worldnews', 'SandersForPresident', 'mildlyinfuriating', 'cringepics', 'unitedkingdom', 'wallstreetbets', 'india', 'wholesomememes', 'television', 'rupaulsdragrace', 'nfl', 'AmItheAsshole', 'teenagers', 'NoStupidQuestions', 'relationship_advice', 'copypasta', 'offmychest', 'interestingasfuck', '2meirl4meirl', 'IAmA', 'conspiracy', 'SquaredCircle', 'CringeAnarchy', 'bestof', 'ChapoTrapHouse', 'memes', 'CasualConversation', 'todayilearned', 'explainlikeimfive', 'unpopularopinion', 'PrequelMemes']\n",
      "MAINSTREAM: 2013-05\n",
      "millennials 2 ['braincels', 'mgtow']\n",
      "MANOSPHERE: 2017-01\n",
      "\n",
      "cuck 99 ['Bitcoin', 'PoliticalHumor', 'teenagersnew', 'playrust', 'EscapefromTarkov', 'relationships', 'okbuddyretard', 'politics', 'dankmemes', 'Jokes', 'GaySnapchat', 'Animemes', 'AskMen', 'jobuds', 'Eve', 'pics', 'OkCupid', 'ireland', 'gaming', 'apexlegends', 'france', 'RoastMe', 'facepalm', 'hiphopheads', 'PewdiepieSubmissions', 'guns', 'canada', 'europe', 'nba', 'OutOfTheLoop', 'funny', 'iamverysmart', 'FortNiteBR', 'HistoryMemes', 'freefolk', 'news', 'sweden', 'videos', 'leagueoflegends', 'hockey', 'Roleplaykik', 'exxxchange', 'worldpolitics', 'dirtyr4r', 'ImGoingToHellForThis', 'sex', 'Sexsells', 'The_Donald', 'modernwarfare', 'CryptoCurrency', 'Jobudsmeetup', 'ShitPostCrusaders', 'Libertarian', 'dirtykikpals', 'Conservative', 'forhonor', 'trashy', 'AskReddit', 'ComedyCemetery', 'Showerthoughts', 'POLITIC', 'BlackPeopleTwitter', 'removalbot', 'GlobalOffensive', 'gonewild', 'Documentaries', 'movies', 'anime', 'FortniteCompetitive', 'wallstreetbets', 'AgeplayPenPals', 'reddeadredemption', 'DotA2', 'television', 'nfl', 'AmItheAsshole', 'MMA', 'teenagers', 'confession', 'NoStupidQuestions', 'relationship_advice', 'copypasta', 'dirtypenpals', 'PUBATTLEGROUNDS', 'IAmA', 'de', 'conspiracy', 'Overwatch', 'SquaredCircle', 'pcmasterrace', 'Ice_Poseidon', 'circlejerk', 'CringeAnarchy', 'ChapoTrapHouse', 'memes', 'todayilearned', 'NoFap', 'unpopularopinion', 'LivestreamFail']\n",
      "MAINSTREAM: 2015-01\n",
      "cuck 13 ['askanincel', 'FORUM_red_pill_talk', 'FORUM_incels', 'braincels', 'asktrp', 'incelswithouthate', 'FORUM_rooshv', 'theredpill', 'FORUM_mgtow', 'pussypass', 'mgtow', 'mensrights', 'incels']\n",
      "MANOSPHERE: 2014-06\n",
      "****MANOSPHERE LEAD\n",
      "\n",
      "normies 56 ['Bitcoin', 'gameofthrones', 'Memes_Of_The_Dank', 'okbuddyretard', 'politics', 'dankmemes', 'im14andthisisdeep', 'DeepFriedMemes', 'Animemes', 'pics', 'gaming', 'apexlegends', 'facepalm', 'PewdiepieSubmissions', 'meme', 'Minecraft', 'cursedimages', 'funny', 'iamverysmart', 'FortNiteBR', 'HistoryMemes', 'freefolk', 'DDLC', 'news', 'videos', 'leagueoflegends', 'The_Donald', 'CryptoCurrency', 'ShitPostCrusaders', 'AskReddit', 'me_irl', 'ComedyCemetery', 'Showerthoughts', 'BlackPeopleTwitter', 'movies', 'worldnews', 'anime', '2007scape', 'wallstreetbets', 'MemeEconomy', 'wholesomememes', 'teenagers', 'copypasta', '2meirl4meirl', 'de', 'conspiracy', 'cursedcomments', 'Overwatch', 'comedyheaven', 'Ice_Poseidon', 'CringeAnarchy', 'ChapoTrapHouse', 'memes', 'unpopularopinion', 'PrequelMemes', 'LivestreamFail']\n",
      "MAINSTREAM: 2014-12\n",
      "normies 12 ['foreverunwanted', 'askanincel', 'FORUM_red_pill_talk', 'FORUM_incels', 'braincels', 'incelselfies', 'incelswithouthate', 'foreveralone', 'trufemcels', 'theredpill', 'mgtow', 'incels']\n",
      "MANOSPHERE: 2014-12\n",
      "\n",
      "antifa 62 ['Bitcoin', 'PoliticalHumor', 'politics', 'dankmemes', 'Jokes', 'technology', 'atheism', 'pics', 'ukpolitics', 'AdviceAnimals', 'ireland', 'gaming', 'france', 'RoastMe', 'facepalm', 'canada', 'europe', 'OldSchoolCool', 'gifs', 'australia', 'OutOfTheLoop', 'funny', 'HistoryMemes', 'news', 'Christianity', 'sweden', 'videos', 'worldpolitics', 'cringe', 'ImGoingToHellForThis', 'The_Donald', 'nottheonion', 'brasil', 'Libertarian', 'Conservative', 'trashy', 'AskReddit', 'Showerthoughts', 'POLITIC', 'BlackPeopleTwitter', 'removalbot', 'Documentaries', 'movies', 'worldnews', 'unitedkingdom', 'television', 'youtubehaiku', 'teenagers', 'NoStupidQuestions', 'copypasta', 'soccer', 'IAmA', 'de', 'conspiracy', 'Ice_Poseidon', 'CringeAnarchy', 'bestof', 'ChapoTrapHouse', 'memes', 'todayilearned', 'unpopularopinion', 'LivestreamFail']\n",
      "MAINSTREAM: 2015-01\n",
      "antifa 7 ['FORUM_incels', 'braincels', 'FORUM_rooshv', 'theredpill', 'FORUM_mgtow', 'mgtow', 'mensrights']\n",
      "MANOSPHERE: 2017-04\n",
      "\n",
      "senpai 55 ['stevenuniverse', 'hentai', 'darksouls3', 'politics', 'dankmemes', 'Animemes', 'manga', 'Eve', 'pics', 'OnePiece', 'GlobalOffensiveTrade', 'Smite', 'summonerswar', 'gaming', 'RoastMe', 'pokemon', 'PewdiepieSubmissions', 'Philippines', 'jailbreak', 'nba', 'MonsterHunter', 'gifs', 'DBZDokkanBattle', 'funny', 'FortNiteBR', 'MassiveCock', 'DDLC', 'summonerschool', 'videos', 'fivenightsatfreddys', 'leagueoflegends', 'starcraft', 'The_Donald', 'WTF', 'ffxiv', 'ShitPostCrusaders', 'DestinyTheGame', 'forhonor', 'AskReddit', 'GlobalOffensive', 'anime', 'Warframe', 'DotA2', 'nfl', 'teenagers', 'wow', 'copypasta', 'smashbros', 'cursedcomments', 'Overwatch', 'blursedimages', 'SquaredCircle', 'pcmasterrace', 'ChapoTrapHouse', 'memes']\n",
      "MAINSTREAM: 2013-06\n",
      "senpai 1 ['FORUM_incels']\n",
      "MANOSPHERE: 2018-09\n",
      "\n",
      "soyboy 17 ['PoliticalHumor', 'pics', 'gaming', 'RoastMe', 'PewdiepieSubmissions', 'funny', 'The_Donald', 'AskReddit', 'worldnews', 'teenagers', 'copypasta', 'Ice_Poseidon', 'CringeAnarchy', 'ChapoTrapHouse', 'unpopularopinion', 'vegan', 'LivestreamFail']\n",
      "MAINSTREAM: 2017-10\n",
      "soyboy 3 ['FORUM_incels', 'braincels', 'mgtow']\n",
      "MANOSPHERE: 2017-12\n",
      "\n",
      "incels 89 ['PoliticalHumor', 'Tinder', 'teenagersnew', 'relationships', 'politics', 'dankmemes', 'technology', 'atheism', 'askgaybros', 'pics', 'ukpolitics', 'amiugly', 'TwoXChromosomes', 'AdviceAnimals', 'marvelstudios', 'OkCupid', 'gaming', 'france', 'RoastMe', 'facepalm', 'hiphopheads', 'PewdiepieSubmissions', 'dating_advice', 'TrollXChromosomes', 'canada', 'europe', 'nba', 'gifs', 'australia', 'OutOfTheLoop', 'tifu', 'funny', 'iamverysmart', 'freefolk', 'news', 'sweden', 'videos', 'leagueoflegends', 'worldpolitics', 'cringe', 'ImGoingToHellForThis', 'sex', 'AskWomen', 'The_Donald', 'nottheonion', 'WTF', 'brasil', 'science', 'Libertarian', 'trashy', 'AskReddit', 'me_irl', 'ComedyCemetery', 'BlackPeopleTwitter', 'Documentaries', 'movies', 'worldnews', 'cringepics', 'unitedkingdom', '2007scape', 'wallstreetbets', 'india', 'wholesomememes', 'television', 'nfl', 'AmItheAsshole', 'teenagers', 'confession', 'NoStupidQuestions', 'Advice', 'relationship_advice', 'copypasta', 'soccer', '2meirl4meirl', 'IAmA', 'de', 'conspiracy', 'cursedcomments', 'SquaredCircle', 'Ice_Poseidon', 'CringeAnarchy', 'bestof', 'ChapoTrapHouse', 'memes', 'todayilearned', 'thatHappened', 'NoFap', 'unpopularopinion', 'LivestreamFail']\n",
      "MAINSTREAM: 2016-07\n",
      "incels 22 ['maleforeveralone', 'foreverunwanted', 'askanincel', 'FORUM_red_pill_talk', 'FORUM_incels', 'braincels', 'asktrp', 'asktrufemcels', 'incelselfies', 'femaledatingstrategy', 'incelswithouthate', 'foreveralone', 'truecels', 'FORUM_rooshv', 'trufemcels', 'pinkpillfeminism', 'theredpill', 'FORUM_mgtow', 'mgtow', 'mensrights', 'incels', 'seduction']\n",
      "MANOSPHERE: 2014-05\n",
      "****MANOSPHERE LEAD\n",
      "\n",
      "cucks 37 ['PoliticalHumor', 'politics', 'dankmemes', 'pics', 'AdviceAnimals', 'apexlegends', 'canada', 'funny', 'FortNiteBR', 'freefolk', 'news', 'videos', 'worldpolitics', 'ImGoingToHellForThis', 'Sexsells', 'The_Donald', 'modernwarfare', 'Libertarian', 'dirtykikpals', 'AskReddit', 'wallstreetbets', 'AgeplayPenPals', 'DotA2', 'television', 'teenagers', 'relationship_advice', 'copypasta', 'dirtypenpals', 'conspiracy', 'SquaredCircle', 'Ice_Poseidon', 'CringeAnarchy', 'ChapoTrapHouse', 'memes', 'todayilearned', 'unpopularopinion', 'LivestreamFail']\n",
      "MAINSTREAM: 2015-07\n",
      "cucks 11 ['FORUM_red_pill_talk', 'FORUM_incels', 'braincels', 'asktrp', 'incelswithouthate', 'FORUM_rooshv', 'theredpill', 'FORUM_mgtow', 'mgtow', 'mensrights', 'incels']\n",
      "MANOSPHERE: 2015-01\n",
      "****MANOSPHERE LEAD\n",
      "\n",
      "globalists 17 ['PoliticalHumor', 'politics', 'pics', 'ukpolitics', 'canada', 'europe', 'news', 'worldpolitics', 'The_Donald', 'Libertarian', 'Conservative', 'AskReddit', 'worldnews', 'conspiracy', 'CringeAnarchy', 'ChapoTrapHouse', 'unpopularopinion']\n",
      "MAINSTREAM: 2015-05\n",
      "globalists 3 ['FORUM_rooshv', 'theredpill', 'FORUM_mgtow']\n",
      "MANOSPHERE: 2016-01\n",
      "\n",
      "incel 115 ['PoliticalHumor', 'Tinder', 'teenagersnew', 'politics', 'dankmemes', 'im14andthisisdeep', 'Jokes', 'technology', 'Animemes', 'atheism', 'AskMen', 'askgaybros', 'pics', 'ukpolitics', 'amiugly', 'TwoXChromosomes', 'AdviceAnimals', 'marvelstudios', 'OkCupid', 'ireland', 'gaming', 'apexlegends', 'depression', 'france', 'RoastMe', 'facepalm', 'hiphopheads', 'PewdiepieSubmissions', 'dating_advice', 'Philippines', 'TrollXChromosomes', 'canada', 'aww', 'europe', 'nba', 'OldSchoolCool', 'mildlyinteresting', 'gifs', 'australia', 'OutOfTheLoop', 'madlads', 'tifu', 'funny', 'iamverysmart', 'FortNiteBR', 'HistoryMemes', 'freefolk', 'news', 'self', 'Unexpected', 'videos', 'pcgaming', 'leagueoflegends', 'worldpolitics', 'StarWars', 'cringe', 'ImGoingToHellForThis', 'sex', 'AskWomen', 'The_Donald', 'nottheonion', 'WTF', 'modernwarfare', 'brasil', 'ShitPostCrusaders', 'Libertarian', 'trashy', 'AskReddit', 'me_irl', 'ComedyCemetery', 'Showerthoughts', 'POLITIC', 'BlackPeopleTwitter', 'removalbot', 'Documentaries', 'movies', 'worldnews', 'anime', 'BattlefieldV', 'cringepics', 'unitedkingdom', '2007scape', 'wallstreetbets', 'reddeadredemption', 'india', 'wholesomememes', 'DotA2', 'television', 'nfl', 'AmItheAsshole', 'teenagers', 'confession', 'NoStupidQuestions', 'Advice', 'relationship_advice', 'copypasta', 'interestingasfuck', 'dirtypenpals', 'soccer', '2meirl4meirl', 'de', 'conspiracy', 'SquaredCircle', 'Ice_Poseidon', 'circlejerk', 'CringeAnarchy', 'bestof', 'ChapoTrapHouse', 'memes', 'todayilearned', 'thatHappened', 'NoFap', 'unpopularopinion', 'PrequelMemes', 'LivestreamFail']\n",
      "MAINSTREAM: 2016-07\n",
      "incel 21 ['foreverunwanted', 'askanincel', 'inceldense', 'FORUM_red_pill_talk', 'FORUM_incels', 'braincels', 'asktrp', 'asktrufemcels', 'incelselfies', 'femaledatingstrategy', 'incelswithouthate', 'foreveralone', 'truecels', 'FORUM_rooshv', 'trufemcels', 'theredpill', 'FORUM_mgtow', 'mgtow', 'mensrights', 'incels', 'seduction']\n",
      "MANOSPHERE: 2014-01\n",
      "****MANOSPHERE LEAD\n",
      "\n",
      "mgtow 27 ['Tinder', 'politics', 'dankmemes', 'pics', 'TwoXChromosomes', 'dating_advice', 'TrollXChromosomes', 'tifu', 'funny', 'Christianity', 'videos', 'The_Donald', 'Libertarian', 'trashy', 'AskReddit', 'worldnews', 'AmItheAsshole', 'teenagers', 'relationship_advice', 'conspiracy', 'CringeAnarchy', 'ChapoTrapHouse', 'memes', 'todayilearned', 'thatHappened', 'NoFap', 'unpopularopinion']\n",
      "MAINSTREAM: 2016-06\n",
      "mgtow 17 ['askanincel', 'FORUM_red_pill_talk', 'FORUM_incels', 'FORUM_avfm', 'braincels', 'asktrp', 'redpillwomen', 'asktrufemcels', 'femaledatingstrategy', 'incelswithouthate', 'foreveralone', 'FORUM_rooshv', 'theredpill', 'FORUM_mgtow', 'mgtow', 'mensrights', 'incels']\n",
      "MANOSPHERE: 2012-01\n",
      "****MANOSPHERE LEAD\n",
      "\n",
      "fuckboy 23 ['Tinder', 'relationships', 'dankmemes', 'AskMen', 'OkCupid', 'RoastMe', 'hiphopheads', 'dating_advice', 'TrollXChromosomes', 'nba', 'fivenightsatfreddys', 'leagueoflegends', 'streetwear', 'AskReddit', 'BlackPeopleTwitter', 'nfl', 'AmItheAsshole', 'teenagers', 'relationship_advice', 'PUBATTLEGROUNDS', 'Ice_Poseidon', 'memes', 'unpopularopinion']\n",
      "MAINSTREAM: 2013-06\n",
      "fuckboy 2 ['braincels', 'femaledatingstrategy']\n",
      "MANOSPHERE: 2018-07\n",
      "\n",
      "manlet 15 ['Tinder', 'teenagersnew', 'OkCupid', 'nba', 'The_Donald', 'AskReddit', 'nfl', 'MMA', 'teenagers', 'Fitness', 'Ice_Poseidon', 'CringeAnarchy', 'ChapoTrapHouse', 'unpopularopinion', 'LivestreamFail']\n",
      "MAINSTREAM: 2014-04\n",
      "manlet 7 ['askanincel', 'FORUM_red_pill_talk', 'FORUM_incels', 'braincels', 'incelselfies', 'incelswithouthate', 'incels']\n",
      "MANOSPHERE: 2014-06\n",
      "\n",
      "femoid 1 ['teenagersnew']\n",
      "MAINSTREAM: 2018-08\n",
      "femoid 3 ['FORUM_incels', 'braincels', 'incels']\n",
      "MANOSPHERE: 2017-04\n",
      "****MANOSPHERE LEAD\n",
      "\n",
      "femoids 1 ['teenagersnew']\n",
      "MAINSTREAM: 2018-10\n",
      "femoids 3 ['FORUM_incels', 'braincels', 'incels']\n",
      "MANOSPHERE: 2017-04\n",
      "****MANOSPHERE LEAD\n",
      "\n",
      "weebs 39 ['teenagersnew', 'dankmemes', 'osugame', 'Animemes', 'manga', 'Eve', 'pics', 'gaming', 'RoastMe', 'PewdiepieSubmissions', 'funny', 'FortNiteBR', 'HistoryMemes', 'DDLC', 'leagueoflegends', 'ffxiv', 'ShitPostCrusaders', 'forhonor', 'AskReddit', 'tf2', 'anime', '2007scape', 'Warframe', 'DotA2', 'teenagers', 'copypasta', 'smashbros', 'cursedcomments', 'Overwatch', 'blursedimages', 'SquaredCircle', 'Ice_Poseidon', 'Rainbow6', 'CringeAnarchy', 'ChapoTrapHouse', 'memes', 'Warthunder', 'unpopularopinion', 'LivestreamFail']\n",
      "MAINSTREAM: 2015-03\n",
      "weebs 2 ['FORUM_incels', 'braincels']\n",
      "MANOSPHERE: 2018-01\n",
      "\n",
      "people irl 6 ['teenagersnew', 'OkCupid', 'AskReddit', 'AmItheAsshole', 'teenagers', 'unpopularopinion']\n",
      "MAINSTREAM: 2012-03\n",
      "people irl 1 ['braincels']\n",
      "MANOSPHERE: 2018-04\n",
      "\n",
      "femcel 2 ['teenagersnew', 'unpopularopinion']\n",
      "MAINSTREAM: 2018-12\n",
      "femcel 6 ['askanincel', 'FORUM_incels', 'braincels', 'asktrufemcels', 'incelswithouthate', 'trufemcels']\n",
      "MANOSPHERE: 2018-04\n",
      "****MANOSPHERE LEAD\n",
      "\n",
      "mra 29 ['relationships', 'politics', 'AskMen', 'pics', 'ukpolitics', 'TwoXChromosomes', 'AdviceAnimals', 'gaming', 'TrollXChromosomes', 'canada', 'australia', 'funny', 'news', 'videos', 'AskWomen', 'nottheonion', 'WTF', 'trashy', 'AskReddit', 'movies', 'worldnews', 'unitedkingdom', 'television', 'AmItheAsshole', 'relationship_advice', 'bestof', 'ChapoTrapHouse', 'todayilearned', 'unpopularopinion']\n",
      "MAINSTREAM: 2011-01\n",
      "mra 6 ['egalitarianism', 'FORUM_avfm', 'theredpill', 'FORUM_mgtow', 'mgtow', 'mensrights']\n",
      "MANOSPHERE: 2009-11\n",
      "****MANOSPHERE LEAD\n",
      "\n",
      "redpiller 2 ['relationships', 'AskReddit']\n",
      "MAINSTREAM: 2014-05\n",
      "redpiller 1 ['theredpill']\n",
      "MANOSPHERE: 2014-05\n",
      "\n",
      "aspie 5 ['relationships', 'AskReddit', 'AmItheAsshole', 'teenagers', 'IAmA']\n",
      "MAINSTREAM: 2011-05\n",
      "aspie 4 ['FORUM_red_pill_talk', 'FORUM_incels', 'braincels', 'incels']\n",
      "MANOSPHERE: 2014-05\n",
      "\n",
      "cuckold 27 ['relationships', 'politics', 'AskMen', 'pics', 'AdviceAnimals', 'RoastMe', 'tipofmypenis', 'FurryKikPals', 'funny', 'Roleplaykik', 'exxxchange', 'dirtyr4r', 'sex', 'Sexsells', 'The_Donald', 'dirtykikpals', 'AskReddit', 'AgeplayPenPals', 'AmItheAsshole', 'relationship_advice', 'dirtypenpals', 'SquaredCircle', 'Ice_Poseidon', 'CringeAnarchy', 'NoFap', 'unpopularopinion', 'LivestreamFail']\n",
      "MAINSTREAM: 2012-04\n",
      "cuckold 6 ['FORUM_red_pill_talk', 'FORUM_incels', 'braincels', 'theredpill', 'mgtow', 'incels']\n",
      "MANOSPHERE: 2013-11\n",
      "\n",
      "sahm 11 ['relationships', 'AskMen', 'TwoXChromosomes', 'personalfinance', 'exmormon', 'BabyBumps', 'AskWomen', 'AskReddit', 'AmItheAsshole', 'relationship_advice', 'unpopularopinion']\n",
      "MAINSTREAM: 2013-06\n",
      "sahm 1 ['redpillwomen']\n",
      "MANOSPHERE: 2017-02\n",
      "\n",
      "rapefugees 2 ['politics', 'The_Donald']\n",
      "MAINSTREAM: 2016-02\n",
      "rapefugees 1 ['FORUM_incels']\n",
      "MANOSPHERE: 2018-09\n",
      "\n",
      "mras 15 ['politics', 'AskMen', 'ukpolitics', 'TwoXChromosomes', 'AdviceAnimals', 'TrollXChromosomes', 'canada', 'funny', 'news', 'videos', 'AskWomen', 'AskReddit', 'bestof', 'todayilearned', 'unpopularopinion']\n",
      "MAINSTREAM: 2011-02\n",
      "mras 6 ['egalitarianism', 'FORUM_avfm', 'theredpill', 'FORUM_mgtow', 'mgtow', 'mensrights']\n",
      "MANOSPHERE: 2009-09\n",
      "****MANOSPHERE LEAD\n",
      "\n",
      "shitlord 26 ['politics', 'AskMen', 'Eve', 'pics', 'AdviceAnimals', 'gaming', 'gifs', 'OutOfTheLoop', 'funny', 'news', 'videos', 'leagueoflegends', 'ImGoingToHellForThis', 'The_Donald', 'WTF', 'AskReddit', 'movies', 'worldnews', 'cringepics', 'DotA2', 'Overwatch', 'pcmasterrace', 'circlejerk', 'CringeAnarchy', 'todayilearned', 'thatHappened']\n",
      "MAINSTREAM: 2012-04\n",
      "shitlord 3 ['theredpill', 'mgtow', 'mensrights']\n",
      "MANOSPHERE: 2013-05\n",
      "\n",
      "autists 14 ['politics', 'dankmemes', 'Eve', 'videos', 'The_Donald', 'AskReddit', '2007scape', 'wallstreetbets', 'DotA2', 'conspiracy', 'Ice_Poseidon', 'CringeAnarchy', 'unpopularopinion', 'LivestreamFail']\n",
      "MAINSTREAM: 2015-03\n",
      "autists 4 ['FORUM_red_pill_talk', 'FORUM_incels', 'braincels', 'incels']\n",
      "MANOSPHERE: 2014-07\n",
      "****MANOSPHERE LEAD\n",
      "\n",
      "foid 3 ['politics', 'guns', 'news']\n",
      "MAINSTREAM: 2012-06\n",
      "foid 3 ['askanincel', 'FORUM_incels', 'braincels']\n",
      "MANOSPHERE: 2017-12\n",
      "\n",
      "brigaders 4 ['politics', 'The_Donald', 'Libertarian', 'Conservative']\n",
      "MAINSTREAM: 2016-02\n",
      "brigaders 1 ['braincels']\n",
      "MANOSPHERE: 2018-01\n",
      "\n",
      "larpers 6 ['politics', 'The_Donald', 'AskReddit', 'conspiracy', 'CringeAnarchy', 'ChapoTrapHouse']\n",
      "MAINSTREAM: 2017-01\n",
      "larpers 2 ['FORUM_incels', 'braincels']\n",
      "MANOSPHERE: 2018-02\n",
      "\n",
      "redpillers 4 ['politics', 'AskMen', 'TwoXChromosomes', 'AskReddit']\n",
      "MAINSTREAM: 2013-12\n",
      "redpillers 3 ['FORUM_incels', 'braincels', 'theredpill']\n",
      "MANOSPHERE: 2013-12\n",
      "\n",
      "larper 4 ['politics', 'The_Donald', 'conspiracy', 'ChapoTrapHouse']\n",
      "MAINSTREAM: 2016-12\n",
      "larper 2 ['FORUM_incels', 'braincels']\n",
      "MANOSPHERE: 2018-02\n",
      "\n",
      "normie scum 1 ['dankmemes']\n",
      "MAINSTREAM: 2016-12\n",
      "normie scum 1 ['incels']\n",
      "MANOSPHERE: 2016-11\n",
      "****MANOSPHERE LEAD\n",
      "\n",
      "wahmen 7 ['dankmemes', 'PewdiepieSubmissions', 'The_Donald', 'AskReddit', 'teenagers', 'memes', 'unpopularopinion']\n",
      "MAINSTREAM: 2017-10\n",
      "wahmen 3 ['FORUM_incels', 'braincels', 'mgtow']\n",
      "MANOSPHERE: 2018-05\n",
      "\n",
      "wamen 6 ['dankmemes', 'PewdiepieSubmissions', 'The_Donald', 'AskReddit', 'teenagers', 'memes']\n",
      "MAINSTREAM: 2017-07\n",
      "wamen 1 ['mgtow']\n",
      "MANOSPHERE: 2018-09\n",
      "\n",
      "whamen 4 ['dankmemes', 'PewdiepieSubmissions', 'teenagers', 'memes']\n",
      "MAINSTREAM: 2017-10\n",
      "whamen 1 ['mgtow']\n",
      "MANOSPHERE: 2018-12\n",
      "\n",
      "infiltrator 16 ['pokemontrades', 'magicTCG', 'Smite', 'pokemon', 'Music', 'hearthstone', 'Games', 'Guildwars2', 'leagueoflegends', 'The_Donald', 'modernwarfare', 'lego', 'fo4', 'StarWarsBattlefront', 'Overwatch', 'Warhammer40k']\n",
      "MAINSTREAM: 2012-08\n",
      "infiltrator 1 ['FORUM_incels']\n",
      "MANOSPHERE: 2017-12\n",
      "\n",
      "transwomen 10 ['ukpolitics', 'Philippines', 'lgbt', 'news', 'AskWomen', 'AskReddit', 'asktransgender', 'AmItheAsshole', 'ChapoTrapHouse', 'unpopularopinion']\n",
      "MAINSTREAM: 2013-01\n",
      "transwomen 1 ['mensrights']\n",
      "MANOSPHERE: 2011-09\n",
      "****MANOSPHERE LEAD\n",
      "\n",
      "menz 1 ['TwoXChromosomes']\n",
      "MAINSTREAM: 2012-05\n",
      "menz 1 ['mensrights']\n",
      "MANOSPHERE: 2012-04\n",
      "****MANOSPHERE LEAD\n",
      "\n",
      "female protagonists 3 ['TwoXChromosomes', 'gaming', 'Games']\n",
      "MAINSTREAM: 2013-03\n",
      "female protagonists 1 ['braincels']\n",
      "MANOSPHERE: 2018-04\n",
      "\n",
      "manlets 2 ['OkCupid', 'unpopularopinion']\n",
      "MAINSTREAM: 2017-11\n",
      "manlets 4 ['FORUM_red_pill_talk', 'FORUM_incels', 'braincels', 'incels']\n",
      "MANOSPHERE: 2014-06\n",
      "****MANOSPHERE LEAD\n",
      "\n",
      "transwoman 9 ['Philippines', 'FurryKikPals', 'lgbt', 'news', 'AskReddit', 'asktransgender', 'AmItheAsshole', 'dirtypenpals', 'unpopularopinion']\n",
      "MAINSTREAM: 2013-02\n",
      "transwoman 1 ['mensrights']\n",
      "MANOSPHERE: 2011-09\n",
      "****MANOSPHERE LEAD\n",
      "\n",
      "sex bot 2 ['Roleplaykik', 'Sexsells']\n",
      "MAINSTREAM: 2017-07\n",
      "sex bot 1 ['mgtow']\n",
      "MANOSPHERE: 2018-04\n",
      "\n",
      "cuckolds 3 ['Sexsells', 'The_Donald', 'dirtykikpals']\n",
      "MAINSTREAM: 2016-02\n",
      "cuckolds 3 ['FORUM_red_pill_talk', 'FORUM_incels', 'braincels']\n",
      "MANOSPHERE: 2015-04\n",
      "****MANOSPHERE LEAD\n",
      "\n",
      "landwhales 1 ['The_Donald']\n",
      "MAINSTREAM: 2016-04\n",
      "landwhales 5 ['FORUM_incels', 'braincels', 'FORUM_mgtow', 'mgtow', 'incels']\n",
      "MANOSPHERE: 2017-05\n",
      "\n",
      "landwhale 2 ['The_Donald', 'copypasta']\n",
      "MAINSTREAM: 2017-03\n",
      "landwhale 5 ['FORUM_incels', 'braincels', 'FORUM_mgtow', 'mgtow', 'incels']\n",
      "MANOSPHERE: 2016-09\n",
      "****MANOSPHERE LEAD\n",
      "\n",
      "soyboys 5 ['The_Donald', 'Ice_Poseidon', 'CringeAnarchy', 'ChapoTrapHouse', 'unpopularopinion']\n",
      "MAINSTREAM: 2017-11\n",
      "soyboys 3 ['FORUM_incels', 'braincels', 'mgtow']\n",
      "MANOSPHERE: 2017-12\n",
      "\n",
      "srsers 1 ['AskReddit']\n",
      "MAINSTREAM: 2012-04\n",
      "srsers 1 ['mensrights']\n",
      "MANOSPHERE: 2012-08\n",
      "\n",
      "truecels 1 ['AskReddit']\n",
      "MAINSTREAM: 2016-04\n",
      "truecels 3 ['FORUM_incels', 'braincels', 'incels']\n",
      "MANOSPHERE: 2016-07\n",
      "\n",
      "sexbots 1 ['AskReddit']\n",
      "MAINSTREAM: 2015-08\n",
      "sexbots 4 ['FORUM_incels', 'braincels', 'FORUM_mgtow', 'mgtow']\n",
      "MANOSPHERE: 2017-05\n",
      "\n",
      "sexbot 1 ['AskReddit']\n",
      "MAINSTREAM: 2019-10\n",
      "sexbot 1 ['mgtow']\n",
      "MANOSPHERE: 2017-07\n",
      "****MANOSPHERE LEAD\n",
      "\n",
      "neurotypicals 2 ['AskReddit', 'ADHD']\n",
      "MAINSTREAM: 2017-02\n",
      "neurotypicals 1 ['FORUM_red_pill_talk']\n",
      "MANOSPHERE: 2016-10\n",
      "****MANOSPHERE LEAD\n",
      "\n",
      "hambeast 1 ['AskReddit']\n",
      "MAINSTREAM: 2013-01\n",
      "hambeast 2 ['FORUM_incels', 'braincels']\n",
      "MANOSPHERE: 2018-04\n",
      "\n",
      "radfems 1 ['AskReddit']\n",
      "MAINSTREAM: 2013-11\n",
      "radfems 1 ['mensrights']\n",
      "MANOSPHERE: 2012-05\n",
      "****MANOSPHERE LEAD\n",
      "\n",
      "fuckboys 3 ['AskReddit', 'teenagers', 'relationship_advice']\n",
      "MAINSTREAM: 2015-11\n",
      "fuckboys 2 ['braincels', 'femaledatingstrategy']\n",
      "MANOSPHERE: 2018-07\n",
      "\n",
      "aspies 1 ['AskReddit']\n",
      "MAINSTREAM: 2018-04\n",
      "aspies 2 ['FORUM_red_pill_talk', 'FORUM_incels']\n",
      "MANOSPHERE: 2014-06\n",
      "****MANOSPHERE LEAD\n",
      "\n",
      "hikikomori 1 ['anime']\n",
      "MAINSTREAM: 2015-07\n",
      "hikikomori 1 ['FORUM_incels']\n",
      "MANOSPHERE: 2018-09\n",
      "\n",
      "punjabis 1 ['india']\n",
      "MAINSTREAM: 2014-05\n",
      "punjabis 1 ['braincels']\n",
      "MANOSPHERE: 2018-05\n",
      "\n",
      "dravidian 1 ['india']\n",
      "MAINSTREAM: 2014-04\n",
      "dravidian 1 ['braincels']\n",
      "MANOSPHERE: 2018-04\n",
      "\n",
      "good goy 1 ['CringeAnarchy']\n",
      "MAINSTREAM: 2017-08\n",
      "good goy 1 ['FORUM_incels']\n",
      "MANOSPHERE: 2019-04\n",
      "\n",
      "shitskins 1 ['CringeAnarchy']\n",
      "MAINSTREAM: 2018-12\n",
      "shitskins 1 ['FORUM_incels']\n",
      "MANOSPHERE: 2019-02\n",
      "\n",
      "volcel 1 ['ChapoTrapHouse']\n",
      "MAINSTREAM: 2017-02\n",
      "volcel 9 ['askanincel', 'FORUM_incels', 'braincels', 'asktrufemcels', 'incelselfies', 'incelswithouthate', 'trufemcels', 'mgtow', 'incels']\n",
      "MANOSPHERE: 2016-10\n",
      "****MANOSPHERE LEAD\n",
      "\n",
      "volcels 1 ['ChapoTrapHouse']\n",
      "MAINSTREAM: 2019-04\n",
      "volcels 3 ['FORUM_incels', 'braincels', 'incels']\n",
      "MANOSPHERE: 2017-02\n",
      "****MANOSPHERE LEAD\n",
      "\n",
      "nofappers 1 ['NoFap']\n",
      "MAINSTREAM: 2011-10\n",
      "nofappers 1 ['FORUM_incels']\n",
      "MANOSPHERE: 2018-09\n",
      "\n",
      "femcels 1 ['unpopularopinion']\n",
      "MAINSTREAM: 2019-11\n",
      "femcels 6 ['askanincel', 'FORUM_incels', 'braincels', 'asktrufemcels', 'incelswithouthate', 'trufemcels']\n",
      "MANOSPHERE: 2018-04\n",
      "****MANOSPHERE LEAD\n",
      "\n",
      "mgtows 1 ['unpopularopinion']\n",
      "MAINSTREAM: 2019-02\n",
      "mgtows 6 ['FORUM_incels', 'braincels', 'theredpill', 'FORUM_mgtow', 'mgtow', 'mensrights']\n",
      "MANOSPHERE: 2013-06\n",
      "****MANOSPHERE LEAD\n",
      "\n"
     ]
    }
   ],
   "source": [
    "network_edges = [] # [(source, destination)]\n",
    "manosphere_lead_words = []\n",
    "manosphere_com = set()\n",
    "mainstream_com = set()\n",
    "for w in mainstream_sp: \n",
    "    min_month = 'z'\n",
    "    for sr in mainstream_sp[w]: \n",
    "        mainstream_com.add(sr)\n",
    "        start = mainstream_sp[w][sr][0]\n",
    "        min_month = min(start, min_month)\n",
    "    if w not in mano_sp: continue\n",
    "    print(w, len(mainstream_sp[w]), list(mainstream_sp[w].keys()))\n",
    "    print('MAINSTREAM:', min_month)\n",
    "    main_min_month = min_month\n",
    "    min_month = 'z'\n",
    "    for sr in mano_sp[w]: \n",
    "        manosphere_com.add(sr)\n",
    "        start = mano_sp[w][sr][0]\n",
    "        min_month = min(start, min_month)\n",
    "    print(w, len(mano_sp[w]), list(mano_sp[w].keys()))\n",
    "    print(\"MANOSPHERE:\", min_month)\n",
    "    mano_min_month = min_month\n",
    "    if mano_min_month < main_min_month: \n",
    "        print(\"****MANOSPHERE LEAD\")\n",
    "        manosphere_lead_words.append(w)\n",
    "        leads = []\n",
    "        for sr in mano_sp[w]: \n",
    "            start = mano_sp[w][sr][0]\n",
    "            if start == mano_min_month: \n",
    "                leads.append(sr)\n",
    "        dest = mainstream_sp[w]\n",
    "        for l in leads: \n",
    "            for d in dest: \n",
    "                network_edges.append((l, d))\n",
    "    print()"
   ]
  },
  {
   "cell_type": "code",
   "execution_count": 89,
   "id": "f2971328",
   "metadata": {},
   "outputs": [
    {
     "name": "stdout",
     "output_type": "stream",
     "text": [
      "26\n",
      "['cuck', 'incels', 'cucks', 'incel', 'mgtow', 'femoid', 'femoids', 'femcel', 'mra', 'mras', 'autists', 'normie scum', 'transwomen', 'menz', 'manlets', 'transwoman', 'cuckolds', 'landwhale', 'sexbot', 'neurotypicals', 'radfems', 'aspies', 'volcel', 'volcels', 'femcels', 'mgtows']\n"
     ]
    }
   ],
   "source": [
    "print(len(manosphere_lead_words))\n",
    "print(manosphere_lead_words)"
   ]
  },
  {
   "cell_type": "code",
   "execution_count": 110,
   "id": "d8300e0f",
   "metadata": {},
   "outputs": [],
   "source": [
    "network_weights = Counter(network_edges)\n",
    "G = nx.DiGraph()\n",
    "edge_names = {'FORUM_red_pill_talk': 'Red Pill Talk', 'FORUM_mgtow': 'MGTOW'}\n",
    "for edge in network_weights: \n",
    "    start = edge[0]\n",
    "    if start.startswith('FORUM_'): \n",
    "        start = edge_names[start]\n",
    "    G.add_edge(start, edge[1], weight=network_weights[edge])\n",
    "for n in G.nodes: \n",
    "    if n in set(edge_names.values()): \n",
    "        G.nodes[n]['dataset'] = 'forum'\n",
    "    elif n in manosphere_com: \n",
    "        G.nodes[n]['dataset'] = 'mano'\n",
    "    else: \n",
    "        G.nodes[n]['dataset'] = 'main'\n",
    "nx.write_gexf(G, LOGS + \"word_spread.gexf\")"
   ]
  },
  {
   "cell_type": "code",
   "execution_count": 111,
   "id": "f205e0b9",
   "metadata": {},
   "outputs": [
    {
     "name": "stdout",
     "output_type": "stream",
     "text": [
      "[('FORUM_red_pill_talk', 133), ('theredpill', 115), ('mensrights', 47), ('incels', 3), ('braincels', 2), ('FORUM_mgtow', 2), ('mgtow', 1)]\n",
      "[('teenagersnew', 4), ('dankmemes', 4), ('The_Donald', 4), ('AskReddit', 4), ('ChapoTrapHouse', 4), ('unpopularopinion', 4), ('politics', 3), ('AskMen', 3), ('pics', 3), ('gaming', 3)]\n"
     ]
    }
   ],
   "source": [
    "leads = Counter()\n",
    "dest = Counter()\n",
    "for tup in network_weights: \n",
    "    leads[tup[0]] += 1\n",
    "    dest[tup[1]] += 1\n",
    "print(leads.most_common(10))\n",
    "print(dest.most_common(10))"
   ]
  },
  {
   "cell_type": "markdown",
   "id": "2a738171",
   "metadata": {},
   "source": [
    "The following are month ranges where we should be sampling up to 50 instances of each word. \n",
    "\n",
    "The union of these ranges, we should also sample up to 50 instances of each word in the manosphere for that same time period. "
   ]
  },
  {
   "cell_type": "code",
   "execution_count": 128,
   "id": "2c8842fb",
   "metadata": {},
   "outputs": [
    {
     "name": "stdout",
     "output_type": "stream",
     "text": [
      "cuck 99\n",
      "incels 89\n",
      "cucks 37\n",
      "incel 115\n",
      "mgtow 27\n",
      "femoid 1\n",
      "femoids 1\n",
      "femcel 2\n",
      "mra 29\n",
      "mras 15\n",
      "autists 14\n",
      "normie scum 1\n",
      "transwomen 10\n",
      "menz 1\n",
      "manlets 2\n",
      "transwoman 9\n",
      "cuckolds 3\n",
      "landwhale 2\n",
      "sexbot 1\n",
      "neurotypicals 2\n",
      "radfems 1\n",
      "aspies 1\n",
      "volcel 1\n",
      "volcels 1\n",
      "femcels 1\n",
      "mgtows 1\n"
     ]
    }
   ],
   "source": [
    "for w in manosphere_lead_words: \n",
    "    print(w, len(mainstream_sp[w]))\n",
    "#     for sr in mainstream_sp[w]: \n",
    "#         print(w, sr, mainstream_sp[w][sr])"
   ]
  },
  {
   "cell_type": "markdown",
   "id": "52600e38",
   "metadata": {},
   "source": [
    "### Lexical variables for \"women\"\n",
    "\n",
    "From examining examples of these in use, it seems like the spelling variations are for mocking statements made by feminists and other people about \"strong independent \\[women variant\\]\" or \"empowered \\[women variant\\]\". "
   ]
  },
  {
   "cell_type": "code",
   "execution_count": 138,
   "id": "b349b40a",
   "metadata": {},
   "outputs": [],
   "source": [
    "ANN_FILE = ROOT + 'data/ann_sig_entities.csv'"
   ]
  },
  {
   "cell_type": "code",
   "execution_count": 119,
   "id": "d1745fb2",
   "metadata": {},
   "outputs": [],
   "source": [
    "words = []\n",
    "with open(ANN_FILE, 'r') as csvfile:\n",
    "    reader = csv.DictReader(csvfile)\n",
    "    for row in reader: \n",
    "        if row['keep'] == 'Y': \n",
    "            words.append(row['entity'])"
   ]
  },
  {
   "cell_type": "code",
   "execution_count": 123,
   "id": "b3a41a75",
   "metadata": {},
   "outputs": [
    {
     "name": "stdout",
     "output_type": "stream",
     "text": [
      "['women', 'woman', 'wife', 'whore', 'whores', 'wives', 'whites', 'writer', 'wingman', 'winner', 'waitress', 'writers', 'weirdo', 'witnesses', 'winners', 'warriors', 'wizard', 'waiter', 'westerners', 'waitresses', 'wingmen', 'weirdos', 'wifey', 'wuss', 'wymyn', 'widows', 'wimp', 'wifes', 'wahmen', 'witches', 'whitey', 'wimminz', 'wrestler', 'waiters', 'westerner', 'weakling', 'womanizer', 'wanker', 'wimmin', 'wingwoman', 'wizards', 'weebs', 'workaholic', 'wimps', 'weaklings', 'warlord', 'welder', 'wannabes', 'whiner', 'wench', 'wasps', 'wamen', 'whamen', 'womenz', 'wrestlers', 'workhorse', 'wahmyn', 'weemins', 'wallflower', 'womankind', 'wks', 'warlords', 'widower', 'wenches', 'welders', 'wimmenz', 'warden', 'wierdo', 'weeaboo', 'womyns', 'workmates', 'wearer', 'wive', 'womanizers', 'wagecucks', 'wimmins', 'weenie', 'womynz', 'wingwomen', 'wackos', 'wussy', 'wageslave', 'wristcel']\n"
     ]
    }
   ],
   "source": [
    "w_words = [w for w in words if w.startswith('w') and ' ' not in w]\n",
    "print(w_words)"
   ]
  },
  {
   "cell_type": "code",
   "execution_count": 129,
   "id": "b6bccfbe",
   "metadata": {},
   "outputs": [
    {
     "name": "stdout",
     "output_type": "stream",
     "text": [
      "16\n",
      "women, wymyn, wahmen, wimminz, wimmin, wamen, whamen, womenz, wahmyn, weemins, wimmenz, womyns, wimmins, womynz, femoids, foids\n"
     ]
    }
   ],
   "source": [
    "women_vars = ['women', 'wymyn', 'wahmen', 'wimminz', 'wimmin', 'wamen', 'whamen', 'womenz', 'wahmyn', \n",
    "              'weemins', 'wimmenz', 'womyns', 'wimmins', 'womynz', 'femoids', 'foids']\n",
    "print(len(women_vars))\n",
    "print(', '.join(women_vars))"
   ]
  },
  {
   "cell_type": "code",
   "execution_count": 136,
   "id": "0100161f",
   "metadata": {},
   "outputs": [],
   "source": [
    "with open(LOGS + 'sustained_women.json', 'r') as infile: \n",
    "    women_sp = json.load(infile)"
   ]
  },
  {
   "cell_type": "code",
   "execution_count": 137,
   "id": "28b733e0",
   "metadata": {},
   "outputs": [
    {
     "name": "stdout",
     "output_type": "stream",
     "text": [
      "women maleforeveralone ['2017-12', '2018-05']\n",
      "women foreverunwanted ['2016-02', '2017-02']\n",
      "women askanincel ['2018-11', '2019-10']\n",
      "women ladymras ['2012-04', '2012-12']\n",
      "women inceldense ['2018-06', '2018-09']\n",
      "women FORUM_red_pill_talk ['2014-05', '2015-06']\n",
      "women FORUM_incels ['2017-11', '2019-06']\n",
      "women egalitarianism ['2011-04', '2011-07']\n",
      "women supportcel ['2017-10', '2018-01']\n",
      "women FORUM_avfm ['2012-09', '2019-03']\n",
      "women braincels ['2017-11', '2019-08']\n",
      "women asktrp ['2013-08', '2019-12']\n",
      "women redpillwomen ['2013-06', '2019-12']\n",
      "women asktrufemcels ['2018-10', '2019-12']\n",
      "women askseddit ['2011-02', '2019-12']\n",
      "women incelselfies ['2018-08', '2019-06']\n",
      "women intactivists ['2013-07', '2013-11']\n",
      "women femaledatingstrategy ['2019-05', '2019-12']\n",
      "women incelswithouthate ['2017-08', '2019-12']\n",
      "women pickup ['2017-06', '2017-08']\n",
      "women foreveralone ['2011-01', '2019-12']\n",
      "women truecels ['2016-01', '2016-05']\n",
      "women blackpillscience ['2018-04', '2019-12']\n",
      "women FORUM_pua_forum ['2006-04', '2017-12']\n",
      "women redpillwives ['2016-04', '2018-04']\n",
      "women FORUM_the_attraction ['2005-12', '2018-10']\n",
      "women FORUM_rooshv ['2008-08', '2019-06']\n",
      "women trufemcels ['2018-04', '2019-12']\n",
      "women pinkpillfeminism ['2019-06', '2019-12']\n",
      "women theredpill ['2012-10', '2019-12']\n",
      "women FORUM_mgtow ['2014-07', '2019-06']\n",
      "women foreveralonedating ['2012-01', '2012-03']\n",
      "women pussypass ['2013-12', '2019-12']\n",
      "women mgtow ['2013-09', '2019-12']\n",
      "women mensrights ['2008-06', '2019-12']\n",
      "women marriedredpill ['2014-08', '2019-12']\n",
      "women thanktrp ['2014-09', '2014-11']\n",
      "women fpua ['2013-04', '2013-09']\n",
      "women incels ['2016-07', '2017-11']\n",
      "women masculism ['2011-09', '2013-07']\n",
      "women theglowup ['2019-03', '2019-12']\n",
      "women seduction ['2009-11', '2019-12']\n",
      "foids askanincel ['2018-12', '2019-10']\n",
      "foids FORUM_incels ['2017-12', '2019-06']\n",
      "foids braincels ['2018-03', '2019-08']\n",
      "foids incelselfies ['2018-08', '2018-11']\n",
      "foids incelswithouthate ['2019-03', '2019-08']\n",
      "foids mgtow ['2019-06', '2019-08']\n",
      "wahmen FORUM_incels ['2018-12', '2019-03']\n",
      "wahmen braincels ['2018-04', '2019-06']\n",
      "wahmen mgtow ['2018-05', '2019-12']\n",
      "wymyn FORUM_incels ['2017-11', '2018-02']\n",
      "wymyn braincels ['2018-01', '2018-10']\n",
      "wymyn mgtow ['2016-06', '2016-11']\n",
      "wymyn incels ['2017-08', '2017-10']\n",
      "wamen FORUM_incels ['2019-01', '2019-03']\n",
      "wamen braincels ['2018-09', '2018-10']\n",
      "wamen mgtow ['2018-03', '2018-05']\n",
      "femoids FORUM_incels ['2017-11', '2019-06']\n",
      "femoids braincels ['2017-12', '2019-07']\n",
      "femoids incels ['2017-04', '2017-11']\n",
      "wahmyn braincels ['2018-07', '2018-09']\n",
      "wahmyn mgtow ['2018-03', '2019-03']\n",
      "wimmin FORUM_mgtow ['2017-07', '2017-10']\n",
      "wimmin mgtow ['2017-07', '2017-10']\n",
      "wimminz FORUM_mgtow ['2017-06', '2017-07']\n",
      "wimminz mgtow ['2016-09', '2018-05']\n",
      "wimmenz FORUM_mgtow ['2015-02', '2015-04']\n",
      "weemins FORUM_mgtow ['2015-08', '2015-12']\n",
      "whamen mgtow ['2018-05', '2019-12']\n"
     ]
    }
   ],
   "source": [
    "for w in women_sp: \n",
    "    for sr in women_sp[w]: \n",
    "        print(w, sr, women_sp[w][sr])"
   ]
  },
  {
   "cell_type": "code",
   "execution_count": null,
   "id": "8d718cef",
   "metadata": {},
   "outputs": [],
   "source": []
  }
 ],
 "metadata": {
  "kernelspec": {
   "display_name": "Python 3 (ipykernel)",
   "language": "python",
   "name": "python3"
  },
  "language_info": {
   "codemirror_mode": {
    "name": "ipython",
    "version": 3
   },
   "file_extension": ".py",
   "mimetype": "text/x-python",
   "name": "python",
   "nbconvert_exporter": "python",
   "pygments_lexer": "ipython3",
   "version": "3.7.11"
  }
 },
 "nbformat": 4,
 "nbformat_minor": 5
}
