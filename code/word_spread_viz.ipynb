{
 "cells": [
  {
   "cell_type": "code",
   "execution_count": 108,
   "id": "f6d05432",
   "metadata": {},
   "outputs": [],
   "source": [
    "import os\n",
    "import json\n",
    "from collections import defaultdict, Counter\n",
    "import csv\n",
    "from helpers import get_sr_cats\n",
    "from nltk.corpus import reuters"
   ]
  },
  {
   "cell_type": "code",
   "execution_count": 109,
   "id": "f79a066c",
   "metadata": {},
   "outputs": [],
   "source": [
    "ROOT = '/mnt/data0/lucy/manosphere/'\n",
    "DATA = ROOT + 'data/'\n",
    "LOGS = ROOT + 'logs/'"
   ]
  },
  {
   "cell_type": "code",
   "execution_count": 110,
   "id": "45ab11c8",
   "metadata": {},
   "outputs": [],
   "source": [
    "with open(LOGS + 'overall_word_births.json', 'r') as infile: \n",
    "    word_births = json.load(infile)"
   ]
  },
  {
   "cell_type": "code",
   "execution_count": 111,
   "id": "d2b05fe1",
   "metadata": {},
   "outputs": [
    {
     "name": "stdout",
     "output_type": "stream",
     "text": [
      "{'asktrp', 'pua', 'theredpill', 'FORUM_rooshv', 'mensrights', 'mensrightslinks', 'thanktrp', 'marriedredpill', 'femalelevelupstrategy', 'incels', 'redpillparenting', 'alttrp', 'fpua', 'malecels', 'asktrufemcels', 'braincels', 'incelbrotherhood', 'askanincel', 'redpillwives', 'suicidewatch', 'pickup', 'askfds', 'redpillwomen', 'askseddit', 'FORUM_red_pill_talk', 'seduction', 'blackpillscience', 'exredpill', 'FORUM_the_attraction', 'intactivists', 'puascience', 'egalitarianism', 'incelspurgatory', 'mgtow', 'fdssuperfans', 'maleforeveralone', 'becomeaman', 'rsd', 'mgtowbooks', 'pinkpillfeminism', '1ncels', 'femaledatingstrategy', 'mractivism', 'inceltears', 'gaycel', 'supportcel', 'truecels', 'foreveralone', 'ladymras', 'theglowup', 'mrref', 'incelswithouthate', 'truefemcels', 'inceldense', 'FORUM_pua_forum', 'trpofftopic', 'depression', 'pussypass', 'gold_digger', 'lonelynonviolentmen', 'mensrightslaw', 'gymcels', 'FORUM_incels', 'socialanxiety', 'foreverunwanted', 'FORUM_avfm', 'philosophyofrape', 'foreveralonelondon', 'foreveralonedating', 'incelselfies', 'pornfreerelationships', 'thebluepill', 'geotrp', 'mgtowmusic', 'masculism', 'foreveraloneteens', 'trufemcels'}\n"
     ]
    }
   ],
   "source": [
    "categories = get_sr_cats()\n",
    "forums = ['FORUM_the_attraction', 'FORUM_pua_forum', 'FORUM_incels', \n",
    "          'FORUM_red_pill_talk', 'FORUM_avfm', 'FORUM_rooshv', 'FORUM_red_pill_talk']\n",
    "mano_communities = set(categories.keys()) | set(forums)\n",
    "print(mano_communities)"
   ]
  },
  {
   "cell_type": "markdown",
   "id": "b7002b84",
   "metadata": {},
   "source": [
    "## Get lexical innovation vocabulary\n",
    "\n",
    "First, we find a suitable cutoff for words that we can ensure they are actually new (and not just new because they are part of general language and some communities are earlier in the dataset than others. \n",
    "\n",
    "We remove bigrams whose second token also appears in our vocabulary, since those tend to be innovative phrases less often. This removes terms such as \"most girls\" yet retains many innovative phrase such as \"carousel riders\". \n",
    "\n",
    "We use the reuters corpus (created in 2000) to filter out non-innovative words. "
   ]
  },
  {
   "cell_type": "code",
   "execution_count": 112,
   "id": "bb11a4de",
   "metadata": {},
   "outputs": [
    {
     "name": "stdout",
     "output_type": "stream",
     "text": [
      "['worries', 'created', 'bindley', '239', 'judge', 'matsuya', 'refers', 'rainfalls', '257', 'austec']\n"
     ]
    }
   ],
   "source": [
    "reuters_words = set([w.lower() for w in reuters.words()])\n",
    "print(list(reuters_words)[:10])"
   ]
  },
  {
   "cell_type": "code",
   "execution_count": 113,
   "id": "4e93def5",
   "metadata": {},
   "outputs": [],
   "source": [
    "common_sources = Counter()\n",
    "yearly_innovations = defaultdict(list) # {year: [list of innovations]}\n",
    "for w in word_births: \n",
    "    if w in reuters_words: continue # not an innovation\n",
    "    if ' ' in w: # bigram\n",
    "        toks = w.split(' ')\n",
    "        if toks[-1] in word_births or toks[-1] in reuters_words: continue\n",
    "    content = word_births[w]\n",
    "    date = content[0]\n",
    "    year = date.split('-')[0]\n",
    "    sources = content[1]\n",
    "    # uncomment below if you wnat to find words that only manosphere communities pioneeered\n",
    "    #if set(sources) & mano_communities: \n",
    "    yearly_innovations[year].append(w)\n",
    "    common_sources.update(sources)"
   ]
  },
  {
   "cell_type": "code",
   "execution_count": 122,
   "id": "2d4e4118",
   "metadata": {},
   "outputs": [
    {
     "data": {
      "text/plain": [
       "[('reddit.com', 78),\n",
       " ('FORUM_red_pill_talk', 39),\n",
       " ('FORUM_the_attraction', 19),\n",
       " ('politics', 12),\n",
       " ('mensrights', 12),\n",
       " ('askreddit', 11),\n",
       " ('incels', 10),\n",
       " ('FORUM_pua_forum', 8),\n",
       " ('programming', 5),\n",
       " ('funny', 5),\n",
       " ('pics', 4),\n",
       " ('thebluepill', 4),\n",
       " ('science', 4),\n",
       " ('wtf', 4),\n",
       " ('drama', 4),\n",
       " ('shitredditsays', 4),\n",
       " ('the_donald', 3),\n",
       " ('FORUM_rooshv', 3),\n",
       " ('atheism', 3),\n",
       " ('seduction', 3),\n",
       " ('entertainment', 3),\n",
       " ('theredpill', 3),\n",
       " ('business', 3),\n",
       " ('news', 2),\n",
       " ('4chan4trump', 2),\n",
       " ('mgtow', 2),\n",
       " ('purplepilldebate', 2),\n",
       " ('askmen', 2),\n",
       " ('videos', 2),\n",
       " ('worldnews', 2),\n",
       " ('antipozi', 1),\n",
       " ('kotakuinaction', 1),\n",
       " ('puahate', 1),\n",
       " ('waluigi', 1),\n",
       " ('rupaulsdragrace', 1),\n",
       " ('wikipedia', 1),\n",
       " ('oney', 1),\n",
       " ('fffffffuuuuuuuuuuuu', 1),\n",
       " ('orangecounty', 1),\n",
       " ('losangeles', 1),\n",
       " ('badhistory', 1),\n",
       " ('netsec', 1),\n",
       " ('gadgets', 1),\n",
       " ('gatekeeping', 1),\n",
       " ('anarchism', 1),\n",
       " ('askwomen', 1),\n",
       " ('cringeanarchy', 1),\n",
       " ('bestof', 1),\n",
       " ('justneckbeardthings', 1),\n",
       " ('vegan', 1),\n",
       " ('penis', 1),\n",
       " ('bacon', 1),\n",
       " ('equality', 1),\n",
       " ('egalitarian', 1),\n",
       " ('cooking', 1),\n",
       " ('computebazaar', 1),\n",
       " ('buildapcsales', 1),\n",
       " ('guildwars2', 1),\n",
       " ('australia', 1),\n",
       " ('todayilearned', 1),\n",
       " ('transgender', 1),\n",
       " ('subredditdrama', 1),\n",
       " ('diablo', 1),\n",
       " ('iama', 1),\n",
       " ('self', 1),\n",
       " ('cringepics', 1),\n",
       " ('tumblrinaction', 1),\n",
       " ('cuckold', 1),\n",
       " ('dirtykik', 1),\n",
       " ('motorcycles', 1),\n",
       " ('feminisms', 1),\n",
       " ('soccerspirits', 1),\n",
       " ('health', 1),\n",
       " ('comics', 1),\n",
       " ('leagueoflegends', 1),\n",
       " ('wow', 1),\n",
       " ('timetravel', 1),\n",
       " ('nofap', 1),\n",
       " ('nofapjuly', 1),\n",
       " ('pfjerk', 1),\n",
       " ('gardening', 1),\n",
       " ('4chan', 1),\n",
       " ('books', 1),\n",
       " ('nsfw', 1),\n",
       " ('trees', 1),\n",
       " ('foreveralone', 1),\n",
       " ('celebrities', 1),\n",
       " ('gaming', 1),\n",
       " ('meetup', 1),\n",
       " ('christianity', 1),\n",
       " ('gay', 1),\n",
       " ('sidehugs', 1),\n",
       " ('gaybros', 1),\n",
       " ('fitnesscirclejerk', 1),\n",
       " ('blackpeopletwitter', 1),\n",
       " ('FORUM_mgtow', 1),\n",
       " ('pets', 1),\n",
       " ('fitness', 1),\n",
       " ('cortexcommand', 1),\n",
       " ('theoryofreddit', 1),\n",
       " ('tattoos', 1)]"
      ]
     },
     "execution_count": 122,
     "metadata": {},
     "output_type": "execute_result"
    }
   ],
   "source": [
    "common_sources.most_common()"
   ]
  },
  {
   "cell_type": "code",
   "execution_count": 115,
   "id": "a1474f7f",
   "metadata": {},
   "outputs": [
    {
     "name": "stdout",
     "output_type": "stream",
     "text": [
      "2005 ['dads', 'males', 'babies', 'gf', 'seducer', 'strangers', 'assholes', 'eachother', 'feminists', 'soldier', 'chodes', 'masses', 'roomate', 'shooter', 'amogs', 'hypnotist', 'goofball', 'rockers', 'parents', 'geek', 'cunt', 'diva', 'moms', 'wuss', 'fuckers', 'cunts', 'hippies', 'masseuse', 'snobs', 'thugs', 'lunatic', 'idols', 'seducers', 'moderator', 'enablers', 'future generations', 'oddball', 'rangers', 'newb', 'professors', 'pals', 'realtor', 'doc', 'hackers', 'chics', 'intellectuals', 'toastmasters', 'assassin', 'zealots', 'poor sap', 'assailants', 'partisans', 'lovers', 'gays', 'bartenders', 'joker', 'pastor', 'narcissist', 'hosts', 'gypsy', 'mentors', 'chubby chasers', 'freelancers', 'shaman', 'citizenry', 'buddies', 'poet', 'asians', 'grandmother', 'lady', 'male gender', 'idiots', 'spectator', 'chick magnet', 'college grad', 'wackos', 'boyz', 'infj', 'texan', 'teenager', 'server', 'siblings', 'enemies', 'adults', 'cheerleaders', 'serial killers', 'bunny', 'bullies', 'twins', 'keyboard jockeys', 'bloggers', 'prophets', 'noobie', 'scots', 'daughters', 'doctor', 'musicians', 'prude', 'acquaintances', 'rapist', 'teen', 'exes', 'shorty', 'gamer', 'programmer', 'bride', 'gurus', 'maniac', 'brat', 'perverts', 'hot blonde', 'womanizer', 'minors', 'adversary', 'scholars', 'spenders', 'dudes', 'mistress', 'girlfriends', 'smartass', 'social butterfly', 'hb2', 'stalker', 'waitress', 'pawn', 'sophomore', 'stalkers', 'boxer', 'counselors', 'auntie', 'genius', 'guest', 'couples', 'sluts', 'valet', 'douche', 'mommy', 'noob', 'thief', 'hb10', 'lifeguard', 'helpers', 'coworkers', 'boyfriends', 'thug', 'nerd', 'hotties', 'teenagers', 'chumps', 'dumbass', 'fella', 'weirdos', 'promoter', 'jerkoff', 'mods', 'moron', 'therapist', 'biologist', 'receptionist', 'niceguy', 'barmaid', 'hired guns', 'princess', 'morons', 'bum', 'jedi', 'fool', 'volunteers', 'mates', 'redhead', 'magician', 'mums', 'amateurs', 'wanker', 'callers', 'selector', 'hb4', 'mother', 'girlfriend', 'dude', 'slut', 'salesmen', 'cousin', 'strippers', 'surfers', 'prick', 'drummer', 'preacher', 'control freak', 'druggies', 'daughter', 'caveman', 'pornstar', 'naturals', 'cops', 'wives', 'jerk', 'programmers', 'niece', 'stud', 'murderers', 'hb7', 'cavemen', 'maids', 'younger generations', 'bouncers', 'baristas', 'airhead', 'pundits', 'mothers', 'hb5', 'hb6', 'youngest', 'gangster', 'puas', 'rookies', 'coach', 'protagonist', 'misfits', 'hacker', 'toddler', 'buds', 'paedophile', 'filmmaker', 'freshman', 'commenters', 'pua', 'chump', 'beginner', 'hb9', 'neighbors', 'wingmen', 'blondes', 'redheads', 'dork', 'nerds', 'doofus', 'cheerleader', 'pervert', 'guru', 'amog', 'babysitter', 'thieves', 'narrator', 'newborn', 'liar', 'hb8', 'grandparents', 'acquaintance', 'slave', 'spouse', 'pal', 'jerks', 'creeps', 'cults', 'buddys', 'magicians', 'rapper', 'ceo', 'afcs', 'physicists', 'warlords', 'whitey', 'goths', 'bookworm', 'actors', 'hottie', 'pornstars', 'stranger', 'babe', 'dancers', 'wingman', 'trainee', 'fucker', 'drinker', 'comedian', 'spaniard', 'aussies', 'dentist', 'dickhead', 'mafia', 'disciples', 'witnesses', 'subordinates', 'perps', 'novelist', 'boyfriend', 'firefighter', 'actress', 'bartender', 'cashier', 'mofo', 'buzzkill', 'fiends', 'novice', 'progressives', 'swimmer', 'bozo', 'anarchist', 'apprentice', 'lesbians', 'emotional tampon', 'motherfucker', 'classmates', 'noone', 'retards', 'geeks', 'mathematicians', 'dummies', 'story teller', 'spectators', 'admins', 'vp', 'commentators', 'middle schoolers', 'feminist', 'swingers', 'husband', 'mate', 'mexicans', 'twat', 'princes', 'judges', 'flight attendant', 'atheist', 'undergraduates', 'astronaut', 'lover', 'gents', 'cutie', 'weirdo', 'celeb', 'jock', 'accountant', 'hypocrite', 'nobles', 'entertainers', 'japs', 'hbs', 'paramedic', 'dad', 'chick', 'whore', 'supermodels', 'homeboy', 'babes', 'atheists', 'bosses', 'doormen', 'fags', 'hotty', 'layman', 'sinners', 'uggos', 'perfectionist', 'old flame', 'sender', 'viewer', 'shakers', 'chicks', 'sociopath', 'chode', 'alphas', 'coworker', 'trooper', 'followers', 'gods', 'sweetie', 'nuns', 'juniors', 'pedo', 'dirtbag', 'lumberjack', 'storyteller', 'gramps', 'kid', 'bitch', 'buddy', 'artist', 'bf', 'fattie', 'haters', 'rookie', 'protector', 'instructor', 'bully', 'celebs', 'keyboard jockey', 'avatars', 'godfather', 'supermodel', 'wallflower', 'techs', 'workmates', 'choosers', 'hooker', 'alcoholic', 'skank', 'librarian', 'flatmates', 'everyones', 'jews', 'wimp', 'translator', 'faculty', 'vigilantes', 'bucko', 'waitresses', 'orbiter', 'musician', 'charmer', 'nun', 'snob', 'creep', 'actresses', 'gal', 'painters', 'catholics', 'djs', 'recruits', 'sensei', 'monk', 'jester', 'hb10s', 'pedophile', 'jocks', 'movers', 'pawns', 'concubines', 'nazis', 'mom', 'girl', 'gold digger', 'granny', 'housemates', 'alpha fucks', 'newbs', 'seniors', 'coders', 'jew', 'serial killer', 'badboys', 'brits', 'visitor', 'inventor', 'broads', 'peers', 'listener', 'psychologist', 'badboy', 'organizer', 'africans', 'coaches', 'wizard', 'dreamer', 'sidekick', 'libertarians', 'goon', 'prodigy', 'mod', 'newbie', 'keeper', 'little bastard', 'bouncer', 'matchmaker', 'fellas', 'blokes', 'tutor', 'wussy', 'smoker', 'sophmore', 'lads', 'feminazi', 'practitioners', 'schoolgirl', 'dickheads', 'babyface', 'footballer', 'college graduates', 'pacifist', 'asshole', 'actor', 'freshmen', 'rockstar', 'manipulator', 'choir', 'millionaire', 'frats', 'nephew', 'platoon', 'undergrads', 'millionare', 'viewers', 'masons', 'uncle', 'cowboys', 'singles', 'whores', 'fools', 'newbies', 'greats', 'adonis', 'colleague', 'loner', 'human beings', 'stacey', 'prof', 'alter ego', 'rockstars', 'tomboy', 'messiah', 'villian', 'girls', 'bastards', 'guests', 'virgins', 'ninja', 'servers', 'entertainer', 'tribe', 'goons', 'waiters', 'social robot', 'sissy', 'rafc', 'humanists', 'bitches', 'retard', 'roommate', 'cute blonde', 'devil', 'princesses', 'good kisser', 'pimps', 'teammates', 'nobility', 'hairstylist', 'editors', 'orphan', 'fanboy', 'boy', 'sucker', 'homosexuals', 'casanova', 'gentlemen', 'trainer', 'tribes', 'noobs', 'hobo', 'wierdo', 'female gender', 'daredevil', 'pimp', 'daddy', 'midget', 'celebrities', 'masters', 'introvert', 'darling', 'junkie', 'assistants', 'fat fuck', 'mpua', 'randoms', 'profs', 'spammers', 'heroine', 'execs', 'reviewers', 'idiot', 'optimist', 'marxists', 'grandma', 'douchebags', 'drunks', 'chavs', 'hunter gatherers', 'hb1', 'billionaire', 'gamers', 'clerk', 'crowds', 'roommates', 'grandpa', 'singers', 'clown', 'comrades', 'clerks', 'elderly', 'interpreter', 'introverts', 'psychologists', 'heathen', 'fisherman', 'kj', 'heroin addict', 'novices', 'technicians', 'champ', 'waiter', 'dancer', 'cousins', 'fiance', 'foreigner', 'blondie', 'photographer', 'queers', 'nco', 'mpuas', 'superstars', 'talker', 'fraternities', 'opportunist', 'bloke', 'caller', 'janitor', 'madman', 'fatass', 'anthropologists', 'quarterback', 'stepfather', 'minions', 'reviewer', 'attackers']\n",
      "\n",
      "2006 ['alpha fuck', 'groupie', 'hairdresser', 'cute brunette', 'hypocrites', 'hbb', 'cyclists', 'entj', 'scammers', 'meanie', 'boomers', 'eldest', 'commies', 'hobos', 'hermits', 'madame', 'uggo', 'bodyguards', 'homophobe', 'buffoons', 'bureaucrat', 'composer', 'serf', 'asswipe', 'strawmen', 'niceguys', 'hot shit', 'kickboxer', 'flatmate', 'prostitutes', 'westerner', 'renters', 'conformist', 'quebecois', 'pricks', 'gunner', 'progeny', 'toddlers', 'culprit', 'mamma', 'olympian', 'landlords', 'trucker', 'previous generations', 'accuser', 'fundamentalists', 'granddaughter', 'inmate', 'abusers', 'serb', 'collaborators', 'firing squad', 'darlin', 'transsexuals', 'infidel', 'lesbos', 'clans', 'lefties', 'redditor', 'filmmakers', 'dissenters', 'aristocrats', 'momma', 'girls irl', 'intern', 'multimillionaire', 'sociopaths', 'becky', 'convicts', 'cheapskate', 'teammate', 'plumber', 'muggers', 'matriarch', 'adherents', 'policemen', 'average joes', 'new generations', 'shithead', 'prophet', 'ugly duckling', 'carpenters', 'homewrecker', 'ethnics', 'misandrists', 'normie', 'mysoginist', 'nihilists', 'celebrity', 'poor bastard', 'suckers', 'forefathers', 'regulars', 'good conversationalist', 'other races', 'dominicans', 'recruiters', 'plaything', 'goalie', 'somalis', 'afghans', 'wench', 'damsels', 'other dicks', 'lineman', 'spammer', 'chix', 'tailors', 'one gender', 'attacker', 'tyrant', 'neet', 'two genders', 'niggers', 'perpetrators', 'revolutionaries', 'male characters', 'living beings', 'paladin', 'fangirls', 'counsellors', 'dweeb', 'traditionalist', 'tranny', 'mangina', 'boy scout', 'refugees', 'sprinter', 'decider', 'skanks', 'sleaze', 'companions', 'goddess', 'older generations', 'ninjas', 'guardians', 'breadwinner', 'gynecologist', 'old fart', 'villain', 'dumb fucks', 'wearer', 'conformists', 'dreamers', 'truckers', 'neets', 'fuckhead', 'intruder', 'civilians', 'dykes', 'pioneers', 'adulterers', 'shepherd', 'hoodrats', 'hostess', 'stupid fuck', 'late bloomer', 'mathematician', 'traitor', 'heterosexuals', 'psychiatrist', 'douches', 'hvm', 'disciple', 'gymnast', 'lass', 'old fuck', 'tomboys', 'recruiter', 'linebacker', 'punisher', 'cfo', 'enforcer', 'beckies', 'samaritans', 'new comers', 'harlots', 'sufferers', 'extremists', 'cretin', 'coroner', 'whiner', 'wimps', 'undesirables', 'hopeless romantic', 'brothas', 'recluse', 'poets', 'countrymen', 'sex addict', 'leftists', 'extroverts', 'bodybuilders', 'charlatan', 'sinner', 'roomies', 'vegans', 'slacker', 'fuckface', 'white supremacists', 'barrister', 'fembots', 'other characters', 'tradesmen', 'militants', 'poor souls', 'antagonists', 'complainants', 'permavirgin', 'simps', 'simp', 'butterface', 'descendants', 'gent', 'spartans', 'follower', 'concubine', 'listeners', 'loners', 'hubs', 'crackhead', 'nutritionist', 'nurturers', 'caretaker', 'jurors', 'hot mess', 'high schoolers', 'patriarch', 'masochist', 'hedonist', 'metalhead', 'gamblers', 'shitbag', 'otaku', 'boyos', 'chefs', 'separatists', 'juveniles', 'dissidents', 'ubermensch', 'executioner', 'betas', 'golddiggers', 'slaves', 'gringo', 'ladyboys', 'offspring', 'sex offender', 'millionaires', 'hoodrat', 'soulmates', 'wannabes', 'drug addicts', 'golfer', 'traveller', 'everyman', 'ancients', 'handyman', 'bullshitters', 'bourgeoisie', 'accusers', 'wimmin', 'paralegal', 'little shits', 'offsprings', 'mommies', 'fascists', 'amazons', 'crooks', 'ideologue', 'lazy fucks', 'subhumans', 'jihadists', 'tories', 'sentient beings', 'debater', 'eunuch', 'classmate', 'homie', 'dweebs', 'divorcees', 'truck drivers', 'psychos', 'compatriots', 'kiddies', 'abuser', 'hermit', 'glutton', 'kurds', 'defenders', 'dipshits', 'barbarians', 'stepdad', 'cohort', 'fakers', 'journeyman', 'gambler', 'buddhists', 'feds', 'playmate', 'slav', 'lecturers', 'islanders', 'ancestor', 'pleb', 'saxons', 'ottomans', 'bigots', 'pediatrician', 'dumb asses', 'cultists', 'oligarch', 'islamists', 'scapegoats', 'boyo', 'theists', 'omega', 'divorcee', 'lurker', 'trannies', 'douchebag', 'bestfriend', 'big asses', 'hubby', 'photographers', 'therapists', 'surrogate', 'muse', 'receptionists', 'main characters', 'dictators', 'white race', 'freelancer', 'mortals', 'amerindian', 'goys', 'bullshitter', 'contestant', 'everbody', 'prettyboys', 'arseholes', 'sick fucks', 'combatants', 'fucking pussy', 'cock tease', 'bodybuilder', 'bigot', 'mormons', 'true scotsman', 'instigators', 'wife beaters', 'pagans', 'pirates', 'warriors', 'chubby chaser', 'war brides', 'stylists', 'manchild', 'gardener', 'complainers', 'elves', 'inmates', 'syrians', 'composers', 'preteen', 'redditors', 'imbeciles', 'authoritarians', 'you fucks', 'girl2', 'people pleaser', 'veterans', 'immigrants', 'dipshit', 'gypsies', 'protectors', 'weaklings', 'welder', 'bachelors', 'wingwomen', 'wrestler', 'caregiver', 'caretakers', 'youngsters', 'mailman', 'autist', 'fat fucks', 'drunkard', 'mad pussy', 'swede', 'homemaker', 'anarchists', 'passerby', 'boy scouts', 'settlers', 'albanians', 'semites', 'royals', 'spotter', 'theist', 'foes', 'vikings', 'libs', 'simpletons', 'fatso', 'other mens', 'fucking legend', 'egalitarians', 'rpers', 'prudes', 'saints', 'mage', 'milf', 'socialite', 'psychopath', 'curries', 'barman', 'old hag', 'clan', 'chum', 'chads', 'schlub', 'assailant', 'opposite gender', 'songwriter', 'hindus', 'sos', 'protester', 'presenters', 'villains', 'proletariat', 'nomad', 'hookers', 'badasses', 'romantics', 'surgeons', 'persians', 'entire race', 'champs', 'gym rat', 'initiator', 'oppressors', 'joneses', 'hustlers', 'simpleton', 'yuppies', 'beta pussy', 'educator', 'messengers', 'sadists', 'doers', 'cocksuckers', 'invader', 'negroes', 'hooligans', 'fanbase', 'tramps', 'changs', 'serfs', 'clowns', 'robber', 'cougars', 'slob', 'doorman', 'cowards', 'spaniards', 'crybaby', 'cyclist', 'ladyboy', 'racists', 'babysitters', 'grandmaster', 'neocons', 'satanist', 'paedophiles', 'jackass', 'spaz', 'maid', 'soulmate', 'grandfathers', 'pariah', 'cockblocker', 'zombies', 'complainer', 'scandinavians', 'missionaries', 'radicals', 'jokers', 'big believer', 'jb', 'homos', 'colombianas', 'powerlifters', 'succubus', 'antagonist', 'public defender', 'widower', 'outlaws', 'provocateur', 'colonists', 'infiltrators', 'amigo', 'husbands', 'prostitute', 'partier', 'little pussy', 'widows', 'wimminz', 'troublemaker', 'geezer', 'bodyguard', 'rappers', 'creators', 'bffs', 'jihadis', 'dems', 'homeowner', 'other demographic', 'juror', 'tyrants', 'scoundrel', 'butch lesbian', 'custodian', 'imposter', 'pedos', 'antichrist', 'baller', 'cougar', 'hot pussy', 'naysayers', 'respondent', 'stylist', 'nympho', 'bums', 'cocksucker', 'wife beater', 'aunts', 'nephews', 'turk', 'uninitiated', 'good pussy', 'bank teller', 'witches', 'underdog', 'stoners', 'bishops', 'harlot', 'yakuza', 'norwegians', 'oppressor', 'nutter', 'blacksmith', 'imbecile', 'heros', 'commentors', 'criminals', 'chef', 'dictator', 'fellows', 'adolescents', 'loon', 'pushover', 'serial monogamist', 'nymphomaniac', 'middle easterners', 'leper', 'sibling', 'cretins', 'junkies', 'figurehead', 'texans', 'detractors', 'sissies', 'machinist', 'commanders', 'intj', 'underlings', 'posers', 'other gender', 'granddad', 'skinheads', 'succubi', 'magistrate', 'environmentalists', 'fuckwits', 'pakis', 'aryans', 'propagandists', 'evangelicals', 'hater', 'gatekeeper', 'thots', 'muslims', 'yanks', 'felons', 'alumni', 'misogynists', 'lurkers', 'lecturer', 'skeptic', 'refs', 'chav', 'chap', 'bandits', 'exwife', 'banshee', 'female characters', 'conspiracy theorists', 'plebs', 'hunny', 'collectivists', 'plain janes', 'transvestite', 'high schooler', 'straights', 'prisoners', 'puritans', 'paraplegic', 'lad', 'sadist', 'liars', 'stunner', 'interns', 'devs', 'armenians', 'caregivers', 'plain jane', 'assassins', 'gigolo', 'fanboys', 'footballers', 'sick fuck', 'ignoramus', 'surrogates', 'shepherds', 'idealists', 'perp', 'grandchild', 'crook', 'endocrinologist', 'bolsheviks', 'tax payer', 'child molesters', 'realist', 'blogger', 'latinos', 'sweetheart', 'jailbait', 'crazies', 'conqueror', 'bikers', 'hitman', 'scorpio', 'traditionalists', 'workhorse', 'subhuman', 'lazy fuck', 'transgenders', 'felon', 'negro', 'shmuck', 'martyrs', 'bestie', 'midwife', 'warlord', 'traffickers', 'innocents', 'normans', 'fpua', 'wifes', 'creeper', 'unicorns', 'pussy magnet', 'accomplice', 'weakling', 'youtubers', '20 somethings', 'nigger', 'paparazzi', 'clergy', 'helper', 'taxi drivers', 'cockblockers', 'contemporaries', 'aristocracy', 'guitarist', 'womanizers', 'fishermen', 'sisterhood', 'nobodies', 'romanians', 'bandit', 'fuckwit', 'bub', 'frenchman', 'oligarchs', 'doer', 'fatasses', 'laborer', 'wasps', 'kidnapper', 'submitter', 'flat earthers', 'stacys', 'grandmothers', 'creepers', 'trannys', 'athlete', 'englishman', 'dermatologist', 'sugar daddies', 'egyptians', 'gammas', 'barbers', 'newcomers', 'fucktard', 'girl1', 'elites', 'pastors', 'detectives', 'sociologists', 'swedes', 'douchbag', 'contestants', 'givers', 'narcos', 'kv', 'someone pregnant', 'heroines', 'newborns', 'ashkenazi', 'goober', 'gremlin', 'whole gender', 'coward', 'tramp', 'onlookers', 'thot', 'good samaritan', 'degenerates', 'lucky bastard', 'painter', 'misogynist', 'admirers', 'total pussy', 'salesperson', 'laborers', 'presenter', 'irishman', 'outcasts', 'suicide bomber', 'nurturer', 'infp', 'invaders', 'dames', 'humankind', 'chauvinists', 'creationists', 'nice strawman', 'mohel', 'orbiters', 'cubans', 'latinas', 'fag', 'hostesses', 'schmuck', 'trolls', 'foodie', 'expats', 'gangbanger', 'kiwis', 'sociologist', 'spouses', 'dummy', 'mysogynist', 'downer', 'opportunists', 'psychopaths', 'comrade', 'nurses', 'populace', 'slayer', 'nannies', 'juries', 'perpetrator', 'nanny', 'pedophiles', 'selectors', 'nutjob', 'prettyboy', 'grownup', 'pariahs', 'handmaid', 'hoarder', 'mrm', 'orphans', 'playboys', 'hb3', 'roomie', 'asshat', 'athletes', 'emotional tampons', 'new pussy', 'scholar', 'posse', 'cashiers', 'backpackers', 'rednecks', 'firefighters', 'emperors', 'millenials', 'electrician', 'patriarchs', 'superheroes', 'monks', 'doormats', 'sicko', 'soys', 'pediatricians', 'porn addict', 'outsiders', 'chaps', 'ballerina', 'geniuses', 'scumbag', 'drill sergeant', 'apprentices', 'grandchildren', 'commenter', 'brethren', 'vegetarians', 'honey badger', 'fanatics', 'spies', 'chaperone', 'drunk drivers', 'college graduate', 'wimmins', 'techie', 'fuckheads', 'israelis', 'lunatics', 'fucking psycho', 'amputee', 'traitors', 'sil', 'israelites', 'faggot', 'wrestlers', 'nutcase', 'hipsters', 'heroes', 'clientele', 'faggots', 'dumb fuck', 'wenches', 'tutors', 'misfit', 'grannies', 'stewardess', 'neurologist', 'environmentalist', 'bystander', 'ballers', 'mummy', 'janitors', 'romans', 'priest', 'grandparent', 'loons', 'grandkids', 'combatant', 'missus', 'psychiatrists', 'libtards', 'sexists', 'striker', 'pursuer', 'elitists', 'dumbasses', 'mercenaries', 'paramedics', 'activists', 'charlatans', 'social outcast', 'welders', 'right winger', 'conscripts', 'gentiles', 'cannibals', 'rabbis', 'single gender', 'homophobes', 'wive', 'meathead', 'grandmas', 'stoner', 'other pussy', 'fiancee', 'drug addict', 'gangsters', 'true believer', 'believers', 'hairdressers', 'nana', 'astronauts', 'scumbags', 'hobbyist', 'influencers', 'coder', 'nihilist', 'underclass', 'yogi', 'tradesman', 'carer', 'medic', 'slackers', 'ideologues', 'harasser', 'asshats', 'homemakers', 'satanists', 'rando', 'imam', 'social creatures', 'snitch', 'sororities', 'migrants', 'nigga', 'feminazis', 'organizers', 'beggars', 'groupies', 'trainers', 'goddesses', 'commoners', 'adventurer', 'aunt', 'dominatrix', 'caucasians', 'arabs', 'mutants', 'meth addict', 'spoiled brats', 'serbs', 'mugger', 'uncles', 'white pussy', 'explorers', 'stepmother', 'supervisors', 'zeta', 'inferiors', 'walking atm', 'enforcers', 'anthropologist', 'femenists', 'creationist', 'zionists', 'girl scouts', 'someone ugly', 'jbs', 'outlier', 'exhibitionist', 'moderates', 'nieces', 'amish', 'punks', 'scammer', 'ukrainians', 'smokers', 'womankind', 'rapists', 'past generations', 'breadwinners', 'nomads', 'instigator', 'chauffeur', 'poor soul', 'protestors', 'tyrone', 'wrong gender', 'harassers', 'ecs', 'heretics', 'outgroup', 'unicorn', 'pussies', 'barista', 'manipulators', 'pothead', 'motherfuckers', 'comedians', 'enabler', 'groom', 'sigmas', 'patron', 'poser', 'lone wolves', 'preachers', 'walking wallet', 'studs', 'real pussy', 'sikhs', 'zealot', 'thais', 'housekeeper', 'snipers', 'attention seeker', 'generals', 'protestants', 'shitbags', 'ugly fuck', 'the childs', 'entire gender', 'eunuchs', 'boogeyman', 'filipina', 'college grads', 'mongols', 'dumbo', 'buffoon', 'survivor', 'exs', 'suspects', 'plumbers', 'rabbi', 'exgf', 'spinster', 'freemasons', 'quitter', 'inventors', 'heretic', 'reactionaries', 'narc', 'solicitor', 'prosecutor', 'mockingbird', 'pervs', 'masochists', 'bimbos', 'fuckbuddy', 'milfs', 'conquerors', 'fuglies', 'broski', 'wizards', 'cynic', 'gringos', 'slayers', 'emt', 'spinsters', 'historian', 'golddigger', 'betters', 'warden', 'illegal immigrant', 'illegals', 'aboriginals', 'deity', 'fictional characters', 'gangbangers', 'chiropractor', 'nutters', 'campaigners', 'cultist', 'mistresses', 'wingwoman', 'omegas', 'bff', 'arsehole', 'powerlifter', 'supplicant', 'murderer', 'inhabitants', 'alcoholics', 'wifey', 'schoolboy', 'bystanders', 'hustler', 'brutes', 'ceos', 'shitheads', 'queen bee', 'looker', 'outsider', 'housemate', 'human race', 'bad kisser', 'philosophers', 'druggie', 'schoolgirls', 'white supremacist', 'nemesis', 'cameraman', 'complainant', 'referee', 'pres', 'patsy', 'kiddos', 'npcs', 'angels', 'billionaires', 'philosopher', 'cabbie', 'cohorts', 'fuckbuddies', 'pansy', 'boomer', 'niggas', 'single parenthood', 'superiors', 'cheater', 'dumbfucks', 'patrons', 'pharaoh', 'bridesmaids', 'priests', 'gladiator', 'workaholic', 'proles', 'deadbeats', 'great conversationalist', 'crackheads', 'laymen', 'childrens', 'new yorkers', 'gunman', 'impostor', 'misanthrope', 'loonies', 'ancap', 'monarchs', 'stepmom', 'gold diggers', 'vixen', 'idealist', 'jackasses', 'fobs', 'mother hen', 'keepers', 'bubba', 'narcissists', 'youngster', 'pedestrians', 'normals', 'child molester', 'medics', 'huge pussy', 'sycophants', 'nigerians', 'biologists', 'responder', 'savages', 'maori', 'merc', 'homeowners', 'physicist', 'stoics', 'healer', 'coon', 'humanist', 'orthodontist', 'carers', 'demigod', 'fuckwad', 'robbers', 'manwhore', 'supervisor', 'doormat', 'beau', 'realists', 'homies', 'bisexuals', 'infidels', 'weenie', 'kiddo', 'cheaters', 'quacks', 'extrovert', 'faker', 'anglos', 'pianist', 'perv', 'hunters', 'adversaries', 'another mans', 'psychotherapist', 'slavs', 'retirees', 'beholder', 'bogeyman', 'renter', 'urologist', 'crusaders', 'innovators', 'npc', 'aristocrat', 'hardass', 'nutcases', 'transmen', 'lvm', 'rper', 'sex havers', 'downvoters', 'apua', 'hbblonde']\n",
      "\n",
      "2007 ['millennials', 'trps', 'normies', 'cads', 'hikikomori', 'aspies', 'sahm', 'autists', 'wimmenz', 'beckys', 'wymyn', 'fucktoy', 'randos', 'larpers', 'neurotypicals', 'stacie', 'landwhale', 'hambeasts', 'weeaboo', 'womyns', 'school shooters', 'people irl', 'suffragettes', 'incel', 'fembot', 'camwhore', 'sex bots', 'cosplayers', 'trollops', 'cum dumpsters', 'mgtow', 'sex robot', 'globalists', 'bps', 'old hags', 'masculist', 'equalist', 'sex bot', 'dravidian', 'friendo', 'radfems', 'terf', 'foid', 'camgirl', 'femnazis', 'xw', 'infiltrator', 'wageslave', 'young pussy', 'cuckolds', 'femnazi', 'intactivists', 'rape apologist', 'homebody', 'antifa', 'aspie', 'basement dweller', 'white knights', 'hambeast', 'female supremacist', 'batterers', 'cum dumpster', 'mra', 'transpeople', 'filipinas', 'nonwhites', 'stepdaughter', 'assaulter', 'transwoman', 'sloot', 'sexbot', 'sexbots', 'baby daddies', 'manlet', 'influencer', 'larper', 'feminsts', 'nordics', 'mras', 'prepper', 'honey badgers', 'tyrones', 'transwomen', 'cuckold', 'womenz', 'batterer', 'camgirls', 'masculinist', 'cumdumpster', 'femails', 'downvote brigade', 'faer']\n",
      "\n",
      "2008 ['pocket pussy', 'women irl', 'weebs', 'suffragists', 'rape apologists', 'dudebro', 'antifeminists', 'womynz', 'menz', 'female supremacists', 'stbx', 'stacies', 'punjabis', 'manlets', 'redpillers', 'cuck', 'fuckboys', 'mass shooters', 'manginas', 'fuckboy', 'sloots', 'laydeez', 'roasties', 'female protagonists', 'cucks', 'staceys', 'senpai', 'manchildren', 'jailbaits', 'brigaders', 'rich bimbo', 'fho', 'annarchist']\n",
      "\n",
      "2009 ['brony', 'intactivist', 'shitskins', 'rad fems', 'incels', 'shitlord', 'shitposter', 'femtards', 'good goy', 'fat neckbeard', 'spergs', 'mhra', 'bathmate', 'wamen', 'besties', 'foids', 'landwhales', 'involuntary celibates', 'shitlords', 'meninist', 'bpers', 'catfishman', 'fhos']\n",
      "\n"
     ]
    }
   ],
   "source": [
    "for year in range(2005, 2010): \n",
    "    print(year, yearly_innovations[str(year)])\n",
    "    print()"
   ]
  },
  {
   "cell_type": "code",
   "execution_count": 116,
   "id": "47fc5ba1",
   "metadata": {},
   "outputs": [
    {
     "name": "stdout",
     "output_type": "stream",
     "text": [
      "2007 ['millennials', 'trps', 'normies', 'cads', 'hikikomori', 'aspies', 'sahm', 'autists', 'wimmenz', 'beckys', 'wymyn', 'fucktoy', 'randos', 'larpers', 'neurotypicals', 'stacie', 'landwhale', 'hambeasts', 'weeaboo', 'womyns', 'school shooters', 'people irl', 'suffragettes', 'incel', 'fembot', 'camwhore', 'sex bots', 'cosplayers', 'trollops', 'cum dumpsters', 'mgtow', 'sex robot', 'globalists', 'bps', 'old hags', 'masculist', 'equalist', 'sex bot', 'dravidian', 'friendo', 'radfems', 'terf', 'foid', 'camgirl', 'femnazis', 'xw', 'infiltrator', 'wageslave', 'young pussy', 'cuckolds', 'femnazi', 'intactivists', 'rape apologist', 'homebody', 'antifa', 'aspie', 'basement dweller', 'white knights', 'hambeast', 'female supremacist', 'batterers', 'cum dumpster', 'mra', 'transpeople', 'filipinas', 'nonwhites', 'stepdaughter', 'assaulter', 'transwoman', 'sloot', 'sexbot', 'sexbots', 'baby daddies', 'manlet', 'influencer', 'larper', 'feminsts', 'nordics', 'mras', 'prepper', 'honey badgers', 'tyrones', 'transwomen', 'cuckold', 'womenz', 'batterer', 'camgirls', 'masculinist', 'cumdumpster', 'femails', 'downvote brigade', 'faer']\n",
      "\n",
      "2008 ['pocket pussy', 'women irl', 'weebs', 'suffragists', 'rape apologists', 'dudebro', 'antifeminists', 'womynz', 'menz', 'female supremacists', 'stbx', 'stacies', 'punjabis', 'manlets', 'redpillers', 'cuck', 'fuckboys', 'mass shooters', 'manginas', 'fuckboy', 'sloots', 'laydeez', 'roasties', 'female protagonists', 'cucks', 'staceys', 'senpai', 'manchildren', 'jailbaits', 'brigaders', 'rich bimbo', 'fho', 'annarchist']\n",
      "\n",
      "2009 ['brony', 'intactivist', 'shitskins', 'rad fems', 'incels', 'shitlord', 'shitposter', 'femtards', 'good goy', 'fat neckbeard', 'spergs', 'mhra', 'bathmate', 'wamen', 'besties', 'foids', 'landwhales', 'involuntary celibates', 'shitlords', 'meninist', 'bpers', 'catfishman', 'fhos']\n",
      "\n",
      "2010 ['nawalts', 'soyboy', 'dicklet', 'roastie', 'terfs', 'rationalization hamster', 'prime pussy', 'khv', 'blue piller', 'mghow', 'mgtows', 'sedditor', 'shitposters', 'khhv', 'sedditors', 'faers']\n",
      "\n",
      "2011 ['mtgow', 'globalist tyranny', 'red pillers', 'sjws', 'fuckboi', 'carousel riders', 'red piller', 'blue pillers', 'mgtowers', 'tradcons', 'tinderella', 'chad thundercock', 'nofappers', 'mgtower', 'bronies', 'srser', 'tallfag', 'srsers', 'husbank']\n",
      "\n",
      "2012 ['rvfers', 'alpha widow', 'mhras', 'dark triads', 'beta bux', 'femitheist', 'cc riders', 'beta billy', 'dickcel', 'femcel', 'moids', 'chaddam']\n",
      "\n",
      "2013 ['soyboys', 'volcels', 'bluepillers', 'edgelord', 'male smv', 'trpers', 'tumblrinas', 'redpiller', 'volcel', 'bluepiller', 'normie scum', 'turbomanlet', 'trper']\n",
      "\n",
      "2014 ['cuckcel', 'sluthaters', 'currycel', 'blackcel', 'gymcel', 'wahmen', 'ethniks', 'truecel', 'gymcels', 'betacuck', 'looksmatch', 'pajeet', 'richcel', 'youngcels', 'mentalcel', 'truecels', 'escortcels', 'fakecels', 'youngcel', 'sluthater', 'chadcel', 'oldcels', 'locationcel', 'jockcel', 'ethnicel', 'currycels', 'looksmatches', 'ethnicels', 'heightcel', 'sub8s', 'itcels', 'blackcels', 'fakecel', 'poorcel', 'gaycel', 'femcels', 'oldcel', 'mentalcels', 'wristcel']\n",
      "\n",
      "2015 ['cuckservatives', 'rapefugees', 'wagecucks', 'chadlet', 'chadpreet', 'ricecel', 'norwood reaper', 'ricecels', 'normshits', 'betabuxx', 'weemins']\n",
      "\n",
      "2016 ['numales', 'tradcucks', 'whamen', 'cucktears', 'tradcuck', 'gigachad']\n",
      "\n",
      "2017 ['noodlewhores', 'noodlewhore', 'tradthots', 'femoids', 'tradthot', 'gigachads', 'femoid', 'chadlite', 'chadlites', 'wahmyn', 'cucktear', 'cuckqueers', 'suicel', 'normtards']\n",
      "\n",
      "2018 []\n",
      "\n",
      "2019 []\n",
      "\n"
     ]
    }
   ],
   "source": [
    "innov_vocab = set()\n",
    "for year in range(2007, 2020): \n",
    "    print(year, yearly_innovations[str(year)])\n",
    "    innov_vocab.update(yearly_innovations[str(year)])\n",
    "    print()"
   ]
  },
  {
   "cell_type": "markdown",
   "id": "b3a64b97",
   "metadata": {},
   "source": [
    "## Analyze source and destinations of lexical innovations\n",
    "\n",
    "Only 212 words were born during/after 2008 that fit our innovation criteria, but if we filter down to only those that are born in reddit\\_rel or forum\\_rel, we get only 92 terms. Since it doesn't cost that much to track 20 additional terms, I included them. This means the network is not necessarily bipartite. \n",
    "\n",
    "After filtering out words and last tokens that are in Reuters, then we get 186 terms.  "
   ]
  },
  {
   "cell_type": "code",
   "execution_count": 125,
   "id": "18145bfe",
   "metadata": {},
   "outputs": [
    {
     "name": "stdout",
     "output_type": "stream",
     "text": [
      "278\n"
     ]
    }
   ],
   "source": [
    "print(len(innov_vocab))\n",
    "with open(LOGS + 'lexical_innovations.txt', 'w') as outfile: \n",
    "    for w in innov_vocab: \n",
    "        outfile.write(w + '\\n')"
   ]
  },
  {
   "cell_type": "code",
   "execution_count": 126,
   "id": "453e1cd1",
   "metadata": {},
   "outputs": [],
   "source": [
    "common_sources = Counter()\n",
    "mano_source_words = set()\n",
    "outside_source_words = set()\n",
    "for w in word_births: \n",
    "    if w not in innov_vocab: continue\n",
    "    content = word_births[w]\n",
    "    date = content[0]\n",
    "    year = date.split('-')[0]\n",
    "    if set(sources) & mano_communities: \n",
    "        mano_source_words.add(w)\n",
    "    else: \n",
    "        outside_source_words.add(w)\n",
    "    sources = content[1]\n",
    "    common_sources.update(sources)"
   ]
  },
  {
   "cell_type": "code",
   "execution_count": 127,
   "id": "0e1b6a78",
   "metadata": {},
   "outputs": [
    {
     "data": {
      "text/plain": [
       "[('reddit.com', 78),\n",
       " ('FORUM_red_pill_talk', 39),\n",
       " ('FORUM_the_attraction', 19),\n",
       " ('politics', 12),\n",
       " ('mensrights', 12),\n",
       " ('askreddit', 11),\n",
       " ('incels', 10),\n",
       " ('FORUM_pua_forum', 8),\n",
       " ('programming', 5),\n",
       " ('funny', 5),\n",
       " ('pics', 4),\n",
       " ('thebluepill', 4),\n",
       " ('science', 4),\n",
       " ('wtf', 4),\n",
       " ('drama', 4),\n",
       " ('shitredditsays', 4),\n",
       " ('the_donald', 3),\n",
       " ('FORUM_rooshv', 3),\n",
       " ('atheism', 3),\n",
       " ('seduction', 3),\n",
       " ('entertainment', 3),\n",
       " ('theredpill', 3),\n",
       " ('business', 3),\n",
       " ('news', 2),\n",
       " ('4chan4trump', 2),\n",
       " ('mgtow', 2),\n",
       " ('purplepilldebate', 2),\n",
       " ('askmen', 2),\n",
       " ('videos', 2),\n",
       " ('worldnews', 2)]"
      ]
     },
     "execution_count": 127,
     "metadata": {},
     "output_type": "execute_result"
    }
   ],
   "source": [
    "common_sources.most_common(30)"
   ]
  },
  {
   "cell_type": "code",
   "execution_count": 133,
   "id": "71f4e2e5",
   "metadata": {},
   "outputs": [
    {
     "name": "stdout",
     "output_type": "stream",
     "text": [
      "antipozi\n",
      "kotakuinaction\n",
      "puahate\n",
      "waluigi\n",
      "wikipedia\n",
      "oney\n",
      "orangecounty\n",
      "losangeles\n",
      "4chan4trump\n",
      "badhistory\n",
      "netsec\n",
      "gatekeeping\n",
      "anarchism\n",
      "purplepilldebate\n",
      "justneckbeardthings\n",
      "drama\n",
      "bacon\n",
      "equality\n",
      "egalitarian\n",
      "cooking\n",
      "computebazaar\n",
      "buildapcsales\n",
      "shitredditsays\n",
      "transgender\n",
      "subredditdrama\n",
      "diablo\n",
      "tumblrinaction\n",
      "cuckold\n",
      "dirtykik\n",
      "feminisms\n",
      "soccerspirits\n",
      "timetravel\n",
      "nofapjuly\n",
      "pfjerk\n",
      "4chan\n",
      "celebrities\n",
      "meetup\n",
      "gay\n",
      "sidehugs\n",
      "gaybros\n",
      "fitnesscirclejerk\n",
      "pets\n",
      "cortexcommand\n",
      "theoryofreddit\n"
     ]
    }
   ],
   "source": [
    "top_n_subreddits = set()\n",
    "with open(DATA + 'all_reddit_post_counts/top_subreddits.txt', 'r') as infile: \n",
    "    line_count = 0\n",
    "    for line in infile: \n",
    "        top_n_subreddits.add(line.strip().split(' ')[0])\n",
    "        line_count += 1\n",
    "        if line_count == 500: break\n",
    "for source in common_sources: \n",
    "    if source.startswith('FORUM_'): continue\n",
    "    if source not in top_n_subreddits and source not in mano_communities: \n",
    "        print(source)"
   ]
  },
  {
   "cell_type": "code",
   "execution_count": 120,
   "id": "f764006a",
   "metadata": {},
   "outputs": [
    {
     "name": "stdout",
     "output_type": "stream",
     "text": [
      "{'chadlite', 'chadlet', 'women irl', 'femcel', 'intactivist', 'rationalization hamster', 'friendo', 'wahmen', 'landwhale', 'fakecel', 'edgelord', 'female supremacists', 'manginas', 'itcels', 'sedditors', 'incels', 'fuckboy', 'sex bot', 'femails', 'manlet', 'sub8s', 'bluepiller', 'faer', 'cuckcel', 'rapefugees', 'camwhore', 'trper', 'chaddam', 'beta bux', 'senpai', 'turbomanlet', 'bps', 'terfs', 'batterer', 'red piller', 'wahmyn', 'heightcel', 'truecels', 'redpiller', 'roasties', 'femoid', 'catfishman', 'srsers', 'ricecels', 'locationcel', 'wristcel', 'incel', 'tradcuck', 'chadpreet', 'norwood reaper', 'cuckservatives', 'sexbot', 'transwomen', 'larpers', 'numales', 'influencer', 'foid', 'ethnicel', 'sluthaters', 'hambeast', 'mentalcel', 'sluthater', 'mentalcels', 'escortcels', 'landwhales', 'oldcels', 'brigaders', 'weebs', 'cuckqueers', 'gigachads', 'shitlord', 'poorcel', 'khhv', 'manlets', 'fakecels', 'aspies', 'intactivists', 'looksmatches', 'gymcel', 'millennials', 'blackcels', 'womenz', 'feminsts', 'blackcel', 'oldcel', 'suffragists', 'chadcel', 'nonwhites', 'manchildren', 'youngcels', 'wymyn', 'globalists', 'youngcel', 'currycel', 'normie scum', 'cc riders', 'noodlewhore', 'richcel', 'volcel'}\n",
      "\n",
      "{'pajeet', 'dudebro', 'stepdaughter', 'randos', 'dark triads', 'fat neckbeard', 'rad fems', 'menz', 'masculinist', 'mgtower', 'fhos', 'dravidian', 'honey badgers', 'autists', 'wageslave', 'radfems', 'fucktoy', 'antifa', 'laydeez', 'redpillers', 'womynz', 'soyboys', 'pocket pussy', 'ethniks', 'besties', 'bronies', 'neurotypicals', 'cumdumpster', 'annarchist', 'cuckold', 'roastie', 'tradcucks', 'nawalts', 'truecel', 'red pillers', 'cads', 'masculist', 'cucktears', 'sahm', 'rvfers', 'cucks', 'trpers', 'good goy', 'chad thundercock', 'prime pussy', 'mgtows', 'basement dweller', 'camgirl', 'blue pillers', 'suicel', 'mgtowers', 'fuckboys', 'beta billy', 'sedditor', 'femnazi', 'white knights', 'tinderella', 'sexbots', 'fho', 'cosplayers', 'tyrones', 'dickcel', 'weemins', 'blue piller', 'meninist', 'femcels', 'punjabis', 'cuckolds', 'prepper', 'chadlites', 'hikikomori', 'equalist', 'looksmatch', 'infiltrator', 'stacie', 'suffragettes', 'involuntary celibates', 'normshits', 'femnazis', 'rape apologist', 'cucktear', 'mhra', 'khv', 'hambeasts', 'cum dumpsters', 'camgirls', 'cum dumpster', 'ricecel', 'womyns', 'mtgow', 'mass shooters', 'jailbaits', 'male smv', 'trps', 'female protagonists', 'mhras', 'femtards', 'stbx', 'assaulter', 'bpers', 'nofappers', 'tradthot', 'noodlewhores', 'baby daddies', 'rape apologists', 'carousel riders', 'tradcons', 'husbank', 'terf', 'sjws', 'mras', 'shitposter', 'wamen', 'shitlords', 'transpeople', 'homebody', 'bluepillers', 'foids', 'young pussy', 'normies', 'trollops', 'batterers', 'tradthots', 'spergs', 'people irl', 'moids', 'whamen', 'stacies', 'tallfag', 'betacuck', 'brony', 'dicklet', 'bathmate', 'sex robot', 'old hags', 'volcels', 'mgtow', 'transwoman', 'larper', 'nordics', 'wagecucks', 'normtards', 'globalist tyranny', 'ethnicels', 'sex bots', 'female supremacist', 'weeaboo', 'tumblrinas', 'school shooters', 'currycels', 'mra', 'soyboy', 'gaycel', 'wimmenz', 'mghow', 'sloot', 'shitposters', 'gigachad', 'faers', 'jockcel', 'shitskins', 'femoids', 'cuck', 'gymcels', 'femitheist', 'xw', 'rich bimbo', 'downvote brigade', 'srser', 'aspie', 'antifeminists', 'alpha widow', 'betabuxx', 'fembot', 'sloots', 'staceys', 'filipinas', 'beckys', 'fuckboi'}\n"
     ]
    }
   ],
   "source": [
    "print(mano_source_words)\n",
    "print()\n",
    "print(outside_source_words)"
   ]
  },
  {
   "cell_type": "code",
   "execution_count": null,
   "id": "bb71b305",
   "metadata": {},
   "outputs": [],
   "source": []
  }
 ],
 "metadata": {
  "kernelspec": {
   "display_name": "Python 3 (ipykernel)",
   "language": "python",
   "name": "python3"
  },
  "language_info": {
   "codemirror_mode": {
    "name": "ipython",
    "version": 3
   },
   "file_extension": ".py",
   "mimetype": "text/x-python",
   "name": "python",
   "nbconvert_exporter": "python",
   "pygments_lexer": "ipython3",
   "version": "3.7.11"
  }
 },
 "nbformat": 4,
 "nbformat_minor": 5
}
