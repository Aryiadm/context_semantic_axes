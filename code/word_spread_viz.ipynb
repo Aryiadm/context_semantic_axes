{
 "cells": [
  {
   "cell_type": "code",
   "execution_count": 1,
   "id": "f6d05432",
   "metadata": {},
   "outputs": [],
   "source": [
    "import os\n",
    "import json\n",
    "from collections import defaultdict, Counter\n",
    "import csv\n",
    "from helpers import get_sr_cats\n",
    "from nltk.corpus import reuters, brown"
   ]
  },
  {
   "cell_type": "code",
   "execution_count": 2,
   "id": "f79a066c",
   "metadata": {},
   "outputs": [],
   "source": [
    "ROOT = '/mnt/data0/lucy/manosphere/'\n",
    "DATA = ROOT + 'data/'\n",
    "LOGS = ROOT + 'logs/'"
   ]
  },
  {
   "cell_type": "code",
   "execution_count": 3,
   "id": "45ab11c8",
   "metadata": {},
   "outputs": [],
   "source": [
    "with open(LOGS + 'overall_word_births.json', 'r') as infile: \n",
    "    word_births = json.load(infile)"
   ]
  },
  {
   "cell_type": "code",
   "execution_count": 4,
   "id": "d2b05fe1",
   "metadata": {},
   "outputs": [
    {
     "name": "stdout",
     "output_type": "stream",
     "text": [
      "{'philosophyofrape', 'pickup', 'blackpillscience', 'suicidewatch', 'seduction', 'mensrightslinks', 'truefemcels', 'thanktrp', 'mensrights', 'FORUM_pua_forum', 'redpillparenting', 'mgtowbooks', 'femaledatingstrategy', 'FORUM_rooshv', 'incelspurgatory', 'askfds', 'thebluepill', '1ncels', 'mrref', 'malecels', 'foreveralonelondon', 'braincels', 'geotrp', 'supportcel', 'becomeaman', 'incelselfies', 'theglowup', 'pinkpillfeminism', 'pornfreerelationships', 'foreveraloneteens', 'lonelynonviolentmen', 'mgtowmusic', 'fpua', 'alttrp', 'rsd', 'askanincel', 'intactivists', 'inceltears', 'asktrufemcels', 'truecels', 'trufemcels', 'asktrp', 'masculism', 'FORUM_incels', 'foreveralone', 'trpofftopic', 'mgtow', 'FORUM_the_attraction', 'puascience', 'gold_digger', 'ladymras', 'fdssuperfans', 'marriedredpill', 'redpillwomen', 'mensrightslaw', 'gymcels', 'depression', 'gaycel', 'redpillwives', 'foreverunwanted', 'FORUM_red_pill_talk', 'pussypass', 'mractivism', 'inceldense', 'foreveralonedating', 'FORUM_avfm', 'askseddit', 'incels', 'socialanxiety', 'theredpill', 'egalitarianism', 'pua', 'exredpill', 'incelswithouthate', 'maleforeveralone', 'femalelevelupstrategy', 'incelbrotherhood'}\n"
     ]
    }
   ],
   "source": [
    "categories = get_sr_cats()\n",
    "forums = ['FORUM_the_attraction', 'FORUM_pua_forum', 'FORUM_incels', \n",
    "          'FORUM_red_pill_talk', 'FORUM_avfm', 'FORUM_rooshv', 'FORUM_red_pill_talk']\n",
    "mano_communities = set(categories.keys()) | set(forums)\n",
    "print(mano_communities)"
   ]
  },
  {
   "cell_type": "markdown",
   "id": "b7002b84",
   "metadata": {},
   "source": [
    "## Get lexical innovation vocabulary\n",
    "\n",
    "First, we find a suitable cutoff for words that we can ensure they are actually new (and not just new because they are part of general language and some communities are earlier in the dataset than others. \n",
    "\n",
    "We remove bigrams whose second token also appears in our vocabulary, since those tend to be innovative phrases less often. This removes terms such as \"most girls\" yet retains many innovative phrase such as \"carousel riders\". \n",
    "\n",
    "We use the reuters corpus (created in 2000) to filter out non-innovative words. "
   ]
  },
  {
   "cell_type": "code",
   "execution_count": 5,
   "id": "bb11a4de",
   "metadata": {},
   "outputs": [
    {
     "name": "stdout",
     "output_type": "stream",
     "text": [
      "['electricians', 'repairs', 'bonus', 'kassenobligation', 'unavoidable', 'black', 'ipla', 'contemplated', 'friedhelm', 'vlissingen']\n"
     ]
    }
   ],
   "source": [
    "reuters_words = set([w.lower() for w in reuters.words()])\n",
    "brown_words = set([w.lower() for w in brown.words()])\n",
    "print(list(reuters_words)[:10])"
   ]
  },
  {
   "cell_type": "code",
   "execution_count": 6,
   "id": "4e93def5",
   "metadata": {},
   "outputs": [],
   "source": [
    "common_sources = Counter()\n",
    "yearly_innovations = defaultdict(list) # {year: [list of innovations]}\n",
    "for w in word_births: \n",
    "    if w in reuters_words or w in brown_words: continue # not an innovation\n",
    "    if w.endswith('s'): \n",
    "        if w[:-1] in reuters_words or w[:-1] in brown_words: continue # not an innovation\n",
    "    if ' ' in w: # bigram\n",
    "        toks = w.split(' ')\n",
    "        if toks[-1] in word_births or toks[-1] in reuters_words or toks[-1] in brown_words: continue\n",
    "    content = word_births[w]\n",
    "    date = content[0]\n",
    "    year = date.split('-')[0]\n",
    "    sources = content[1]\n",
    "    # uncomment below if you want to find words that only manosphere communities pioneeered\n",
    "    #if set(sources) & mano_communities: \n",
    "    yearly_innovations[year].append(w)\n",
    "    common_sources.update(sources)"
   ]
  },
  {
   "cell_type": "code",
   "execution_count": 7,
   "id": "2d4e4118",
   "metadata": {},
   "outputs": [
    {
     "data": {
      "text/plain": [
       "[('FORUM_the_attraction', 577),\n",
       " ('reddit.com', 343),\n",
       " ('FORUM_red_pill_talk', 39),\n",
       " ('politics', 12),\n",
       " ('askreddit', 11),\n",
       " ('mensrights', 11),\n",
       " ('incels', 10),\n",
       " ('programming', 9),\n",
       " ('FORUM_pua_forum', 8),\n",
       " ('funny', 5),\n",
       " ('pics', 4),\n",
       " ('thebluepill', 4),\n",
       " ('science', 4),\n",
       " ('wtf', 4),\n",
       " ('drama', 4),\n",
       " ('shitredditsays', 4),\n",
       " ('the_donald', 3),\n",
       " ('atheism', 3),\n",
       " ('seduction', 3),\n",
       " ('entertainment', 3),\n",
       " ('theredpill', 3),\n",
       " ('business', 3),\n",
       " ('news', 2),\n",
       " ('FORUM_rooshv', 2),\n",
       " ('4chan4trump', 2),\n",
       " ('mgtow', 2),\n",
       " ('purplepilldebate', 2),\n",
       " ('askmen', 2),\n",
       " ('videos', 2),\n",
       " ('worldnews', 2),\n",
       " ('antipozi', 1),\n",
       " ('kotakuinaction', 1),\n",
       " ('puahate', 1),\n",
       " ('waluigi', 1),\n",
       " ('rupaulsdragrace', 1),\n",
       " ('wikipedia', 1),\n",
       " ('oney', 1),\n",
       " ('features', 1),\n",
       " ('badhistory', 1),\n",
       " ('netsec', 1),\n",
       " ('gadgets', 1),\n",
       " ('gatekeeping', 1),\n",
       " ('anarchism', 1),\n",
       " ('askwomen', 1),\n",
       " ('cringeanarchy', 1),\n",
       " ('bestof', 1),\n",
       " ('justneckbeardthings', 1),\n",
       " ('vegan', 1),\n",
       " ('penis', 1),\n",
       " ('bacon', 1),\n",
       " ('equality', 1),\n",
       " ('egalitarian', 1),\n",
       " ('cooking', 1),\n",
       " ('computebazaar', 1),\n",
       " ('buildapcsales', 1),\n",
       " ('guildwars2', 1),\n",
       " ('australia', 1),\n",
       " ('todayilearned', 1),\n",
       " ('transgender', 1),\n",
       " ('subredditdrama', 1),\n",
       " ('diablo', 1),\n",
       " ('self', 1),\n",
       " ('cringepics', 1),\n",
       " ('tumblrinaction', 1),\n",
       " ('cuckold', 1),\n",
       " ('dirtykik', 1),\n",
       " ('feminisms', 1),\n",
       " ('soccerspirits', 1),\n",
       " ('health', 1),\n",
       " ('comics', 1),\n",
       " ('leagueoflegends', 1),\n",
       " ('wow', 1),\n",
       " ('nofap', 1),\n",
       " ('nofapjuly', 1),\n",
       " ('pfjerk', 1),\n",
       " ('gardening', 1),\n",
       " ('4chan', 1),\n",
       " ('books', 1),\n",
       " ('de', 1),\n",
       " ('nsfw', 1),\n",
       " ('trees', 1),\n",
       " ('foreveralone', 1),\n",
       " ('celebrities', 1),\n",
       " ('gaming', 1),\n",
       " ('meetup', 1),\n",
       " ('christianity', 1),\n",
       " ('gay', 1),\n",
       " ('sidehugs', 1),\n",
       " ('gaybros', 1),\n",
       " ('fitnesscirclejerk', 1),\n",
       " ('blackpeopletwitter', 1),\n",
       " ('FORUM_mgtow', 1),\n",
       " ('pets', 1),\n",
       " ('fitness', 1),\n",
       " ('cortexcommand', 1),\n",
       " ('theoryofreddit', 1),\n",
       " ('tattoos', 1)]"
      ]
     },
     "execution_count": 7,
     "metadata": {},
     "output_type": "execute_result"
    }
   ],
   "source": [
    "common_sources.most_common()"
   ]
  },
  {
   "cell_type": "code",
   "execution_count": 8,
   "id": "a1474f7f",
   "metadata": {},
   "outputs": [
    {
     "name": "stdout",
     "output_type": "stream",
     "text": [
      "2005 ['gf', 'assholes', 'eachother', 'chodes', 'roomate', 'amogs', 'hypnotist', 'goofball', 'geek', 'cunt', 'fuckers', 'cunts', 'hippies', 'masseuse', 'enablers', 'oddball', 'newb', 'toastmasters', 'joker', 'narcissist', 'chubby chasers', 'freelancers', 'shaman', 'wackos', 'boyz', 'infj', 'server', 'keyboard jockeys', 'bloggers', 'noobie', 'prude', 'rapist', 'exes', 'shorty', 'gamer', 'brat', 'perverts', 'womanizer', 'dudes', 'girlfriends', 'smartass', 'hb2', 'stalker', 'stalkers', 'sluts', 'douche', 'noob', 'hb10', 'lifeguard', 'boyfriends', 'nerd', 'hotties', 'dumbass', 'weirdos', 'jerkoff', 'mods', 'moron', 'niceguy', 'barmaid', 'morons', 'jedi', 'wanker', 'selector', 'hb4', 'girlfriend', 'dude', 'slut', 'surfers', 'druggies', 'caveman', 'pornstar', 'hb7', 'bouncers', 'baristas', 'airhead', 'hb5', 'hb6', 'puas', 'misfits', 'hacker', 'toddler', 'paedophile', 'filmmaker', 'commenters', 'pua', 'hb9', 'wingmen', 'dork', 'nerds', 'doofus', 'cheerleader', 'pervert', 'amog', 'babysitter', 'hb8', 'rapper', 'ceo', 'warlords', 'goths', 'bookworm', 'hottie', 'pornstars', 'trainee', 'fucker', 'spaniard', 'aussies', 'dickhead', 'mafia', 'perps', 'boyfriend', 'firefighter', 'cashier', 'mofo', 'buzzkill', 'swimmer', 'bozo', 'emotional tampon', 'motherfucker', 'noone', 'geeks', 'swingers', 'twat', 'atheist', 'gents', 'cutie', 'weirdo', 'celeb', 'paramedic', 'supermodels', 'homeboy', 'fags', 'hotty', 'uggos', 'perfectionist', 'sender', 'sociopath', 'chode', 'coworker', 'sweetie', 'pedo', 'dirtbag', 'lumberjack', 'gramps', 'bf', 'fattie', 'haters', 'protector', 'celebs', 'godfather', 'supermodel', 'wallflower', 'workmates', 'choosers', 'hooker', 'skank', 'flatmates', 'wimp', 'vigilantes', 'bucko', 'orbiter', 'snob', 'sensei', 'jester', 'hb10s', 'pedophile', 'concubines', 'housemates', 'newbs', 'coders', 'badboys', 'badboy', 'organizer', 'sidekick', 'goon', 'mod', 'newbie', 'bouncer', 'wussy', 'smoker', 'sophmore', 'feminazi', 'dickheads', 'babyface', 'footballer', 'asshole', 'rockstar', 'manipulator', 'frats', 'undergrads', 'millionare', 'newbies', 'loner', 'prof', 'rockstars', 'tomboy', 'villian', 'ninja', 'servers', 'goons', 'sissy', 'rafc', 'bitches', 'good kisser', 'hairstylist', 'fanboy', 'sucker', 'trainer', 'noobs', 'wierdo', 'daredevil', 'midget', 'introvert', 'junkie', 'mpua', 'profs', 'spammers', 'optimist', 'douchebags', 'chavs', 'hunter gatherers', 'hb1', 'billionaire', 'gamers', 'grandpa', 'introverts', 'kj', 'blondie', 'nco', 'mpuas', 'opportunist', 'fatass', 'stepfather', 'minions']\n",
      "\n",
      "2006 ['groupie', 'hairdresser', 'cute brunette', 'hbb', 'entj', 'scammers', 'meanie', 'boomers', 'hermits', 'uggo', 'homophobe', 'serf', 'asswipe', 'strawmen', 'niceguys', 'kickboxer', 'flatmate', 'renters', 'quebecois', 'accuser', 'abusers', 'serb', 'darlin', 'transsexuals', 'lesbos', 'lefties', 'redditor', 'filmmakers', 'girls irl', 'sociopaths', 'becky', 'cheapskate', 'average joes', 'shithead', 'ugly duckling', 'homewrecker', 'misandrists', 'normie', 'mysoginist', 'good conversationalist', 'plaything', 'goalie', 'somalis', 'wench', 'spammer', 'chix', 'neet', 'paladin', 'fangirls', 'dweeb', 'tranny', 'mangina', 'sprinter', 'decider', 'skanks', 'sleaze', 'ninjas', 'breadwinner', 'old fart', 'wearer', 'neets', 'fuckhead', 'hoodrats', 'late bloomer', 'heterosexuals', 'douches', 'hvm', 'tomboys', 'linebacker', 'punisher', 'cfo', 'enforcer', 'beckies', 'samaritans', 'new comers', 'harlots', 'cretin', 'whiner', 'wimps', 'brothas', 'charlatan', 'roomies', 'vegans', 'slacker', 'fuckface', 'white supremacists', 'barrister', 'fembots', 'permavirgin', 'simps', 'simp', 'butterface', 'gent', 'concubine', 'crackhead', 'nutritionist', 'nurturers', 'masochist', 'hedonist', 'metalhead', 'shitbag', 'otaku', 'boyos', 'ubermensch', 'golddiggers', 'gringo', 'ladyboys', 'hoodrat', 'soulmates', 'wannabes', 'everyman', 'bullshitters', 'accusers', 'wimmin', 'paralegal', 'little shits', 'mommies', 'ideologue', 'subhumans', 'jihadists', 'debater', 'eunuch', 'homie', 'dweebs', 'psychos', 'abuser', 'hermit', 'glutton', 'dipshits', 'stepdad', 'cohort', 'journeyman', 'gambler', 'slav', 'pleb', 'pediatrician', 'oligarch', 'islamists', 'boyo', 'theists', 'lurker', 'trannies', 'douchebag', 'bestfriend', 'surrogate', 'freelancer', 'amerindian', 'goys', 'bullshitter', 'contestant', 'everbody', 'prettyboys', 'arseholes', 'bigot', 'true scotsman', 'wife beaters', 'chubby chaser', 'manchild', 'complainers', 'elves', 'preteen', 'redditors', 'girl2', 'people pleaser', 'dipshit', 'protectors', 'weaklings', 'welder', 'wingwomen', 'wrestler', 'caregiver', 'autist', 'swede', 'semites', 'spotter', 'theist', 'libs', 'other mens', 'egalitarians', 'rpers', 'prudes', 'mage', 'milf', 'socialite', 'curries', 'barman', 'old hag', 'schlub', 'songwriter', 'protester', 'nomad', 'hookers', 'badasses', 'yuppies', 'cocksuckers', 'hooligans', 'fanbase', 'cougars', 'spaniards', 'crybaby', 'ladyboy', 'babysitters', 'grandmaster', 'neocons', 'satanist', 'paedophiles', 'spaz', 'soulmate', 'cockblocker', 'complainer', 'jb', 'colombianas', 'powerlifters', 'succubus', 'provocateur', 'infiltrators', 'partier', 'wimminz', 'troublemaker', 'geezer', 'rappers', 'bffs', 'jihadis', 'dems', 'homeowner', 'butch lesbian', 'imposter', 'pedos', 'antichrist', 'baller', 'cougar', 'naysayers', 'nympho', 'cocksucker', 'wife beater', 'stoners', 'harlot', 'yakuza', 'oppressor', 'nutter', 'commentors', 'pushover', 'serial monogamist', 'leper', 'cretins', 'figurehead', 'sissies', 'intj', 'posers', 'granddad', 'skinheads', 'succubi', 'environmentalists', 'fuckwits', 'pakis', 'aryans', 'hater', 'gatekeeper', 'thots', 'lurkers', 'skeptic', 'refs', 'chav', 'exwife', 'plebs', 'hunny', 'collectivists', 'plain janes', 'transvestite', 'high schooler', 'paraplegic', 'stunner', 'devs', 'caregivers', 'gigolo', 'fanboys', 'footballers', 'surrogates', 'perp', 'grandchild', 'endocrinologist', 'tax payer', 'child molesters', 'blogger', 'latinos', 'jailbait', 'crazies', 'bikers', 'hitman', 'scorpio', 'workhorse', 'subhuman', 'transgenders', 'shmuck', 'bestie', 'warlord', 'traffickers', 'fpua', 'unicorns', 'weakling', 'youtubers', '20 somethings', 'paparazzi', 'cockblockers', 'womanizers', 'sisterhood', 'nobodies', 'fuckwit', 'bub', 'oligarchs', 'doer', 'fatasses', 'submitter', 'flat earthers', 'trannys', 'dermatologist', 'sugar daddies', 'fucktard', 'girl1', 'douchbag', 'narcos', 'ashkenazi', 'goober', 'gremlin', 'thot', 'good samaritan', 'salesperson', 'nurturer', 'infp', 'humankind', 'chauvinists', 'creationists', 'nice strawman', 'mohel', 'orbiters', 'latinas', 'fag', 'schmuck', 'foodie', 'expats', 'gangbanger', 'kiwis', 'mysogynist', 'downer', 'opportunists', 'slayer', 'nannies', 'nanny', 'pedophiles', 'nutjob', 'prettyboy', 'grownup', 'handmaid', 'hoarder', 'mrm', 'hb3', 'roomie', 'asshat', 'emotional tampons', 'cashiers', 'backpackers', 'firefighters', 'millenials', 'electrician', 'superheroes', 'doormats', 'sicko', 'pediatricians', 'scumbag', 'commenter', 'honey badger', 'wimmins', 'techie', 'fuckheads', 'fucking psycho', 'amputee', 'sil', 'faggot', 'wrestlers', 'nutcase', 'faggots', 'wenches', 'misfit', 'grannies', 'environmentalist', 'ballers', 'mummy', 'grandparent', 'grandkids', 'missus', 'libtards', 'sexists', 'striker', 'elitists', 'dumbasses', 'paramedics', 'activists', 'welders', 'right winger', 'homophobes', 'wive', 'meathead', 'stoner', 'fiancee', 'hairdressers', 'nana', 'scumbags', 'hobbyist', 'influencers', 'coder', 'underclass', 'tradesman', 'carer', 'medic', 'slackers', 'ideologues', 'harasser', 'asshats', 'satanists', 'rando', 'imam', 'snitch', 'nigga', 'feminazis', 'groupies', 'trainers', 'goddesses', 'adventurer', 'dominatrix', 'spoiled brats', 'serbs', 'mugger', 'zeta', 'femenists', 'creationist', 'jbs', 'outlier', 'exhibitionist', 'amish', 'scammer', 'womankind', 'breadwinners', 'nomads', 'protestors', 'tyrone', 'harassers', 'outgroup', 'unicorn', 'pussies', 'barista', 'pothead', 'motherfuckers', 'enabler', 'poser', 'sikhs', 'shitbags', 'the childs', 'eunuchs', 'boogeyman', 'filipina', 'mongols', 'dumbo', 'exgf', 'spinster', 'freemasons', 'quitter', 'narc', 'mockingbird', 'pervs', 'masochists', 'bimbos', 'fuckbuddy', 'milfs', 'fuglies', 'broski', 'cynic', 'gringos', 'slayers', 'emt', 'spinsters', 'golddigger', 'gangbangers', 'nutters', 'mistresses', 'wingwoman', 'bff', 'arsehole', 'powerlifter', 'supplicant', 'wifey', 'ceos', 'shitheads', 'looker', 'housemate', 'bad kisser', 'druggie', 'white supremacist', 'cameraman', 'kiddos', 'npcs', 'billionaires', 'cabbie', 'fuckbuddies', 'boomer', 'niggas', 'cheater', 'dumbfucks', 'pharaoh', 'workaholic', 'proles', 'deadbeats', 'great conversationalist', 'crackheads', 'impostor', 'loonies', 'ancap', 'stepmom', 'gold diggers', 'vixen', 'jackasses', 'bubba', 'narcissists', 'child molester', 'responder', 'maori', 'coon', 'carers', 'demigod', 'fuckwad', 'manwhore', 'doormat', 'homies', 'bisexuals', 'weenie', 'kiddo', 'cheaters', 'perv', 'psychotherapist', 'retirees', 'beholder', 'bogeyman', 'renter', 'urologist', 'npc', 'aristocrat', 'hardass', 'nutcases', 'transmen', 'lvm', 'rper', 'sex havers', 'downvoters', 'apua', 'hbblonde']\n",
      "\n",
      "2007 ['millennials', 'normies', 'hikikomori', 'aspies', 'sahm', 'autists', 'wimmenz', 'beckys', 'wymyn', 'fucktoy', 'randos', 'larpers', 'neurotypicals', 'stacie', 'landwhale', 'hambeasts', 'weeaboo', 'womyns', 'people irl', 'incel', 'fembot', 'camwhore', 'sex bots', 'cosplayers', 'cum dumpsters', 'mgtow', 'globalists', 'old hags', 'masculist', 'equalist', 'sex bot', 'dravidian', 'friendo', 'radfems', 'terf', 'foid', 'camgirl', 'femnazis', 'xw', 'infiltrator', 'wageslave', 'cuckolds', 'femnazi', 'intactivists', 'homebody', 'antifa', 'aspie', 'hambeast', 'female supremacist', 'batterers', 'cum dumpster', 'mra', 'transpeople', 'filipinas', 'stepdaughter', 'assaulter', 'transwoman', 'sloot', 'sexbot', 'sexbots', 'baby daddies', 'manlet', 'influencer', 'larper', 'feminsts', 'mras', 'prepper', 'honey badgers', 'tyrones', 'transwomen', 'cuckold', 'womenz', 'batterer', 'camgirls', 'masculinist', 'cumdumpster', 'femails', 'faer']\n",
      "\n",
      "2008 ['women irl', 'weebs', 'suffragists', 'rape apologists', 'dudebro', 'antifeminists', 'womynz', 'menz', 'female supremacists', 'stbx', 'stacies', 'punjabis', 'manlets', 'redpillers', 'cuck', 'fuckboys', 'manginas', 'fuckboy', 'sloots', 'laydeez', 'roasties', 'female protagonists', 'cucks', 'senpai', 'manchildren', 'jailbaits', 'brigaders', 'rich bimbo', 'fho', 'annarchist']\n",
      "\n",
      "2009 ['brony', 'intactivist', 'shitskins', 'rad fems', 'incels', 'shitlord', 'shitposter', 'femtards', 'good goy', 'fat neckbeard', 'spergs', 'mhra', 'bathmate', 'wamen', 'besties', 'foids', 'landwhales', 'involuntary celibates', 'shitlords', 'meninist', 'bpers', 'catfishman', 'fhos']\n",
      "\n"
     ]
    }
   ],
   "source": [
    "for year in range(2005, 2010): \n",
    "    print(year, yearly_innovations[str(year)])\n",
    "    print()"
   ]
  },
  {
   "cell_type": "code",
   "execution_count": 9,
   "id": "47fc5ba1",
   "metadata": {},
   "outputs": [
    {
     "name": "stdout",
     "output_type": "stream",
     "text": [
      "2007 ['millennials', 'normies', 'hikikomori', 'aspies', 'sahm', 'autists', 'wimmenz', 'beckys', 'wymyn', 'fucktoy', 'randos', 'larpers', 'neurotypicals', 'stacie', 'landwhale', 'hambeasts', 'weeaboo', 'womyns', 'people irl', 'incel', 'fembot', 'camwhore', 'sex bots', 'cosplayers', 'cum dumpsters', 'mgtow', 'globalists', 'old hags', 'masculist', 'equalist', 'sex bot', 'dravidian', 'friendo', 'radfems', 'terf', 'foid', 'camgirl', 'femnazis', 'xw', 'infiltrator', 'wageslave', 'cuckolds', 'femnazi', 'intactivists', 'homebody', 'antifa', 'aspie', 'hambeast', 'female supremacist', 'batterers', 'cum dumpster', 'mra', 'transpeople', 'filipinas', 'stepdaughter', 'assaulter', 'transwoman', 'sloot', 'sexbot', 'sexbots', 'baby daddies', 'manlet', 'influencer', 'larper', 'feminsts', 'mras', 'prepper', 'honey badgers', 'tyrones', 'transwomen', 'cuckold', 'womenz', 'batterer', 'camgirls', 'masculinist', 'cumdumpster', 'femails', 'faer']\n",
      "\n",
      "2008 ['women irl', 'weebs', 'suffragists', 'rape apologists', 'dudebro', 'antifeminists', 'womynz', 'menz', 'female supremacists', 'stbx', 'stacies', 'punjabis', 'manlets', 'redpillers', 'cuck', 'fuckboys', 'manginas', 'fuckboy', 'sloots', 'laydeez', 'roasties', 'female protagonists', 'cucks', 'senpai', 'manchildren', 'jailbaits', 'brigaders', 'rich bimbo', 'fho', 'annarchist']\n",
      "\n",
      "2009 ['brony', 'intactivist', 'shitskins', 'rad fems', 'incels', 'shitlord', 'shitposter', 'femtards', 'good goy', 'fat neckbeard', 'spergs', 'mhra', 'bathmate', 'wamen', 'besties', 'foids', 'landwhales', 'involuntary celibates', 'shitlords', 'meninist', 'bpers', 'catfishman', 'fhos']\n",
      "\n",
      "2010 ['nawalts', 'soyboy', 'dicklet', 'roastie', 'terfs', 'rationalization hamster', 'khv', 'blue piller', 'mghow', 'mgtows', 'sedditor', 'shitposters', 'khhv', 'sedditors', 'faers']\n",
      "\n",
      "2011 ['mtgow', 'red pillers', 'fuckboi', 'red piller', 'blue pillers', 'mgtowers', 'tradcons', 'tinderella', 'chad thundercock', 'nofappers', 'mgtower', 'bronies', 'srser', 'tallfag', 'srsers', 'husbank']\n",
      "\n",
      "2012 ['rvfers', 'mhras', 'dark triads', 'beta bux', 'femitheist', 'dickcel', 'femcel', 'moids', 'chaddam']\n",
      "\n",
      "2013 ['soyboys', 'volcels', 'bluepillers', 'edgelord', 'male smv', 'trpers', 'tumblrinas', 'redpiller', 'volcel', 'bluepiller', 'normie scum', 'turbomanlet', 'trper']\n",
      "\n",
      "2014 ['cuckcel', 'sluthaters', 'currycel', 'blackcel', 'gymcel', 'wahmen', 'ethniks', 'truecel', 'gymcels', 'betacuck', 'looksmatch', 'pajeet', 'richcel', 'youngcels', 'mentalcel', 'truecels', 'escortcels', 'fakecels', 'youngcel', 'sluthater', 'chadcel', 'oldcels', 'locationcel', 'jockcel', 'ethnicel', 'currycels', 'looksmatches', 'ethnicels', 'heightcel', 'sub8s', 'itcels', 'blackcels', 'fakecel', 'poorcel', 'gaycel', 'femcels', 'oldcel', 'mentalcels', 'wristcel']\n",
      "\n",
      "2015 ['cuckservatives', 'rapefugees', 'wagecucks', 'chadlet', 'chadpreet', 'ricecel', 'norwood reaper', 'ricecels', 'normshits', 'betabuxx', 'weemins']\n",
      "\n",
      "2016 ['numales', 'tradcucks', 'whamen', 'cucktears', 'tradcuck', 'gigachad']\n",
      "\n",
      "2017 ['noodlewhores', 'noodlewhore', 'tradthots', 'femoids', 'tradthot', 'gigachads', 'femoid', 'chadlite', 'chadlites', 'wahmyn', 'cucktear', 'cuckqueers', 'suicel', 'normtards']\n",
      "\n",
      "2018 []\n",
      "\n",
      "2019 []\n",
      "\n"
     ]
    }
   ],
   "source": [
    "innov_vocab = set()\n",
    "for year in range(2007, 2020): \n",
    "    print(year, yearly_innovations[str(year)])\n",
    "    innov_vocab.update(yearly_innovations[str(year)])\n",
    "    print()"
   ]
  },
  {
   "cell_type": "markdown",
   "id": "b3a64b97",
   "metadata": {},
   "source": [
    "## Analyze source and destinations of lexical innovations"
   ]
  },
  {
   "cell_type": "code",
   "execution_count": 10,
   "id": "18145bfe",
   "metadata": {},
   "outputs": [
    {
     "name": "stdout",
     "output_type": "stream",
     "text": [
      "254\n"
     ]
    }
   ],
   "source": [
    "print(len(innov_vocab))\n",
    "with open(LOGS + 'lexical_innovations.txt', 'w') as outfile: \n",
    "    for w in innov_vocab: \n",
    "        outfile.write(w + '\\n')"
   ]
  },
  {
   "cell_type": "code",
   "execution_count": 11,
   "id": "453e1cd1",
   "metadata": {},
   "outputs": [],
   "source": [
    "common_sources = Counter()\n",
    "mano_source_words = set()\n",
    "outside_source_words = set()\n",
    "for w in word_births: \n",
    "    if w not in innov_vocab: continue\n",
    "    content = word_births[w]\n",
    "    date = content[0]\n",
    "    year = date.split('-')[0]\n",
    "    if set(sources) & mano_communities: \n",
    "        mano_source_words.add(w)\n",
    "    else: \n",
    "        outside_source_words.add(w)\n",
    "    sources = content[1]\n",
    "    common_sources.update(sources)"
   ]
  },
  {
   "cell_type": "code",
   "execution_count": 12,
   "id": "0e1b6a78",
   "metadata": {},
   "outputs": [
    {
     "data": {
      "text/plain": [
       "[('reddit.com', 65),\n",
       " ('FORUM_red_pill_talk', 39),\n",
       " ('FORUM_the_attraction', 16),\n",
       " ('politics', 12),\n",
       " ('askreddit', 11),\n",
       " ('mensrights', 11),\n",
       " ('incels', 10),\n",
       " ('FORUM_pua_forum', 7),\n",
       " ('funny', 5),\n",
       " ('pics', 4),\n",
       " ('thebluepill', 4),\n",
       " ('science', 4),\n",
       " ('wtf', 4),\n",
       " ('drama', 4),\n",
       " ('programming', 4),\n",
       " ('shitredditsays', 4),\n",
       " ('the_donald', 3),\n",
       " ('atheism', 3),\n",
       " ('seduction', 3),\n",
       " ('entertainment', 3),\n",
       " ('theredpill', 3),\n",
       " ('business', 3),\n",
       " ('news', 2),\n",
       " ('FORUM_rooshv', 2),\n",
       " ('4chan4trump', 2),\n",
       " ('mgtow', 2),\n",
       " ('purplepilldebate', 2),\n",
       " ('askmen', 2),\n",
       " ('videos', 2),\n",
       " ('worldnews', 2)]"
      ]
     },
     "execution_count": 12,
     "metadata": {},
     "output_type": "execute_result"
    }
   ],
   "source": [
    "common_sources.most_common(30)"
   ]
  },
  {
   "cell_type": "code",
   "execution_count": 15,
   "id": "71f4e2e5",
   "metadata": {},
   "outputs": [
    {
     "name": "stdout",
     "output_type": "stream",
     "text": [
      "500\n",
      "antipozi\n",
      "kotakuinaction\n",
      "puahate\n",
      "waluigi\n",
      "wikipedia\n",
      "oney\n",
      "4chan4trump\n",
      "badhistory\n",
      "netsec\n",
      "gatekeeping\n",
      "anarchism\n",
      "purplepilldebate\n",
      "justneckbeardthings\n",
      "drama\n",
      "bacon\n",
      "equality\n",
      "egalitarian\n",
      "cooking\n",
      "computebazaar\n",
      "buildapcsales\n",
      "shitredditsays\n",
      "transgender\n",
      "subredditdrama\n",
      "diablo\n",
      "tumblrinaction\n",
      "cuckold\n",
      "dirtykik\n",
      "feminisms\n",
      "soccerspirits\n",
      "nofapjuly\n",
      "pfjerk\n",
      "4chan\n",
      "celebrities\n",
      "meetup\n",
      "gay\n",
      "sidehugs\n",
      "gaybros\n",
      "fitnesscirclejerk\n",
      "pets\n",
      "cortexcommand\n",
      "theoryofreddit\n"
     ]
    }
   ],
   "source": [
    "top_n_subreddits = set()\n",
    "with open(DATA + 'all_reddit_post_counts/top_subreddits.txt', 'r') as infile: \n",
    "    line_count = 0\n",
    "    for line in infile: \n",
    "        top_n_subreddits.add(line.strip().split(' ')[0])\n",
    "        line_count += 1\n",
    "        if line_count == 500: break\n",
    "print(len(top_n_subreddits))\n",
    "for source in common_sources: \n",
    "    if source.startswith('FORUM_'): continue\n",
    "    if source not in top_n_subreddits and source not in mano_communities: \n",
    "        print(source)"
   ]
  },
  {
   "cell_type": "code",
   "execution_count": 14,
   "id": "f764006a",
   "metadata": {},
   "outputs": [
    {
     "name": "stdout",
     "output_type": "stream",
     "text": [
      "{'normie scum', 'hambeast', 'transwomen', 'blackcel', 'faer', 'oldcel', 'foid', 'escortcels', 'brigaders', 'influencer', 'gymcel', 'chadpreet', 'fuckboy', 'poorcel', 'volcel', 'redpiller', 'looksmatches', 'larpers', 'chadcel', 'norwood reaper', 'roasties', 'cuckqueers', 'sexbot', 'chaddam', 'feminsts', 'suffragists', 'red piller', 'chadlet', 'locationcel', 'ricecels', 'itcels', 'femails', 'oldcels', 'mentalcel', 'cuckservatives', 'tradcuck', 'sub8s', 'beta bux', 'ethnicel', 'camwhore', 'heightcel', 'fakecels', 'intactivist', 'manlet', 'chadlite', 'wymyn', 'friendo', 'rapefugees', 'stepdaughter', 'manlets', 'richcel', 'turbomanlet', 'bluepiller', 'mentalcels', 'aspies', 'landwhale', 'manginas', 'edgelord', 'trper', 'looksmatch', 'srsers', 'sluthaters', 'cuckcel', 'femcel', 'youngcels', 'wahmyn', 'gigachads', 'youngcel', 'khhv', 'numales', 'landwhales', 'shitlord', 'manchildren', 'wristcel', 'noodlewhore', 'wahmen', 'weebs', 'terfs', 'sex bot', 'intactivists', 'sedditors', 'women irl', 'currycel', 'truecels', 'batterer', 'sluthater', 'millennials', 'fakecel', 'rationalization hamster', 'femoid', 'blackcels', 'womenz', 'catfishman'}\n",
      "\n",
      "{'female supremacist', 'camgirls', 'fhos', 'tallfag', 'shitskins', 'mgtowers', 'truecel', 'tyrones', 'husbank', 'moids', 'antifeminists', 'fho', 'randos', 'aspie', 'foids', 'cucktears', 'incel', 'betacuck', 'redpillers', 'fembot', 'stbx', 'bpers', 'mgtows', 'people irl', 'femnazis', 'womynz', 'camgirl', 'stacies', 'srser', 'womyns', 'tradthot', 'larper', 'normies', 'rvfers', 'beckys', 'mhra', 'ricecel', 'cucktear', 'jailbaits', 'mras', 'bathmate', 'fuckboys', 'femoids', 'cum dumpster', 'equalist', 'currycels', 'masculist', 'ethniks', 'soyboys', 'female protagonists', 'tradthots', 'transpeople', 'wagecucks', 'filipinas', 'homebody', 'ethnicels', 'chadlites', 'male smv', 'laydeez', 'rich bimbo', 'assaulter', 'blue pillers', 'roastie', 'besties', 'betabuxx', 'dark triads', 'shitlords', 'weeaboo', 'shitposter', 'meninist', 'cucks', 'faers', 'noodlewhores', 'gymcels', 'jockcel', 'femitheist', 'female supremacists', 'blue piller', 'masculinist', 'hikikomori', 'autists', 'incels', 'normtards', 'punjabis', 'stacie', 'prepper', 'femcels', 'infiltrator', 'cuck', 'dicklet', 'rape apologists', 'neurotypicals', 'mtgow', 'bronies', 'brony', 'honey badgers', 'cosplayers', 'baby daddies', 'old hags', 'tinderella', 'hambeasts', 'soyboy', 'dudebro', 'sex bots', 'whamen', 'fucktoy', 'trpers', 'menz', 'good goy', 'mgtower', 'dravidian', 'cuckold', 'wageslave', 'cum dumpsters', 'normshits', 'annarchist', 'spergs', 'tradcons', 'red pillers', 'senpai', 'rad fems', 'tumblrinas', 'transwoman', 'tradcucks', 'suicel', 'femtards', 'bluepillers', 'nawalts', 'mhras', 'antifa', 'nofappers', 'xw', 'sloots', 'wimmenz', 'chad thundercock', 'fat neckbeard', 'cumdumpster', 'sedditor', 'fuckboi', 'mgtow', 'globalists', 'gaycel', 'batterers', 'khv', 'mra', 'terf', 'sloot', 'shitposters', 'sahm', 'weemins', 'mghow', 'femnazi', 'involuntary celibates', 'dickcel', 'wamen', 'radfems', 'cuckolds', 'sexbots', 'volcels', 'pajeet', 'gigachad'}\n"
     ]
    }
   ],
   "source": [
    "print(mano_source_words)\n",
    "print()\n",
    "print(outside_source_words)"
   ]
  },
  {
   "cell_type": "code",
   "execution_count": null,
   "id": "bb71b305",
   "metadata": {},
   "outputs": [],
   "source": []
  }
 ],
 "metadata": {
  "kernelspec": {
   "display_name": "Python 3 (ipykernel)",
   "language": "python",
   "name": "python3"
  },
  "language_info": {
   "codemirror_mode": {
    "name": "ipython",
    "version": 3
   },
   "file_extension": ".py",
   "mimetype": "text/x-python",
   "name": "python",
   "nbconvert_exporter": "python",
   "pygments_lexer": "ipython3",
   "version": "3.7.11"
  }
 },
 "nbformat": 4,
 "nbformat_minor": 5
}
